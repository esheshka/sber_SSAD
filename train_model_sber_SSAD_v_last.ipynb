{
  "nbformat": 4,
  "nbformat_minor": 0,
  "metadata": {
    "colab": {
      "provenance": [],
      "include_colab_link": true
    },
    "kernelspec": {
      "name": "python3",
      "display_name": "Python 3"
    },
    "language_info": {
      "name": "python"
    }
  },
  "cells": [
    {
      "cell_type": "markdown",
      "metadata": {
        "id": "view-in-github",
        "colab_type": "text"
      },
      "source": [
        "<a href=\"https://colab.research.google.com/github/esheshka/sber_SSAD/blob/main/train_model_sber_SSAD_v_last.ipynb\" target=\"_parent\"><img src=\"https://colab.research.google.com/assets/colab-badge.svg\" alt=\"Open In Colab\"/></a>"
      ]
    },
    {
      "cell_type": "markdown",
      "source": [
        "# **Скачивание файлов и подключение библиотек**"
      ],
      "metadata": {
        "id": "r14cTJ70c4ok"
      }
    },
    {
      "cell_type": "code",
      "source": [
        "# @title **Скачивание файлов с Kaggle**\n",
        "import urllib.request\n",
        "\n",
        "!pip -q install --upgrade --force-reinstall --no-deps kaggle > log\n",
        "link = urllib.request.urlopen(\"https://drive.usercontent.google.com/u/0/uc?id=1VEb54ANrxByHONXkngUpSjWMF0vKw2ba&export=download\").read()\n",
        "file = open(\"kaggle.json\", \"wb\")\n",
        "file.write(link)\n",
        "file.close()\n",
        "\n",
        "!mkdir -p ~/.kaggle\n",
        "!mv /content/kaggle.json ~/.kaggle/kaggle.json > log\n",
        "!chmod 600 /content/kaggle.json\n",
        "!kaggle config set -n competition -v 26jun23\n",
        "!kaggle competitions download >> log\n",
        "!unzip -o *.zip >> log"
      ],
      "metadata": {
        "id": "-FK164oAuzJN",
        "outputId": "6234c528-b811-46a5-9050-aec5a5a0fe01",
        "colab": {
          "base_uri": "https://localhost:8080/"
        }
      },
      "execution_count": 1,
      "outputs": [
        {
          "output_type": "stream",
          "name": "stdout",
          "text": [
            "chmod: cannot access '/content/kaggle.json': No such file or directory\n",
            "Warning: Your Kaggle API key is readable by other users on this system! To fix this, you can run 'chmod 600 /root/.kaggle/kaggle.json'\n",
            "- competition is now set to: 26jun23\n",
            "100% 35.7M/35.7M [00:00<00:00, 44.7MB/s]\n"
          ]
        }
      ]
    },
    {
      "cell_type": "code",
      "source": [
        "# @title **Подключение библиотек (предустановленных)**\n",
        "\n",
        "%%time\n",
        "%%capture\n",
        "%reset -f\n",
        "\n",
        "!pip install -U sentence-transformers tfds-nightly tensorflow tensorflow_addons plotly > log\n",
        "\n",
        "from IPython.core.interactiveshell import InteractiveShell as IS\n",
        "IS.ast_node_interactivity = \"all\"  # allows multiple prints from a cell\n",
        "\n",
        "import numpy as np\n",
        "import pandas as pd\n",
        "pd.set_option('display.max_colwidth', 100, 'display.max_columns', 20, 'display.width', 1000, 'display.max_rows', 4)\n",
        "os.environ['TF_DETERMINISTIC_OPS'] = '1'; os.environ['TF_CUDNN_DETERMINISTIC'] = '1'   # helps to seed TF's RNG on GPUs\n",
        "np.set_printoptions(linewidth=10000, precision=2, edgeitems=20, suppress=True)\n",
        "pd.set_option('display.max_colwidth', 100, 'display.max_columns', 10, 'display.width', 1000, 'display.max_rows', 8)\n",
        "\n",
        "import time, matplotlib.pyplot as plt, os, plotly.express as px\n",
        "import re\n",
        "\n",
        "import xgboost as xgb, lightgbm\n",
        "import tensorflow as tf\n",
        "from sklearn.linear_model import LogisticRegression as LR\n",
        "from sklearn.neural_network import MLPClassifier\n",
        "\n",
        "from sklearn.preprocessing import MinMaxScaler, PolynomialFeatures\n",
        "from sklearn.model_selection import train_test_split, GroupKFold\n",
        "from sklearn.metrics import roc_auc_score\n",
        "from sklearn.decomposition import PCA\n",
        "from sentence_transformers import SentenceTransformer as SBERT\n",
        "\n",
        "import tensorflow.keras as keras\n",
        "from keras.layers import Flatten, Dense"
      ],
      "metadata": {
        "colab": {
          "base_uri": "https://localhost:8080/"
        },
        "id": "Vyp3Jf3DQz5_",
        "outputId": "ae29faa0-c971-4bb3-a3fc-39b8fd22f52f"
      },
      "execution_count": 2,
      "outputs": [
        {
          "output_type": "stream",
          "name": "stdout",
          "text": [
            "CPU times: user 13.5 s, sys: 1.89 s, total: 15.4 s\n",
            "Wall time: 1min 2s\n"
          ]
        }
      ]
    },
    {
      "cell_type": "code",
      "source": [
        "# @title **Таймера**\n",
        "\n",
        "class Timer():\n",
        "  def __init__(self, lim:'RunTimeLimit'=60*2): self.t0, self.lim, _ = time.time(), lim, print(f'⏳ started. You have {lim} sec. Good luck!')\n",
        "  def ShowTime(self):\n",
        "    msg = f'Runtime is {time.time()-self.t0:.0f} sec'\n",
        "    print(f'\\033[91m\\033[1m' + msg + f' > {self.lim} sec limit!!!\\033[0m' if (time.time()-self.t0-1) > self.lim else msg)"
      ],
      "metadata": {
        "id": "e3CBkBm-xAP6"
      },
      "execution_count": 3,
      "outputs": []
    },
    {
      "cell_type": "markdown",
      "source": [
        "# **Чтение данных**\n",
        "\n"
      ],
      "metadata": {
        "id": "ho-ZGOMtxrpc"
      }
    },
    {
      "cell_type": "code",
      "source": [
        "mcc = pd.read_csv('_mcc.csv', index_col='mcc')\n",
        "\n",
        "ttc = pd.read_csv('_ttc.csv', index_col='ttc')\n",
        "\n",
        "gender = pd.read_csv('gender.csv', index_col='cid')\n",
        "trainY, testY = gender.query('gender==gender'), gender.query('gender!=gender')\n",
        "\n",
        "dfTrx = pd.read_csv('trx.csv').sort_values(['cid','dt','tm'])\n",
        "\n",
        "\n",
        "df_ = gender.drop('gender', axis=1); df_.T  # a list of ordered client IDs (as index)"
      ],
      "metadata": {
        "id": "LMnE8pthySqm",
        "outputId": "6cbe5d44-25ce-423e-8229-c7aeb1e749ee",
        "colab": {
          "base_uri": "https://localhost:8080/",
          "height": 79
        }
      },
      "execution_count": 37,
      "outputs": [
        {
          "output_type": "execute_result",
          "data": {
            "text/plain": [
              "Empty DataFrame\n",
              "Columns: [0, 1, 2, 3, 4, 5, 6, 7, 8, 9, 10, 11, 12, 13, 14, 15, 16, 17, 18, 19, 20, 21, 22, 23, 24, 25, 26, 27, 28, 29, 30, 31, 32, 33, 34, 35, 36, 37, 38, 39, 40, 41, 42, 43, 44, 45, 46, 47, 48, 49, 50, 51, 52, 53, 54, 55, 56, 57, 58, 59, 60, 61, 62, 63, 64, 65, 66, 67, 68, 69, 70, 71, 72, 73, 74, 75, 76, 77, 78, 79, 80, 81, 82, 83, 84, 85, 86, 87, 88, 89, 90, 91, 92, 93, 94, 95, 96, 97, 98, 99, ...]\n",
              "Index: []\n",
              "\n",
              "[0 rows x 8400 columns]"
            ],
            "text/html": [
              "\n",
              "  <div id=\"df-d6a6c576-d06f-4d97-817e-96f7d7311bc7\" class=\"colab-df-container\">\n",
              "    <div>\n",
              "<style scoped>\n",
              "    .dataframe tbody tr th:only-of-type {\n",
              "        vertical-align: middle;\n",
              "    }\n",
              "\n",
              "    .dataframe tbody tr th {\n",
              "        vertical-align: top;\n",
              "    }\n",
              "\n",
              "    .dataframe thead th {\n",
              "        text-align: right;\n",
              "    }\n",
              "</style>\n",
              "<table border=\"1\" class=\"dataframe\">\n",
              "  <thead>\n",
              "    <tr style=\"text-align: right;\">\n",
              "      <th>cid</th>\n",
              "      <th>0</th>\n",
              "      <th>1</th>\n",
              "      <th>2</th>\n",
              "      <th>3</th>\n",
              "      <th>4</th>\n",
              "      <th>...</th>\n",
              "      <th>8395</th>\n",
              "      <th>8396</th>\n",
              "      <th>8397</th>\n",
              "      <th>8398</th>\n",
              "      <th>8399</th>\n",
              "    </tr>\n",
              "  </thead>\n",
              "  <tbody>\n",
              "  </tbody>\n",
              "</table>\n",
              "<p>0 rows × 8400 columns</p>\n",
              "</div>\n",
              "    <div class=\"colab-df-buttons\">\n",
              "\n",
              "  <div class=\"colab-df-container\">\n",
              "    <button class=\"colab-df-convert\" onclick=\"convertToInteractive('df-d6a6c576-d06f-4d97-817e-96f7d7311bc7')\"\n",
              "            title=\"Convert this dataframe to an interactive table.\"\n",
              "            style=\"display:none;\">\n",
              "\n",
              "  <svg xmlns=\"http://www.w3.org/2000/svg\" height=\"24px\" viewBox=\"0 -960 960 960\">\n",
              "    <path d=\"M120-120v-720h720v720H120Zm60-500h600v-160H180v160Zm220 220h160v-160H400v160Zm0 220h160v-160H400v160ZM180-400h160v-160H180v160Zm440 0h160v-160H620v160ZM180-180h160v-160H180v160Zm440 0h160v-160H620v160Z\"/>\n",
              "  </svg>\n",
              "    </button>\n",
              "\n",
              "  <style>\n",
              "    .colab-df-container {\n",
              "      display:flex;\n",
              "      gap: 12px;\n",
              "    }\n",
              "\n",
              "    .colab-df-convert {\n",
              "      background-color: #E8F0FE;\n",
              "      border: none;\n",
              "      border-radius: 50%;\n",
              "      cursor: pointer;\n",
              "      display: none;\n",
              "      fill: #1967D2;\n",
              "      height: 32px;\n",
              "      padding: 0 0 0 0;\n",
              "      width: 32px;\n",
              "    }\n",
              "\n",
              "    .colab-df-convert:hover {\n",
              "      background-color: #E2EBFA;\n",
              "      box-shadow: 0px 1px 2px rgba(60, 64, 67, 0.3), 0px 1px 3px 1px rgba(60, 64, 67, 0.15);\n",
              "      fill: #174EA6;\n",
              "    }\n",
              "\n",
              "    .colab-df-buttons div {\n",
              "      margin-bottom: 4px;\n",
              "    }\n",
              "\n",
              "    [theme=dark] .colab-df-convert {\n",
              "      background-color: #3B4455;\n",
              "      fill: #D2E3FC;\n",
              "    }\n",
              "\n",
              "    [theme=dark] .colab-df-convert:hover {\n",
              "      background-color: #434B5C;\n",
              "      box-shadow: 0px 1px 3px 1px rgba(0, 0, 0, 0.15);\n",
              "      filter: drop-shadow(0px 1px 2px rgba(0, 0, 0, 0.3));\n",
              "      fill: #FFFFFF;\n",
              "    }\n",
              "  </style>\n",
              "\n",
              "    <script>\n",
              "      const buttonEl =\n",
              "        document.querySelector('#df-d6a6c576-d06f-4d97-817e-96f7d7311bc7 button.colab-df-convert');\n",
              "      buttonEl.style.display =\n",
              "        google.colab.kernel.accessAllowed ? 'block' : 'none';\n",
              "\n",
              "      async function convertToInteractive(key) {\n",
              "        const element = document.querySelector('#df-d6a6c576-d06f-4d97-817e-96f7d7311bc7');\n",
              "        const dataTable =\n",
              "          await google.colab.kernel.invokeFunction('convertToInteractive',\n",
              "                                                    [key], {});\n",
              "        if (!dataTable) return;\n",
              "\n",
              "        const docLinkHtml = 'Like what you see? Visit the ' +\n",
              "          '<a target=\"_blank\" href=https://colab.research.google.com/notebooks/data_table.ipynb>data table notebook</a>'\n",
              "          + ' to learn more about interactive tables.';\n",
              "        element.innerHTML = '';\n",
              "        dataTable['output_type'] = 'display_data';\n",
              "        await google.colab.output.renderOutput(dataTable, element);\n",
              "        const docLink = document.createElement('div');\n",
              "        docLink.innerHTML = docLinkHtml;\n",
              "        element.appendChild(docLink);\n",
              "      }\n",
              "    </script>\n",
              "  </div>\n",
              "\n",
              "    </div>\n",
              "  </div>\n"
            ],
            "application/vnd.google.colaboratory.intrinsic+json": {
              "type": "dataframe"
            }
          },
          "metadata": {},
          "execution_count": 37
        }
      ]
    },
    {
      "cell_type": "code",
      "source": [
        "# @title **Включение таймера**\n",
        "\n",
        "tmr = Timer()"
      ],
      "metadata": {
        "colab": {
          "base_uri": "https://localhost:8080/"
        },
        "id": "H4xnvYxmriVx",
        "outputId": "9e1ba167-32da-41ba-eafb-273049d1419b"
      },
      "execution_count": 38,
      "outputs": [
        {
          "output_type": "stream",
          "name": "stdout",
          "text": [
            "⏳ started. You have 120 sec. Good luck!\n"
          ]
        }
      ]
    },
    {
      "cell_type": "markdown",
      "source": [
        "# **Начало кода (таймер пошел)**"
      ],
      "metadata": {
        "id": "NLN_WWv1Svn2"
      }
    },
    {
      "cell_type": "code",
      "source": [
        "# @title **Подключение библиотек (дополнительных)**\n",
        "\n",
        "from sklearn.ensemble import RandomForestClassifier as RFC\n",
        "from sklearn.ensemble import GradientBoostingClassifier as GBC\n",
        "\n",
        "from sklearn.neural_network import MLPClassifier as MLPC\n",
        "\n",
        "from sklearn.model_selection import GridSearchCV as GSCV\n",
        "\n",
        "!pip install lightgbm\n",
        "!pip install catboost\n",
        "\n",
        "from lightgbm import LGBMClassifier as LGBMC\n",
        "from catboost import CatBoostClassifier as CBC\n",
        "\n",
        "import matplotlib.pyplot as plt\n",
        "import seaborn as sns\n",
        "from sklearn import preprocessing"
      ],
      "metadata": {
        "colab": {
          "base_uri": "https://localhost:8080/"
        },
        "id": "aX1TxifrSy5S",
        "outputId": "0b7b240b-9d47-416a-d127-02334063006e",
        "collapsed": true,
        "cellView": "form"
      },
      "execution_count": 128,
      "outputs": [
        {
          "output_type": "stream",
          "name": "stdout",
          "text": [
            "Requirement already satisfied: lightgbm in /usr/local/lib/python3.10/dist-packages (4.5.0)\n",
            "Requirement already satisfied: numpy>=1.17.0 in /usr/local/lib/python3.10/dist-packages (from lightgbm) (1.26.4)\n",
            "Requirement already satisfied: scipy in /usr/local/lib/python3.10/dist-packages (from lightgbm) (1.13.1)\n",
            "Requirement already satisfied: catboost in /usr/local/lib/python3.10/dist-packages (1.2.7)\n",
            "Requirement already satisfied: graphviz in /usr/local/lib/python3.10/dist-packages (from catboost) (0.20.3)\n",
            "Requirement already satisfied: matplotlib in /usr/local/lib/python3.10/dist-packages (from catboost) (3.7.1)\n",
            "Requirement already satisfied: numpy<2.0,>=1.16.0 in /usr/local/lib/python3.10/dist-packages (from catboost) (1.26.4)\n",
            "Requirement already satisfied: pandas>=0.24 in /usr/local/lib/python3.10/dist-packages (from catboost) (2.2.2)\n",
            "Requirement already satisfied: scipy in /usr/local/lib/python3.10/dist-packages (from catboost) (1.13.1)\n",
            "Requirement already satisfied: plotly in /usr/local/lib/python3.10/dist-packages (from catboost) (5.24.1)\n",
            "Requirement already satisfied: six in /usr/local/lib/python3.10/dist-packages (from catboost) (1.16.0)\n",
            "Requirement already satisfied: python-dateutil>=2.8.2 in /usr/local/lib/python3.10/dist-packages (from pandas>=0.24->catboost) (2.8.2)\n",
            "Requirement already satisfied: pytz>=2020.1 in /usr/local/lib/python3.10/dist-packages (from pandas>=0.24->catboost) (2024.2)\n",
            "Requirement already satisfied: tzdata>=2022.7 in /usr/local/lib/python3.10/dist-packages (from pandas>=0.24->catboost) (2024.2)\n",
            "Requirement already satisfied: contourpy>=1.0.1 in /usr/local/lib/python3.10/dist-packages (from matplotlib->catboost) (1.3.0)\n",
            "Requirement already satisfied: cycler>=0.10 in /usr/local/lib/python3.10/dist-packages (from matplotlib->catboost) (0.12.1)\n",
            "Requirement already satisfied: fonttools>=4.22.0 in /usr/local/lib/python3.10/dist-packages (from matplotlib->catboost) (4.54.1)\n",
            "Requirement already satisfied: kiwisolver>=1.0.1 in /usr/local/lib/python3.10/dist-packages (from matplotlib->catboost) (1.4.7)\n",
            "Requirement already satisfied: packaging>=20.0 in /usr/local/lib/python3.10/dist-packages (from matplotlib->catboost) (24.1)\n",
            "Requirement already satisfied: pillow>=6.2.0 in /usr/local/lib/python3.10/dist-packages (from matplotlib->catboost) (10.4.0)\n",
            "Requirement already satisfied: pyparsing>=2.3.1 in /usr/local/lib/python3.10/dist-packages (from matplotlib->catboost) (3.1.4)\n",
            "Requirement already satisfied: tenacity>=6.2.0 in /usr/local/lib/python3.10/dist-packages (from plotly->catboost) (9.0.0)\n"
          ]
        }
      ]
    },
    {
      "cell_type": "markdown",
      "source": [
        "# **Поиск частовстречающихся значений для разных полов**"
      ],
      "metadata": {
        "id": "4j3DZA3NrpEQ"
      }
    },
    {
      "cell_type": "code",
      "source": [
        "df_test = dfTrx.join(gender, on='cid', how='inner')\n",
        "df_test = df_test[~df_test.gender.isna()]"
      ],
      "metadata": {
        "id": "8OUnddXRvFpH"
      },
      "execution_count": 40,
      "outputs": []
    },
    {
      "cell_type": "code",
      "source": [
        "#@title **MCC**\n",
        "\n",
        "mcc_list = list(set(df_test.mcc))\n",
        "df_mcc = pd.DataFrame({'mcc': mcc_list})\n",
        "\n",
        "# Пол со значением 0\n",
        "zero = df_test[df_test.gender == 0][['cid', 'mcc']].drop_duplicates().groupby('mcc').agg('size').fillna(0)\n",
        "zero = df_mcc.join(pd.DataFrame({'zero': zero}), on='mcc', how='outer').fillna(0)\n",
        "\n",
        "# Пол со значением 1\n",
        "one = df_test[df_test.gender == 1][['cid', 'mcc']].drop_duplicates().groupby('mcc').agg('size').fillna(0)\n",
        "one = df_mcc.join(pd.DataFrame({'one': one}), on='mcc', how='outer').fillna(0)\n",
        "\n",
        "df_mcc = df_mcc.join(pd.DataFrame({'count': (zero.zero + one.one)}), on='mcc', how='left').join(pd.DataFrame({'%': zero.zero / (zero.zero + one.one) * 100}), on='mcc', how='left')\n",
        "\n",
        "# Сет наиболее важных значений\n",
        "interesting_mcc = set(df_mcc[(df_mcc['count'] > 100) & ((df_mcc['%'] > 70) | (df_mcc['%'] < 30))].mcc)\n",
        "interesting_mcc"
      ],
      "metadata": {
        "colab": {
          "base_uri": "https://localhost:8080/"
        },
        "id": "x4oQ4AhXt29o",
        "outputId": "d7900dc8-21dd-4e11-fbe1-2363f83092a1"
      },
      "execution_count": 41,
      "outputs": [
        {
          "output_type": "execute_result",
          "data": {
            "text/plain": [
              "{62, 63, 70, 71, 82, 106, 149, 150, 161}"
            ]
          },
          "metadata": {},
          "execution_count": 41
        }
      ]
    },
    {
      "cell_type": "code",
      "source": [
        "#@title **TTC**\n",
        "\n",
        "ttc_list = list(set(df_test.ttc))\n",
        "df_ttc = pd.DataFrame({'ttc': ttc_list})\n",
        "\n",
        "# Пол со значением 0\n",
        "zero = df_test[df_test.gender == 0][['cid', 'ttc']].drop_duplicates().groupby('ttc').agg('size').fillna(0)\n",
        "zero = df_ttc.join(pd.DataFrame({'zero': zero}), on='ttc', how='outer').fillna(0)\n",
        "\n",
        "# Пол со значением 1\n",
        "one = df_test[df_test.gender == 1][['cid', 'ttc']].drop_duplicates().groupby('ttc').agg('size').fillna(0)\n",
        "one = df_ttc.join(pd.DataFrame({'one': one}), on='ttc', how='outer').fillna(0)\n",
        "\n",
        "df_ttc = df_ttc.join(pd.DataFrame({'count': (zero.zero + one.one)}), on='ttc', how='left').join(pd.DataFrame({'%': zero.zero / (zero.zero + one.one) * 100}), on='ttc', how='left')\n",
        "\n",
        "# Сет наиболее важных значений\n",
        "interesting_ttc = set(df_ttc[(df_ttc['count'] > 100) & ((df_ttc['%'] > 70) | (df_ttc['%'] < 30))].ttc)\n",
        "interesting_ttc"
      ],
      "metadata": {
        "colab": {
          "base_uri": "https://localhost:8080/"
        },
        "id": "K_1c9qFV5S9N",
        "outputId": "76452ca3-d817-4dd6-cf67-b68482440251"
      },
      "execution_count": 42,
      "outputs": [
        {
          "output_type": "execute_result",
          "data": {
            "text/plain": [
              "set()"
            ]
          },
          "metadata": {},
          "execution_count": 42
        }
      ]
    },
    {
      "cell_type": "code",
      "source": [
        "#@title **TID**\n",
        "\n",
        "tid_list = list(set(df_test.tid))\n",
        "df_tid = pd.DataFrame({'tid': tid_list})\n",
        "\n",
        "# Пол со значением 0\n",
        "zero = df_test[df_test.gender == 0][['cid', 'tid']].drop_duplicates().groupby('tid').agg('size').fillna(0)\n",
        "zero = df_tid.join(pd.DataFrame({'gender': zero}), on='tid', how='outer').fillna(0).astype({'gender': int})\n",
        "\n",
        "# Пол со значением 1\n",
        "one = df_test[df_test.gender == 1][['cid', 'tid']].drop_duplicates().groupby('tid').agg('size').fillna(0)\n",
        "one = df_tid.join(pd.DataFrame({'gender': one}), on='tid', how='outer').fillna(0).astype({'gender': int})\n",
        "\n",
        "df_tid = df_tid\n",
        "df_tid = df_tid.join(zero[['gender']] + one[['gender']]).rename(columns={'gender': 'count'}).join(100 * zero[['gender']] / (zero[['gender']] + one[['gender']])).rename(columns={'gender': '%'})\n",
        "\n",
        "# Сет наиболее важных значений\n",
        "interesting_tid = set(df_tid[(df_tid['count'] > 100) & ((df_tid['%'] > 70) | (df_tid['%'] < 30))].tid)\n",
        "interesting_tid"
      ],
      "metadata": {
        "id": "5x3KtaJS5TV-",
        "colab": {
          "base_uri": "https://localhost:8080/"
        },
        "outputId": "8d7c69df-e6fc-4409-a2fc-143d1bf2074b"
      },
      "execution_count": 43,
      "outputs": [
        {
          "output_type": "execute_result",
          "data": {
            "text/plain": [
              "{'10244893', '20001004', '20001033', '20828301', '940047'}"
            ]
          },
          "metadata": {},
          "execution_count": 43
        }
      ]
    },
    {
      "cell_type": "markdown",
      "source": [
        "# **Поиск частовстречающихся значений**"
      ],
      "metadata": {
        "id": "7wlkFb2k6CLa"
      }
    },
    {
      "cell_type": "code",
      "source": [
        "#@title **Параметры и коэффиценты**\n",
        "\n",
        "large_count = 2000\n",
        "large_sum = -1000000000\n",
        "\n",
        "k = 1\n",
        "k1 = 0.8\n",
        "k2 = 0.85\n",
        "k3 = 8"
      ],
      "metadata": {
        "id": "z1dKD398AbLW"
      },
      "execution_count": 321,
      "outputs": []
    },
    {
      "cell_type": "code",
      "source": [
        "#@title **Определение наиболее используемых mcc**\n",
        "\n",
        "%%time\n",
        "mcc_by_cid = dfTrx[['cid', 'mcc']].drop_duplicates().astype({'mcc': str}).groupby('cid').agg({'mcc': ' '.join}).sort_values('cid')\n",
        "\n",
        "large_mcc_count = dfTrx[['cid', 'mcc']].drop_duplicates().groupby('mcc').agg({'cid': 'size'}).sort_values(by = 'cid')\n",
        "large_mcc_sum = dfTrx[['amt', 'mcc']].groupby('mcc').agg('sum').sort_values(by = 'amt')\n",
        "\n",
        "most_popular_mcc = set(large_mcc_count[large_mcc_count.cid > large_count * k1].index.to_list()) | set(large_mcc_sum[large_mcc_sum.amt < large_sum * k1].index.to_list()) | set([123, 125, 130])\n",
        "len(most_popular_mcc)"
      ],
      "metadata": {
        "colab": {
          "base_uri": "https://localhost:8080/"
        },
        "id": "L0vNyX1yRvpO",
        "outputId": "ed571892-ad19-4df2-f91e-830dfeebc074"
      },
      "execution_count": 322,
      "outputs": [
        {
          "output_type": "stream",
          "name": "stdout",
          "text": [
            "CPU times: user 665 ms, sys: 123 ms, total: 789 ms\n",
            "Wall time: 787 ms\n"
          ]
        },
        {
          "output_type": "execute_result",
          "data": {
            "text/plain": [
              "36"
            ]
          },
          "metadata": {},
          "execution_count": 322
        }
      ]
    },
    {
      "cell_type": "code",
      "source": [
        "#@title **Определение наиболее используемых ttc**\n",
        "\n",
        "%%time\n",
        "ttc_by_cid = dfTrx[['cid', 'ttc']].drop_duplicates().astype({'ttc': str}).groupby('cid').agg({'ttc': ' '.join}).sort_values('cid')\n",
        "\n",
        "large_ttc_count = dfTrx[['cid', 'ttc']].drop_duplicates().groupby('ttc').agg({'cid': 'size'}).sort_values(by = 'cid')\n",
        "large_ttc_sum = dfTrx[['amt', 'ttc']].groupby('ttc').agg('sum').sort_values(by = 'amt')\n",
        "\n",
        "most_popular_ttc = set(large_ttc_count[large_ttc_count.cid > large_count * k2].index.to_list()) | set(large_ttc_sum[(large_ttc_sum.amt < large_sum * k2) | (large_ttc_sum.amt > 1000000000)].index.to_list())\n",
        "len(most_popular_ttc)"
      ],
      "metadata": {
        "colab": {
          "base_uri": "https://localhost:8080/"
        },
        "id": "v6rcZVpm72yq",
        "outputId": "3d71e687-dee9-41ac-827e-bff5ed032ee4"
      },
      "execution_count": 323,
      "outputs": [
        {
          "output_type": "stream",
          "name": "stdout",
          "text": [
            "CPU times: user 597 ms, sys: 147 ms, total: 744 ms\n",
            "Wall time: 742 ms\n"
          ]
        },
        {
          "output_type": "execute_result",
          "data": {
            "text/plain": [
              "25"
            ]
          },
          "metadata": {},
          "execution_count": 323
        }
      ]
    },
    {
      "cell_type": "code",
      "source": [
        "#@title **Определение наиболее используемых tid**\n",
        "\n",
        "%%time\n",
        "tid_by_cid = dfTrx[['cid', 'tid']].drop_duplicates().astype({'tid': str}).groupby('cid').agg({'tid': ' '.join}).sort_values('cid')\n",
        "\n",
        "large_tid_count = dfTrx[['cid', 'tid']].drop_duplicates().groupby('tid').agg({'cid': 'size'}).sort_values(by = 'cid')\n",
        "large_tid_sum = dfTrx[['amt', 'tid']].groupby('tid').agg('sum').sort_values(by = 'amt')\n",
        "\n",
        "most_popular_tid = set(large_tid_count[large_tid_count.cid > large_count * k3].index.to_list()) | set(large_tid_sum[(large_tid_sum.amt < large_sum * k3) | (large_tid_sum.amt > 1000000000)].index.to_list())\n",
        "len(most_popular_tid)"
      ],
      "metadata": {
        "colab": {
          "base_uri": "https://localhost:8080/"
        },
        "id": "ok_E-Mzqlo7B",
        "outputId": "8b9a6d54-0456-4060-b7af-9761a7b7c071"
      },
      "execution_count": 324,
      "outputs": [
        {
          "output_type": "stream",
          "name": "stdout",
          "text": [
            "CPU times: user 5.65 s, sys: 225 ms, total: 5.87 s\n",
            "Wall time: 6 s\n"
          ]
        },
        {
          "output_type": "execute_result",
          "data": {
            "text/plain": [
              "0"
            ]
          },
          "metadata": {},
          "execution_count": 324
        }
      ]
    },
    {
      "cell_type": "markdown",
      "source": [
        "# **Создания единого df**"
      ],
      "metadata": {
        "id": "4nJdyJPREIdF"
      }
    },
    {
      "cell_type": "code",
      "source": [
        "#@title **Сумма**\n",
        "\n",
        "def s(to_df):\n",
        "    return to_df / to_df.sum(axis=0)"
      ],
      "metadata": {
        "id": "pyECsCrF-42V"
      },
      "execution_count": 340,
      "outputs": []
    },
    {
      "cell_type": "code",
      "source": [
        "#@title **Параметры и коэффиценты**\n",
        "\n",
        "# stat = ['count', 'sum', 'median']\n",
        "stat = ['count', 'sum']\n",
        "# stat = ['count']"
      ],
      "metadata": {
        "id": "j4aGrQn8mTuZ"
      },
      "execution_count": 341,
      "outputs": []
    },
    {
      "cell_type": "code",
      "source": [
        "%%time\n",
        "\n",
        "df = df_.copy(deep=True)"
      ],
      "metadata": {
        "colab": {
          "base_uri": "https://localhost:8080/"
        },
        "id": "QwMMyMuuaMSi",
        "outputId": "056d12a6-2237-4449-c8c2-6bb7bb7664ad"
      },
      "execution_count": 342,
      "outputs": [
        {
          "output_type": "stream",
          "name": "stdout",
          "text": [
            "CPU times: user 198 µs, sys: 11 µs, total: 209 µs\n",
            "Wall time: 194 µs\n"
          ]
        }
      ]
    },
    {
      "cell_type": "code",
      "source": [
        "#@title **MCC**\n",
        "\n",
        "%%time\n",
        "to_df = df_.copy(deep=True)\n",
        "\n",
        "for mcc_index in (most_popular_mcc - interesting_mcc):\n",
        "    stat_amt_by_cid_and_mcc = dfTrx[dfTrx.mcc == mcc_index][['cid', 'amt']].groupby('cid').agg(stat).sort_values(by = 'cid').add_prefix('').droplevel(0, axis='columns')\n",
        "    stat_amt_by_cid_and_mcc.columns += '_' + str(mcc_index) + '_mcc'\n",
        "    to_df = to_df.join(stat_amt_by_cid_and_mcc, how='left')\n",
        "\n",
        "stat_by_other_mcc = dfTrx[~dfTrx.mcc.isin(most_popular_mcc or interesting_mcc)][['cid', 'amt']].groupby('cid').agg(stat).sort_values(by = 'cid').add_prefix('').droplevel(0, axis='columns')\n",
        "stat_by_other_mcc.columns += '_mcc'\n",
        "to_df = to_df.join(stat_by_other_mcc, how='left')\n",
        "\n",
        "to_df = s(to_df) * 75\n",
        "df = df.join(to_df, on = 'cid', how='left')\n",
        "to_df = df_.copy(deep=True)\n",
        "\n",
        "for mcc_index in interesting_mcc:\n",
        "    stat_amt_by_cid_and_mcc = dfTrx[dfTrx.mcc == mcc_index][['cid', 'amt']].groupby('cid').agg(stat).sort_values(by = 'cid').add_prefix('').droplevel(0, axis='columns')\n",
        "    stat_amt_by_cid_and_mcc.columns += '_' + str(mcc_index) + '_mcc'\n",
        "    to_df = to_df.join(stat_amt_by_cid_and_mcc, how='left')\n",
        "\n",
        "to_df = s(to_df) * 200\n",
        "df = df.join(to_df, on = 'cid', how='left')"
      ],
      "metadata": {
        "colab": {
          "base_uri": "https://localhost:8080/"
        },
        "id": "TOqu0UVHD9Nf",
        "outputId": "919996d2-470c-4e98-ac50-f1af09fa32ad"
      },
      "execution_count": 343,
      "outputs": [
        {
          "output_type": "stream",
          "name": "stdout",
          "text": [
            "CPU times: user 1.96 s, sys: 36.1 ms, total: 1.99 s\n",
            "Wall time: 3.38 s\n"
          ]
        }
      ]
    },
    {
      "cell_type": "code",
      "source": [
        "#@title **TTC**\n",
        "to_df = df_.copy(deep=True)\n",
        "\n",
        "for ttc_index in (most_popular_ttc - interesting_ttc):\n",
        "    stat_amt_by_cid_and_ttc = dfTrx[dfTrx.ttc == ttc_index][['cid', 'amt']].groupby('cid').agg(stat).sort_values(by = 'cid').add_prefix('').droplevel(0, axis='columns')\n",
        "    stat_amt_by_cid_and_ttc.columns += '_' + str(ttc_index) + '_ttc'\n",
        "    to_df = to_df.join(stat_amt_by_cid_and_ttc, how='left')\n",
        "\n",
        "stat_by_other_ttc = dfTrx[~dfTrx.ttc.isin(most_popular_ttc or interesting_ttc)][['cid', 'amt']].groupby('cid').agg(stat).sort_values(by = 'cid').add_prefix('').droplevel(0, axis='columns')\n",
        "stat_by_other_ttc.columns += '_ttc'\n",
        "to_df = to_df.join(stat_by_other_ttc, how='left')\n",
        "\n",
        "to_df = s(to_df) * 1/2\n",
        "df = df.join(to_df, on = 'cid', how='left')\n",
        "to_df = df_.copy(deep=True)\n",
        "\n",
        "for ttc_index in (interesting_ttc):\n",
        "    stat_amt_by_cid_and_ttc = dfTrx[dfTrx.ttc == ttc_index][['cid', 'amt']].groupby('cid').agg(stat).sort_values(by = 'cid').add_prefix('').droplevel(0, axis='columns')\n",
        "    stat_amt_by_cid_and_ttc.columns += '_' + str(ttc_index) + '_ttc'\n",
        "    to_df = to_df.join(stat_amt_by_cid_and_ttc, how='left')\n",
        "\n",
        "to_df = s(to_df) * 50\n",
        "df = df.join(to_df, on = 'cid', how='left')"
      ],
      "metadata": {
        "id": "WaaRakspD0Ch"
      },
      "execution_count": 344,
      "outputs": []
    },
    {
      "cell_type": "code",
      "source": [
        "#@title **AMT**\n",
        "\n",
        "to_df = df_.copy(deep=True)\n",
        "\n",
        "to_df = dfTrx[['cid', 'amt']].groupby('cid').agg(stat).add_prefix('').droplevel(0, axis='columns')\n",
        "to_df = df_.join(to_df, how='left').fillna(0)\n",
        "\n",
        "to_df = s(to_df) * 2/3\n",
        "df = df.join(to_df, on = 'cid', how='left')"
      ],
      "metadata": {
        "id": "KBCmo_hEjiid"
      },
      "execution_count": 345,
      "outputs": []
    },
    {
      "cell_type": "code",
      "source": [
        "#@title **Time**\n",
        "\n",
        "%%time\n",
        "to_df = df_.copy(deep=True)\n",
        "\n",
        "for hour in range(0, 1):\n",
        "    stat_amt_by_cid_and_hour = dfTrx[dfTrx.tm == hour][['cid', 'amt']].groupby('cid').agg(stat).sort_values(by = 'cid').add_prefix('').droplevel(0, axis='columns')\n",
        "    stat_amt_by_cid_and_hour.columns += '_' + str(hour) + '_hour'\n",
        "    to_df = to_df.join(stat_amt_by_cid_and_hour, how='left')\n",
        "\n",
        "to_df = s(to_df) * 2\n",
        "df = df.join(to_df, on = 'cid', how='left')\n",
        "to_df = df_.copy(deep=True)\n",
        "\n",
        "for hour in range(1, 9):\n",
        "    stat_amt_by_cid_and_hour = dfTrx[dfTrx.tm == hour][['cid', 'amt']].groupby('cid').agg(stat).sort_values(by = 'cid').add_prefix('').droplevel(0, axis='columns')\n",
        "    stat_amt_by_cid_and_hour.columns += '_' + str(hour) + '_hour'\n",
        "    to_df = to_df.join(stat_amt_by_cid_and_hour, how='left')\n",
        "\n",
        "to_df = s(to_df)\n",
        "df = df.join(to_df, on = 'cid', how='left')"
      ],
      "metadata": {
        "colab": {
          "base_uri": "https://localhost:8080/"
        },
        "id": "HbFnHk8L6wWY",
        "outputId": "90e1910f-e93c-4d75-8865-9e62d126236f"
      },
      "execution_count": 346,
      "outputs": [
        {
          "output_type": "stream",
          "name": "stdout",
          "text": [
            "CPU times: user 4.23 s, sys: 51.8 ms, total: 4.28 s\n",
            "Wall time: 4.26 s\n"
          ]
        }
      ]
    },
    {
      "cell_type": "code",
      "source": [
        "#@title **Date (Анализ дней недели)**\n",
        "\n",
        "%%time\n",
        "to_df = df_.copy(deep=True)\n",
        "to_df = s(to_df)\n",
        "df = df.join(to_df, on = 'cid', how='left')\n",
        "\n",
        "to_df = df_.copy(deep=True)\n",
        "\n",
        "for weekday in [1, 2]:\n",
        "    stat_amt_by_cid_and_weekday = dfTrx[dfTrx.dt % 7 == weekday][['cid', 'amt']].groupby('cid').agg(stat).sort_values(by = 'cid').add_prefix('').droplevel(0, axis='columns')\n",
        "    stat_amt_by_cid_and_weekday.columns += '_' + str(weekday) + '_wd'\n",
        "    to_df = to_df.join(stat_amt_by_cid_and_weekday, on = 'cid', how='left')\n",
        "\n",
        "to_df = s(to_df)\n",
        "df = df.join(to_df, on = 'cid', how='left')"
      ],
      "metadata": {
        "colab": {
          "base_uri": "https://localhost:8080/"
        },
        "id": "pi5ZHB0nn1oo",
        "outputId": "398ee1f2-d5f7-4084-dfe1-f4bb69896bb0"
      },
      "execution_count": 347,
      "outputs": [
        {
          "output_type": "stream",
          "name": "stdout",
          "text": [
            "CPU times: user 305 ms, sys: 16 ms, total: 321 ms\n",
            "Wall time: 318 ms\n"
          ]
        }
      ]
    },
    {
      "cell_type": "code",
      "source": [
        "#@title **TID**\n",
        "to_df = df_.copy(deep=True)\n",
        "\n",
        "for tid_index in (most_popular_tid - interesting_tid):\n",
        "    stat_amt_by_cid_and_tid = dfTrx[dfTrx.tid == tid_index][['cid', 'amt']].groupby('cid').agg(stat).sort_values(by = 'cid').add_prefix('').droplevel(0, axis='columns')\n",
        "    stat_amt_by_cid_and_tid.columns += '_' + str(tid_index) + '_tid'\n",
        "    to_df = to_df.join(stat_amt_by_cid_and_tid, how='left')\n",
        "\n",
        "stat_by_other_tid = dfTrx[~dfTrx.tid.isin(most_popular_tid or interesting_tid)][['cid', 'amt']].groupby('cid').agg(stat).sort_values(by = 'cid').add_prefix('').droplevel(0, axis='columns')\n",
        "stat_by_other_tid.columns += '_tid'\n",
        "to_df = to_df.join(stat_by_other_tid, how='left')\n",
        "\n",
        "to_df = s(to_df)\n",
        "df = df.join(to_df, on = 'cid', how='left')\n",
        "\n",
        "to_df = df_.copy(deep=True)\n",
        "\n",
        "for tid_index in (interesting_tid):\n",
        "    stat_amt_by_cid_and_tid = dfTrx[dfTrx.tid == tid_index][['cid', 'amt']].groupby('cid').agg(stat).sort_values(by = 'cid').add_prefix('').droplevel(0, axis='columns')\n",
        "    stat_amt_by_cid_and_tid.columns += '_' + str(tid_index) + '_tid'\n",
        "    to_df = to_df.join(stat_amt_by_cid_and_tid, how='left')\n",
        "\n",
        "to_df = s(to_df) * 50\n",
        "df = df.join(to_df, on = 'cid', how='left')"
      ],
      "metadata": {
        "id": "XnFbbfIwlkJI"
      },
      "execution_count": 348,
      "outputs": []
    },
    {
      "cell_type": "code",
      "source": [
        "df = df.fillna(0).astype('float')\n",
        "df.columns = [str(c) for c in df.columns]"
      ],
      "metadata": {
        "id": "llG860pRw-0L"
      },
      "execution_count": 349,
      "outputs": []
    },
    {
      "cell_type": "markdown",
      "source": [
        "# **Подготовка к обучение**"
      ],
      "metadata": {
        "id": "sXy7ReQK8pbX"
      }
    },
    {
      "cell_type": "code",
      "source": [
        "#@title **Нормализация**\n",
        "\n",
        "scaler = preprocessing.StandardScaler().fit(df)\n",
        "\n",
        "df = pd.DataFrame(scaler.transform(df), columns=df.columns)"
      ],
      "metadata": {
        "id": "2q8kJyiJCbDK"
      },
      "execution_count": 351,
      "outputs": []
    },
    {
      "cell_type": "code",
      "source": [
        "#@title **Проверка корреляции**\n",
        "\n",
        "# num_cols = df._get_numeric_data().columns\n",
        "\n",
        "# correlation_matrix = np.corrcoef(df[num_cols], rowvar=False)\n",
        "\n",
        "# plt.figure(figsize=(12, 10))\n",
        "# sns.heatmap(correlation_matrix, annot=True, cmap='coolwarm', xticklabels=df[num_cols].columns, yticklabels=df[num_cols].columns)\n",
        "\n",
        "# plt.title('Correlation Matrix')\n",
        "\n",
        "# plt.show()"
      ],
      "metadata": {
        "id": "Z-UG-0OGEgAg"
      },
      "execution_count": 352,
      "outputs": []
    },
    {
      "cell_type": "code",
      "source": [
        "#@title **Z-SCORE проверка на выбросы**\n",
        "\n",
        "def Zscore_outlier(df):\n",
        "    out=[]\n",
        "    m = np.mean(df)\n",
        "    sd = np.std(df)\n",
        "    for i in range(len(df)):\n",
        "        z = (df.iloc[[i]].values[0] - m) / sd\n",
        "        if np.abs(z) > 3:\n",
        "            out.append(df.iloc[[i]].index[0])\n",
        "    return out\n",
        "\n",
        "\n",
        "# outliers = set()\n",
        "# iteration = 0\n",
        "# for col in df.columns:\n",
        "#     print(iteration, \"/\", len(df.columns))\n",
        "#     iteration += 1\n",
        "#     out = Zscore_outlier(df[col])\n",
        "#     outliers.update(out)\n",
        "\n",
        "# outliers = list(outliers)\n",
        "# print(len(outliers), \"rows were deleted\")\n",
        "# df.drop(index=outliers, inplace=True)"
      ],
      "metadata": {
        "id": "q1kR6VlC1-dl",
        "cellView": "form"
      },
      "execution_count": 353,
      "outputs": []
    },
    {
      "cell_type": "code",
      "source": [
        "%%time\n",
        "df.columns = [str(c) for c in df.columns]\n",
        "\n",
        "trainX, testX = df.join(trainY.drop('gender', axis=1), how='inner'), df.join(testY.drop('gender', axis=1), how='inner')\n",
        "trainX0, testX0, trainY0, testY0 = train_test_split(trainX, trainY, test_size=0.28, random_state=0)\n"
      ],
      "metadata": {
        "colab": {
          "base_uri": "https://localhost:8080/"
        },
        "id": "NeQuLhn0rHC7",
        "outputId": "70dccfed-0e86-4049-f35b-a24df12693a9"
      },
      "execution_count": 354,
      "outputs": [
        {
          "output_type": "stream",
          "name": "stdout",
          "text": [
            "CPU times: user 22.2 ms, sys: 0 ns, total: 22.2 ms\n",
            "Wall time: 22.3 ms\n"
          ]
        }
      ]
    },
    {
      "cell_type": "markdown",
      "source": [
        "# **Обучение**"
      ],
      "metadata": {
        "id": "HvR1hsU3rTO4"
      }
    },
    {
      "cell_type": "code",
      "source": [
        "model_final = MLPC(solver='lbfgs', alpha=1e-5, hidden_layer_sizes=(7, 4), random_state=1)\n",
        "\n",
        "model1 = MLPC(solver='lbfgs', alpha=1e-5, hidden_layer_sizes=(7, 4), random_state=1)\n",
        "model2 = GBC(loss='log_loss', learning_rate=0.1, n_estimators=150, subsample=1.0, criterion='friedman_mse', max_depth=2)\n",
        "model3 = CBC(iterations=400)\n",
        "model4 = LGBMC()\n",
        "\n",
        "pY1 = model1.fit(trainX0, trainY0.gender).predict_proba(testX0)[:, 1]\n",
        "pY2 = model2.fit(trainX0, trainY0.gender).predict_proba(testX0)[:, 1]\n",
        "pY3 = model3.fit(trainX0, trainY0.gender).predict_proba(testX0)[:, 1]\n",
        "pY4 = model4.fit(trainX0, trainY0.gender).predict_proba(testX0)[:, 1]"
      ],
      "metadata": {
        "id": "MOVjxsLza1Vq",
        "colab": {
          "base_uri": "https://localhost:8080/"
        },
        "outputId": "4432db94-87ee-491a-c2b5-564560e2c262"
      },
      "execution_count": 355,
      "outputs": [
        {
          "output_type": "stream",
          "name": "stderr",
          "text": [
            "/usr/local/lib/python3.10/dist-packages/sklearn/neural_network/_multilayer_perceptron.py:545: ConvergenceWarning: lbfgs failed to converge (status=1):\n",
            "STOP: TOTAL NO. of ITERATIONS REACHED LIMIT.\n",
            "\n",
            "Increase the number of iterations (max_iter) or scale the data as shown in:\n",
            "    https://scikit-learn.org/stable/modules/preprocessing.html\n",
            "  self.n_iter_ = _check_optimize_result(\"lbfgs\", opt_res, self.max_iter)\n"
          ]
        },
        {
          "output_type": "stream",
          "name": "stdout",
          "text": [
            "Learning rate set to 0.045827\n",
            "0:\tlearn: 0.6787336\ttotal: 82.5ms\tremaining: 32.9s\n",
            "1:\tlearn: 0.6660776\ttotal: 140ms\tremaining: 27.9s\n",
            "2:\tlearn: 0.6547993\ttotal: 209ms\tremaining: 27.7s\n",
            "3:\tlearn: 0.6450134\ttotal: 269ms\tremaining: 26.7s\n",
            "4:\tlearn: 0.6353197\ttotal: 324ms\tremaining: 25.6s\n",
            "5:\tlearn: 0.6262667\ttotal: 386ms\tremaining: 25.4s\n",
            "6:\tlearn: 0.6184837\ttotal: 453ms\tremaining: 25.4s\n",
            "7:\tlearn: 0.6110271\ttotal: 519ms\tremaining: 25.4s\n",
            "8:\tlearn: 0.6026752\ttotal: 581ms\tremaining: 25.2s\n",
            "9:\tlearn: 0.5958769\ttotal: 649ms\tremaining: 25.3s\n",
            "10:\tlearn: 0.5902521\ttotal: 710ms\tremaining: 25.1s\n",
            "11:\tlearn: 0.5834575\ttotal: 768ms\tremaining: 24.8s\n",
            "12:\tlearn: 0.5778690\ttotal: 833ms\tremaining: 24.8s\n",
            "13:\tlearn: 0.5730356\ttotal: 902ms\tremaining: 24.9s\n",
            "14:\tlearn: 0.5677820\ttotal: 949ms\tremaining: 24.4s\n",
            "15:\tlearn: 0.5631334\ttotal: 1.03s\tremaining: 24.8s\n",
            "16:\tlearn: 0.5584366\ttotal: 1.1s\tremaining: 24.9s\n",
            "17:\tlearn: 0.5542918\ttotal: 1.17s\tremaining: 24.9s\n",
            "18:\tlearn: 0.5513034\ttotal: 1.25s\tremaining: 25s\n",
            "19:\tlearn: 0.5478456\ttotal: 1.3s\tremaining: 24.7s\n",
            "20:\tlearn: 0.5445180\ttotal: 1.35s\tremaining: 24.4s\n",
            "21:\tlearn: 0.5410941\ttotal: 1.42s\tremaining: 24.4s\n",
            "22:\tlearn: 0.5380986\ttotal: 1.49s\tremaining: 24.3s\n",
            "23:\tlearn: 0.5348373\ttotal: 1.56s\tremaining: 24.5s\n",
            "24:\tlearn: 0.5319570\ttotal: 1.63s\tremaining: 24.4s\n",
            "25:\tlearn: 0.5288678\ttotal: 1.67s\tremaining: 24s\n",
            "26:\tlearn: 0.5255928\ttotal: 1.72s\tremaining: 23.7s\n",
            "27:\tlearn: 0.5228672\ttotal: 1.78s\tremaining: 23.6s\n",
            "28:\tlearn: 0.5205746\ttotal: 1.85s\tremaining: 23.7s\n",
            "29:\tlearn: 0.5173424\ttotal: 1.91s\tremaining: 23.6s\n",
            "30:\tlearn: 0.5148859\ttotal: 1.98s\tremaining: 23.6s\n",
            "31:\tlearn: 0.5128335\ttotal: 2.05s\tremaining: 23.5s\n",
            "32:\tlearn: 0.5109253\ttotal: 2.13s\tremaining: 23.7s\n",
            "33:\tlearn: 0.5081994\ttotal: 2.2s\tremaining: 23.7s\n",
            "34:\tlearn: 0.5061401\ttotal: 2.27s\tremaining: 23.6s\n",
            "35:\tlearn: 0.5039938\ttotal: 2.32s\tremaining: 23.4s\n",
            "36:\tlearn: 0.5017301\ttotal: 2.39s\tremaining: 23.5s\n",
            "37:\tlearn: 0.4998502\ttotal: 2.45s\tremaining: 23.4s\n",
            "38:\tlearn: 0.4981812\ttotal: 2.5s\tremaining: 23.1s\n",
            "39:\tlearn: 0.4960479\ttotal: 2.56s\tremaining: 23.1s\n",
            "40:\tlearn: 0.4946367\ttotal: 2.63s\tremaining: 23s\n",
            "41:\tlearn: 0.4931707\ttotal: 2.69s\tremaining: 22.9s\n",
            "42:\tlearn: 0.4911384\ttotal: 2.75s\tremaining: 22.9s\n",
            "43:\tlearn: 0.4891221\ttotal: 2.81s\tremaining: 22.7s\n",
            "44:\tlearn: 0.4876209\ttotal: 2.87s\tremaining: 22.6s\n",
            "45:\tlearn: 0.4864299\ttotal: 2.93s\tremaining: 22.6s\n",
            "46:\tlearn: 0.4847558\ttotal: 2.96s\tremaining: 22.3s\n",
            "47:\tlearn: 0.4833023\ttotal: 3s\tremaining: 22s\n",
            "48:\tlearn: 0.4815748\ttotal: 3.04s\tremaining: 21.8s\n",
            "49:\tlearn: 0.4804028\ttotal: 3.08s\tremaining: 21.6s\n",
            "50:\tlearn: 0.4790663\ttotal: 3.12s\tremaining: 21.4s\n",
            "51:\tlearn: 0.4776932\ttotal: 3.15s\tremaining: 21.1s\n",
            "52:\tlearn: 0.4763906\ttotal: 3.18s\tremaining: 20.8s\n",
            "53:\tlearn: 0.4752837\ttotal: 3.21s\tremaining: 20.6s\n",
            "54:\tlearn: 0.4736950\ttotal: 3.25s\tremaining: 20.4s\n",
            "55:\tlearn: 0.4728033\ttotal: 3.29s\tremaining: 20.2s\n",
            "56:\tlearn: 0.4717486\ttotal: 3.32s\tremaining: 20s\n",
            "57:\tlearn: 0.4703119\ttotal: 3.35s\tremaining: 19.7s\n",
            "58:\tlearn: 0.4695397\ttotal: 3.38s\tremaining: 19.5s\n",
            "59:\tlearn: 0.4679381\ttotal: 3.41s\tremaining: 19.3s\n",
            "60:\tlearn: 0.4667680\ttotal: 3.44s\tremaining: 19.1s\n",
            "61:\tlearn: 0.4653512\ttotal: 3.48s\tremaining: 19s\n",
            "62:\tlearn: 0.4639071\ttotal: 3.51s\tremaining: 18.8s\n",
            "63:\tlearn: 0.4626531\ttotal: 3.54s\tremaining: 18.6s\n",
            "64:\tlearn: 0.4616531\ttotal: 3.58s\tremaining: 18.4s\n",
            "65:\tlearn: 0.4603257\ttotal: 3.61s\tremaining: 18.3s\n",
            "66:\tlearn: 0.4590640\ttotal: 3.64s\tremaining: 18.1s\n",
            "67:\tlearn: 0.4580982\ttotal: 3.67s\tremaining: 17.9s\n",
            "68:\tlearn: 0.4570461\ttotal: 3.7s\tremaining: 17.8s\n",
            "69:\tlearn: 0.4562740\ttotal: 3.74s\tremaining: 17.6s\n",
            "70:\tlearn: 0.4554512\ttotal: 3.77s\tremaining: 17.5s\n",
            "71:\tlearn: 0.4542595\ttotal: 3.8s\tremaining: 17.3s\n",
            "72:\tlearn: 0.4530705\ttotal: 3.83s\tremaining: 17.2s\n",
            "73:\tlearn: 0.4523567\ttotal: 3.86s\tremaining: 17s\n",
            "74:\tlearn: 0.4515942\ttotal: 3.9s\tremaining: 16.9s\n",
            "75:\tlearn: 0.4507367\ttotal: 3.93s\tremaining: 16.7s\n",
            "76:\tlearn: 0.4501025\ttotal: 3.96s\tremaining: 16.6s\n",
            "77:\tlearn: 0.4493615\ttotal: 4s\tremaining: 16.5s\n",
            "78:\tlearn: 0.4483887\ttotal: 4.03s\tremaining: 16.4s\n",
            "79:\tlearn: 0.4476621\ttotal: 4.07s\tremaining: 16.3s\n",
            "80:\tlearn: 0.4465200\ttotal: 4.11s\tremaining: 16.2s\n",
            "81:\tlearn: 0.4454588\ttotal: 4.14s\tremaining: 16.1s\n",
            "82:\tlearn: 0.4442686\ttotal: 4.17s\tremaining: 15.9s\n",
            "83:\tlearn: 0.4436540\ttotal: 4.21s\tremaining: 15.8s\n",
            "84:\tlearn: 0.4428667\ttotal: 4.24s\tremaining: 15.7s\n",
            "85:\tlearn: 0.4419063\ttotal: 4.27s\tremaining: 15.6s\n",
            "86:\tlearn: 0.4411735\ttotal: 4.3s\tremaining: 15.5s\n",
            "87:\tlearn: 0.4404284\ttotal: 4.33s\tremaining: 15.4s\n",
            "88:\tlearn: 0.4395851\ttotal: 4.37s\tremaining: 15.3s\n",
            "89:\tlearn: 0.4388742\ttotal: 4.4s\tremaining: 15.2s\n",
            "90:\tlearn: 0.4381721\ttotal: 4.43s\tremaining: 15.1s\n",
            "91:\tlearn: 0.4375869\ttotal: 4.47s\tremaining: 15s\n",
            "92:\tlearn: 0.4369033\ttotal: 4.5s\tremaining: 14.8s\n",
            "93:\tlearn: 0.4363338\ttotal: 4.53s\tremaining: 14.7s\n",
            "94:\tlearn: 0.4355678\ttotal: 4.56s\tremaining: 14.6s\n",
            "95:\tlearn: 0.4344712\ttotal: 4.59s\tremaining: 14.5s\n",
            "96:\tlearn: 0.4337282\ttotal: 4.62s\tremaining: 14.4s\n",
            "97:\tlearn: 0.4330059\ttotal: 4.66s\tremaining: 14.3s\n",
            "98:\tlearn: 0.4322863\ttotal: 4.69s\tremaining: 14.3s\n",
            "99:\tlearn: 0.4317590\ttotal: 4.72s\tremaining: 14.2s\n",
            "100:\tlearn: 0.4310370\ttotal: 4.75s\tremaining: 14.1s\n",
            "101:\tlearn: 0.4304314\ttotal: 4.78s\tremaining: 14s\n",
            "102:\tlearn: 0.4295929\ttotal: 4.81s\tremaining: 13.9s\n",
            "103:\tlearn: 0.4288059\ttotal: 4.85s\tremaining: 13.8s\n",
            "104:\tlearn: 0.4279473\ttotal: 4.88s\tremaining: 13.7s\n",
            "105:\tlearn: 0.4271108\ttotal: 4.91s\tremaining: 13.6s\n",
            "106:\tlearn: 0.4262204\ttotal: 4.95s\tremaining: 13.5s\n",
            "107:\tlearn: 0.4255563\ttotal: 4.98s\tremaining: 13.5s\n",
            "108:\tlearn: 0.4250041\ttotal: 5.01s\tremaining: 13.4s\n",
            "109:\tlearn: 0.4244336\ttotal: 5.04s\tremaining: 13.3s\n",
            "110:\tlearn: 0.4236743\ttotal: 5.09s\tremaining: 13.2s\n",
            "111:\tlearn: 0.4228252\ttotal: 5.13s\tremaining: 13.2s\n",
            "112:\tlearn: 0.4223858\ttotal: 5.16s\tremaining: 13.1s\n",
            "113:\tlearn: 0.4214206\ttotal: 5.19s\tremaining: 13s\n",
            "114:\tlearn: 0.4206550\ttotal: 5.23s\tremaining: 13s\n",
            "115:\tlearn: 0.4199013\ttotal: 5.27s\tremaining: 12.9s\n",
            "116:\tlearn: 0.4193703\ttotal: 5.3s\tremaining: 12.8s\n",
            "117:\tlearn: 0.4186310\ttotal: 5.33s\tremaining: 12.7s\n",
            "118:\tlearn: 0.4179553\ttotal: 5.36s\tremaining: 12.7s\n",
            "119:\tlearn: 0.4172512\ttotal: 5.39s\tremaining: 12.6s\n",
            "120:\tlearn: 0.4164088\ttotal: 5.42s\tremaining: 12.5s\n",
            "121:\tlearn: 0.4155576\ttotal: 5.46s\tremaining: 12.4s\n",
            "122:\tlearn: 0.4149801\ttotal: 5.49s\tremaining: 12.4s\n",
            "123:\tlearn: 0.4142221\ttotal: 5.52s\tremaining: 12.3s\n",
            "124:\tlearn: 0.4134588\ttotal: 5.56s\tremaining: 12.2s\n",
            "125:\tlearn: 0.4128465\ttotal: 5.59s\tremaining: 12.2s\n",
            "126:\tlearn: 0.4120632\ttotal: 5.62s\tremaining: 12.1s\n",
            "127:\tlearn: 0.4112284\ttotal: 5.66s\tremaining: 12s\n",
            "128:\tlearn: 0.4108177\ttotal: 5.68s\tremaining: 11.9s\n",
            "129:\tlearn: 0.4101537\ttotal: 5.72s\tremaining: 11.9s\n",
            "130:\tlearn: 0.4095471\ttotal: 5.75s\tremaining: 11.8s\n",
            "131:\tlearn: 0.4088126\ttotal: 5.78s\tremaining: 11.7s\n",
            "132:\tlearn: 0.4079172\ttotal: 5.81s\tremaining: 11.7s\n",
            "133:\tlearn: 0.4071310\ttotal: 5.84s\tremaining: 11.6s\n",
            "134:\tlearn: 0.4063741\ttotal: 5.88s\tremaining: 11.5s\n",
            "135:\tlearn: 0.4054959\ttotal: 5.92s\tremaining: 11.5s\n",
            "136:\tlearn: 0.4047900\ttotal: 5.95s\tremaining: 11.4s\n",
            "137:\tlearn: 0.4043951\ttotal: 5.98s\tremaining: 11.4s\n",
            "138:\tlearn: 0.4040050\ttotal: 6.01s\tremaining: 11.3s\n",
            "139:\tlearn: 0.4034228\ttotal: 6.05s\tremaining: 11.2s\n",
            "140:\tlearn: 0.4028647\ttotal: 6.09s\tremaining: 11.2s\n",
            "141:\tlearn: 0.4023285\ttotal: 6.13s\tremaining: 11.1s\n",
            "142:\tlearn: 0.4017616\ttotal: 6.17s\tremaining: 11.1s\n",
            "143:\tlearn: 0.4011674\ttotal: 6.21s\tremaining: 11s\n",
            "144:\tlearn: 0.4007209\ttotal: 6.26s\tremaining: 11s\n",
            "145:\tlearn: 0.4001015\ttotal: 6.29s\tremaining: 10.9s\n",
            "146:\tlearn: 0.3996120\ttotal: 6.32s\tremaining: 10.9s\n",
            "147:\tlearn: 0.3990904\ttotal: 6.35s\tremaining: 10.8s\n",
            "148:\tlearn: 0.3982461\ttotal: 6.39s\tremaining: 10.8s\n",
            "149:\tlearn: 0.3976391\ttotal: 6.42s\tremaining: 10.7s\n",
            "150:\tlearn: 0.3971945\ttotal: 6.45s\tremaining: 10.6s\n",
            "151:\tlearn: 0.3966194\ttotal: 6.49s\tremaining: 10.6s\n",
            "152:\tlearn: 0.3961426\ttotal: 6.52s\tremaining: 10.5s\n",
            "153:\tlearn: 0.3954924\ttotal: 6.55s\tremaining: 10.5s\n",
            "154:\tlearn: 0.3953085\ttotal: 6.58s\tremaining: 10.4s\n",
            "155:\tlearn: 0.3947982\ttotal: 6.62s\tremaining: 10.4s\n",
            "156:\tlearn: 0.3943153\ttotal: 6.65s\tremaining: 10.3s\n",
            "157:\tlearn: 0.3938546\ttotal: 6.68s\tremaining: 10.2s\n",
            "158:\tlearn: 0.3933718\ttotal: 6.71s\tremaining: 10.2s\n",
            "159:\tlearn: 0.3929773\ttotal: 6.74s\tremaining: 10.1s\n",
            "160:\tlearn: 0.3923366\ttotal: 6.79s\tremaining: 10.1s\n",
            "161:\tlearn: 0.3917132\ttotal: 6.83s\tremaining: 10s\n",
            "162:\tlearn: 0.3910592\ttotal: 6.86s\tremaining: 9.97s\n",
            "163:\tlearn: 0.3905335\ttotal: 6.89s\tremaining: 9.92s\n",
            "164:\tlearn: 0.3899235\ttotal: 6.92s\tremaining: 9.86s\n",
            "165:\tlearn: 0.3893380\ttotal: 6.95s\tremaining: 9.8s\n",
            "166:\tlearn: 0.3887106\ttotal: 6.99s\tremaining: 9.75s\n",
            "167:\tlearn: 0.3883323\ttotal: 7.02s\tremaining: 9.7s\n",
            "168:\tlearn: 0.3877834\ttotal: 7.06s\tremaining: 9.65s\n",
            "169:\tlearn: 0.3874821\ttotal: 7.09s\tremaining: 9.6s\n",
            "170:\tlearn: 0.3866921\ttotal: 7.13s\tremaining: 9.54s\n",
            "171:\tlearn: 0.3862461\ttotal: 7.17s\tremaining: 9.51s\n",
            "172:\tlearn: 0.3858002\ttotal: 7.21s\tremaining: 9.46s\n",
            "173:\tlearn: 0.3852164\ttotal: 7.24s\tremaining: 9.41s\n",
            "174:\tlearn: 0.3847040\ttotal: 7.28s\tremaining: 9.36s\n",
            "175:\tlearn: 0.3841346\ttotal: 7.31s\tremaining: 9.31s\n",
            "176:\tlearn: 0.3834635\ttotal: 7.34s\tremaining: 9.25s\n",
            "177:\tlearn: 0.3829750\ttotal: 7.38s\tremaining: 9.2s\n",
            "178:\tlearn: 0.3819975\ttotal: 7.41s\tremaining: 9.15s\n",
            "179:\tlearn: 0.3814075\ttotal: 7.45s\tremaining: 9.1s\n",
            "180:\tlearn: 0.3810618\ttotal: 7.48s\tremaining: 9.05s\n",
            "181:\tlearn: 0.3805279\ttotal: 7.51s\tremaining: 9s\n",
            "182:\tlearn: 0.3799607\ttotal: 7.54s\tremaining: 8.95s\n",
            "183:\tlearn: 0.3791307\ttotal: 7.58s\tremaining: 8.9s\n",
            "184:\tlearn: 0.3786658\ttotal: 7.61s\tremaining: 8.85s\n",
            "185:\tlearn: 0.3778911\ttotal: 7.64s\tremaining: 8.79s\n",
            "186:\tlearn: 0.3774870\ttotal: 7.67s\tremaining: 8.74s\n",
            "187:\tlearn: 0.3769064\ttotal: 7.71s\tremaining: 8.69s\n",
            "188:\tlearn: 0.3764034\ttotal: 7.74s\tremaining: 8.64s\n",
            "189:\tlearn: 0.3761867\ttotal: 7.77s\tremaining: 8.59s\n",
            "190:\tlearn: 0.3754276\ttotal: 7.81s\tremaining: 8.54s\n",
            "191:\tlearn: 0.3750382\ttotal: 7.84s\tremaining: 8.49s\n",
            "192:\tlearn: 0.3745248\ttotal: 7.87s\tremaining: 8.45s\n",
            "193:\tlearn: 0.3737739\ttotal: 7.91s\tremaining: 8.4s\n",
            "194:\tlearn: 0.3730169\ttotal: 7.94s\tremaining: 8.35s\n",
            "195:\tlearn: 0.3722250\ttotal: 7.98s\tremaining: 8.3s\n",
            "196:\tlearn: 0.3714631\ttotal: 8.01s\tremaining: 8.26s\n",
            "197:\tlearn: 0.3705147\ttotal: 8.05s\tremaining: 8.21s\n",
            "198:\tlearn: 0.3699591\ttotal: 8.09s\tremaining: 8.17s\n",
            "199:\tlearn: 0.3690807\ttotal: 8.12s\tremaining: 8.12s\n",
            "200:\tlearn: 0.3686395\ttotal: 8.15s\tremaining: 8.07s\n",
            "201:\tlearn: 0.3677409\ttotal: 8.21s\tremaining: 8.05s\n",
            "202:\tlearn: 0.3673907\ttotal: 8.24s\tremaining: 8s\n",
            "203:\tlearn: 0.3669803\ttotal: 8.28s\tremaining: 7.95s\n",
            "204:\tlearn: 0.3665101\ttotal: 8.31s\tremaining: 7.9s\n",
            "205:\tlearn: 0.3659384\ttotal: 8.34s\tremaining: 7.86s\n",
            "206:\tlearn: 0.3652759\ttotal: 8.38s\tremaining: 7.81s\n",
            "207:\tlearn: 0.3646197\ttotal: 8.42s\tremaining: 7.78s\n",
            "208:\tlearn: 0.3641016\ttotal: 8.46s\tremaining: 7.73s\n",
            "209:\tlearn: 0.3636345\ttotal: 8.49s\tremaining: 7.68s\n",
            "210:\tlearn: 0.3631017\ttotal: 8.52s\tremaining: 7.63s\n",
            "211:\tlearn: 0.3624452\ttotal: 8.56s\tremaining: 7.59s\n",
            "212:\tlearn: 0.3619341\ttotal: 8.59s\tremaining: 7.54s\n",
            "213:\tlearn: 0.3611807\ttotal: 8.63s\tremaining: 7.5s\n",
            "214:\tlearn: 0.3607025\ttotal: 8.66s\tremaining: 7.46s\n",
            "215:\tlearn: 0.3604023\ttotal: 8.7s\tremaining: 7.41s\n",
            "216:\tlearn: 0.3599178\ttotal: 8.73s\tremaining: 7.36s\n",
            "217:\tlearn: 0.3591011\ttotal: 8.77s\tremaining: 7.32s\n",
            "218:\tlearn: 0.3586077\ttotal: 8.83s\tremaining: 7.3s\n",
            "219:\tlearn: 0.3576723\ttotal: 8.9s\tremaining: 7.28s\n",
            "220:\tlearn: 0.3568643\ttotal: 8.95s\tremaining: 7.25s\n",
            "221:\tlearn: 0.3562832\ttotal: 9.02s\tremaining: 7.23s\n",
            "222:\tlearn: 0.3558450\ttotal: 9.08s\tremaining: 7.21s\n",
            "223:\tlearn: 0.3553233\ttotal: 9.14s\tremaining: 7.18s\n",
            "224:\tlearn: 0.3548081\ttotal: 9.22s\tremaining: 7.17s\n",
            "225:\tlearn: 0.3541714\ttotal: 9.28s\tremaining: 7.14s\n",
            "226:\tlearn: 0.3535096\ttotal: 9.33s\tremaining: 7.11s\n",
            "227:\tlearn: 0.3528827\ttotal: 9.39s\tremaining: 7.08s\n",
            "228:\tlearn: 0.3523025\ttotal: 9.44s\tremaining: 7.05s\n",
            "229:\tlearn: 0.3514079\ttotal: 9.5s\tremaining: 7.02s\n",
            "230:\tlearn: 0.3508320\ttotal: 9.57s\tremaining: 7s\n",
            "231:\tlearn: 0.3504998\ttotal: 9.62s\tremaining: 6.96s\n",
            "232:\tlearn: 0.3499757\ttotal: 9.67s\tremaining: 6.93s\n",
            "233:\tlearn: 0.3493434\ttotal: 9.74s\tremaining: 6.91s\n",
            "234:\tlearn: 0.3487030\ttotal: 9.8s\tremaining: 6.88s\n",
            "235:\tlearn: 0.3483588\ttotal: 9.88s\tremaining: 6.86s\n",
            "236:\tlearn: 0.3477835\ttotal: 9.94s\tremaining: 6.83s\n",
            "237:\tlearn: 0.3471291\ttotal: 10s\tremaining: 6.81s\n",
            "238:\tlearn: 0.3465482\ttotal: 10.1s\tremaining: 6.78s\n",
            "239:\tlearn: 0.3461026\ttotal: 10.1s\tremaining: 6.74s\n",
            "240:\tlearn: 0.3457303\ttotal: 10.2s\tremaining: 6.7s\n",
            "241:\tlearn: 0.3452402\ttotal: 10.2s\tremaining: 6.67s\n",
            "242:\tlearn: 0.3448192\ttotal: 10.3s\tremaining: 6.63s\n",
            "243:\tlearn: 0.3444542\ttotal: 10.3s\tremaining: 6.61s\n",
            "244:\tlearn: 0.3436936\ttotal: 10.4s\tremaining: 6.58s\n",
            "245:\tlearn: 0.3430511\ttotal: 10.5s\tremaining: 6.55s\n",
            "246:\tlearn: 0.3429638\ttotal: 10.5s\tremaining: 6.52s\n",
            "247:\tlearn: 0.3429219\ttotal: 10.6s\tremaining: 6.49s\n",
            "248:\tlearn: 0.3423391\ttotal: 10.6s\tremaining: 6.46s\n",
            "249:\tlearn: 0.3414227\ttotal: 10.7s\tremaining: 6.42s\n",
            "250:\tlearn: 0.3408597\ttotal: 10.8s\tremaining: 6.4s\n",
            "251:\tlearn: 0.3407981\ttotal: 10.8s\tremaining: 6.36s\n",
            "252:\tlearn: 0.3402955\ttotal: 10.9s\tremaining: 6.33s\n",
            "253:\tlearn: 0.3393736\ttotal: 10.9s\tremaining: 6.29s\n",
            "254:\tlearn: 0.3388531\ttotal: 11s\tremaining: 6.26s\n",
            "255:\tlearn: 0.3387905\ttotal: 11.1s\tremaining: 6.23s\n",
            "256:\tlearn: 0.3384277\ttotal: 11.1s\tremaining: 6.2s\n",
            "257:\tlearn: 0.3377416\ttotal: 11.2s\tremaining: 6.16s\n",
            "258:\tlearn: 0.3371747\ttotal: 11.3s\tremaining: 6.13s\n",
            "259:\tlearn: 0.3365983\ttotal: 11.3s\tremaining: 6.09s\n",
            "260:\tlearn: 0.3361543\ttotal: 11.4s\tremaining: 6.06s\n",
            "261:\tlearn: 0.3355098\ttotal: 11.4s\tremaining: 6.02s\n",
            "262:\tlearn: 0.3348751\ttotal: 11.5s\tremaining: 5.99s\n",
            "263:\tlearn: 0.3343715\ttotal: 11.6s\tremaining: 5.96s\n",
            "264:\tlearn: 0.3342995\ttotal: 11.6s\tremaining: 5.92s\n",
            "265:\tlearn: 0.3341416\ttotal: 11.7s\tremaining: 5.89s\n",
            "266:\tlearn: 0.3335312\ttotal: 11.8s\tremaining: 5.86s\n",
            "267:\tlearn: 0.3329983\ttotal: 11.8s\tremaining: 5.82s\n",
            "268:\tlearn: 0.3324887\ttotal: 11.9s\tremaining: 5.79s\n",
            "269:\tlearn: 0.3317879\ttotal: 12s\tremaining: 5.75s\n",
            "270:\tlearn: 0.3314708\ttotal: 12s\tremaining: 5.72s\n",
            "271:\tlearn: 0.3308256\ttotal: 12.1s\tremaining: 5.69s\n",
            "272:\tlearn: 0.3302042\ttotal: 12.1s\tremaining: 5.65s\n",
            "273:\tlearn: 0.3295227\ttotal: 12.2s\tremaining: 5.61s\n",
            "274:\tlearn: 0.3290502\ttotal: 12.3s\tremaining: 5.58s\n",
            "275:\tlearn: 0.3282010\ttotal: 12.3s\tremaining: 5.54s\n",
            "276:\tlearn: 0.3281525\ttotal: 12.4s\tremaining: 5.5s\n",
            "277:\tlearn: 0.3278974\ttotal: 12.5s\tremaining: 5.48s\n",
            "278:\tlearn: 0.3274756\ttotal: 12.5s\tremaining: 5.44s\n",
            "279:\tlearn: 0.3271237\ttotal: 12.6s\tremaining: 5.4s\n",
            "280:\tlearn: 0.3268030\ttotal: 12.7s\tremaining: 5.37s\n",
            "281:\tlearn: 0.3267526\ttotal: 12.7s\tremaining: 5.33s\n",
            "282:\tlearn: 0.3263589\ttotal: 12.8s\tremaining: 5.29s\n",
            "283:\tlearn: 0.3256534\ttotal: 12.9s\tremaining: 5.26s\n",
            "284:\tlearn: 0.3249604\ttotal: 12.9s\tremaining: 5.22s\n",
            "285:\tlearn: 0.3245040\ttotal: 13s\tremaining: 5.18s\n",
            "286:\tlearn: 0.3241721\ttotal: 13.1s\tremaining: 5.14s\n",
            "287:\tlearn: 0.3237349\ttotal: 13.1s\tremaining: 5.11s\n",
            "288:\tlearn: 0.3230046\ttotal: 13.2s\tremaining: 5.07s\n",
            "289:\tlearn: 0.3227856\ttotal: 13.3s\tremaining: 5.03s\n",
            "290:\tlearn: 0.3222637\ttotal: 13.3s\tremaining: 4.99s\n",
            "291:\tlearn: 0.3222400\ttotal: 13.4s\tremaining: 4.95s\n",
            "292:\tlearn: 0.3217420\ttotal: 13.4s\tremaining: 4.91s\n",
            "293:\tlearn: 0.3211314\ttotal: 13.5s\tremaining: 4.87s\n",
            "294:\tlearn: 0.3205785\ttotal: 13.6s\tremaining: 4.83s\n",
            "295:\tlearn: 0.3205487\ttotal: 13.6s\tremaining: 4.79s\n",
            "296:\tlearn: 0.3200872\ttotal: 13.7s\tremaining: 4.76s\n",
            "297:\tlearn: 0.3194781\ttotal: 13.8s\tremaining: 4.72s\n",
            "298:\tlearn: 0.3187448\ttotal: 13.9s\tremaining: 4.68s\n",
            "299:\tlearn: 0.3181179\ttotal: 13.9s\tremaining: 4.64s\n",
            "300:\tlearn: 0.3175552\ttotal: 14s\tremaining: 4.6s\n",
            "301:\tlearn: 0.3171465\ttotal: 14.1s\tremaining: 4.56s\n",
            "302:\tlearn: 0.3166367\ttotal: 14.1s\tremaining: 4.52s\n",
            "303:\tlearn: 0.3160513\ttotal: 14.2s\tremaining: 4.48s\n",
            "304:\tlearn: 0.3157530\ttotal: 14.3s\tremaining: 4.44s\n",
            "305:\tlearn: 0.3151527\ttotal: 14.3s\tremaining: 4.39s\n",
            "306:\tlearn: 0.3145967\ttotal: 14.3s\tremaining: 4.34s\n",
            "307:\tlearn: 0.3142328\ttotal: 14.3s\tremaining: 4.29s\n",
            "308:\tlearn: 0.3136212\ttotal: 14.4s\tremaining: 4.23s\n",
            "309:\tlearn: 0.3135810\ttotal: 14.4s\tremaining: 4.18s\n",
            "310:\tlearn: 0.3131508\ttotal: 14.5s\tremaining: 4.14s\n",
            "311:\tlearn: 0.3126287\ttotal: 14.5s\tremaining: 4.09s\n",
            "312:\tlearn: 0.3122077\ttotal: 14.5s\tremaining: 4.04s\n",
            "313:\tlearn: 0.3115711\ttotal: 14.6s\tremaining: 3.99s\n",
            "314:\tlearn: 0.3114306\ttotal: 14.6s\tremaining: 3.94s\n",
            "315:\tlearn: 0.3110399\ttotal: 14.6s\tremaining: 3.89s\n",
            "316:\tlearn: 0.3103689\ttotal: 14.7s\tremaining: 3.84s\n",
            "317:\tlearn: 0.3099024\ttotal: 14.7s\tremaining: 3.79s\n",
            "318:\tlearn: 0.3092143\ttotal: 14.7s\tremaining: 3.74s\n",
            "319:\tlearn: 0.3086534\ttotal: 14.8s\tremaining: 3.69s\n",
            "320:\tlearn: 0.3084028\ttotal: 14.8s\tremaining: 3.64s\n",
            "321:\tlearn: 0.3079119\ttotal: 14.8s\tremaining: 3.59s\n",
            "322:\tlearn: 0.3072598\ttotal: 14.9s\tremaining: 3.54s\n",
            "323:\tlearn: 0.3065982\ttotal: 14.9s\tremaining: 3.49s\n",
            "324:\tlearn: 0.3060094\ttotal: 14.9s\tremaining: 3.44s\n",
            "325:\tlearn: 0.3055819\ttotal: 15s\tremaining: 3.39s\n",
            "326:\tlearn: 0.3052054\ttotal: 15s\tremaining: 3.35s\n",
            "327:\tlearn: 0.3048760\ttotal: 15s\tremaining: 3.3s\n",
            "328:\tlearn: 0.3045942\ttotal: 15.1s\tremaining: 3.25s\n",
            "329:\tlearn: 0.3041554\ttotal: 15.1s\tremaining: 3.2s\n",
            "330:\tlearn: 0.3037303\ttotal: 15.1s\tremaining: 3.15s\n",
            "331:\tlearn: 0.3030898\ttotal: 15.2s\tremaining: 3.1s\n",
            "332:\tlearn: 0.3029463\ttotal: 15.2s\tremaining: 3.06s\n",
            "333:\tlearn: 0.3029212\ttotal: 15.2s\tremaining: 3.01s\n",
            "334:\tlearn: 0.3024546\ttotal: 15.2s\tremaining: 2.96s\n",
            "335:\tlearn: 0.3021877\ttotal: 15.3s\tremaining: 2.91s\n",
            "336:\tlearn: 0.3015285\ttotal: 15.3s\tremaining: 2.86s\n",
            "337:\tlearn: 0.3009808\ttotal: 15.3s\tremaining: 2.81s\n",
            "338:\tlearn: 0.3003567\ttotal: 15.4s\tremaining: 2.77s\n",
            "339:\tlearn: 0.3000218\ttotal: 15.4s\tremaining: 2.72s\n",
            "340:\tlearn: 0.2996056\ttotal: 15.4s\tremaining: 2.67s\n",
            "341:\tlearn: 0.2991174\ttotal: 15.5s\tremaining: 2.62s\n",
            "342:\tlearn: 0.2987861\ttotal: 15.5s\tremaining: 2.58s\n",
            "343:\tlearn: 0.2987610\ttotal: 15.5s\tremaining: 2.53s\n",
            "344:\tlearn: 0.2981956\ttotal: 15.6s\tremaining: 2.48s\n",
            "345:\tlearn: 0.2977179\ttotal: 15.6s\tremaining: 2.44s\n",
            "346:\tlearn: 0.2972400\ttotal: 15.7s\tremaining: 2.39s\n",
            "347:\tlearn: 0.2965070\ttotal: 15.7s\tremaining: 2.34s\n",
            "348:\tlearn: 0.2958668\ttotal: 15.7s\tremaining: 2.3s\n",
            "349:\tlearn: 0.2955365\ttotal: 15.7s\tremaining: 2.25s\n",
            "350:\tlearn: 0.2949294\ttotal: 15.8s\tremaining: 2.2s\n",
            "351:\tlearn: 0.2948861\ttotal: 15.8s\tremaining: 2.16s\n",
            "352:\tlearn: 0.2945039\ttotal: 15.9s\tremaining: 2.11s\n",
            "353:\tlearn: 0.2941200\ttotal: 15.9s\tremaining: 2.06s\n",
            "354:\tlearn: 0.2940689\ttotal: 15.9s\tremaining: 2.02s\n",
            "355:\tlearn: 0.2935274\ttotal: 16s\tremaining: 1.97s\n",
            "356:\tlearn: 0.2930566\ttotal: 16s\tremaining: 1.93s\n",
            "357:\tlearn: 0.2927007\ttotal: 16s\tremaining: 1.88s\n",
            "358:\tlearn: 0.2923863\ttotal: 16.1s\tremaining: 1.83s\n",
            "359:\tlearn: 0.2918423\ttotal: 16.1s\tremaining: 1.79s\n",
            "360:\tlearn: 0.2912844\ttotal: 16.1s\tremaining: 1.74s\n",
            "361:\tlearn: 0.2906878\ttotal: 16.2s\tremaining: 1.7s\n",
            "362:\tlearn: 0.2903215\ttotal: 16.2s\tremaining: 1.65s\n",
            "363:\tlearn: 0.2898815\ttotal: 16.2s\tremaining: 1.6s\n",
            "364:\tlearn: 0.2892743\ttotal: 16.3s\tremaining: 1.56s\n",
            "365:\tlearn: 0.2887211\ttotal: 16.3s\tremaining: 1.51s\n",
            "366:\tlearn: 0.2884414\ttotal: 16.3s\tremaining: 1.47s\n",
            "367:\tlearn: 0.2880383\ttotal: 16.3s\tremaining: 1.42s\n",
            "368:\tlearn: 0.2875396\ttotal: 16.4s\tremaining: 1.38s\n",
            "369:\tlearn: 0.2872799\ttotal: 16.4s\tremaining: 1.33s\n",
            "370:\tlearn: 0.2869566\ttotal: 16.4s\tremaining: 1.28s\n",
            "371:\tlearn: 0.2865790\ttotal: 16.5s\tremaining: 1.24s\n",
            "372:\tlearn: 0.2861780\ttotal: 16.5s\tremaining: 1.19s\n",
            "373:\tlearn: 0.2857195\ttotal: 16.5s\tremaining: 1.15s\n",
            "374:\tlearn: 0.2852813\ttotal: 16.6s\tremaining: 1.1s\n",
            "375:\tlearn: 0.2851527\ttotal: 16.6s\tremaining: 1.06s\n",
            "376:\tlearn: 0.2848166\ttotal: 16.6s\tremaining: 1.01s\n",
            "377:\tlearn: 0.2843206\ttotal: 16.7s\tremaining: 971ms\n",
            "378:\tlearn: 0.2839235\ttotal: 16.7s\tremaining: 926ms\n",
            "379:\tlearn: 0.2833790\ttotal: 16.7s\tremaining: 881ms\n",
            "380:\tlearn: 0.2828733\ttotal: 16.8s\tremaining: 836ms\n",
            "381:\tlearn: 0.2825406\ttotal: 16.8s\tremaining: 792ms\n",
            "382:\tlearn: 0.2820790\ttotal: 16.8s\tremaining: 747ms\n",
            "383:\tlearn: 0.2814938\ttotal: 16.9s\tremaining: 703ms\n",
            "384:\tlearn: 0.2814589\ttotal: 16.9s\tremaining: 658ms\n",
            "385:\tlearn: 0.2813746\ttotal: 16.9s\tremaining: 614ms\n",
            "386:\tlearn: 0.2813553\ttotal: 17s\tremaining: 570ms\n",
            "387:\tlearn: 0.2808923\ttotal: 17s\tremaining: 526ms\n",
            "388:\tlearn: 0.2804843\ttotal: 17s\tremaining: 482ms\n",
            "389:\tlearn: 0.2801028\ttotal: 17.1s\tremaining: 437ms\n",
            "390:\tlearn: 0.2796506\ttotal: 17.1s\tremaining: 394ms\n",
            "391:\tlearn: 0.2793670\ttotal: 17.1s\tremaining: 350ms\n",
            "392:\tlearn: 0.2790441\ttotal: 17.2s\tremaining: 306ms\n",
            "393:\tlearn: 0.2785261\ttotal: 17.2s\tremaining: 262ms\n",
            "394:\tlearn: 0.2782602\ttotal: 17.2s\tremaining: 218ms\n",
            "395:\tlearn: 0.2775838\ttotal: 17.3s\tremaining: 174ms\n",
            "396:\tlearn: 0.2771528\ttotal: 17.3s\tremaining: 131ms\n",
            "397:\tlearn: 0.2767087\ttotal: 17.3s\tremaining: 87.1ms\n",
            "398:\tlearn: 0.2764416\ttotal: 17.4s\tremaining: 43.5ms\n",
            "399:\tlearn: 0.2759771\ttotal: 17.4s\tremaining: 0us\n",
            "[LightGBM] [Info] Number of positive: 2005, number of negative: 2602\n",
            "[LightGBM] [Info] Auto-choosing row-wise multi-threading, the overhead of testing was 0.005693 seconds.\n",
            "You can set `force_row_wise=true` to remove the overhead.\n",
            "And if memory is not enough, you can set `force_col_wise=true`.\n",
            "[LightGBM] [Info] Total Bins 24136\n",
            "[LightGBM] [Info] Number of data points in the train set: 4607, number of used features: 160\n",
            "[LightGBM] [Info] [binary:BoostFromScore]: pavg=0.435207 -> initscore=-0.260636\n",
            "[LightGBM] [Info] Start training from score -0.260636\n"
          ]
        }
      ]
    },
    {
      "cell_type": "code",
      "source": [
        "pY = (pY1 + 2*pY2 + 4*pY3 + 2*pY4) / 9\n",
        "\n",
        "print('Local AUC ROC', roc_auc_score(testY0.gender, pY))\n",
        "print(pY.sum() / pY.shape[0])"
      ],
      "metadata": {
        "colab": {
          "base_uri": "https://localhost:8080/"
        },
        "id": "kx1z-zNemHnF",
        "outputId": "cd4885e5-b4fa-465e-c7bb-20fa9788fdee"
      },
      "execution_count": 356,
      "outputs": [
        {
          "output_type": "stream",
          "name": "stdout",
          "text": [
            "Local AUC ROC 0.8694118241280906\n",
            "0.4341806133673879\n"
          ]
        }
      ]
    },
    {
      "cell_type": "code",
      "source": [
        "X_t = np.array([pY1, pY2, pY3, pY4]).T\n",
        "\n",
        "train_X_t, test_X_t, train_Y_t, test_Y_t = train_test_split(X_t, testY0, test_size=0.3, random_state=0)\n",
        "\n",
        "\n",
        "p_t = model1.fit(train_X_t, train_Y_t.gender).predict_proba(test_X_t)[:, 1]\n",
        "\n",
        "print('Local AUC ROC', roc_auc_score(test_Y_t.gender, p_t))"
      ],
      "metadata": {
        "colab": {
          "base_uri": "https://localhost:8080/"
        },
        "id": "4K7DxlTYhfLO",
        "outputId": "84dd9312-7595-4fb9-cefe-723fb5596933"
      },
      "execution_count": 357,
      "outputs": [
        {
          "output_type": "stream",
          "name": "stdout",
          "text": [
            "Local AUC ROC 0.8640027196623086\n"
          ]
        }
      ]
    },
    {
      "cell_type": "code",
      "source": [
        "tmr.ShowTime()"
      ],
      "metadata": {
        "id": "8CE57gt8zeod",
        "outputId": "8ac6d1a4-2b2f-45a0-e732-4ccb9f251d7e",
        "colab": {
          "base_uri": "https://localhost:8080/"
        }
      },
      "execution_count": 358,
      "outputs": [
        {
          "output_type": "stream",
          "name": "stdout",
          "text": [
            "\u001b[91m\u001b[1mRuntime is 6285 sec > 120 sec limit!!!\u001b[0m\n"
          ]
        }
      ]
    }
  ]
}