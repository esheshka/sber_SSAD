{
  "nbformat": 4,
  "nbformat_minor": 0,
  "metadata": {
    "colab": {
      "provenance": [],
      "authorship_tag": "ABX9TyO9GwEvJv07Mp6dNuQh2mE4",
      "include_colab_link": true
    },
    "kernelspec": {
      "name": "python3",
      "display_name": "Python 3"
    },
    "language_info": {
      "name": "python"
    }
  },
  "cells": [
    {
      "cell_type": "markdown",
      "metadata": {
        "id": "view-in-github",
        "colab_type": "text"
      },
      "source": [
        "<a href=\"https://colab.research.google.com/github/esheshka/team_one_project/blob/Andrey/%D0%A7%D1%82%D0%BE_%D1%82%D0%BE_%D0%B7%D0%B0%D1%87%D0%B5%D0%BC_%D1%82%D0%BE.ipynb\" target=\"_parent\"><img src=\"https://colab.research.google.com/assets/colab-badge.svg\" alt=\"Open In Colab\"/></a>"
      ]
    },
    {
      "cell_type": "markdown",
      "source": [
        "# **Imports**"
      ],
      "metadata": {
        "id": "r14cTJ70c4ok"
      }
    },
    {
      "cell_type": "code",
      "source": [
        "from google.colab import drive; drive.mount('/content/drive')"
      ],
      "metadata": {
        "colab": {
          "base_uri": "https://localhost:8080/"
        },
        "id": "-0VMhfZwPmlX",
        "outputId": "14a24442-b452-4859-cd8d-16e37dff2a7b"
      },
      "execution_count": 162,
      "outputs": [
        {
          "output_type": "stream",
          "name": "stdout",
          "text": [
            "Drive already mounted at /content/drive; to attempt to forcibly remount, call drive.mount(\"/content/drive\", force_remount=True).\n"
          ]
        }
      ]
    },
    {
      "cell_type": "code",
      "source": [
        "!pip -q install --upgrade --force-reinstall --no-deps kaggle > log  # upgrade kaggle package (to avoid a warning)\n",
        "!mkdir -p ~/.kaggle                                           # .kaggle folder must contain kaggle.json for kaggle executable to properly authenticate you to Kaggle.com\n",
        "!cp /content/drive/MyDrive/kaggle.json ~/.kaggle/kaggle.json >log  # First, download kaggle.json from kaggle.com (in Account page) and place it in the root of mounted Google Drive\n",
        "!cp kaggle.json ~/.kaggle/kaggle.json > log                   # Alternative location of kaggle.json (without a connection to Google Drive)\n",
        "!chmod 600 ~/.kaggle/kaggle.json                              # give only the owner full read/write access to kaggle.json\n",
        "!kaggle config set -n competition -v 26jun23                  # set the competition context for the next few kaggle API calls. !kaggle config view - shows current settings\n",
        "!kaggle competitions download >> log                          # download competition dataset as a zip file\n",
        "!unzip -o *.zip >> log                                        # Kaggle dataset is copied as a single file and needs to be unzipped.\n",
        "!kaggle competitions leaderboard --show                       # print public leaderboard"
      ],
      "metadata": {
        "colab": {
          "base_uri": "https://localhost:8080/"
        },
        "id": "Qr42QbN-QpJ2",
        "outputId": "079d4a13-e4a2-4d6b-dba3-9057b2426957"
      },
      "execution_count": 163,
      "outputs": [
        {
          "output_type": "stream",
          "name": "stdout",
          "text": [
            "cp: cannot stat 'kaggle.json': No such file or directory\n",
            "- competition is now set to: 26jun23\n",
            "Using competition: 26jun23\n",
            "  teamId  teamName                   submissionDate       score    \n",
            "--------  -------------------------  -------------------  -------  \n",
            "10612701  Никита Угрюмов             2023-06-28 23:59:12  0.87976  \n",
            "10612695  Ne1tr0N [Maxim Mashtaler]  2023-06-28 22:04:00  0.87931  \n",
            "10612706  Michael Kondrashov         2023-06-29 13:39:23  0.87899  \n",
            "10612715  Stepan Vysotsky            2023-06-29 12:18:18  0.87687  \n",
            "10616508  Ulyana Klushova            2023-06-28 20:38:57  0.87485  \n",
            "10612698  Alexandr Boldirev          2023-06-29 18:33:01  0.87473  \n",
            "10614521  Konstantin Zeigman         2023-06-29 13:56:25  0.87360  \n",
            "10612681  Maria Alyushina            2023-06-29 18:43:03  0.87097  \n",
            "10612680  esheshka                   2023-06-29 14:43:48  0.86811  \n",
            "10614699  Dmitriy Geyzha             2023-06-28 12:50:43  0.86653  \n",
            "10617156  Gleb Goloshchapov          2023-06-29 12:52:30  0.86441  \n",
            "10613713  Mikhail Vovk               2023-06-29 13:04:54  0.86403  \n",
            "10617121  Alex mamleev               2023-06-29 13:53:12  0.85991  \n",
            "10618350  Seleznev Nikita            2023-06-29 12:18:15  0.85792  \n",
            "10617148  Vladimir Babushkin         2023-06-29 08:20:50  0.85571  \n",
            "10618717  TimoteoByalkovskiy         2023-06-28 19:48:38  0.84860  \n",
            "10618473  gleb petrov                2023-06-29 14:17:41  0.83720  \n",
            "10613165  Luka Duvanov               2023-06-29 18:09:24  0.81829  \n",
            "10617093  Андрей Тынков              2023-06-28 19:44:34  0.77979  \n",
            "10617114  Ксения Шкулева             2023-06-29 12:29:25  0.77946  \n",
            "10612789  Liz Volkova                2023-06-29 12:45:11  0.77463  \n",
            "10612678  Чистяков Лев               2023-06-28 11:40:57  0.76747  \n",
            "10612703  Slavik Hom                 2023-06-29 14:07:08  0.74975  \n",
            "10617544  Arina Zavialova            2023-06-29 14:09:30  0.74947  \n",
            "10612716  Abyssinian Cat             2023-06-29 11:39:45  0.73695  \n",
            "10620827  Alexandr Zheglov           2023-06-29 13:17:26  0.73685  \n",
            "10614331  AntonTkachev               2023-06-29 13:55:02  0.73574  \n",
            "10617759  Levushkina Anna            2023-06-29 13:55:45  0.69355  \n",
            "10614297  Тимур Кириенко             2023-06-29 13:47:45  0.69275  \n",
            "10617279  Alex Rasskazchikov         2023-06-28 15:26:20  0.55700  \n",
            "10605413  💳baseline,LR:$Stat+MCCEnc  2023-06-25 18:15:10  0.53220  \n",
            "10617643  Pavel Efimov               2023-06-29 12:32:27  0.52588  \n",
            "10622182  vlligo                     2023-06-29 12:49:45  0.52588  \n"
          ]
        }
      ]
    },
    {
      "cell_type": "code",
      "source": [
        "%%time\n",
        "%%capture\n",
        "%reset -f\n",
        "!pip install -U sentence-transformers tfds-nightly tensorflow tensorflow_addons plotly > log\n",
        "from IPython.core.interactiveshell import InteractiveShell as IS; IS.ast_node_interactivity = \"all\"  # allows multiple prints from a cell\n",
        "import numpy as np, pandas as pd, time, matplotlib.pyplot as plt, os, plotly.express as px, xgboost as xgb, lightgbm, re, tensorflow as tf, tensorflow.keras as keras\n",
        "from sklearn.preprocessing import MinMaxScaler, PolynomialFeatures\n",
        "from sklearn.model_selection import train_test_split, GroupKFold\n",
        "from sklearn.linear_model import LogisticRegression as LR\n",
        "from sklearn.metrics import roc_auc_score\n",
        "from sklearn.decomposition import PCA\n",
        "from sklearn.neural_network import MLPClassifier   # SKLearn's MLP is optimised for CPU (and doesn't use GPU)\n",
        "from sentence_transformers import SentenceTransformer as SBERT\n",
        "from keras.layers import Flatten, Dense\n",
        "\n",
        "os.environ['TF_DETERMINISTIC_OPS'] = '1'; os.environ['TF_CUDNN_DETERMINISTIC'] = '1'   # helps to seed TF's RNG on GPUs\n",
        "np.set_printoptions(linewidth=10000, precision=2, edgeitems=20, suppress=True)\n",
        "pd.set_option('display.max_colwidth', 100, 'display.max_columns', 10, 'display.width', 1000, 'display.max_rows', 8)\n",
        "\n",
        "class Timer():\n",
        "  def __init__(self, lim:'RunTimeLimit'=60*2): self.t0, self.lim, _ = time.time(), lim, print(f'⏳ started. You have {lim} sec. Good luck!')\n",
        "  def ShowTime(self):\n",
        "    msg = f'Runtime is {time.time()-self.t0:.0f} sec'\n",
        "    print(f'\\033[91m\\033[1m' + msg + f' > {self.lim} sec limit!!!\\033[0m' if (time.time()-self.t0-1) > self.lim else msg)"
      ],
      "metadata": {
        "colab": {
          "base_uri": "https://localhost:8080/"
        },
        "id": "Vyp3Jf3DQz5_",
        "outputId": "3e16f217-8ac5-4c7c-e89a-f0ce20ec5f7f"
      },
      "execution_count": 164,
      "outputs": [
        {
          "output_type": "stream",
          "name": "stdout",
          "text": [
            "CPU times: user 1.58 s, sys: 89.9 ms, total: 1.67 s\n",
            "Wall time: 25.7 s\n"
          ]
        }
      ]
    },
    {
      "cell_type": "code",
      "source": [
        "!pip install catboost\n",
        "!pip install lightgbm\n",
        "!pip install xgboost\n",
        "\n",
        "from sklearn.linear_model import LogisticRegression as LR\n",
        "from sklearn.ensemble import RandomForestClassifier as RFC\n",
        "from sklearn.ensemble import GradientBoostingClassifier as GBC\n",
        "from sklearn.tree import DecisionTreeClassifier as DTC\n",
        "from sklearn.svm import SVC\n",
        "from sklearn.ensemble import StackingClassifier as SC\n",
        "from sklearn.neighbors import KNeighborsClassifier as KNC\n",
        "from sklearn.svm import LinearSVC as LSVC\n",
        "from sklearn.linear_model import SGDClassifier as SGDC\n",
        "from catboost import CatBoostClassifier as CBC\n",
        "from lightgbm import LGBMClassifier as LGBMC\n",
        "\n",
        "from sklearn.model_selection import RepeatedStratifiedKFold as RSKF\n",
        "\n",
        "from sklearn.neural_network import MLPClassifier as MLPC\n",
        "\n",
        "from sklearn.model_selection import GridSearchCV as GSCV\n",
        "from sklearn.model_selection import RandomizedSearchCV as RSCV\n",
        "from sklearn.calibration import CalibratedClassifierCV as CCCV\n"
      ],
      "metadata": {
        "colab": {
          "base_uri": "https://localhost:8080/"
        },
        "id": "mf7ks7qtHTZH",
        "outputId": "212c71f8-0a62-403b-cd8d-61ef4e3771c2"
      },
      "execution_count": 165,
      "outputs": [
        {
          "output_type": "stream",
          "name": "stdout",
          "text": [
            "Requirement already satisfied: catboost in /usr/local/lib/python3.10/dist-packages (1.2)\n",
            "Requirement already satisfied: graphviz in /usr/local/lib/python3.10/dist-packages (from catboost) (0.20.1)\n",
            "Requirement already satisfied: matplotlib in /usr/local/lib/python3.10/dist-packages (from catboost) (3.7.1)\n",
            "Requirement already satisfied: numpy>=1.16.0 in /usr/local/lib/python3.10/dist-packages (from catboost) (1.22.4)\n",
            "Requirement already satisfied: pandas>=0.24 in /usr/local/lib/python3.10/dist-packages (from catboost) (1.5.3)\n",
            "Requirement already satisfied: scipy in /usr/local/lib/python3.10/dist-packages (from catboost) (1.10.1)\n",
            "Requirement already satisfied: plotly in /usr/local/lib/python3.10/dist-packages (from catboost) (5.15.0)\n",
            "Requirement already satisfied: six in /usr/local/lib/python3.10/dist-packages (from catboost) (1.16.0)\n",
            "Requirement already satisfied: python-dateutil>=2.8.1 in /usr/local/lib/python3.10/dist-packages (from pandas>=0.24->catboost) (2.8.2)\n",
            "Requirement already satisfied: pytz>=2020.1 in /usr/local/lib/python3.10/dist-packages (from pandas>=0.24->catboost) (2022.7.1)\n",
            "Requirement already satisfied: contourpy>=1.0.1 in /usr/local/lib/python3.10/dist-packages (from matplotlib->catboost) (1.1.0)\n",
            "Requirement already satisfied: cycler>=0.10 in /usr/local/lib/python3.10/dist-packages (from matplotlib->catboost) (0.11.0)\n",
            "Requirement already satisfied: fonttools>=4.22.0 in /usr/local/lib/python3.10/dist-packages (from matplotlib->catboost) (4.40.0)\n",
            "Requirement already satisfied: kiwisolver>=1.0.1 in /usr/local/lib/python3.10/dist-packages (from matplotlib->catboost) (1.4.4)\n",
            "Requirement already satisfied: packaging>=20.0 in /usr/local/lib/python3.10/dist-packages (from matplotlib->catboost) (23.1)\n",
            "Requirement already satisfied: pillow>=6.2.0 in /usr/local/lib/python3.10/dist-packages (from matplotlib->catboost) (8.4.0)\n",
            "Requirement already satisfied: pyparsing>=2.3.1 in /usr/local/lib/python3.10/dist-packages (from matplotlib->catboost) (3.1.0)\n",
            "Requirement already satisfied: tenacity>=6.2.0 in /usr/local/lib/python3.10/dist-packages (from plotly->catboost) (8.2.2)\n",
            "Requirement already satisfied: lightgbm in /usr/local/lib/python3.10/dist-packages (3.3.5)\n",
            "Requirement already satisfied: wheel in /usr/local/lib/python3.10/dist-packages (from lightgbm) (0.40.0)\n",
            "Requirement already satisfied: numpy in /usr/local/lib/python3.10/dist-packages (from lightgbm) (1.22.4)\n",
            "Requirement already satisfied: scipy in /usr/local/lib/python3.10/dist-packages (from lightgbm) (1.10.1)\n",
            "Requirement already satisfied: scikit-learn!=0.22.0 in /usr/local/lib/python3.10/dist-packages (from lightgbm) (1.2.2)\n",
            "Requirement already satisfied: joblib>=1.1.1 in /usr/local/lib/python3.10/dist-packages (from scikit-learn!=0.22.0->lightgbm) (1.2.0)\n",
            "Requirement already satisfied: threadpoolctl>=2.0.0 in /usr/local/lib/python3.10/dist-packages (from scikit-learn!=0.22.0->lightgbm) (3.1.0)\n",
            "Requirement already satisfied: xgboost in /usr/local/lib/python3.10/dist-packages (1.7.6)\n",
            "Requirement already satisfied: numpy in /usr/local/lib/python3.10/dist-packages (from xgboost) (1.22.4)\n",
            "Requirement already satisfied: scipy in /usr/local/lib/python3.10/dist-packages (from xgboost) (1.10.1)\n"
          ]
        }
      ]
    },
    {
      "cell_type": "code",
      "source": [
        "#@title MCC\n",
        "%time mcc = pd.read_csv('_mcc.csv', index_col='mcc')"
      ],
      "metadata": {
        "id": "W_Z-89adkPhU",
        "colab": {
          "base_uri": "https://localhost:8080/"
        },
        "cellView": "form",
        "outputId": "270b1e4b-3266-4072-b3aa-9bee6f366ad4"
      },
      "execution_count": 166,
      "outputs": [
        {
          "output_type": "stream",
          "name": "stdout",
          "text": [
            "CPU times: user 6.12 ms, sys: 0 ns, total: 6.12 ms\n",
            "Wall time: 10.8 ms\n"
          ]
        }
      ]
    },
    {
      "cell_type": "code",
      "source": [
        "#@title TTC\n",
        "%time ttc = pd.read_csv('_ttc.csv', index_col='ttc');"
      ],
      "metadata": {
        "colab": {
          "base_uri": "https://localhost:8080/"
        },
        "cellView": "form",
        "id": "UC4EHEmdRUcl",
        "outputId": "185798ac-5ffe-4607-9160-a1ae468690eb"
      },
      "execution_count": 167,
      "outputs": [
        {
          "output_type": "stream",
          "name": "stdout",
          "text": [
            "CPU times: user 6.14 ms, sys: 0 ns, total: 6.14 ms\n",
            "Wall time: 7.14 ms\n"
          ]
        }
      ]
    },
    {
      "cell_type": "code",
      "source": [
        "#@title Gender\n",
        "%time gender = pd.read_csv('gender.csv', index_col='cid'); gender.T\n",
        "trainY, testY = gender.query('gender==gender'), gender.query('gender!=gender')"
      ],
      "metadata": {
        "colab": {
          "base_uri": "https://localhost:8080/",
          "height": 147
        },
        "cellView": "form",
        "id": "hWLIgd0QRUkm",
        "outputId": "6d991f7f-df09-449a-b7b6-7439b2580273"
      },
      "execution_count": 168,
      "outputs": [
        {
          "output_type": "stream",
          "name": "stdout",
          "text": [
            "CPU times: user 7.72 ms, sys: 987 µs, total: 8.7 ms\n",
            "Wall time: 10.1 ms\n"
          ]
        },
        {
          "output_type": "execute_result",
          "data": {
            "text/plain": [
              "cid     0     1     2     3     4     ...  8395  8396  8397  8398  8399\n",
              "gender   NaN   NaN   NaN   NaN   NaN  ...   0.0   0.0   1.0   0.0   0.0\n",
              "\n",
              "[1 rows x 8400 columns]"
            ],
            "text/html": [
              "\n",
              "  <div id=\"df-1ad6f9fd-9fd2-45ef-957a-a33ccada7034\">\n",
              "    <div class=\"colab-df-container\">\n",
              "      <div>\n",
              "<style scoped>\n",
              "    .dataframe tbody tr th:only-of-type {\n",
              "        vertical-align: middle;\n",
              "    }\n",
              "\n",
              "    .dataframe tbody tr th {\n",
              "        vertical-align: top;\n",
              "    }\n",
              "\n",
              "    .dataframe thead th {\n",
              "        text-align: right;\n",
              "    }\n",
              "</style>\n",
              "<table border=\"1\" class=\"dataframe\">\n",
              "  <thead>\n",
              "    <tr style=\"text-align: right;\">\n",
              "      <th>cid</th>\n",
              "      <th>0</th>\n",
              "      <th>1</th>\n",
              "      <th>2</th>\n",
              "      <th>3</th>\n",
              "      <th>4</th>\n",
              "      <th>...</th>\n",
              "      <th>8395</th>\n",
              "      <th>8396</th>\n",
              "      <th>8397</th>\n",
              "      <th>8398</th>\n",
              "      <th>8399</th>\n",
              "    </tr>\n",
              "  </thead>\n",
              "  <tbody>\n",
              "    <tr>\n",
              "      <th>gender</th>\n",
              "      <td>NaN</td>\n",
              "      <td>NaN</td>\n",
              "      <td>NaN</td>\n",
              "      <td>NaN</td>\n",
              "      <td>NaN</td>\n",
              "      <td>...</td>\n",
              "      <td>0.0</td>\n",
              "      <td>0.0</td>\n",
              "      <td>1.0</td>\n",
              "      <td>0.0</td>\n",
              "      <td>0.0</td>\n",
              "    </tr>\n",
              "  </tbody>\n",
              "</table>\n",
              "<p>1 rows × 8400 columns</p>\n",
              "</div>\n",
              "      <button class=\"colab-df-convert\" onclick=\"convertToInteractive('df-1ad6f9fd-9fd2-45ef-957a-a33ccada7034')\"\n",
              "              title=\"Convert this dataframe to an interactive table.\"\n",
              "              style=\"display:none;\">\n",
              "        \n",
              "  <svg xmlns=\"http://www.w3.org/2000/svg\" height=\"24px\"viewBox=\"0 0 24 24\"\n",
              "       width=\"24px\">\n",
              "    <path d=\"M0 0h24v24H0V0z\" fill=\"none\"/>\n",
              "    <path d=\"M18.56 5.44l.94 2.06.94-2.06 2.06-.94-2.06-.94-.94-2.06-.94 2.06-2.06.94zm-11 1L8.5 8.5l.94-2.06 2.06-.94-2.06-.94L8.5 2.5l-.94 2.06-2.06.94zm10 10l.94 2.06.94-2.06 2.06-.94-2.06-.94-.94-2.06-.94 2.06-2.06.94z\"/><path d=\"M17.41 7.96l-1.37-1.37c-.4-.4-.92-.59-1.43-.59-.52 0-1.04.2-1.43.59L10.3 9.45l-7.72 7.72c-.78.78-.78 2.05 0 2.83L4 21.41c.39.39.9.59 1.41.59.51 0 1.02-.2 1.41-.59l7.78-7.78 2.81-2.81c.8-.78.8-2.07 0-2.86zM5.41 20L4 18.59l7.72-7.72 1.47 1.35L5.41 20z\"/>\n",
              "  </svg>\n",
              "      </button>\n",
              "      \n",
              "  <style>\n",
              "    .colab-df-container {\n",
              "      display:flex;\n",
              "      flex-wrap:wrap;\n",
              "      gap: 12px;\n",
              "    }\n",
              "\n",
              "    .colab-df-convert {\n",
              "      background-color: #E8F0FE;\n",
              "      border: none;\n",
              "      border-radius: 50%;\n",
              "      cursor: pointer;\n",
              "      display: none;\n",
              "      fill: #1967D2;\n",
              "      height: 32px;\n",
              "      padding: 0 0 0 0;\n",
              "      width: 32px;\n",
              "    }\n",
              "\n",
              "    .colab-df-convert:hover {\n",
              "      background-color: #E2EBFA;\n",
              "      box-shadow: 0px 1px 2px rgba(60, 64, 67, 0.3), 0px 1px 3px 1px rgba(60, 64, 67, 0.15);\n",
              "      fill: #174EA6;\n",
              "    }\n",
              "\n",
              "    [theme=dark] .colab-df-convert {\n",
              "      background-color: #3B4455;\n",
              "      fill: #D2E3FC;\n",
              "    }\n",
              "\n",
              "    [theme=dark] .colab-df-convert:hover {\n",
              "      background-color: #434B5C;\n",
              "      box-shadow: 0px 1px 3px 1px rgba(0, 0, 0, 0.15);\n",
              "      filter: drop-shadow(0px 1px 2px rgba(0, 0, 0, 0.3));\n",
              "      fill: #FFFFFF;\n",
              "    }\n",
              "  </style>\n",
              "\n",
              "      <script>\n",
              "        const buttonEl =\n",
              "          document.querySelector('#df-1ad6f9fd-9fd2-45ef-957a-a33ccada7034 button.colab-df-convert');\n",
              "        buttonEl.style.display =\n",
              "          google.colab.kernel.accessAllowed ? 'block' : 'none';\n",
              "\n",
              "        async function convertToInteractive(key) {\n",
              "          const element = document.querySelector('#df-1ad6f9fd-9fd2-45ef-957a-a33ccada7034');\n",
              "          const dataTable =\n",
              "            await google.colab.kernel.invokeFunction('convertToInteractive',\n",
              "                                                     [key], {});\n",
              "          if (!dataTable) return;\n",
              "\n",
              "          const docLinkHtml = 'Like what you see? Visit the ' +\n",
              "            '<a target=\"_blank\" href=https://colab.research.google.com/notebooks/data_table.ipynb>data table notebook</a>'\n",
              "            + ' to learn more about interactive tables.';\n",
              "          element.innerHTML = '';\n",
              "          dataTable['output_type'] = 'display_data';\n",
              "          await google.colab.output.renderOutput(dataTable, element);\n",
              "          const docLink = document.createElement('div');\n",
              "          docLink.innerHTML = docLinkHtml;\n",
              "          element.appendChild(docLink);\n",
              "        }\n",
              "      </script>\n",
              "    </div>\n",
              "  </div>\n",
              "  "
            ]
          },
          "metadata": {},
          "execution_count": 168
        }
      ]
    },
    {
      "cell_type": "code",
      "source": [
        "#@title TRX\n",
        "%time dfTrx = pd.read_csv('trx.csv').sort_values(['cid','dt','tm'])"
      ],
      "metadata": {
        "colab": {
          "base_uri": "https://localhost:8080/"
        },
        "cellView": "form",
        "id": "y3dT50Q4RUsI",
        "outputId": "bacf09a0-fcd1-4ad5-f2cc-f33cc736fb22"
      },
      "execution_count": 169,
      "outputs": [
        {
          "output_type": "stream",
          "name": "stdout",
          "text": [
            "CPU times: user 9.75 s, sys: 1.04 s, total: 10.8 s\n",
            "Wall time: 17.6 s\n"
          ]
        }
      ]
    },
    {
      "cell_type": "code",
      "source": [
        "df_ = gender.drop('gender', axis=1); df_.T  # a list of ordered client IDs (as index)\n",
        "\n",
        "pd.set_option('display.max_colwidth', 100, 'display.max_columns', 20, 'display.width', 1000, 'display.max_rows', 4)\n",
        "tmr = Timer() # runtime limit (in seconds). Add all of your code after the timer"
      ],
      "metadata": {
        "colab": {
          "base_uri": "https://localhost:8080/",
          "height": 97
        },
        "id": "H4xnvYxmriVx",
        "outputId": "6d95d3a2-dd71-4a4b-c62a-e26646ecdbca"
      },
      "execution_count": 170,
      "outputs": [
        {
          "output_type": "execute_result",
          "data": {
            "text/plain": [
              "Empty DataFrame\n",
              "Columns: [0, 1, 2, 3, 4, 5, 6, 7, 8, 9, 10, 11, 12, 13, 14, 15, 16, 17, 18, 19, 20, 21, 22, 23, 24, 25, 26, 27, 28, 29, 30, 31, 32, 33, 34, 35, 36, 37, 38, 39, 40, 41, 42, 43, 44, 45, 46, 47, 48, 49, 50, 51, 52, 53, 54, 55, 56, 57, 58, 59, 60, 61, 62, 63, 64, 65, 66, 67, 68, 69, 70, 71, 72, 73, 74, 75, 76, 77, 78, 79, 80, 81, 82, 83, 84, 85, 86, 87, 88, 89, 90, 91, 92, 93, 94, 95, 96, 97, 98, 99, ...]\n",
              "Index: []\n",
              "\n",
              "[0 rows x 8400 columns]"
            ],
            "text/html": [
              "\n",
              "  <div id=\"df-c80f9c97-bba1-40dc-9ed8-5c1d03913109\">\n",
              "    <div class=\"colab-df-container\">\n",
              "      <div>\n",
              "<style scoped>\n",
              "    .dataframe tbody tr th:only-of-type {\n",
              "        vertical-align: middle;\n",
              "    }\n",
              "\n",
              "    .dataframe tbody tr th {\n",
              "        vertical-align: top;\n",
              "    }\n",
              "\n",
              "    .dataframe thead th {\n",
              "        text-align: right;\n",
              "    }\n",
              "</style>\n",
              "<table border=\"1\" class=\"dataframe\">\n",
              "  <thead>\n",
              "    <tr style=\"text-align: right;\">\n",
              "      <th>cid</th>\n",
              "      <th>0</th>\n",
              "      <th>1</th>\n",
              "      <th>2</th>\n",
              "      <th>3</th>\n",
              "      <th>4</th>\n",
              "      <th>...</th>\n",
              "      <th>8395</th>\n",
              "      <th>8396</th>\n",
              "      <th>8397</th>\n",
              "      <th>8398</th>\n",
              "      <th>8399</th>\n",
              "    </tr>\n",
              "  </thead>\n",
              "  <tbody>\n",
              "  </tbody>\n",
              "</table>\n",
              "<p>0 rows × 8400 columns</p>\n",
              "</div>\n",
              "      <button class=\"colab-df-convert\" onclick=\"convertToInteractive('df-c80f9c97-bba1-40dc-9ed8-5c1d03913109')\"\n",
              "              title=\"Convert this dataframe to an interactive table.\"\n",
              "              style=\"display:none;\">\n",
              "        \n",
              "  <svg xmlns=\"http://www.w3.org/2000/svg\" height=\"24px\"viewBox=\"0 0 24 24\"\n",
              "       width=\"24px\">\n",
              "    <path d=\"M0 0h24v24H0V0z\" fill=\"none\"/>\n",
              "    <path d=\"M18.56 5.44l.94 2.06.94-2.06 2.06-.94-2.06-.94-.94-2.06-.94 2.06-2.06.94zm-11 1L8.5 8.5l.94-2.06 2.06-.94-2.06-.94L8.5 2.5l-.94 2.06-2.06.94zm10 10l.94 2.06.94-2.06 2.06-.94-2.06-.94-.94-2.06-.94 2.06-2.06.94z\"/><path d=\"M17.41 7.96l-1.37-1.37c-.4-.4-.92-.59-1.43-.59-.52 0-1.04.2-1.43.59L10.3 9.45l-7.72 7.72c-.78.78-.78 2.05 0 2.83L4 21.41c.39.39.9.59 1.41.59.51 0 1.02-.2 1.41-.59l7.78-7.78 2.81-2.81c.8-.78.8-2.07 0-2.86zM5.41 20L4 18.59l7.72-7.72 1.47 1.35L5.41 20z\"/>\n",
              "  </svg>\n",
              "      </button>\n",
              "      \n",
              "  <style>\n",
              "    .colab-df-container {\n",
              "      display:flex;\n",
              "      flex-wrap:wrap;\n",
              "      gap: 12px;\n",
              "    }\n",
              "\n",
              "    .colab-df-convert {\n",
              "      background-color: #E8F0FE;\n",
              "      border: none;\n",
              "      border-radius: 50%;\n",
              "      cursor: pointer;\n",
              "      display: none;\n",
              "      fill: #1967D2;\n",
              "      height: 32px;\n",
              "      padding: 0 0 0 0;\n",
              "      width: 32px;\n",
              "    }\n",
              "\n",
              "    .colab-df-convert:hover {\n",
              "      background-color: #E2EBFA;\n",
              "      box-shadow: 0px 1px 2px rgba(60, 64, 67, 0.3), 0px 1px 3px 1px rgba(60, 64, 67, 0.15);\n",
              "      fill: #174EA6;\n",
              "    }\n",
              "\n",
              "    [theme=dark] .colab-df-convert {\n",
              "      background-color: #3B4455;\n",
              "      fill: #D2E3FC;\n",
              "    }\n",
              "\n",
              "    [theme=dark] .colab-df-convert:hover {\n",
              "      background-color: #434B5C;\n",
              "      box-shadow: 0px 1px 3px 1px rgba(0, 0, 0, 0.15);\n",
              "      filter: drop-shadow(0px 1px 2px rgba(0, 0, 0, 0.3));\n",
              "      fill: #FFFFFF;\n",
              "    }\n",
              "  </style>\n",
              "\n",
              "      <script>\n",
              "        const buttonEl =\n",
              "          document.querySelector('#df-c80f9c97-bba1-40dc-9ed8-5c1d03913109 button.colab-df-convert');\n",
              "        buttonEl.style.display =\n",
              "          google.colab.kernel.accessAllowed ? 'block' : 'none';\n",
              "\n",
              "        async function convertToInteractive(key) {\n",
              "          const element = document.querySelector('#df-c80f9c97-bba1-40dc-9ed8-5c1d03913109');\n",
              "          const dataTable =\n",
              "            await google.colab.kernel.invokeFunction('convertToInteractive',\n",
              "                                                     [key], {});\n",
              "          if (!dataTable) return;\n",
              "\n",
              "          const docLinkHtml = 'Like what you see? Visit the ' +\n",
              "            '<a target=\"_blank\" href=https://colab.research.google.com/notebooks/data_table.ipynb>data table notebook</a>'\n",
              "            + ' to learn more about interactive tables.';\n",
              "          element.innerHTML = '';\n",
              "          dataTable['output_type'] = 'display_data';\n",
              "          await google.colab.output.renderOutput(dataTable, element);\n",
              "          const docLink = document.createElement('div');\n",
              "          docLink.innerHTML = docLinkHtml;\n",
              "          element.appendChild(docLink);\n",
              "        }\n",
              "      </script>\n",
              "    </div>\n",
              "  </div>\n",
              "  "
            ]
          },
          "metadata": {},
          "execution_count": 170
        },
        {
          "output_type": "stream",
          "name": "stdout",
          "text": [
            "⏳ started. You have 120 sec. Good luck!\n"
          ]
        }
      ]
    },
    {
      "cell_type": "markdown",
      "source": [
        "# **Interesting**"
      ],
      "metadata": {
        "id": "4j3DZA3NrpEQ"
      }
    },
    {
      "cell_type": "code",
      "source": [
        "df_test = dfTrx.join(gender, on='cid', how='inner')\n",
        "df_test = df_test[~df_test.gender.isna()]"
      ],
      "metadata": {
        "id": "8OUnddXRvFpH"
      },
      "execution_count": 259,
      "outputs": []
    },
    {
      "cell_type": "code",
      "source": [
        "#@title MCC\n",
        "\n",
        "mcc_list = list(set(df_test.mcc))\n",
        "df_mcc = pd.DataFrame({'mcc': mcc_list})\n",
        "\n",
        "zero = df_test[df_test.gender == 0][['cid', 'mcc']].drop_duplicates().groupby('mcc').agg('size').fillna(0)\n",
        "zero = df_mcc.join(pd.DataFrame({'zero': zero}), on='mcc', how='outer').fillna(0)\n",
        "one = df_test[df_test.gender == 1][['cid', 'mcc']].drop_duplicates().groupby('mcc').agg('size').fillna(0)\n",
        "one = df_mcc.join(pd.DataFrame({'one': one}), on='mcc', how='outer').fillna(0)\n",
        "\n",
        "df_mcc = df_mcc.join(pd.DataFrame({'count': (zero.zero + one.one)}), on='mcc', how='left').join(pd.DataFrame({'%': zero.zero / (zero.zero + one.one) * 100}), on='mcc', how='left')\n",
        "\n",
        "interesting_mcc = set(df_mcc[(df_mcc['count'] > 100) & ((df_mcc['%'] > 70) | (df_mcc['%'] < 30))].mcc)\n",
        "\n",
        "interesting_mcc"
      ],
      "metadata": {
        "colab": {
          "base_uri": "https://localhost:8080/"
        },
        "id": "x4oQ4AhXt29o",
        "outputId": "9a772328-1c87-4af1-f9da-6c4cfeb09181"
      },
      "execution_count": 260,
      "outputs": [
        {
          "output_type": "execute_result",
          "data": {
            "text/plain": [
              "{62, 63, 70, 71, 82, 106, 149, 150, 161}"
            ]
          },
          "metadata": {},
          "execution_count": 260
        }
      ]
    },
    {
      "cell_type": "code",
      "source": [
        "#@title TTC\n",
        "\n",
        "ttc_list = list(set(df_test.ttc))\n",
        "df_ttc = pd.DataFrame({'ttc': ttc_list})\n",
        "\n",
        "zero = df_test[df_test.gender == 0][['cid', 'ttc']].drop_duplicates().groupby('ttc').agg('size').fillna(0)\n",
        "zero = df_ttc.join(pd.DataFrame({'zero': zero}), on='ttc', how='outer').fillna(0)\n",
        "one = df_test[df_test.gender == 1][['cid', 'ttc']].drop_duplicates().groupby('ttc').agg('size').fillna(0)\n",
        "one = df_ttc.join(pd.DataFrame({'one': one}), on='ttc', how='outer').fillna(0)\n",
        "\n",
        "df_ttc = df_ttc.join(pd.DataFrame({'count': (zero.zero + one.one)}), on='ttc', how='left').join(pd.DataFrame({'%': zero.zero / (zero.zero + one.one) * 100}), on='ttc', how='left')\n",
        "\n",
        "interesting_ttc = set(df_ttc[(df_ttc['count'] > 100) & ((df_ttc['%'] > 70) | (df_ttc['%'] < 30))].ttc)\n",
        "\n",
        "interesting_ttc"
      ],
      "metadata": {
        "colab": {
          "base_uri": "https://localhost:8080/"
        },
        "id": "K_1c9qFV5S9N",
        "outputId": "386c1592-2090-4208-b3ff-958f165f9311"
      },
      "execution_count": 261,
      "outputs": [
        {
          "output_type": "execute_result",
          "data": {
            "text/plain": [
              "set()"
            ]
          },
          "metadata": {},
          "execution_count": 261
        }
      ]
    },
    {
      "cell_type": "code",
      "source": [
        "#@title TID\n",
        "\n",
        "tid_list = list(set(df_test.tid))\n",
        "df_tid = pd.DataFrame({'tid': tid_list})\n",
        "\n",
        "zero = df_test[df_test.gender == 0][['cid', 'tid']].drop_duplicates().groupby('tid').agg('size').fillna(0)\n",
        "zero = df_tid.join(pd.DataFrame({'gender': zero}), on='tid', how='outer').fillna(0)\n",
        "one = df_test[df_test.gender == 1][['cid', 'tid']].drop_duplicates().groupby('tid').agg('size').fillna(0)\n",
        "one = df_tid.join(pd.DataFrame({'gender': one}), on='tid', how='outer').fillna(0)\n",
        "\n",
        "df_tid = df_tid.join(zero.gender + one.gender).rename(columns = {'gender': 'count'}).join(zero.gender / (zero.gender + one.gender) * 100).rename(columns = {'gender': '%'})\n",
        "\n",
        "interesting_tid = set(df_tid[(df_tid['count'] > 100) & ((df_tid['%'] > 70) | (df_tid['%'] < 30))].tid)\n",
        "\n",
        "len(interesting_tid)\n",
        "# df_tid[(df_tid['count'] > 100) & ((df_tid['%'] > 70) | (df_tid['%'] < 30))]"
      ],
      "metadata": {
        "colab": {
          "base_uri": "https://localhost:8080/"
        },
        "id": "5x3KtaJS5TV-",
        "outputId": "e0fc8835-6041-4aa2-f940-8a5047b33e95"
      },
      "execution_count": 262,
      "outputs": [
        {
          "output_type": "execute_result",
          "data": {
            "text/plain": [
              "5"
            ]
          },
          "metadata": {},
          "execution_count": 262
        }
      ]
    },
    {
      "cell_type": "markdown",
      "source": [
        "# **My Code**"
      ],
      "metadata": {
        "id": "eXtjhdu1RqiZ"
      }
    },
    {
      "cell_type": "code",
      "source": [
        "#@title Настройки\n",
        "\n",
        "large_count = 2000\n",
        "large_sum = -1000000000\n",
        "\n",
        "k = 1\n",
        "k1 = 0.8\n",
        "k2 = 0.85\n",
        "# k3 = 1.25\n",
        "k3 = 8"
      ],
      "metadata": {
        "id": "z1dKD398AbLW"
      },
      "execution_count": 309,
      "outputs": []
    },
    {
      "cell_type": "code",
      "source": [
        "#@title Определение наиболее используемых mcc\n",
        "%%time\n",
        "mcc_by_cid = dfTrx[['cid', 'mcc']].drop_duplicates().astype({'mcc': str}).groupby('cid').agg({'mcc': ' '.join}).sort_values('cid')\n",
        "\n",
        "large_mcc_count = dfTrx[['cid', 'mcc']].drop_duplicates().groupby('mcc').agg({'cid': 'size'}).sort_values(by = 'cid')\n",
        "large_mcc_sum = dfTrx[['amt', 'mcc']].groupby('mcc').agg('sum').sort_values(by = 'amt')\n",
        "\n",
        "most_popular_mcc = set(large_mcc_count[large_mcc_count.cid > large_count * k1].index.to_list()) | set(large_mcc_sum[large_mcc_sum.amt < large_sum * k1].index.to_list()) | set([123, 125, 130])\n",
        "len(most_popular_mcc)"
      ],
      "metadata": {
        "colab": {
          "base_uri": "https://localhost:8080/"
        },
        "id": "L0vNyX1yRvpO",
        "outputId": "6b4524e5-c428-4d6b-d34a-d1595999de7a"
      },
      "execution_count": 310,
      "outputs": [
        {
          "output_type": "stream",
          "name": "stdout",
          "text": [
            "CPU times: user 1.07 s, sys: 173 ms, total: 1.24 s\n",
            "Wall time: 1.73 s\n"
          ]
        },
        {
          "output_type": "execute_result",
          "data": {
            "text/plain": [
              "36"
            ]
          },
          "metadata": {},
          "execution_count": 310
        }
      ]
    },
    {
      "cell_type": "code",
      "source": [
        "#@title Определение наиболее используемых ttc\n",
        "%%time\n",
        "ttc_by_cid = dfTrx[['cid', 'ttc']].drop_duplicates().astype({'ttc': str}).groupby('cid').agg({'ttc': ' '.join}).sort_values('cid')\n",
        "\n",
        "large_ttc_count = dfTrx[['cid', 'ttc']].drop_duplicates().groupby('ttc').agg({'cid': 'size'}).sort_values(by = 'cid')\n",
        "large_ttc_sum = dfTrx[['amt', 'ttc']].groupby('ttc').agg('sum').sort_values(by = 'amt')\n",
        "\n",
        "most_popular_ttc = set(large_ttc_count[large_ttc_count.cid > large_count * k2].index.to_list()) | set(large_ttc_sum[(large_ttc_sum.amt < large_sum * k2) | (large_ttc_sum.amt > 1000000000)].index.to_list())\n",
        "len(most_popular_ttc)"
      ],
      "metadata": {
        "colab": {
          "base_uri": "https://localhost:8080/"
        },
        "id": "v6rcZVpm72yq",
        "outputId": "034c0311-fa01-4668-c368-7c856537a350"
      },
      "execution_count": 311,
      "outputs": [
        {
          "output_type": "stream",
          "name": "stdout",
          "text": [
            "CPU times: user 999 ms, sys: 196 ms, total: 1.19 s\n",
            "Wall time: 1.23 s\n"
          ]
        },
        {
          "output_type": "execute_result",
          "data": {
            "text/plain": [
              "25"
            ]
          },
          "metadata": {},
          "execution_count": 311
        }
      ]
    },
    {
      "cell_type": "code",
      "source": [
        "#@title Определение наиболее используемых tid\n",
        "%%time\n",
        "tid_by_cid = dfTrx[['cid', 'tid']].drop_duplicates().astype({'tid': str}).groupby('cid').agg({'tid': ' '.join}).sort_values('cid')\n",
        "\n",
        "large_tid_count = dfTrx[['cid', 'tid']].drop_duplicates().groupby('tid').agg({'cid': 'size'}).sort_values(by = 'cid')\n",
        "large_tid_sum = dfTrx[['amt', 'tid']].groupby('tid').agg('sum').sort_values(by = 'amt')\n",
        "\n",
        "most_popular_tid = set(large_tid_count[large_tid_count.cid > large_count * k3].index.to_list()) | set(large_tid_sum[(large_tid_sum.amt < large_sum * k3) | (large_tid_sum.amt > 1000000000)].index.to_list())\n",
        "len(most_popular_tid)"
      ],
      "metadata": {
        "colab": {
          "base_uri": "https://localhost:8080/"
        },
        "id": "ok_E-Mzqlo7B",
        "outputId": "f14bb3e5-29e4-4f4c-e646-b6881897bc6c"
      },
      "execution_count": 312,
      "outputs": [
        {
          "output_type": "stream",
          "name": "stdout",
          "text": [
            "CPU times: user 5.49 s, sys: 203 ms, total: 5.69 s\n",
            "Wall time: 5.76 s\n"
          ]
        },
        {
          "output_type": "execute_result",
          "data": {
            "text/plain": [
              "0"
            ]
          },
          "metadata": {},
          "execution_count": 312
        }
      ]
    },
    {
      "cell_type": "markdown",
      "source": [
        "# **Начало создания df по cid**"
      ],
      "metadata": {
        "id": "4nJdyJPREIdF"
      }
    },
    {
      "cell_type": "code",
      "source": [
        "#@title Сумма\n",
        "\n",
        "def s(to_df):\n",
        "    return to_df / to_df.sum(axis=0)\n",
        "    # return to_df / np.sqrt((to_df**2).sum(axis=0))\n",
        "    # return to_df / (np.sqrt(to_df**2)).sum(axis=0)"
      ],
      "metadata": {
        "id": "pyECsCrF-42V"
      },
      "execution_count": 313,
      "outputs": []
    },
    {
      "cell_type": "code",
      "source": [
        "#@title Настройки\n",
        "\n",
        "stat = ['count', 'sum', 'median']\n",
        "is_PCA = 0"
      ],
      "metadata": {
        "cellView": "form",
        "id": "j4aGrQn8mTuZ"
      },
      "execution_count": 314,
      "outputs": []
    },
    {
      "cell_type": "code",
      "source": [
        "%%time\n",
        "df = df_.copy(deep=True)"
      ],
      "metadata": {
        "colab": {
          "base_uri": "https://localhost:8080/"
        },
        "id": "QwMMyMuuaMSi",
        "outputId": "7d0b0704-a99a-492c-ded9-e8a8cb3e0188"
      },
      "execution_count": 315,
      "outputs": [
        {
          "output_type": "stream",
          "name": "stdout",
          "text": [
            "CPU times: user 179 µs, sys: 11 µs, total: 190 µs\n",
            "Wall time: 198 µs\n"
          ]
        }
      ]
    },
    {
      "cell_type": "code",
      "source": [
        "#@title MCC\n",
        "%%time\n",
        "to_df = df_.copy(deep=True)\n",
        "\n",
        "for mcc_index in (most_popular_mcc - interesting_mcc):\n",
        "    stat_amt_by_cid_and_mcc = dfTrx[dfTrx.mcc == mcc_index][['cid', 'amt']].groupby('cid').agg(stat).sort_values(by = 'cid').add_prefix('').droplevel(0, axis='columns')\n",
        "    stat_amt_by_cid_and_mcc.columns += '_' + str(mcc_index) + '_mcc'\n",
        "    to_df = to_df.join(stat_amt_by_cid_and_mcc, how='left')\n",
        "\n",
        "stat_by_other_mcc = dfTrx[~dfTrx.mcc.isin(most_popular_mcc or interesting_mcc)][['cid', 'amt']].groupby('cid').agg(stat).sort_values(by = 'cid').add_prefix('').droplevel(0, axis='columns')\n",
        "stat_by_other_mcc.columns += '_mcc'\n",
        "to_df = to_df.join(stat_by_other_mcc, how='left')\n",
        "\n",
        "to_df = s(to_df) * 75\n",
        "df = df.join(to_df, on = 'cid', how='left')\n",
        "to_df = df_.copy(deep=True)\n",
        "\n",
        "for mcc_index in interesting_mcc:\n",
        "    stat_amt_by_cid_and_mcc = dfTrx[dfTrx.mcc == mcc_index][['cid', 'amt']].groupby('cid').agg(stat).sort_values(by = 'cid').add_prefix('').droplevel(0, axis='columns')\n",
        "    stat_amt_by_cid_and_mcc.columns += '_' + str(mcc_index) + '_mcc'\n",
        "    to_df = to_df.join(stat_amt_by_cid_and_mcc, how='left')\n",
        "\n",
        "to_df = s(to_df) * 200\n",
        "df = df.join(to_df, on = 'cid', how='left')"
      ],
      "metadata": {
        "colab": {
          "base_uri": "https://localhost:8080/"
        },
        "cellView": "form",
        "id": "TOqu0UVHD9Nf",
        "outputId": "79d162b7-cf90-428c-a1ca-335a5c102791"
      },
      "execution_count": 316,
      "outputs": [
        {
          "output_type": "stream",
          "name": "stdout",
          "text": [
            "CPU times: user 2.1 s, sys: 11.4 ms, total: 2.11 s\n",
            "Wall time: 2.12 s\n"
          ]
        }
      ]
    },
    {
      "cell_type": "code",
      "source": [
        "#@title TTC\n",
        "%%time\n",
        "to_df = df_.copy(deep=True)\n",
        "\n",
        "for ttc_index in (most_popular_ttc - interesting_ttc):\n",
        "    stat_amt_by_cid_and_ttc = dfTrx[dfTrx.ttc == ttc_index][['cid', 'amt']].groupby('cid').agg(stat).sort_values(by = 'cid').add_prefix('').droplevel(0, axis='columns')\n",
        "    stat_amt_by_cid_and_ttc.columns += '_' + str(ttc_index) + '_ttc'\n",
        "    to_df = to_df.join(stat_amt_by_cid_and_ttc, how='left')\n",
        "\n",
        "stat_by_other_ttc = dfTrx[~dfTrx.ttc.isin(most_popular_ttc or interesting_ttc)][['cid', 'amt']].groupby('cid').agg(stat).sort_values(by = 'cid').add_prefix('').droplevel(0, axis='columns')\n",
        "stat_by_other_ttc.columns += '_ttc'\n",
        "to_df = to_df.join(stat_by_other_ttc, how='left')\n",
        "\n",
        "to_df = s(to_df) * 1/2\n",
        "df = df.join(to_df, on = 'cid', how='left')\n",
        "to_df = df_.copy(deep=True)\n",
        "\n",
        "for ttc_index in (interesting_ttc):\n",
        "    stat_amt_by_cid_and_ttc = dfTrx[dfTrx.ttc == ttc_index][['cid', 'amt']].groupby('cid').agg(stat).sort_values(by = 'cid').add_prefix('').droplevel(0, axis='columns')\n",
        "    stat_amt_by_cid_and_ttc.columns += '_' + str(ttc_index) + '_ttc'\n",
        "    to_df = to_df.join(stat_amt_by_cid_and_ttc, how='left')\n",
        "\n",
        "to_df = s(to_df) * 50\n",
        "df = df.join(to_df, on = 'cid', how='left')"
      ],
      "metadata": {
        "colab": {
          "base_uri": "https://localhost:8080/"
        },
        "id": "WaaRakspD0Ch",
        "outputId": "eafc9a55-3826-4d17-f8e2-59103f4e4e56"
      },
      "execution_count": 317,
      "outputs": [
        {
          "output_type": "stream",
          "name": "stdout",
          "text": [
            "CPU times: user 1.73 s, sys: 5.29 ms, total: 1.74 s\n",
            "Wall time: 1.75 s\n"
          ]
        }
      ]
    },
    {
      "cell_type": "code",
      "source": [
        "#@title AMT\n",
        "\n",
        "to_df = df_.copy(deep=True)\n",
        "\n",
        "to_df = dfTrx[['cid', 'amt']].groupby('cid').agg(stat).add_prefix('').droplevel(0, axis='columns')\n",
        "to_df = df_.join(to_df, how='left').fillna(0)\n",
        "\n",
        "to_df = s(to_df) * 2/3\n",
        "df = df.join(to_df, on = 'cid', how='left')"
      ],
      "metadata": {
        "id": "KBCmo_hEjiid"
      },
      "execution_count": 318,
      "outputs": []
    },
    {
      "cell_type": "code",
      "source": [
        "#@title Time\n",
        "%%time\n",
        "to_df = df_.copy(deep=True)\n",
        "\n",
        "for hour in range(0, 1):\n",
        "    stat_amt_by_cid_and_hour = dfTrx[dfTrx.tm == hour][['cid', 'amt']].groupby('cid').agg(stat).sort_values(by = 'cid').add_prefix('').droplevel(0, axis='columns')\n",
        "    stat_amt_by_cid_and_hour.columns += '_' + str(hour) + '_hour'\n",
        "    to_df = to_df.join(stat_amt_by_cid_and_hour, how='left')\n",
        "\n",
        "to_df = s(to_df) * 2\n",
        "df = df.join(to_df, on = 'cid', how='left')\n",
        "to_df = df_.copy(deep=True)\n",
        "\n",
        "for hour in range(1, 9):\n",
        "    stat_amt_by_cid_and_hour = dfTrx[dfTrx.tm == hour][['cid', 'amt']].groupby('cid').agg(stat).sort_values(by = 'cid').add_prefix('').droplevel(0, axis='columns')\n",
        "    stat_amt_by_cid_and_hour.columns += '_' + str(hour) + '_hour'\n",
        "    to_df = to_df.join(stat_amt_by_cid_and_hour, how='left')\n",
        "\n",
        "to_df = s(to_df)\n",
        "df = df.join(to_df, on = 'cid', how='left')\n",
        "\n",
        "\n",
        "# to_df = df_.copy(deep=True)\n",
        "\n",
        "# for hour in range(9, 24):\n",
        "#     stat_amt_by_cid_and_hour = dfTrx[dfTrx.tm == hour][['cid', 'amt']].groupby('cid').agg(stat).sort_values(by = 'cid').add_prefix('').droplevel(0, axis='columns')\n",
        "#     stat_amt_by_cid_and_hour.columns += '_' + str(hour) + '_hour'\n",
        "#     to_df = to_df.join(stat_amt_by_cid_and_hour, how='left')\n",
        "\n",
        "# # to_df = pd.DataFrame(PCA(n_components=(to_df.shape[1] // 2), random_state=0).fit_transform(to_df.fillna(0).astype('int')))\n",
        "# # to_df.columns += df.shape[1]\n",
        "\n",
        "# to_df = s(to_df)\n",
        "# df = df.join(to_df, on = 'cid', how='left')"
      ],
      "metadata": {
        "colab": {
          "base_uri": "https://localhost:8080/"
        },
        "id": "HbFnHk8L6wWY",
        "outputId": "27da4425-a55a-4e21-8334-f67794aa04fb"
      },
      "execution_count": 319,
      "outputs": [
        {
          "output_type": "stream",
          "name": "stdout",
          "text": [
            "CPU times: user 3.49 s, sys: 26.5 ms, total: 3.52 s\n",
            "Wall time: 3.52 s\n"
          ]
        }
      ]
    },
    {
      "cell_type": "code",
      "source": [
        "#@title Date\n",
        "%%time\n",
        "to_df = df_.copy(deep=True)\n",
        "\n",
        "# for weekday in range(7):\n",
        "#     sum_amt_by_cid_and_weekday = dfTrx[dfTrx.dt % 7 == weekday][['cid', 'amt']].groupby('cid').agg({'amt': 'sum'}).sort_values(by = 'cid')\n",
        "#     to_df = to_df.join(sum_amt_by_cid_and_weekday.amt, on = 'cid', how='left').rename(columns = {'amt': str(weekday) + '_wd'})\n",
        "\n",
        "for weekday in [0, 3, 4, 5, 6]:\n",
        "    stat_amt_by_cid_and_weekday = dfTrx[dfTrx.dt % 7 == weekday][['cid', 'amt']].groupby('cid').agg(stat).sort_values(by = 'cid').add_prefix('').droplevel(0, axis='columns')\n",
        "    stat_amt_by_cid_and_weekday.columns += '_' + str(weekday) + '_wd'\n",
        "    to_df = to_df.join(stat_amt_by_cid_and_weekday, on = 'cid', how='left')\n",
        "# to_df = pd.DataFrame(PCA(n_components=(to_df.shape[1] // 2), random_state=0).fit_transform(to_df.fillna(0).astype('int')))\n",
        "# to_df.columns += df.shape[1]\n",
        "# to_df = pd.DataFrame(to_df.sum(axis=1))\n",
        "to_df = s(to_df)\n",
        "df = df.join(to_df, on = 'cid', how='left')\n",
        "to_df = df_.copy(deep=True)\n",
        "\n",
        "for weekday in [1, 2]:\n",
        "    stat_amt_by_cid_and_weekday = dfTrx[dfTrx.dt % 7 == weekday][['cid', 'amt']].groupby('cid').agg(stat).sort_values(by = 'cid').add_prefix('').droplevel(0, axis='columns')\n",
        "    stat_amt_by_cid_and_weekday.columns += '_' + str(weekday) + '_wd'\n",
        "    to_df = to_df.join(stat_amt_by_cid_and_weekday, on = 'cid', how='left')\n",
        "\n",
        "\n",
        "# to_df = pd.DataFrame(PCA(n_components=(to_df.shape[1] // 3), random_state=0).fit_transform(to_df.fillna(0).astype('int')))\n",
        "# to_df.columns += df.shape[1]\n",
        "to_df = s(to_df)\n",
        "df = df.join(to_df, on = 'cid', how='left')"
      ],
      "metadata": {
        "colab": {
          "base_uri": "https://localhost:8080/"
        },
        "id": "pi5ZHB0nn1oo",
        "outputId": "95c247ed-b82b-4073-8980-6645c8ec5180"
      },
      "execution_count": 320,
      "outputs": [
        {
          "output_type": "stream",
          "name": "stdout",
          "text": [
            "CPU times: user 1.68 s, sys: 14.9 ms, total: 1.69 s\n",
            "Wall time: 1.72 s\n"
          ]
        }
      ]
    },
    {
      "cell_type": "code",
      "source": [
        "#@title TID\n",
        "# to_df = df_.copy(deep=True)\n",
        "\n",
        "# for tid_index in (most_popular_tid - interesting_tid):\n",
        "#     stat_amt_by_cid_and_tid = dfTrx[dfTrx.tid == tid_index][['cid', 'amt']].groupby('cid').agg(stat).sort_values(by = 'cid').add_prefix('').droplevel(0, axis='columns')\n",
        "#     stat_amt_by_cid_and_tid.columns += '_' + str(tid_index) + '_tid'\n",
        "#     to_df = to_df.join(stat_amt_by_cid_and_tid, how='left')\n",
        "\n",
        "# stat_by_other_tid = dfTrx[~dfTrx.tid.isin(most_popular_tid | interesting_tid)][['cid', 'amt']].groupby('cid').agg(stat).sort_values(by = 'cid').add_prefix('').droplevel(0, axis='columns')\n",
        "# stat_by_other_tid.columns += '_tid'\n",
        "# to_df = to_df.join(stat_by_other_tid, how='left')\n",
        "\n",
        "# to_df = s(to_df)\n",
        "# df = df.join(to_df, on = 'cid', how='left')\n",
        "to_df = df_.copy(deep=True)\n",
        "\n",
        "for tid_index in (interesting_tid):\n",
        "    stat_amt_by_cid_and_tid = dfTrx[dfTrx.tid == tid_index][['cid', 'amt']].groupby('cid').agg(stat).sort_values(by = 'cid').add_prefix('').droplevel(0, axis='columns')\n",
        "    stat_amt_by_cid_and_tid.columns += '_' + str(tid_index) + '_tid'\n",
        "    to_df = to_df.join(stat_amt_by_cid_and_tid, how='left')\n",
        "\n",
        "to_df = s(to_df) * 50\n",
        "df = df.join(to_df, on = 'cid', how='left')"
      ],
      "metadata": {
        "id": "XnFbbfIwlkJI"
      },
      "execution_count": 321,
      "outputs": []
    },
    {
      "cell_type": "code",
      "source": [
        "df = df.fillna(0).astype('float')\n",
        "df.columns = [str(c) for c in df.columns]"
      ],
      "metadata": {
        "id": "llG860pRw-0L"
      },
      "execution_count": 322,
      "outputs": []
    },
    {
      "cell_type": "markdown",
      "source": [
        "# **Тест**"
      ],
      "metadata": {
        "id": "bXWpsQqpdqG6"
      }
    },
    {
      "cell_type": "code",
      "source": [
        "a = np.array([1, 2])\n",
        "b = np.array([2, 4])\n",
        "\n",
        "(a+b)/2"
      ],
      "metadata": {
        "colab": {
          "base_uri": "https://localhost:8080/"
        },
        "id": "eo7qMNV0H4Bz",
        "outputId": "9625a20d-47be-49b4-8472-ce216c053051"
      },
      "execution_count": 277,
      "outputs": [
        {
          "output_type": "execute_result",
          "data": {
            "text/plain": [
              "array([1.5, 3. ])"
            ]
          },
          "metadata": {},
          "execution_count": 277
        }
      ]
    },
    {
      "cell_type": "markdown",
      "source": [
        "# **Обучение**"
      ],
      "metadata": {
        "id": "HvR1hsU3rTO4"
      }
    },
    {
      "cell_type": "code",
      "source": [
        "%%time\n",
        "df.columns = [str(c) for c in df.columns]\n",
        "\n",
        "trainX, testX = df.join(trainY.drop('gender', axis=1), how='inner'), df.join(testY.drop('gender', axis=1), how='inner') # split observations into train/test\n",
        "trainX0, testX0, trainY0, testY0 = train_test_split(trainX, trainY, test_size=0.3, random_state=0) # split train observation into local train/test sets (to score performance)\n",
        "\n",
        "# estimators = [\n",
        "#     ('cbc', CBC(iterations=200)),\n",
        "#     ('lgbmc', LGBMC()),\n",
        "#     # ('rfc', RFC(n_estimators=10, random_state=42)),\n",
        "#     # # ('svr', make_pipeline(StandardScaler(),\n",
        "#     # # ('lr', LR(random_state=0, n_jobs=-1, max_iter=1000)),\n",
        "#     # ('svc', SVC(probability=True)),\n",
        "#     # # ('cccv', CCCV(LSVC(C = 3, intercept_scaling = 1, class_weight = 'balanced', random_state = 412), method = 'sigmoid', cv = 5)),\n",
        "#     ('gbc1', GBC(loss='log_loss', learning_rate=0.1, n_estimators=150, subsample=1.0, criterion='friedman_mse', max_depth=2)),\n",
        "#     # ('mlpc', MLPC(solver='lbfgs', alpha=1e-5, hidden_layer_sizes=(7, 4), random_state=1))\n",
        "# ]\n",
        "\n",
        "# model = SC(estimators=estimators, cv=2, stack_method='predict_proba', n_jobs=-1,\n",
        "#            final_estimator=GBC(loss='log_loss', learning_rate=0.1, n_estimators=150, subsample=1.0, criterion='friedman_mse', max_depth=2))\n",
        "\n",
        "model1 = LGBMC()\n",
        "model2 = CBC(iterations=200)\n",
        "# model = SGDC()\n",
        "# model = CCCV(LSVC(C = 3, intercept_scaling = 1, class_weight = 'balanced', random_state = 412), method = 'sigmoid', cv = 5)\n",
        "# model = LSVC(C = 3, intercept_scaling = 1, class_weight = 'balanced', random_state = 412)\n",
        "\n",
        "# model = LR(random_state=0, n_jobs=-1, max_iter=1000)\n",
        "# model3 = RFC()\n",
        "\n",
        "# model = KNC()\n",
        "# params = {\n",
        "#     'n_neighbors': np.arange(1, 11),\n",
        "#     'metric': ['manhattan', 'euclidean'],\n",
        "#     'weights': ['uniform', 'distance']\n",
        "# }\n",
        "# model = DTC()\n",
        "\n",
        "# model = SVC(probability=True)\n",
        "# model = GBC()\n",
        "model4 = GBC(loss='log_loss', learning_rate=0.1, n_estimators=150, subsample=1.0, criterion='friedman_mse', max_depth=2)\n",
        "\n",
        "# params = {\n",
        "#     'max_depth': [None, 2, 3, 4, 5],\n",
        "# }\n",
        "\n",
        "model5 = MLPC(solver='lbfgs', alpha=1e-5, hidden_layer_sizes=(7, 4), random_state=1)\n",
        "\n",
        "\n",
        "# model = GSCV(model, params, return_train_score=True, cv=5, scoring='accuracy', n_jobs=-1)\n",
        "\n",
        "pY1 = model1.fit(trainX0, trainY0.gender).predict_proba(testX0)[:, 1]\n",
        "pY2 = model2.fit(trainX0, trainY0.gender).predict_proba(testX0)[:, 1]\n",
        "# pY3 = model3.fit(trainX0, trainY0.gender).predict_proba(testX0)[:, 1]\n",
        "pY4 = model4.fit(trainX0, trainY0.gender).predict_proba(testX0)[:, 1]\n",
        "pY5 = model5.fit(trainX0, trainY0.gender).predict_proba(testX0)[:, 1]\n",
        "# pY6 = model_6.fit(trainX0, trainY0.gender).predict_proba(testX0)[:, 1]\n",
        "\n",
        "pY = (pY1 + 2*pY2 + pY4 + pY5) / 5\n",
        "\n",
        "# pY = model.fit(trainX0, trainY0.gender).predict_proba(testX0)[:, 1]\n",
        "# print(model.best_params_)\n",
        "\n",
        "print('Local AUC ROC', roc_auc_score(testY0.gender, pY))       # fit the model and show test error\n",
        "print(pY.sum() / pY.shape[0])"
      ],
      "metadata": {
        "colab": {
          "base_uri": "https://localhost:8080/"
        },
        "id": "MOVjxsLza1Vq",
        "outputId": "33407c23-acce-4304-fb6a-c7a54a095bae"
      },
      "execution_count": 327,
      "outputs": [
        {
          "output_type": "stream",
          "name": "stdout",
          "text": [
            "Learning rate set to 0.085504\n",
            "0:\tlearn: 0.6711555\ttotal: 104ms\tremaining: 20.7s\n",
            "1:\tlearn: 0.6496162\ttotal: 164ms\tremaining: 16.2s\n",
            "2:\tlearn: 0.6312705\ttotal: 227ms\tremaining: 14.9s\n",
            "3:\tlearn: 0.6169535\ttotal: 286ms\tremaining: 14s\n",
            "4:\tlearn: 0.6018460\ttotal: 346ms\tremaining: 13.5s\n",
            "5:\tlearn: 0.5902233\ttotal: 402ms\tremaining: 13s\n",
            "6:\tlearn: 0.5791624\ttotal: 470ms\tremaining: 13s\n",
            "7:\tlearn: 0.5680270\ttotal: 531ms\tremaining: 12.7s\n",
            "8:\tlearn: 0.5568187\ttotal: 595ms\tremaining: 12.6s\n",
            "9:\tlearn: 0.5501028\ttotal: 656ms\tremaining: 12.5s\n",
            "10:\tlearn: 0.5421403\ttotal: 738ms\tremaining: 12.7s\n",
            "11:\tlearn: 0.5372617\ttotal: 792ms\tremaining: 12.4s\n",
            "12:\tlearn: 0.5313725\ttotal: 848ms\tremaining: 12.2s\n",
            "13:\tlearn: 0.5244987\ttotal: 903ms\tremaining: 12s\n",
            "14:\tlearn: 0.5199564\ttotal: 963ms\tremaining: 11.9s\n",
            "15:\tlearn: 0.5157858\ttotal: 1.03s\tremaining: 11.8s\n",
            "16:\tlearn: 0.5122524\ttotal: 1.09s\tremaining: 11.7s\n",
            "17:\tlearn: 0.5080864\ttotal: 1.15s\tremaining: 11.6s\n",
            "18:\tlearn: 0.5035975\ttotal: 1.21s\tremaining: 11.5s\n",
            "19:\tlearn: 0.4996602\ttotal: 1.27s\tremaining: 11.4s\n",
            "20:\tlearn: 0.4966403\ttotal: 1.32s\tremaining: 11.3s\n",
            "21:\tlearn: 0.4931120\ttotal: 1.37s\tremaining: 11.1s\n",
            "22:\tlearn: 0.4900818\ttotal: 1.43s\tremaining: 11s\n",
            "23:\tlearn: 0.4875748\ttotal: 1.5s\tremaining: 11s\n",
            "24:\tlearn: 0.4836728\ttotal: 1.55s\tremaining: 10.9s\n",
            "25:\tlearn: 0.4816192\ttotal: 1.6s\tremaining: 10.7s\n",
            "26:\tlearn: 0.4783064\ttotal: 1.67s\tremaining: 10.7s\n",
            "27:\tlearn: 0.4756008\ttotal: 1.72s\tremaining: 10.6s\n",
            "28:\tlearn: 0.4735126\ttotal: 1.79s\tremaining: 10.6s\n",
            "29:\tlearn: 0.4705162\ttotal: 1.84s\tremaining: 10.4s\n",
            "30:\tlearn: 0.4686969\ttotal: 1.9s\tremaining: 10.4s\n",
            "31:\tlearn: 0.4662140\ttotal: 1.96s\tremaining: 10.3s\n",
            "32:\tlearn: 0.4645969\ttotal: 2.02s\tremaining: 10.2s\n",
            "33:\tlearn: 0.4625231\ttotal: 2.07s\tremaining: 10.1s\n",
            "34:\tlearn: 0.4606889\ttotal: 2.13s\tremaining: 10.1s\n",
            "35:\tlearn: 0.4585747\ttotal: 2.19s\tremaining: 9.96s\n",
            "36:\tlearn: 0.4558078\ttotal: 2.24s\tremaining: 9.87s\n",
            "37:\tlearn: 0.4538515\ttotal: 2.3s\tremaining: 9.81s\n",
            "38:\tlearn: 0.4513842\ttotal: 2.36s\tremaining: 9.75s\n",
            "39:\tlearn: 0.4492063\ttotal: 2.42s\tremaining: 9.68s\n",
            "40:\tlearn: 0.4472149\ttotal: 2.48s\tremaining: 9.6s\n",
            "41:\tlearn: 0.4450901\ttotal: 2.54s\tremaining: 9.55s\n",
            "42:\tlearn: 0.4440049\ttotal: 2.6s\tremaining: 9.51s\n",
            "43:\tlearn: 0.4424610\ttotal: 2.67s\tremaining: 9.45s\n",
            "44:\tlearn: 0.4407841\ttotal: 2.72s\tremaining: 9.37s\n",
            "45:\tlearn: 0.4389021\ttotal: 2.79s\tremaining: 9.36s\n",
            "46:\tlearn: 0.4373737\ttotal: 2.85s\tremaining: 9.29s\n",
            "47:\tlearn: 0.4355977\ttotal: 2.91s\tremaining: 9.22s\n",
            "48:\tlearn: 0.4336355\ttotal: 2.98s\tremaining: 9.17s\n",
            "49:\tlearn: 0.4324522\ttotal: 3.03s\tremaining: 9.09s\n",
            "50:\tlearn: 0.4308899\ttotal: 3.1s\tremaining: 9.05s\n",
            "51:\tlearn: 0.4295579\ttotal: 3.15s\tremaining: 8.98s\n",
            "52:\tlearn: 0.4279334\ttotal: 3.21s\tremaining: 8.91s\n",
            "53:\tlearn: 0.4262515\ttotal: 3.27s\tremaining: 8.85s\n",
            "54:\tlearn: 0.4244560\ttotal: 3.34s\tremaining: 8.81s\n",
            "55:\tlearn: 0.4231666\ttotal: 3.4s\tremaining: 8.74s\n",
            "56:\tlearn: 0.4221700\ttotal: 3.46s\tremaining: 8.67s\n",
            "57:\tlearn: 0.4208263\ttotal: 3.51s\tremaining: 8.6s\n",
            "58:\tlearn: 0.4192745\ttotal: 3.58s\tremaining: 8.55s\n",
            "59:\tlearn: 0.4178862\ttotal: 3.64s\tremaining: 8.49s\n",
            "60:\tlearn: 0.4163417\ttotal: 3.7s\tremaining: 8.42s\n",
            "61:\tlearn: 0.4150033\ttotal: 3.75s\tremaining: 8.35s\n",
            "62:\tlearn: 0.4141668\ttotal: 3.83s\tremaining: 8.32s\n",
            "63:\tlearn: 0.4126272\ttotal: 3.88s\tremaining: 8.26s\n",
            "64:\tlearn: 0.4111586\ttotal: 3.94s\tremaining: 8.18s\n",
            "65:\tlearn: 0.4099897\ttotal: 3.99s\tremaining: 8.11s\n",
            "66:\tlearn: 0.4089876\ttotal: 4.05s\tremaining: 8.04s\n",
            "67:\tlearn: 0.4075572\ttotal: 4.12s\tremaining: 7.99s\n",
            "68:\tlearn: 0.4065589\ttotal: 4.17s\tremaining: 7.92s\n",
            "69:\tlearn: 0.4050589\ttotal: 4.23s\tremaining: 7.85s\n",
            "70:\tlearn: 0.4038825\ttotal: 4.29s\tremaining: 7.79s\n",
            "71:\tlearn: 0.4022956\ttotal: 4.34s\tremaining: 7.72s\n",
            "72:\tlearn: 0.4014086\ttotal: 4.41s\tremaining: 7.67s\n",
            "73:\tlearn: 0.4003051\ttotal: 4.46s\tremaining: 7.6s\n",
            "74:\tlearn: 0.3993235\ttotal: 4.52s\tremaining: 7.54s\n",
            "75:\tlearn: 0.3982628\ttotal: 4.58s\tremaining: 7.47s\n",
            "76:\tlearn: 0.3976294\ttotal: 4.64s\tremaining: 7.41s\n",
            "77:\tlearn: 0.3965516\ttotal: 4.7s\tremaining: 7.34s\n",
            "78:\tlearn: 0.3956227\ttotal: 4.75s\tremaining: 7.28s\n",
            "79:\tlearn: 0.3948879\ttotal: 4.81s\tremaining: 7.21s\n",
            "80:\tlearn: 0.3931193\ttotal: 4.88s\tremaining: 7.17s\n",
            "81:\tlearn: 0.3916557\ttotal: 4.94s\tremaining: 7.1s\n",
            "82:\tlearn: 0.3907598\ttotal: 5s\tremaining: 7.05s\n",
            "83:\tlearn: 0.3891985\ttotal: 5.06s\tremaining: 6.99s\n",
            "84:\tlearn: 0.3881253\ttotal: 5.12s\tremaining: 6.93s\n",
            "85:\tlearn: 0.3875345\ttotal: 5.18s\tremaining: 6.86s\n",
            "86:\tlearn: 0.3866258\ttotal: 5.24s\tremaining: 6.8s\n",
            "87:\tlearn: 0.3856281\ttotal: 5.31s\tremaining: 6.76s\n",
            "88:\tlearn: 0.3839428\ttotal: 5.37s\tremaining: 6.7s\n",
            "89:\tlearn: 0.3825334\ttotal: 5.43s\tremaining: 6.64s\n",
            "90:\tlearn: 0.3817984\ttotal: 5.49s\tremaining: 6.58s\n",
            "91:\tlearn: 0.3805294\ttotal: 5.55s\tremaining: 6.52s\n",
            "92:\tlearn: 0.3793225\ttotal: 5.61s\tremaining: 6.45s\n",
            "93:\tlearn: 0.3781933\ttotal: 5.67s\tremaining: 6.39s\n",
            "94:\tlearn: 0.3766317\ttotal: 5.73s\tremaining: 6.33s\n",
            "95:\tlearn: 0.3757138\ttotal: 5.78s\tremaining: 6.27s\n",
            "96:\tlearn: 0.3744776\ttotal: 5.84s\tremaining: 6.2s\n",
            "97:\tlearn: 0.3731614\ttotal: 5.93s\tremaining: 6.17s\n",
            "98:\tlearn: 0.3721263\ttotal: 6s\tremaining: 6.13s\n",
            "99:\tlearn: 0.3703782\ttotal: 6.08s\tremaining: 6.08s\n",
            "100:\tlearn: 0.3691014\ttotal: 6.17s\tremaining: 6.04s\n",
            "101:\tlearn: 0.3678824\ttotal: 6.25s\tremaining: 6s\n",
            "102:\tlearn: 0.3664356\ttotal: 6.32s\tremaining: 5.95s\n",
            "103:\tlearn: 0.3656572\ttotal: 6.46s\tremaining: 5.96s\n",
            "104:\tlearn: 0.3645617\ttotal: 6.54s\tremaining: 5.92s\n",
            "105:\tlearn: 0.3633659\ttotal: 6.65s\tremaining: 5.9s\n",
            "106:\tlearn: 0.3626256\ttotal: 6.76s\tremaining: 5.88s\n",
            "107:\tlearn: 0.3612470\ttotal: 6.85s\tremaining: 5.83s\n",
            "108:\tlearn: 0.3603684\ttotal: 6.99s\tremaining: 5.83s\n",
            "109:\tlearn: 0.3596151\ttotal: 7.08s\tremaining: 5.79s\n",
            "110:\tlearn: 0.3586840\ttotal: 7.2s\tremaining: 5.77s\n",
            "111:\tlearn: 0.3573633\ttotal: 7.28s\tremaining: 5.72s\n",
            "112:\tlearn: 0.3560834\ttotal: 7.36s\tremaining: 5.67s\n",
            "113:\tlearn: 0.3545316\ttotal: 7.45s\tremaining: 5.62s\n",
            "114:\tlearn: 0.3531306\ttotal: 7.53s\tremaining: 5.57s\n",
            "115:\tlearn: 0.3526447\ttotal: 7.61s\tremaining: 5.51s\n",
            "116:\tlearn: 0.3517638\ttotal: 7.7s\tremaining: 5.46s\n",
            "117:\tlearn: 0.3499749\ttotal: 7.79s\tremaining: 5.42s\n",
            "118:\tlearn: 0.3484773\ttotal: 7.88s\tremaining: 5.36s\n",
            "119:\tlearn: 0.3466981\ttotal: 7.99s\tremaining: 5.33s\n",
            "120:\tlearn: 0.3451531\ttotal: 8.1s\tremaining: 5.29s\n",
            "121:\tlearn: 0.3442458\ttotal: 8.2s\tremaining: 5.24s\n",
            "122:\tlearn: 0.3433073\ttotal: 8.3s\tremaining: 5.2s\n",
            "123:\tlearn: 0.3415837\ttotal: 8.41s\tremaining: 5.16s\n",
            "124:\tlearn: 0.3404465\ttotal: 8.52s\tremaining: 5.11s\n",
            "125:\tlearn: 0.3394455\ttotal: 8.62s\tremaining: 5.06s\n",
            "126:\tlearn: 0.3381515\ttotal: 8.73s\tremaining: 5.02s\n",
            "127:\tlearn: 0.3370506\ttotal: 8.85s\tremaining: 4.98s\n",
            "128:\tlearn: 0.3361511\ttotal: 8.96s\tremaining: 4.93s\n",
            "129:\tlearn: 0.3347326\ttotal: 9.08s\tremaining: 4.89s\n",
            "130:\tlearn: 0.3336394\ttotal: 9.2s\tremaining: 4.84s\n",
            "131:\tlearn: 0.3321113\ttotal: 9.29s\tremaining: 4.79s\n",
            "132:\tlearn: 0.3307240\ttotal: 9.41s\tremaining: 4.74s\n",
            "133:\tlearn: 0.3294641\ttotal: 9.51s\tremaining: 4.68s\n",
            "134:\tlearn: 0.3279696\ttotal: 9.61s\tremaining: 4.63s\n",
            "135:\tlearn: 0.3261183\ttotal: 9.72s\tremaining: 4.57s\n",
            "136:\tlearn: 0.3250729\ttotal: 9.84s\tremaining: 4.52s\n",
            "137:\tlearn: 0.3238844\ttotal: 9.94s\tremaining: 4.46s\n",
            "138:\tlearn: 0.3225092\ttotal: 10s\tremaining: 4.41s\n",
            "139:\tlearn: 0.3214820\ttotal: 10.2s\tremaining: 4.36s\n",
            "140:\tlearn: 0.3201854\ttotal: 10.3s\tremaining: 4.3s\n",
            "141:\tlearn: 0.3191471\ttotal: 10.4s\tremaining: 4.23s\n",
            "142:\tlearn: 0.3176443\ttotal: 10.5s\tremaining: 4.18s\n",
            "143:\tlearn: 0.3163257\ttotal: 10.6s\tremaining: 4.12s\n",
            "144:\tlearn: 0.3148418\ttotal: 10.7s\tremaining: 4.05s\n",
            "145:\tlearn: 0.3137595\ttotal: 10.8s\tremaining: 3.98s\n",
            "146:\tlearn: 0.3125941\ttotal: 10.9s\tremaining: 3.92s\n",
            "147:\tlearn: 0.3112692\ttotal: 11s\tremaining: 3.86s\n",
            "148:\tlearn: 0.3101646\ttotal: 11.1s\tremaining: 3.79s\n",
            "149:\tlearn: 0.3089356\ttotal: 11.2s\tremaining: 3.73s\n",
            "150:\tlearn: 0.3078600\ttotal: 11.3s\tremaining: 3.67s\n",
            "151:\tlearn: 0.3071126\ttotal: 11.4s\tremaining: 3.6s\n",
            "152:\tlearn: 0.3068948\ttotal: 11.5s\tremaining: 3.53s\n",
            "153:\tlearn: 0.3058858\ttotal: 11.6s\tremaining: 3.47s\n",
            "154:\tlearn: 0.3045986\ttotal: 11.7s\tremaining: 3.4s\n",
            "155:\tlearn: 0.3031382\ttotal: 11.8s\tremaining: 3.33s\n",
            "156:\tlearn: 0.3022718\ttotal: 12s\tremaining: 3.27s\n",
            "157:\tlearn: 0.3011287\ttotal: 12.1s\tremaining: 3.21s\n",
            "158:\tlearn: 0.3000267\ttotal: 12.2s\tremaining: 3.14s\n",
            "159:\tlearn: 0.2985703\ttotal: 12.3s\tremaining: 3.07s\n",
            "160:\tlearn: 0.2977064\ttotal: 12.4s\tremaining: 3s\n",
            "161:\tlearn: 0.2976390\ttotal: 12.5s\tremaining: 2.93s\n",
            "162:\tlearn: 0.2967869\ttotal: 12.6s\tremaining: 2.87s\n",
            "163:\tlearn: 0.2958449\ttotal: 12.7s\tremaining: 2.8s\n",
            "164:\tlearn: 0.2944116\ttotal: 12.9s\tremaining: 2.73s\n",
            "165:\tlearn: 0.2933081\ttotal: 13s\tremaining: 2.66s\n",
            "166:\tlearn: 0.2922806\ttotal: 13.1s\tremaining: 2.59s\n",
            "167:\tlearn: 0.2911314\ttotal: 13.2s\tremaining: 2.52s\n",
            "168:\tlearn: 0.2907722\ttotal: 13.3s\tremaining: 2.44s\n",
            "169:\tlearn: 0.2894076\ttotal: 13.4s\tremaining: 2.37s\n",
            "170:\tlearn: 0.2884622\ttotal: 13.5s\tremaining: 2.3s\n",
            "171:\tlearn: 0.2872673\ttotal: 13.7s\tremaining: 2.22s\n",
            "172:\tlearn: 0.2858313\ttotal: 13.8s\tremaining: 2.15s\n",
            "173:\tlearn: 0.2851503\ttotal: 13.9s\tremaining: 2.08s\n",
            "174:\tlearn: 0.2845744\ttotal: 14s\tremaining: 2s\n",
            "175:\tlearn: 0.2835622\ttotal: 14.1s\tremaining: 1.92s\n",
            "176:\tlearn: 0.2834442\ttotal: 14.2s\tremaining: 1.85s\n",
            "177:\tlearn: 0.2823513\ttotal: 14.3s\tremaining: 1.77s\n",
            "178:\tlearn: 0.2814450\ttotal: 14.4s\tremaining: 1.69s\n",
            "179:\tlearn: 0.2801449\ttotal: 14.5s\tremaining: 1.61s\n",
            "180:\tlearn: 0.2791670\ttotal: 14.6s\tremaining: 1.53s\n",
            "181:\tlearn: 0.2781196\ttotal: 14.7s\tremaining: 1.46s\n",
            "182:\tlearn: 0.2771547\ttotal: 14.8s\tremaining: 1.38s\n",
            "183:\tlearn: 0.2761861\ttotal: 14.9s\tremaining: 1.3s\n",
            "184:\tlearn: 0.2761263\ttotal: 15.1s\tremaining: 1.22s\n",
            "185:\tlearn: 0.2760631\ttotal: 15.2s\tremaining: 1.14s\n",
            "186:\tlearn: 0.2747940\ttotal: 15.3s\tremaining: 1.06s\n",
            "187:\tlearn: 0.2739275\ttotal: 15.4s\tremaining: 981ms\n",
            "188:\tlearn: 0.2728517\ttotal: 15.5s\tremaining: 901ms\n",
            "189:\tlearn: 0.2723048\ttotal: 15.6s\tremaining: 821ms\n",
            "190:\tlearn: 0.2713246\ttotal: 15.7s\tremaining: 740ms\n",
            "191:\tlearn: 0.2704916\ttotal: 15.8s\tremaining: 660ms\n",
            "192:\tlearn: 0.2694578\ttotal: 15.9s\tremaining: 578ms\n",
            "193:\tlearn: 0.2684194\ttotal: 16.1s\tremaining: 497ms\n",
            "194:\tlearn: 0.2674798\ttotal: 16.2s\tremaining: 415ms\n",
            "195:\tlearn: 0.2661440\ttotal: 16.3s\tremaining: 333ms\n",
            "196:\tlearn: 0.2648924\ttotal: 16.4s\tremaining: 250ms\n",
            "197:\tlearn: 0.2642774\ttotal: 16.5s\tremaining: 167ms\n",
            "198:\tlearn: 0.2633249\ttotal: 16.7s\tremaining: 83.7ms\n",
            "199:\tlearn: 0.2624051\ttotal: 16.8s\tremaining: 0us\n",
            "Local AUC ROC 0.8704420194003527\n",
            "0.43120535031049706\n",
            "CPU times: user 53 s, sys: 1.27 s, total: 54.2 s\n",
            "Wall time: 48.5 s\n"
          ]
        },
        {
          "output_type": "stream",
          "name": "stderr",
          "text": [
            "/usr/local/lib/python3.10/dist-packages/sklearn/neural_network/_multilayer_perceptron.py:541: ConvergenceWarning: lbfgs failed to converge (status=1):\n",
            "STOP: TOTAL NO. of ITERATIONS REACHED LIMIT.\n",
            "\n",
            "Increase the number of iterations (max_iter) or scale the data as shown in:\n",
            "    https://scikit-learn.org/stable/modules/preprocessing.html\n",
            "  self.n_iter_ = _check_optimize_result(\"lbfgs\", opt_res, self.max_iter)\n"
          ]
        }
      ]
    },
    {
      "cell_type": "code",
      "source": [
        "tmr.ShowTime()"
      ],
      "metadata": {
        "colab": {
          "base_uri": "https://localhost:8080/"
        },
        "id": "LXGaysfq0tKx",
        "outputId": "b451b75d-5878-4e89-9703-2504f13d3fb4"
      },
      "execution_count": 191,
      "outputs": [
        {
          "output_type": "stream",
          "name": "stdout",
          "text": [
            "\u001b[91m\u001b[1mRuntime is 131 sec > 120 sec limit!!!\u001b[0m\n"
          ]
        }
      ]
    },
    {
      "cell_type": "code",
      "source": [
        "# model = LR(random_state=0, n_jobs=-1, max_iter=1000).fit(trainX, trainY.gender)  # now train again, on the full training set\n",
        "# model = GBC(loss='log_loss', learning_rate=0.1, n_estimators=150, subsample=1.0, criterion='friedman_mse', max_depth=2)\n",
        "# model = SC(estimators=estimators)\n",
        "# model.fit(trainX, trainY.gender)\n",
        "\n",
        "\n",
        "model1 = LGBMC()\n",
        "model2 = CBC(iterations=200)\n",
        "# model3 = RFC()\n",
        "model4 = GBC(loss='log_loss', learning_rate=0.1, n_estimators=150, subsample=1.0, criterion='friedman_mse', max_depth=2)\n",
        "model5 = MLPC(solver='lbfgs', alpha=1e-5, hidden_layer_sizes=(7, 4), random_state=1)\n",
        "\n",
        "pY1 = model1.fit(trainX, trainY.gender).predict_proba(testX)[:, 1]\n",
        "pY2 = model2.fit(trainX, trainY.gender).predict_proba(testX)[:, 1]\n",
        "# pY3 = model3.fit(trainX, trainY.gender).predict_proba(testX0)[:, 1]\n",
        "pY4 = model4.fit(trainX, trainY.gender).predict_proba(testX)[:, 1]\n",
        "pY5 = model5.fit(trainX, trainY.gender).predict_proba(testX)[:, 1]\n",
        "# pY6 = model_6.fit(trainX, trainY.gender).predict_proba(testX0)[:, 1]\n",
        "\n",
        "pY = (pY1 + pY2 + pY4 + pY5) / 4"
      ],
      "metadata": {
        "colab": {
          "base_uri": "https://localhost:8080/"
        },
        "id": "tNCi85beqaek",
        "outputId": "cf1c140a-1f99-40fe-b1b4-00672224e4a7"
      },
      "execution_count": 141,
      "outputs": [
        {
          "output_type": "stream",
          "name": "stdout",
          "text": [
            "Learning rate set to 0.09957\n",
            "0:\tlearn: 0.6663657\ttotal: 79.9ms\tremaining: 15.9s\n",
            "1:\tlearn: 0.6417624\ttotal: 137ms\tremaining: 13.6s\n",
            "2:\tlearn: 0.6222795\ttotal: 193ms\tremaining: 12.7s\n",
            "3:\tlearn: 0.6053429\ttotal: 252ms\tremaining: 12.3s\n",
            "4:\tlearn: 0.5912514\ttotal: 307ms\tremaining: 12s\n",
            "5:\tlearn: 0.5771944\ttotal: 361ms\tremaining: 11.7s\n",
            "6:\tlearn: 0.5669891\ttotal: 423ms\tremaining: 11.7s\n",
            "7:\tlearn: 0.5596556\ttotal: 481ms\tremaining: 11.6s\n",
            "8:\tlearn: 0.5516980\ttotal: 535ms\tremaining: 11.4s\n",
            "9:\tlearn: 0.5441714\ttotal: 592ms\tremaining: 11.2s\n",
            "10:\tlearn: 0.5367728\ttotal: 649ms\tremaining: 11.1s\n",
            "11:\tlearn: 0.5313270\ttotal: 712ms\tremaining: 11.2s\n",
            "12:\tlearn: 0.5261092\ttotal: 768ms\tremaining: 11s\n",
            "13:\tlearn: 0.5212550\ttotal: 823ms\tremaining: 10.9s\n",
            "14:\tlearn: 0.5166626\ttotal: 877ms\tremaining: 10.8s\n",
            "15:\tlearn: 0.5111905\ttotal: 936ms\tremaining: 10.8s\n",
            "16:\tlearn: 0.5062143\ttotal: 991ms\tremaining: 10.7s\n",
            "17:\tlearn: 0.5026486\ttotal: 1.05s\tremaining: 10.6s\n",
            "18:\tlearn: 0.4975706\ttotal: 1.11s\tremaining: 10.6s\n",
            "19:\tlearn: 0.4941032\ttotal: 1.17s\tremaining: 10.6s\n",
            "20:\tlearn: 0.4910479\ttotal: 1.23s\tremaining: 10.5s\n",
            "21:\tlearn: 0.4877787\ttotal: 1.3s\tremaining: 10.5s\n",
            "22:\tlearn: 0.4847237\ttotal: 1.4s\tremaining: 10.8s\n",
            "23:\tlearn: 0.4820318\ttotal: 1.51s\tremaining: 11.1s\n",
            "24:\tlearn: 0.4792173\ttotal: 1.65s\tremaining: 11.5s\n",
            "25:\tlearn: 0.4770663\ttotal: 1.77s\tremaining: 11.9s\n",
            "26:\tlearn: 0.4741565\ttotal: 1.89s\tremaining: 12.1s\n",
            "27:\tlearn: 0.4716835\ttotal: 2s\tremaining: 12.3s\n",
            "28:\tlearn: 0.4688496\ttotal: 2.12s\tremaining: 12.5s\n",
            "29:\tlearn: 0.4660751\ttotal: 2.23s\tremaining: 12.6s\n",
            "30:\tlearn: 0.4640736\ttotal: 2.33s\tremaining: 12.7s\n",
            "31:\tlearn: 0.4621477\ttotal: 2.44s\tremaining: 12.8s\n",
            "32:\tlearn: 0.4602290\ttotal: 2.55s\tremaining: 12.9s\n",
            "33:\tlearn: 0.4579711\ttotal: 2.67s\tremaining: 13s\n",
            "34:\tlearn: 0.4560156\ttotal: 2.78s\tremaining: 13.1s\n",
            "35:\tlearn: 0.4535503\ttotal: 2.89s\tremaining: 13.2s\n",
            "36:\tlearn: 0.4508408\ttotal: 3.01s\tremaining: 13.3s\n",
            "37:\tlearn: 0.4489500\ttotal: 3.12s\tremaining: 13.3s\n",
            "38:\tlearn: 0.4472979\ttotal: 3.24s\tremaining: 13.4s\n",
            "39:\tlearn: 0.4460957\ttotal: 3.35s\tremaining: 13.4s\n",
            "40:\tlearn: 0.4444861\ttotal: 3.47s\tremaining: 13.4s\n",
            "41:\tlearn: 0.4428124\ttotal: 3.58s\tremaining: 13.5s\n",
            "42:\tlearn: 0.4411853\ttotal: 3.71s\tremaining: 13.5s\n",
            "43:\tlearn: 0.4398038\ttotal: 3.79s\tremaining: 13.4s\n",
            "44:\tlearn: 0.4383524\ttotal: 3.9s\tremaining: 13.4s\n",
            "45:\tlearn: 0.4369044\ttotal: 4.01s\tremaining: 13.4s\n",
            "46:\tlearn: 0.4355156\ttotal: 4.12s\tremaining: 13.4s\n",
            "47:\tlearn: 0.4339854\ttotal: 4.24s\tremaining: 13.4s\n",
            "48:\tlearn: 0.4323326\ttotal: 4.36s\tremaining: 13.4s\n",
            "49:\tlearn: 0.4307547\ttotal: 4.48s\tremaining: 13.4s\n",
            "50:\tlearn: 0.4288593\ttotal: 4.59s\tremaining: 13.4s\n",
            "51:\tlearn: 0.4275881\ttotal: 4.72s\tremaining: 13.4s\n",
            "52:\tlearn: 0.4263414\ttotal: 4.83s\tremaining: 13.4s\n",
            "53:\tlearn: 0.4247855\ttotal: 4.95s\tremaining: 13.4s\n",
            "54:\tlearn: 0.4231869\ttotal: 5.06s\tremaining: 13.3s\n",
            "55:\tlearn: 0.4218974\ttotal: 5.18s\tremaining: 13.3s\n",
            "56:\tlearn: 0.4208224\ttotal: 5.3s\tremaining: 13.3s\n",
            "57:\tlearn: 0.4191537\ttotal: 5.42s\tremaining: 13.3s\n",
            "58:\tlearn: 0.4177512\ttotal: 5.54s\tremaining: 13.2s\n",
            "59:\tlearn: 0.4167023\ttotal: 5.65s\tremaining: 13.2s\n",
            "60:\tlearn: 0.4154263\ttotal: 5.76s\tremaining: 13.1s\n",
            "61:\tlearn: 0.4137428\ttotal: 5.88s\tremaining: 13.1s\n",
            "62:\tlearn: 0.4121548\ttotal: 6.01s\tremaining: 13.1s\n",
            "63:\tlearn: 0.4105042\ttotal: 6.13s\tremaining: 13s\n",
            "64:\tlearn: 0.4092522\ttotal: 6.24s\tremaining: 13s\n",
            "65:\tlearn: 0.4075602\ttotal: 6.38s\tremaining: 12.9s\n",
            "66:\tlearn: 0.4060857\ttotal: 6.5s\tremaining: 12.9s\n",
            "67:\tlearn: 0.4047168\ttotal: 6.61s\tremaining: 12.8s\n",
            "68:\tlearn: 0.4030846\ttotal: 6.73s\tremaining: 12.8s\n",
            "69:\tlearn: 0.4019511\ttotal: 6.86s\tremaining: 12.7s\n",
            "70:\tlearn: 0.4008229\ttotal: 6.98s\tremaining: 12.7s\n",
            "71:\tlearn: 0.3995844\ttotal: 7.11s\tremaining: 12.6s\n",
            "72:\tlearn: 0.3986218\ttotal: 7.23s\tremaining: 12.6s\n",
            "73:\tlearn: 0.3970473\ttotal: 7.34s\tremaining: 12.5s\n",
            "74:\tlearn: 0.3962680\ttotal: 7.44s\tremaining: 12.4s\n",
            "75:\tlearn: 0.3950731\ttotal: 7.56s\tremaining: 12.3s\n",
            "76:\tlearn: 0.3941184\ttotal: 7.67s\tremaining: 12.3s\n",
            "77:\tlearn: 0.3929546\ttotal: 7.79s\tremaining: 12.2s\n",
            "78:\tlearn: 0.3921182\ttotal: 7.91s\tremaining: 12.1s\n",
            "79:\tlearn: 0.3912010\ttotal: 8.02s\tremaining: 12s\n",
            "80:\tlearn: 0.3902132\ttotal: 8.13s\tremaining: 11.9s\n",
            "81:\tlearn: 0.3888739\ttotal: 8.25s\tremaining: 11.9s\n",
            "82:\tlearn: 0.3883284\ttotal: 8.36s\tremaining: 11.8s\n",
            "83:\tlearn: 0.3875714\ttotal: 8.45s\tremaining: 11.7s\n",
            "84:\tlearn: 0.3863607\ttotal: 8.57s\tremaining: 11.6s\n",
            "85:\tlearn: 0.3852621\ttotal: 8.68s\tremaining: 11.5s\n",
            "86:\tlearn: 0.3840602\ttotal: 8.79s\tremaining: 11.4s\n",
            "87:\tlearn: 0.3828114\ttotal: 8.9s\tremaining: 11.3s\n",
            "88:\tlearn: 0.3818948\ttotal: 9.02s\tremaining: 11.3s\n",
            "89:\tlearn: 0.3804816\ttotal: 9.14s\tremaining: 11.2s\n",
            "90:\tlearn: 0.3794456\ttotal: 9.25s\tremaining: 11.1s\n",
            "91:\tlearn: 0.3782751\ttotal: 9.36s\tremaining: 11s\n",
            "92:\tlearn: 0.3771017\ttotal: 9.48s\tremaining: 10.9s\n",
            "93:\tlearn: 0.3756253\ttotal: 9.61s\tremaining: 10.8s\n",
            "94:\tlearn: 0.3744806\ttotal: 9.73s\tremaining: 10.8s\n",
            "95:\tlearn: 0.3731357\ttotal: 9.85s\tremaining: 10.7s\n",
            "96:\tlearn: 0.3718947\ttotal: 9.97s\tremaining: 10.6s\n",
            "97:\tlearn: 0.3702720\ttotal: 10.1s\tremaining: 10.5s\n",
            "98:\tlearn: 0.3690749\ttotal: 10.2s\tremaining: 10.4s\n",
            "99:\tlearn: 0.3677032\ttotal: 10.3s\tremaining: 10.3s\n",
            "100:\tlearn: 0.3664323\ttotal: 10.4s\tremaining: 10.2s\n",
            "101:\tlearn: 0.3647645\ttotal: 10.6s\tremaining: 10.1s\n",
            "102:\tlearn: 0.3638478\ttotal: 10.6s\tremaining: 10s\n",
            "103:\tlearn: 0.3629885\ttotal: 10.8s\tremaining: 9.94s\n",
            "104:\tlearn: 0.3615745\ttotal: 10.9s\tremaining: 9.85s\n",
            "105:\tlearn: 0.3606255\ttotal: 11s\tremaining: 9.75s\n",
            "106:\tlearn: 0.3595065\ttotal: 11.1s\tremaining: 9.64s\n",
            "107:\tlearn: 0.3582272\ttotal: 11.2s\tremaining: 9.54s\n",
            "108:\tlearn: 0.3568030\ttotal: 11.3s\tremaining: 9.45s\n",
            "109:\tlearn: 0.3556072\ttotal: 11.4s\tremaining: 9.36s\n",
            "110:\tlearn: 0.3544115\ttotal: 11.6s\tremaining: 9.28s\n",
            "111:\tlearn: 0.3534611\ttotal: 11.7s\tremaining: 9.19s\n",
            "112:\tlearn: 0.3523409\ttotal: 11.8s\tremaining: 9.1s\n",
            "113:\tlearn: 0.3509236\ttotal: 11.9s\tremaining: 9.01s\n",
            "114:\tlearn: 0.3500506\ttotal: 12.1s\tremaining: 8.91s\n",
            "115:\tlearn: 0.3488062\ttotal: 12.2s\tremaining: 8.82s\n",
            "116:\tlearn: 0.3474702\ttotal: 12.3s\tremaining: 8.73s\n",
            "117:\tlearn: 0.3463991\ttotal: 12.4s\tremaining: 8.63s\n",
            "118:\tlearn: 0.3454047\ttotal: 12.6s\tremaining: 8.54s\n",
            "119:\tlearn: 0.3439029\ttotal: 12.7s\tremaining: 8.45s\n",
            "120:\tlearn: 0.3426740\ttotal: 12.8s\tremaining: 8.35s\n",
            "121:\tlearn: 0.3416328\ttotal: 12.9s\tremaining: 8.24s\n",
            "122:\tlearn: 0.3407393\ttotal: 13s\tremaining: 8.14s\n",
            "123:\tlearn: 0.3396406\ttotal: 13.1s\tremaining: 8.04s\n",
            "124:\tlearn: 0.3385055\ttotal: 13.2s\tremaining: 7.93s\n",
            "125:\tlearn: 0.3372478\ttotal: 13.3s\tremaining: 7.83s\n",
            "126:\tlearn: 0.3361674\ttotal: 13.4s\tremaining: 7.73s\n",
            "127:\tlearn: 0.3351839\ttotal: 13.6s\tremaining: 7.63s\n",
            "128:\tlearn: 0.3336351\ttotal: 13.7s\tremaining: 7.53s\n",
            "129:\tlearn: 0.3328580\ttotal: 13.8s\tremaining: 7.43s\n",
            "130:\tlearn: 0.3313815\ttotal: 13.9s\tremaining: 7.33s\n",
            "131:\tlearn: 0.3300552\ttotal: 14s\tremaining: 7.23s\n",
            "132:\tlearn: 0.3288884\ttotal: 14.2s\tremaining: 7.13s\n",
            "133:\tlearn: 0.3288240\ttotal: 14.3s\tremaining: 7.02s\n",
            "134:\tlearn: 0.3280909\ttotal: 14.4s\tremaining: 6.92s\n",
            "135:\tlearn: 0.3271639\ttotal: 14.5s\tremaining: 6.83s\n",
            "136:\tlearn: 0.3257320\ttotal: 14.6s\tremaining: 6.72s\n",
            "137:\tlearn: 0.3249186\ttotal: 14.7s\tremaining: 6.61s\n",
            "138:\tlearn: 0.3239520\ttotal: 14.8s\tremaining: 6.51s\n",
            "139:\tlearn: 0.3228720\ttotal: 14.9s\tremaining: 6.4s\n",
            "140:\tlearn: 0.3217380\ttotal: 15.1s\tremaining: 6.3s\n",
            "141:\tlearn: 0.3207450\ttotal: 15.2s\tremaining: 6.19s\n",
            "142:\tlearn: 0.3199678\ttotal: 15.3s\tremaining: 6.09s\n",
            "143:\tlearn: 0.3192184\ttotal: 15.4s\tremaining: 5.98s\n",
            "144:\tlearn: 0.3182013\ttotal: 15.5s\tremaining: 5.88s\n",
            "145:\tlearn: 0.3170668\ttotal: 15.6s\tremaining: 5.78s\n",
            "146:\tlearn: 0.3169939\ttotal: 15.7s\tremaining: 5.67s\n",
            "147:\tlearn: 0.3158742\ttotal: 15.8s\tremaining: 5.56s\n",
            "148:\tlearn: 0.3149749\ttotal: 15.9s\tremaining: 5.44s\n",
            "149:\tlearn: 0.3138220\ttotal: 15.9s\tremaining: 5.32s\n",
            "150:\tlearn: 0.3127569\ttotal: 16s\tremaining: 5.19s\n",
            "151:\tlearn: 0.3127026\ttotal: 16.1s\tremaining: 5.07s\n",
            "152:\tlearn: 0.3117584\ttotal: 16.1s\tremaining: 4.95s\n",
            "153:\tlearn: 0.3110038\ttotal: 16.2s\tremaining: 4.83s\n",
            "154:\tlearn: 0.3101277\ttotal: 16.2s\tremaining: 4.71s\n",
            "155:\tlearn: 0.3093333\ttotal: 16.3s\tremaining: 4.59s\n",
            "156:\tlearn: 0.3084794\ttotal: 16.3s\tremaining: 4.47s\n",
            "157:\tlearn: 0.3079605\ttotal: 16.4s\tremaining: 4.36s\n",
            "158:\tlearn: 0.3074901\ttotal: 16.4s\tremaining: 4.24s\n",
            "159:\tlearn: 0.3066349\ttotal: 16.5s\tremaining: 4.13s\n",
            "160:\tlearn: 0.3055570\ttotal: 16.6s\tremaining: 4.01s\n",
            "161:\tlearn: 0.3047178\ttotal: 16.6s\tremaining: 3.9s\n",
            "162:\tlearn: 0.3040828\ttotal: 16.7s\tremaining: 3.79s\n",
            "163:\tlearn: 0.3035362\ttotal: 16.7s\tremaining: 3.68s\n",
            "164:\tlearn: 0.3027449\ttotal: 16.8s\tremaining: 3.56s\n",
            "165:\tlearn: 0.3012184\ttotal: 16.9s\tremaining: 3.45s\n",
            "166:\tlearn: 0.2999770\ttotal: 16.9s\tremaining: 3.34s\n",
            "167:\tlearn: 0.2999150\ttotal: 17s\tremaining: 3.23s\n",
            "168:\tlearn: 0.2998413\ttotal: 17s\tremaining: 3.12s\n",
            "169:\tlearn: 0.2983414\ttotal: 17.1s\tremaining: 3.02s\n",
            "170:\tlearn: 0.2972265\ttotal: 17.2s\tremaining: 2.91s\n",
            "171:\tlearn: 0.2963558\ttotal: 17.2s\tremaining: 2.8s\n",
            "172:\tlearn: 0.2954583\ttotal: 17.3s\tremaining: 2.69s\n",
            "173:\tlearn: 0.2944370\ttotal: 17.3s\tremaining: 2.59s\n",
            "174:\tlearn: 0.2933328\ttotal: 17.4s\tremaining: 2.48s\n",
            "175:\tlearn: 0.2924599\ttotal: 17.4s\tremaining: 2.38s\n",
            "176:\tlearn: 0.2916653\ttotal: 17.5s\tremaining: 2.27s\n",
            "177:\tlearn: 0.2906690\ttotal: 17.6s\tremaining: 2.17s\n",
            "178:\tlearn: 0.2898211\ttotal: 17.6s\tremaining: 2.07s\n",
            "179:\tlearn: 0.2890037\ttotal: 17.7s\tremaining: 1.96s\n",
            "180:\tlearn: 0.2889516\ttotal: 17.7s\tremaining: 1.86s\n",
            "181:\tlearn: 0.2885829\ttotal: 17.8s\tremaining: 1.76s\n",
            "182:\tlearn: 0.2876991\ttotal: 17.9s\tremaining: 1.66s\n",
            "183:\tlearn: 0.2866656\ttotal: 17.9s\tremaining: 1.56s\n",
            "184:\tlearn: 0.2858468\ttotal: 18s\tremaining: 1.46s\n",
            "185:\tlearn: 0.2848769\ttotal: 18s\tremaining: 1.36s\n",
            "186:\tlearn: 0.2840338\ttotal: 18.1s\tremaining: 1.26s\n",
            "187:\tlearn: 0.2830051\ttotal: 18.1s\tremaining: 1.16s\n",
            "188:\tlearn: 0.2822789\ttotal: 18.2s\tremaining: 1.06s\n",
            "189:\tlearn: 0.2813445\ttotal: 18.3s\tremaining: 961ms\n",
            "190:\tlearn: 0.2808067\ttotal: 18.3s\tremaining: 863ms\n",
            "191:\tlearn: 0.2798651\ttotal: 18.4s\tremaining: 765ms\n",
            "192:\tlearn: 0.2791750\ttotal: 18.4s\tremaining: 668ms\n",
            "193:\tlearn: 0.2782390\ttotal: 18.5s\tremaining: 572ms\n",
            "194:\tlearn: 0.2773753\ttotal: 18.5s\tremaining: 475ms\n",
            "195:\tlearn: 0.2762133\ttotal: 18.6s\tremaining: 380ms\n",
            "196:\tlearn: 0.2755220\ttotal: 18.7s\tremaining: 284ms\n",
            "197:\tlearn: 0.2745767\ttotal: 18.7s\tremaining: 189ms\n",
            "198:\tlearn: 0.2735961\ttotal: 18.8s\tremaining: 94.4ms\n",
            "199:\tlearn: 0.2725150\ttotal: 18.8s\tremaining: 0us\n"
          ]
        },
        {
          "output_type": "stream",
          "name": "stderr",
          "text": [
            "/usr/local/lib/python3.10/dist-packages/sklearn/neural_network/_multilayer_perceptron.py:541: ConvergenceWarning: lbfgs failed to converge (status=1):\n",
            "STOP: TOTAL NO. of ITERATIONS REACHED LIMIT.\n",
            "\n",
            "Increase the number of iterations (max_iter) or scale the data as shown in:\n",
            "    https://scikit-learn.org/stable/modules/preprocessing.html\n",
            "  self.n_iter_ = _check_optimize_result(\"lbfgs\", opt_res, self.max_iter)\n"
          ]
        }
      ]
    },
    {
      "cell_type": "code",
      "source": [
        "pY = pd.DataFrame(pY, columns=['gender'])\n",
        "pY.index.name = 'cid'\n",
        "\n",
        "print(pY.sum() / pY.shape[0])"
      ],
      "metadata": {
        "colab": {
          "base_uri": "https://localhost:8080/"
        },
        "id": "k9jG7aW9vvci",
        "outputId": "03ac80c8-bd8d-4035-b4a4-714f85794393"
      },
      "execution_count": 142,
      "outputs": [
        {
          "output_type": "stream",
          "name": "stdout",
          "text": [
            "gender    0.444264\n",
            "dtype: float64\n"
          ]
        }
      ]
    },
    {
      "cell_type": "code",
      "source": [
        "pY"
      ],
      "metadata": {
        "colab": {
          "base_uri": "https://localhost:8080/",
          "height": 267
        },
        "id": "-1RybzxBPJh6",
        "outputId": "ac965754-0407-4155-84b7-afe066444924"
      },
      "execution_count": 143,
      "outputs": [
        {
          "output_type": "execute_result",
          "data": {
            "text/plain": [
              "        gender\n",
              "cid           \n",
              "0     0.587919\n",
              "1     0.244309\n",
              "...        ...\n",
              "1998  0.645957\n",
              "1999  0.917383\n",
              "\n",
              "[2000 rows x 1 columns]"
            ],
            "text/html": [
              "\n",
              "  <div id=\"df-4186ba0b-135e-4277-a10a-54f5feab7325\">\n",
              "    <div class=\"colab-df-container\">\n",
              "      <div>\n",
              "<style scoped>\n",
              "    .dataframe tbody tr th:only-of-type {\n",
              "        vertical-align: middle;\n",
              "    }\n",
              "\n",
              "    .dataframe tbody tr th {\n",
              "        vertical-align: top;\n",
              "    }\n",
              "\n",
              "    .dataframe thead th {\n",
              "        text-align: right;\n",
              "    }\n",
              "</style>\n",
              "<table border=\"1\" class=\"dataframe\">\n",
              "  <thead>\n",
              "    <tr style=\"text-align: right;\">\n",
              "      <th></th>\n",
              "      <th>gender</th>\n",
              "    </tr>\n",
              "    <tr>\n",
              "      <th>cid</th>\n",
              "      <th></th>\n",
              "    </tr>\n",
              "  </thead>\n",
              "  <tbody>\n",
              "    <tr>\n",
              "      <th>0</th>\n",
              "      <td>0.587919</td>\n",
              "    </tr>\n",
              "    <tr>\n",
              "      <th>1</th>\n",
              "      <td>0.244309</td>\n",
              "    </tr>\n",
              "    <tr>\n",
              "      <th>...</th>\n",
              "      <td>...</td>\n",
              "    </tr>\n",
              "    <tr>\n",
              "      <th>1998</th>\n",
              "      <td>0.645957</td>\n",
              "    </tr>\n",
              "    <tr>\n",
              "      <th>1999</th>\n",
              "      <td>0.917383</td>\n",
              "    </tr>\n",
              "  </tbody>\n",
              "</table>\n",
              "<p>2000 rows × 1 columns</p>\n",
              "</div>\n",
              "      <button class=\"colab-df-convert\" onclick=\"convertToInteractive('df-4186ba0b-135e-4277-a10a-54f5feab7325')\"\n",
              "              title=\"Convert this dataframe to an interactive table.\"\n",
              "              style=\"display:none;\">\n",
              "        \n",
              "  <svg xmlns=\"http://www.w3.org/2000/svg\" height=\"24px\"viewBox=\"0 0 24 24\"\n",
              "       width=\"24px\">\n",
              "    <path d=\"M0 0h24v24H0V0z\" fill=\"none\"/>\n",
              "    <path d=\"M18.56 5.44l.94 2.06.94-2.06 2.06-.94-2.06-.94-.94-2.06-.94 2.06-2.06.94zm-11 1L8.5 8.5l.94-2.06 2.06-.94-2.06-.94L8.5 2.5l-.94 2.06-2.06.94zm10 10l.94 2.06.94-2.06 2.06-.94-2.06-.94-.94-2.06-.94 2.06-2.06.94z\"/><path d=\"M17.41 7.96l-1.37-1.37c-.4-.4-.92-.59-1.43-.59-.52 0-1.04.2-1.43.59L10.3 9.45l-7.72 7.72c-.78.78-.78 2.05 0 2.83L4 21.41c.39.39.9.59 1.41.59.51 0 1.02-.2 1.41-.59l7.78-7.78 2.81-2.81c.8-.78.8-2.07 0-2.86zM5.41 20L4 18.59l7.72-7.72 1.47 1.35L5.41 20z\"/>\n",
              "  </svg>\n",
              "      </button>\n",
              "      \n",
              "  <style>\n",
              "    .colab-df-container {\n",
              "      display:flex;\n",
              "      flex-wrap:wrap;\n",
              "      gap: 12px;\n",
              "    }\n",
              "\n",
              "    .colab-df-convert {\n",
              "      background-color: #E8F0FE;\n",
              "      border: none;\n",
              "      border-radius: 50%;\n",
              "      cursor: pointer;\n",
              "      display: none;\n",
              "      fill: #1967D2;\n",
              "      height: 32px;\n",
              "      padding: 0 0 0 0;\n",
              "      width: 32px;\n",
              "    }\n",
              "\n",
              "    .colab-df-convert:hover {\n",
              "      background-color: #E2EBFA;\n",
              "      box-shadow: 0px 1px 2px rgba(60, 64, 67, 0.3), 0px 1px 3px 1px rgba(60, 64, 67, 0.15);\n",
              "      fill: #174EA6;\n",
              "    }\n",
              "\n",
              "    [theme=dark] .colab-df-convert {\n",
              "      background-color: #3B4455;\n",
              "      fill: #D2E3FC;\n",
              "    }\n",
              "\n",
              "    [theme=dark] .colab-df-convert:hover {\n",
              "      background-color: #434B5C;\n",
              "      box-shadow: 0px 1px 3px 1px rgba(0, 0, 0, 0.15);\n",
              "      filter: drop-shadow(0px 1px 2px rgba(0, 0, 0, 0.3));\n",
              "      fill: #FFFFFF;\n",
              "    }\n",
              "  </style>\n",
              "\n",
              "      <script>\n",
              "        const buttonEl =\n",
              "          document.querySelector('#df-4186ba0b-135e-4277-a10a-54f5feab7325 button.colab-df-convert');\n",
              "        buttonEl.style.display =\n",
              "          google.colab.kernel.accessAllowed ? 'block' : 'none';\n",
              "\n",
              "        async function convertToInteractive(key) {\n",
              "          const element = document.querySelector('#df-4186ba0b-135e-4277-a10a-54f5feab7325');\n",
              "          const dataTable =\n",
              "            await google.colab.kernel.invokeFunction('convertToInteractive',\n",
              "                                                     [key], {});\n",
              "          if (!dataTable) return;\n",
              "\n",
              "          const docLinkHtml = 'Like what you see? Visit the ' +\n",
              "            '<a target=\"_blank\" href=https://colab.research.google.com/notebooks/data_table.ipynb>data table notebook</a>'\n",
              "            + ' to learn more about interactive tables.';\n",
              "          element.innerHTML = '';\n",
              "          dataTable['output_type'] = 'display_data';\n",
              "          await google.colab.output.renderOutput(dataTable, element);\n",
              "          const docLink = document.createElement('div');\n",
              "          docLink.innerHTML = docLinkHtml;\n",
              "          element.appendChild(docLink);\n",
              "        }\n",
              "      </script>\n",
              "    </div>\n",
              "  </div>\n",
              "  "
            ]
          },
          "metadata": {},
          "execution_count": 143
        }
      ]
    },
    {
      "cell_type": "code",
      "source": [
        "pd.read_csv('💳Baseline (11).csv')"
      ],
      "metadata": {
        "id": "yJRwrQsAC5B5",
        "outputId": "d480cea5-da87-4c50-a8cf-a65f3cd927c3",
        "colab": {
          "base_uri": "https://localhost:8080/",
          "height": 236
        }
      },
      "execution_count": 133,
      "outputs": [
        {
          "output_type": "execute_result",
          "data": {
            "text/plain": [
              "       cid    gender\n",
              "0        0  0.410756\n",
              "1        1  0.367415\n",
              "...    ...       ...\n",
              "1998  1998  0.730247\n",
              "1999  1999  0.956158\n",
              "\n",
              "[2000 rows x 2 columns]"
            ],
            "text/html": [
              "\n",
              "  <div id=\"df-e6bd20d7-ad24-40ec-9aa1-2b3a38134516\">\n",
              "    <div class=\"colab-df-container\">\n",
              "      <div>\n",
              "<style scoped>\n",
              "    .dataframe tbody tr th:only-of-type {\n",
              "        vertical-align: middle;\n",
              "    }\n",
              "\n",
              "    .dataframe tbody tr th {\n",
              "        vertical-align: top;\n",
              "    }\n",
              "\n",
              "    .dataframe thead th {\n",
              "        text-align: right;\n",
              "    }\n",
              "</style>\n",
              "<table border=\"1\" class=\"dataframe\">\n",
              "  <thead>\n",
              "    <tr style=\"text-align: right;\">\n",
              "      <th></th>\n",
              "      <th>cid</th>\n",
              "      <th>gender</th>\n",
              "    </tr>\n",
              "  </thead>\n",
              "  <tbody>\n",
              "    <tr>\n",
              "      <th>0</th>\n",
              "      <td>0</td>\n",
              "      <td>0.410756</td>\n",
              "    </tr>\n",
              "    <tr>\n",
              "      <th>1</th>\n",
              "      <td>1</td>\n",
              "      <td>0.367415</td>\n",
              "    </tr>\n",
              "    <tr>\n",
              "      <th>...</th>\n",
              "      <td>...</td>\n",
              "      <td>...</td>\n",
              "    </tr>\n",
              "    <tr>\n",
              "      <th>1998</th>\n",
              "      <td>1998</td>\n",
              "      <td>0.730247</td>\n",
              "    </tr>\n",
              "    <tr>\n",
              "      <th>1999</th>\n",
              "      <td>1999</td>\n",
              "      <td>0.956158</td>\n",
              "    </tr>\n",
              "  </tbody>\n",
              "</table>\n",
              "<p>2000 rows × 2 columns</p>\n",
              "</div>\n",
              "      <button class=\"colab-df-convert\" onclick=\"convertToInteractive('df-e6bd20d7-ad24-40ec-9aa1-2b3a38134516')\"\n",
              "              title=\"Convert this dataframe to an interactive table.\"\n",
              "              style=\"display:none;\">\n",
              "        \n",
              "  <svg xmlns=\"http://www.w3.org/2000/svg\" height=\"24px\"viewBox=\"0 0 24 24\"\n",
              "       width=\"24px\">\n",
              "    <path d=\"M0 0h24v24H0V0z\" fill=\"none\"/>\n",
              "    <path d=\"M18.56 5.44l.94 2.06.94-2.06 2.06-.94-2.06-.94-.94-2.06-.94 2.06-2.06.94zm-11 1L8.5 8.5l.94-2.06 2.06-.94-2.06-.94L8.5 2.5l-.94 2.06-2.06.94zm10 10l.94 2.06.94-2.06 2.06-.94-2.06-.94-.94-2.06-.94 2.06-2.06.94z\"/><path d=\"M17.41 7.96l-1.37-1.37c-.4-.4-.92-.59-1.43-.59-.52 0-1.04.2-1.43.59L10.3 9.45l-7.72 7.72c-.78.78-.78 2.05 0 2.83L4 21.41c.39.39.9.59 1.41.59.51 0 1.02-.2 1.41-.59l7.78-7.78 2.81-2.81c.8-.78.8-2.07 0-2.86zM5.41 20L4 18.59l7.72-7.72 1.47 1.35L5.41 20z\"/>\n",
              "  </svg>\n",
              "      </button>\n",
              "      \n",
              "  <style>\n",
              "    .colab-df-container {\n",
              "      display:flex;\n",
              "      flex-wrap:wrap;\n",
              "      gap: 12px;\n",
              "    }\n",
              "\n",
              "    .colab-df-convert {\n",
              "      background-color: #E8F0FE;\n",
              "      border: none;\n",
              "      border-radius: 50%;\n",
              "      cursor: pointer;\n",
              "      display: none;\n",
              "      fill: #1967D2;\n",
              "      height: 32px;\n",
              "      padding: 0 0 0 0;\n",
              "      width: 32px;\n",
              "    }\n",
              "\n",
              "    .colab-df-convert:hover {\n",
              "      background-color: #E2EBFA;\n",
              "      box-shadow: 0px 1px 2px rgba(60, 64, 67, 0.3), 0px 1px 3px 1px rgba(60, 64, 67, 0.15);\n",
              "      fill: #174EA6;\n",
              "    }\n",
              "\n",
              "    [theme=dark] .colab-df-convert {\n",
              "      background-color: #3B4455;\n",
              "      fill: #D2E3FC;\n",
              "    }\n",
              "\n",
              "    [theme=dark] .colab-df-convert:hover {\n",
              "      background-color: #434B5C;\n",
              "      box-shadow: 0px 1px 3px 1px rgba(0, 0, 0, 0.15);\n",
              "      filter: drop-shadow(0px 1px 2px rgba(0, 0, 0, 0.3));\n",
              "      fill: #FFFFFF;\n",
              "    }\n",
              "  </style>\n",
              "\n",
              "      <script>\n",
              "        const buttonEl =\n",
              "          document.querySelector('#df-e6bd20d7-ad24-40ec-9aa1-2b3a38134516 button.colab-df-convert');\n",
              "        buttonEl.style.display =\n",
              "          google.colab.kernel.accessAllowed ? 'block' : 'none';\n",
              "\n",
              "        async function convertToInteractive(key) {\n",
              "          const element = document.querySelector('#df-e6bd20d7-ad24-40ec-9aa1-2b3a38134516');\n",
              "          const dataTable =\n",
              "            await google.colab.kernel.invokeFunction('convertToInteractive',\n",
              "                                                     [key], {});\n",
              "          if (!dataTable) return;\n",
              "\n",
              "          const docLinkHtml = 'Like what you see? Visit the ' +\n",
              "            '<a target=\"_blank\" href=https://colab.research.google.com/notebooks/data_table.ipynb>data table notebook</a>'\n",
              "            + ' to learn more about interactive tables.';\n",
              "          element.innerHTML = '';\n",
              "          dataTable['output_type'] = 'display_data';\n",
              "          await google.colab.output.renderOutput(dataTable, element);\n",
              "          const docLink = document.createElement('div');\n",
              "          docLink.innerHTML = docLinkHtml;\n",
              "          element.appendChild(docLink);\n",
              "        }\n",
              "      </script>\n",
              "    </div>\n",
              "  </div>\n",
              "  "
            ]
          },
          "metadata": {},
          "execution_count": 133
        }
      ]
    },
    {
      "cell_type": "code",
      "source": [
        "pY.reset_index().to_csv('💳Baseline.csv', index_label='cid', index=False, float_format='%10f')"
      ],
      "metadata": {
        "id": "eDT5DEO7v2ET"
      },
      "execution_count": 144,
      "outputs": []
    }
  ]
}