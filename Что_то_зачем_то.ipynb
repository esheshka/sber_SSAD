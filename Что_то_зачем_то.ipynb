{
  "nbformat": 4,
  "nbformat_minor": 0,
  "metadata": {
    "colab": {
      "provenance": [],
      "collapsed_sections": [
        "eXtjhdu1RqiZ",
        "4nJdyJPREIdF"
      ],
      "include_colab_link": true
    },
    "kernelspec": {
      "name": "python3",
      "display_name": "Python 3"
    },
    "language_info": {
      "name": "python"
    }
  },
  "cells": [
    {
      "cell_type": "markdown",
      "metadata": {
        "id": "view-in-github",
        "colab_type": "text"
      },
      "source": [
        "<a href=\"https://colab.research.google.com/github/esheshka/team_one_project/blob/Andrey/%D0%A7%D1%82%D0%BE_%D1%82%D0%BE_%D0%B7%D0%B0%D1%87%D0%B5%D0%BC_%D1%82%D0%BE.ipynb\" target=\"_parent\"><img src=\"https://colab.research.google.com/assets/colab-badge.svg\" alt=\"Open In Colab\"/></a>"
      ]
    },
    {
      "cell_type": "markdown",
      "source": [
        "# **Imports**"
      ],
      "metadata": {
        "id": "r14cTJ70c4ok"
      }
    },
    {
      "cell_type": "code",
      "source": [
        "from google.colab import drive; drive.mount('/content/drive')"
      ],
      "metadata": {
        "colab": {
          "base_uri": "https://localhost:8080/"
        },
        "id": "-0VMhfZwPmlX",
        "outputId": "b760cfac-ff60-4451-b507-c0c4de49f0a1"
      },
      "execution_count": 79,
      "outputs": [
        {
          "output_type": "stream",
          "name": "stdout",
          "text": [
            "Drive already mounted at /content/drive; to attempt to forcibly remount, call drive.mount(\"/content/drive\", force_remount=True).\n"
          ]
        }
      ]
    },
    {
      "cell_type": "code",
      "source": [
        "!pip -q install --upgrade --force-reinstall --no-deps kaggle > log  # upgrade kaggle package (to avoid a warning)\n",
        "!mkdir -p ~/.kaggle                                           # .kaggle folder must contain kaggle.json for kaggle executable to properly authenticate you to Kaggle.com\n",
        "!cp /content/drive/MyDrive/kaggle.json ~/.kaggle/kaggle.json >log  # First, download kaggle.json from kaggle.com (in Account page) and place it in the root of mounted Google Drive\n",
        "!cp kaggle.json ~/.kaggle/kaggle.json > log                   # Alternative location of kaggle.json (without a connection to Google Drive)\n",
        "!chmod 600 ~/.kaggle/kaggle.json                              # give only the owner full read/write access to kaggle.json\n",
        "!kaggle config set -n competition -v 26jun23                  # set the competition context for the next few kaggle API calls. !kaggle config view - shows current settings\n",
        "!kaggle competitions download >> log                          # download competition dataset as a zip file\n",
        "!unzip -o *.zip >> log                                        # Kaggle dataset is copied as a single file and needs to be unzipped.\n",
        "!kaggle competitions leaderboard --show                       # print public leaderboard"
      ],
      "metadata": {
        "colab": {
          "base_uri": "https://localhost:8080/"
        },
        "id": "Qr42QbN-QpJ2",
        "outputId": "cf20d6e1-3395-4a9a-a089-f3672b771d47"
      },
      "execution_count": 80,
      "outputs": [
        {
          "output_type": "stream",
          "name": "stdout",
          "text": [
            "cp: cannot stat 'kaggle.json': No such file or directory\n",
            "- competition is now set to: 26jun23\n",
            "Using competition: 26jun23\n",
            "  teamId  teamName                       submissionDate       score    \n",
            "--------  -----------------------------  -------------------  -------  \n",
            "10612706  Michael Kondrashov             2023-06-30 11:34:09  0.88424  \n",
            "10612701  Никита Угрюмов                 2023-06-30 11:59:02  0.88402  \n",
            "10612695  Ne1tr0N [Maxim Mashtaler]      2023-06-29 22:06:01  0.88242  \n",
            "10614699  Dmitriy Geyzha                 2023-06-30 11:59:52  0.87769  \n",
            "10616508  Ulyana Klushova                2023-06-30 12:24:49  0.87710  \n",
            "10614521  Konstantin Zeigman             2023-06-30 11:37:17  0.87691  \n",
            "10612698  Бобы                           2023-06-30 10:43:59  0.87539  \n",
            "10617156  Team 5                         2023-06-30 11:08:02  0.87355  \n",
            "10612681  Maria Alyushina                2023-06-29 18:43:03  0.87097  \n",
            "10612680  esheshka                       2023-06-30 12:29:16  0.87067  \n",
            "10613713  Mikhail Vovk                   2023-06-29 13:04:54  0.86403  \n",
            "10612703  Пельмени (Хомяков и Ткачев)    2023-06-30 11:44:45  0.85912  \n",
            "10618350  Seleznev Nikita                2023-06-29 12:18:15  0.85792  \n",
            "10617148  Vladimir Babushkin             2023-06-29 21:13:06  0.85571  \n",
            "10623729  Артём Гуйван                   2023-06-30 12:15:33  0.85374  \n",
            "10618717  Team1                          2023-06-28 19:48:38  0.84860  \n",
            "10617279  Alex Rasskazchikov             2023-06-30 12:23:09  0.84255  \n",
            "10626468  Sonya Ryabova                  2023-06-30 11:59:46  0.83720  \n",
            "10612716  Luka Duvanov & Fedorova Maria  2023-06-30 11:13:44  0.81829  \n",
            "10617093  Андрей Тынков                  2023-06-30 10:36:30  0.77979  \n",
            "10617114  Ксения Шкулева                 2023-06-30 12:29:26  0.77946  \n",
            "10612789  Liz_Margo_Mila                 2023-06-30 11:44:42  0.77463  \n",
            "10612678  Чистяков Лев                   2023-06-28 11:40:57  0.76747  \n",
            "10620827  Name                           2023-06-29 14:09:30  0.74947  \n",
            "10614297  ГУСИ                           2023-06-30 11:09:38  0.69533  \n",
            "10622182  vlligo                         2023-06-30 12:18:31  0.69239  \n",
            "10617643  Pavel Efimov                   2023-06-29 21:35:28  0.55018  \n",
            "10605413  💳baseline,LR:$Stat+MCCEnc      2023-06-25 18:15:10  0.53220  \n"
          ]
        }
      ]
    },
    {
      "cell_type": "code",
      "source": [
        "%%time\n",
        "%%capture\n",
        "%reset -f\n",
        "!pip install -U sentence-transformers tfds-nightly tensorflow tensorflow_addons plotly > log\n",
        "from IPython.core.interactiveshell import InteractiveShell as IS; IS.ast_node_interactivity = \"all\"  # allows multiple prints from a cell\n",
        "import numpy as np, pandas as pd, time, matplotlib.pyplot as plt, os, plotly.express as px, xgboost as xgb, lightgbm, re, tensorflow as tf, tensorflow.keras as keras\n",
        "from sklearn.preprocessing import MinMaxScaler, PolynomialFeatures\n",
        "from sklearn.model_selection import train_test_split, GroupKFold\n",
        "from sklearn.linear_model import LogisticRegression as LR\n",
        "from sklearn.metrics import roc_auc_score\n",
        "from sklearn.decomposition import PCA\n",
        "from sklearn.neural_network import MLPClassifier   # SKLearn's MLP is optimised for CPU (and doesn't use GPU)\n",
        "from sentence_transformers import SentenceTransformer as SBERT\n",
        "from keras.layers import Flatten, Dense\n",
        "\n",
        "os.environ['TF_DETERMINISTIC_OPS'] = '1'; os.environ['TF_CUDNN_DETERMINISTIC'] = '1'   # helps to seed TF's RNG on GPUs\n",
        "np.set_printoptions(linewidth=10000, precision=2, edgeitems=20, suppress=True)\n",
        "pd.set_option('display.max_colwidth', 100, 'display.max_columns', 10, 'display.width', 1000, 'display.max_rows', 8)\n",
        "\n",
        "class Timer():\n",
        "  def __init__(self, lim:'RunTimeLimit'=60*2): self.t0, self.lim, _ = time.time(), lim, print(f'⏳ started. You have {lim} sec. Good luck!')\n",
        "  def ShowTime(self):\n",
        "    msg = f'Runtime is {time.time()-self.t0:.0f} sec'\n",
        "    print(f'\\033[91m\\033[1m' + msg + f' > {self.lim} sec limit!!!\\033[0m' if (time.time()-self.t0-1) > self.lim else msg)"
      ],
      "metadata": {
        "colab": {
          "base_uri": "https://localhost:8080/"
        },
        "id": "Vyp3Jf3DQz5_",
        "outputId": "85ef120e-8130-42d0-86f4-24182fed2be5"
      },
      "execution_count": 81,
      "outputs": [
        {
          "output_type": "stream",
          "name": "stdout",
          "text": [
            "CPU times: user 1.49 s, sys: 76 ms, total: 1.56 s\n",
            "Wall time: 50.5 s\n"
          ]
        }
      ]
    },
    {
      "cell_type": "code",
      "source": [
        "from sklearn.ensemble import RandomForestClassifier as RFC\n",
        "from sklearn.ensemble import GradientBoostingClassifier as GBC\n",
        "\n",
        "from sklearn.neural_network import MLPClassifier as MLPC\n",
        "\n",
        "from sklearn.model_selection import GridSearchCV as GSCV"
      ],
      "metadata": {
        "id": "mf7ks7qtHTZH"
      },
      "execution_count": 82,
      "outputs": []
    },
    {
      "cell_type": "code",
      "source": [
        "#@title MCC\n",
        "%time mcc = pd.read_csv('_mcc.csv', index_col='mcc')"
      ],
      "metadata": {
        "id": "W_Z-89adkPhU",
        "colab": {
          "base_uri": "https://localhost:8080/"
        },
        "cellView": "form",
        "outputId": "8d4b6627-252f-43ef-ed31-0385dceffb81"
      },
      "execution_count": 83,
      "outputs": [
        {
          "output_type": "stream",
          "name": "stdout",
          "text": [
            "CPU times: user 5.15 ms, sys: 0 ns, total: 5.15 ms\n",
            "Wall time: 26.3 ms\n"
          ]
        }
      ]
    },
    {
      "cell_type": "code",
      "source": [
        "#@title TTC\n",
        "%time ttc = pd.read_csv('_ttc.csv', index_col='ttc');"
      ],
      "metadata": {
        "colab": {
          "base_uri": "https://localhost:8080/"
        },
        "cellView": "form",
        "id": "UC4EHEmdRUcl",
        "outputId": "17411e43-4da9-43cc-9bb2-16baba42da6e"
      },
      "execution_count": 84,
      "outputs": [
        {
          "output_type": "stream",
          "name": "stdout",
          "text": [
            "CPU times: user 4.22 ms, sys: 0 ns, total: 4.22 ms\n",
            "Wall time: 4.24 ms\n"
          ]
        }
      ]
    },
    {
      "cell_type": "code",
      "source": [
        "#@title Gender\n",
        "%time gender = pd.read_csv('gender.csv', index_col='cid')\n",
        "trainY, testY = gender.query('gender==gender'), gender.query('gender!=gender')"
      ],
      "metadata": {
        "colab": {
          "base_uri": "https://localhost:8080/"
        },
        "id": "hWLIgd0QRUkm",
        "outputId": "e52d8722-f3b6-4397-8d4f-f2f0a74c31ba"
      },
      "execution_count": 85,
      "outputs": [
        {
          "output_type": "stream",
          "name": "stdout",
          "text": [
            "CPU times: user 6.26 ms, sys: 12 µs, total: 6.27 ms\n",
            "Wall time: 17.3 ms\n"
          ]
        }
      ]
    },
    {
      "cell_type": "code",
      "source": [
        "#@title TRX\n",
        "%time dfTrx = pd.read_csv('trx.csv').sort_values(['cid','dt','tm'])"
      ],
      "metadata": {
        "colab": {
          "base_uri": "https://localhost:8080/"
        },
        "cellView": "form",
        "id": "y3dT50Q4RUsI",
        "outputId": "eae6851d-da36-4594-b1c9-fa4686a5f7d5"
      },
      "execution_count": 86,
      "outputs": [
        {
          "output_type": "stream",
          "name": "stdout",
          "text": [
            "CPU times: user 9.43 s, sys: 959 ms, total: 10.4 s\n",
            "Wall time: 37 s\n"
          ]
        }
      ]
    },
    {
      "cell_type": "code",
      "source": [
        "df_ = gender.drop('gender', axis=1); df_.T  # a list of ordered client IDs (as index)\n",
        "\n",
        "pd.set_option('display.max_colwidth', 100, 'display.max_columns', 20, 'display.width', 1000, 'display.max_rows', 4)\n",
        "tmr = Timer() # runtime limit (in seconds). Add all of your code after the timer"
      ],
      "metadata": {
        "colab": {
          "base_uri": "https://localhost:8080/",
          "height": 0
        },
        "id": "H4xnvYxmriVx",
        "outputId": "1941bbbc-1626-445d-9098-74534e937929"
      },
      "execution_count": 87,
      "outputs": [
        {
          "output_type": "execute_result",
          "data": {
            "text/plain": [
              "Empty DataFrame\n",
              "Columns: [0, 1, 2, 3, 4, 5, 6, 7, 8, 9, 10, 11, 12, 13, 14, 15, 16, 17, 18, 19, 20, 21, 22, 23, 24, 25, 26, 27, 28, 29, 30, 31, 32, 33, 34, 35, 36, 37, 38, 39, 40, 41, 42, 43, 44, 45, 46, 47, 48, 49, 50, 51, 52, 53, 54, 55, 56, 57, 58, 59, 60, 61, 62, 63, 64, 65, 66, 67, 68, 69, 70, 71, 72, 73, 74, 75, 76, 77, 78, 79, 80, 81, 82, 83, 84, 85, 86, 87, 88, 89, 90, 91, 92, 93, 94, 95, 96, 97, 98, 99, ...]\n",
              "Index: []\n",
              "\n",
              "[0 rows x 8400 columns]"
            ],
            "text/html": [
              "\n",
              "  <div id=\"df-1e87944a-4a86-49b3-b938-f9769315adde\">\n",
              "    <div class=\"colab-df-container\">\n",
              "      <div>\n",
              "<style scoped>\n",
              "    .dataframe tbody tr th:only-of-type {\n",
              "        vertical-align: middle;\n",
              "    }\n",
              "\n",
              "    .dataframe tbody tr th {\n",
              "        vertical-align: top;\n",
              "    }\n",
              "\n",
              "    .dataframe thead th {\n",
              "        text-align: right;\n",
              "    }\n",
              "</style>\n",
              "<table border=\"1\" class=\"dataframe\">\n",
              "  <thead>\n",
              "    <tr style=\"text-align: right;\">\n",
              "      <th>cid</th>\n",
              "      <th>0</th>\n",
              "      <th>1</th>\n",
              "      <th>2</th>\n",
              "      <th>3</th>\n",
              "      <th>4</th>\n",
              "      <th>...</th>\n",
              "      <th>8395</th>\n",
              "      <th>8396</th>\n",
              "      <th>8397</th>\n",
              "      <th>8398</th>\n",
              "      <th>8399</th>\n",
              "    </tr>\n",
              "  </thead>\n",
              "  <tbody>\n",
              "  </tbody>\n",
              "</table>\n",
              "<p>0 rows × 8400 columns</p>\n",
              "</div>\n",
              "      <button class=\"colab-df-convert\" onclick=\"convertToInteractive('df-1e87944a-4a86-49b3-b938-f9769315adde')\"\n",
              "              title=\"Convert this dataframe to an interactive table.\"\n",
              "              style=\"display:none;\">\n",
              "        \n",
              "  <svg xmlns=\"http://www.w3.org/2000/svg\" height=\"24px\"viewBox=\"0 0 24 24\"\n",
              "       width=\"24px\">\n",
              "    <path d=\"M0 0h24v24H0V0z\" fill=\"none\"/>\n",
              "    <path d=\"M18.56 5.44l.94 2.06.94-2.06 2.06-.94-2.06-.94-.94-2.06-.94 2.06-2.06.94zm-11 1L8.5 8.5l.94-2.06 2.06-.94-2.06-.94L8.5 2.5l-.94 2.06-2.06.94zm10 10l.94 2.06.94-2.06 2.06-.94-2.06-.94-.94-2.06-.94 2.06-2.06.94z\"/><path d=\"M17.41 7.96l-1.37-1.37c-.4-.4-.92-.59-1.43-.59-.52 0-1.04.2-1.43.59L10.3 9.45l-7.72 7.72c-.78.78-.78 2.05 0 2.83L4 21.41c.39.39.9.59 1.41.59.51 0 1.02-.2 1.41-.59l7.78-7.78 2.81-2.81c.8-.78.8-2.07 0-2.86zM5.41 20L4 18.59l7.72-7.72 1.47 1.35L5.41 20z\"/>\n",
              "  </svg>\n",
              "      </button>\n",
              "      \n",
              "  <style>\n",
              "    .colab-df-container {\n",
              "      display:flex;\n",
              "      flex-wrap:wrap;\n",
              "      gap: 12px;\n",
              "    }\n",
              "\n",
              "    .colab-df-convert {\n",
              "      background-color: #E8F0FE;\n",
              "      border: none;\n",
              "      border-radius: 50%;\n",
              "      cursor: pointer;\n",
              "      display: none;\n",
              "      fill: #1967D2;\n",
              "      height: 32px;\n",
              "      padding: 0 0 0 0;\n",
              "      width: 32px;\n",
              "    }\n",
              "\n",
              "    .colab-df-convert:hover {\n",
              "      background-color: #E2EBFA;\n",
              "      box-shadow: 0px 1px 2px rgba(60, 64, 67, 0.3), 0px 1px 3px 1px rgba(60, 64, 67, 0.15);\n",
              "      fill: #174EA6;\n",
              "    }\n",
              "\n",
              "    [theme=dark] .colab-df-convert {\n",
              "      background-color: #3B4455;\n",
              "      fill: #D2E3FC;\n",
              "    }\n",
              "\n",
              "    [theme=dark] .colab-df-convert:hover {\n",
              "      background-color: #434B5C;\n",
              "      box-shadow: 0px 1px 3px 1px rgba(0, 0, 0, 0.15);\n",
              "      filter: drop-shadow(0px 1px 2px rgba(0, 0, 0, 0.3));\n",
              "      fill: #FFFFFF;\n",
              "    }\n",
              "  </style>\n",
              "\n",
              "      <script>\n",
              "        const buttonEl =\n",
              "          document.querySelector('#df-1e87944a-4a86-49b3-b938-f9769315adde button.colab-df-convert');\n",
              "        buttonEl.style.display =\n",
              "          google.colab.kernel.accessAllowed ? 'block' : 'none';\n",
              "\n",
              "        async function convertToInteractive(key) {\n",
              "          const element = document.querySelector('#df-1e87944a-4a86-49b3-b938-f9769315adde');\n",
              "          const dataTable =\n",
              "            await google.colab.kernel.invokeFunction('convertToInteractive',\n",
              "                                                     [key], {});\n",
              "          if (!dataTable) return;\n",
              "\n",
              "          const docLinkHtml = 'Like what you see? Visit the ' +\n",
              "            '<a target=\"_blank\" href=https://colab.research.google.com/notebooks/data_table.ipynb>data table notebook</a>'\n",
              "            + ' to learn more about interactive tables.';\n",
              "          element.innerHTML = '';\n",
              "          dataTable['output_type'] = 'display_data';\n",
              "          await google.colab.output.renderOutput(dataTable, element);\n",
              "          const docLink = document.createElement('div');\n",
              "          docLink.innerHTML = docLinkHtml;\n",
              "          element.appendChild(docLink);\n",
              "        }\n",
              "      </script>\n",
              "    </div>\n",
              "  </div>\n",
              "  "
            ]
          },
          "metadata": {},
          "execution_count": 87
        },
        {
          "output_type": "stream",
          "name": "stdout",
          "text": [
            "⏳ started. You have 120 sec. Good luck!\n"
          ]
        }
      ]
    },
    {
      "cell_type": "markdown",
      "source": [
        "# **Imports**"
      ],
      "metadata": {
        "id": "NLN_WWv1Svn2"
      }
    },
    {
      "cell_type": "code",
      "source": [
        "!pip install lightgbm\n",
        "!pip install catboost\n",
        "\n",
        "from lightgbm import LGBMClassifier as LGBMC\n",
        "from catboost import CatBoostClassifier as CBC"
      ],
      "metadata": {
        "colab": {
          "base_uri": "https://localhost:8080/"
        },
        "id": "aX1TxifrSy5S",
        "outputId": "2627331c-b3fd-4993-854d-5d449d95e041"
      },
      "execution_count": 88,
      "outputs": [
        {
          "output_type": "stream",
          "name": "stdout",
          "text": [
            "Requirement already satisfied: lightgbm in /usr/local/lib/python3.10/dist-packages (3.3.5)\n",
            "Requirement already satisfied: wheel in /usr/local/lib/python3.10/dist-packages (from lightgbm) (0.40.0)\n",
            "Requirement already satisfied: numpy in /usr/local/lib/python3.10/dist-packages (from lightgbm) (1.22.4)\n",
            "Requirement already satisfied: scipy in /usr/local/lib/python3.10/dist-packages (from lightgbm) (1.10.1)\n",
            "Requirement already satisfied: scikit-learn!=0.22.0 in /usr/local/lib/python3.10/dist-packages (from lightgbm) (1.2.2)\n",
            "Requirement already satisfied: joblib>=1.1.1 in /usr/local/lib/python3.10/dist-packages (from scikit-learn!=0.22.0->lightgbm) (1.2.0)\n",
            "Requirement already satisfied: threadpoolctl>=2.0.0 in /usr/local/lib/python3.10/dist-packages (from scikit-learn!=0.22.0->lightgbm) (3.1.0)\n",
            "\u001b[31mERROR: Operation cancelled by user\u001b[0m\u001b[31m\n",
            "\u001b[0mRequirement already satisfied: catboost in /usr/local/lib/python3.10/dist-packages (1.2)\n",
            "Requirement already satisfied: graphviz in /usr/local/lib/python3.10/dist-packages (from catboost) (0.20.1)\n",
            "Requirement already satisfied: matplotlib in /usr/local/lib/python3.10/dist-packages (from catboost) (3.7.1)\n",
            "Requirement already satisfied: numpy>=1.16.0 in /usr/local/lib/python3.10/dist-packages (from catboost) (1.22.4)\n",
            "Requirement already satisfied: pandas>=0.24 in /usr/local/lib/python3.10/dist-packages (from catboost) (1.5.3)\n",
            "Requirement already satisfied: scipy in /usr/local/lib/python3.10/dist-packages (from catboost) (1.10.1)\n",
            "Requirement already satisfied: plotly in /usr/local/lib/python3.10/dist-packages (from catboost) (5.15.0)\n",
            "Requirement already satisfied: six in /usr/local/lib/python3.10/dist-packages (from catboost) (1.16.0)\n",
            "Requirement already satisfied: python-dateutil>=2.8.1 in /usr/local/lib/python3.10/dist-packages (from pandas>=0.24->catboost) (2.8.2)\n",
            "Requirement already satisfied: pytz>=2020.1 in /usr/local/lib/python3.10/dist-packages (from pandas>=0.24->catboost) (2022.7.1)\n",
            "Requirement already satisfied: contourpy>=1.0.1 in /usr/local/lib/python3.10/dist-packages (from matplotlib->catboost) (1.1.0)\n",
            "Requirement already satisfied: cycler>=0.10 in /usr/local/lib/python3.10/dist-packages (from matplotlib->catboost) (0.11.0)\n",
            "Requirement already satisfied: fonttools>=4.22.0 in /usr/local/lib/python3.10/dist-packages (from matplotlib->catboost) (4.40.0)\n",
            "Requirement already satisfied: kiwisolver>=1.0.1 in /usr/local/lib/python3.10/dist-packages (from matplotlib->catboost) (1.4.4)\n",
            "Requirement already satisfied: packaging>=20.0 in /usr/local/lib/python3.10/dist-packages (from matplotlib->catboost) (23.1)\n",
            "Requirement already satisfied: pillow>=6.2.0 in /usr/local/lib/python3.10/dist-packages (from matplotlib->catboost) (8.4.0)\n",
            "Requirement already satisfied: pyparsing>=2.3.1 in /usr/local/lib/python3.10/dist-packages (from matplotlib->catboost) (3.1.0)\n",
            "Requirement already satisfied: tenacity>=6.2.0 in /usr/local/lib/python3.10/dist-packages (from plotly->catboost) (8.2.2)\n",
            "\u001b[31mERROR: Operation cancelled by user\u001b[0m\u001b[31m\n",
            "\u001b[0m"
          ]
        }
      ]
    },
    {
      "cell_type": "markdown",
      "source": [
        "# **Interesting**"
      ],
      "metadata": {
        "id": "4j3DZA3NrpEQ"
      }
    },
    {
      "cell_type": "code",
      "source": [
        "df_test = dfTrx.join(gender, on='cid', how='inner')\n",
        "df_test = df_test[~df_test.gender.isna()]"
      ],
      "metadata": {
        "id": "8OUnddXRvFpH"
      },
      "execution_count": 90,
      "outputs": []
    },
    {
      "cell_type": "code",
      "source": [
        "#@title MCC\n",
        "\n",
        "mcc_list = list(set(df_test.mcc))\n",
        "df_mcc = pd.DataFrame({'mcc': mcc_list})\n",
        "\n",
        "zero = df_test[df_test.gender == 0][['cid', 'mcc']].drop_duplicates().groupby('mcc').agg('size').fillna(0)\n",
        "zero = df_mcc.join(pd.DataFrame({'zero': zero}), on='mcc', how='outer').fillna(0)\n",
        "one = df_test[df_test.gender == 1][['cid', 'mcc']].drop_duplicates().groupby('mcc').agg('size').fillna(0)\n",
        "one = df_mcc.join(pd.DataFrame({'one': one}), on='mcc', how='outer').fillna(0)\n",
        "\n",
        "df_mcc = df_mcc.join(pd.DataFrame({'count': (zero.zero + one.one)}), on='mcc', how='left').join(pd.DataFrame({'%': zero.zero / (zero.zero + one.one) * 100}), on='mcc', how='left')\n",
        "\n",
        "interesting_mcc = set(df_mcc[(df_mcc['count'] > 100) & ((df_mcc['%'] > 70) | (df_mcc['%'] < 30))].mcc)\n",
        "\n",
        "interesting_mcc"
      ],
      "metadata": {
        "colab": {
          "base_uri": "https://localhost:8080/"
        },
        "id": "x4oQ4AhXt29o",
        "outputId": "b78d75be-8a1b-42cd-c54a-cc4390de84ea"
      },
      "execution_count": 91,
      "outputs": [
        {
          "output_type": "execute_result",
          "data": {
            "text/plain": [
              "{62, 63, 70, 71, 82, 106, 149, 150, 161}"
            ]
          },
          "metadata": {},
          "execution_count": 91
        }
      ]
    },
    {
      "cell_type": "code",
      "source": [
        "#@title TTC\n",
        "\n",
        "ttc_list = list(set(df_test.ttc))\n",
        "df_ttc = pd.DataFrame({'ttc': ttc_list})\n",
        "\n",
        "zero = df_test[df_test.gender == 0][['cid', 'ttc']].drop_duplicates().groupby('ttc').agg('size').fillna(0)\n",
        "zero = df_ttc.join(pd.DataFrame({'zero': zero}), on='ttc', how='outer').fillna(0)\n",
        "one = df_test[df_test.gender == 1][['cid', 'ttc']].drop_duplicates().groupby('ttc').agg('size').fillna(0)\n",
        "one = df_ttc.join(pd.DataFrame({'one': one}), on='ttc', how='outer').fillna(0)\n",
        "\n",
        "df_ttc = df_ttc.join(pd.DataFrame({'count': (zero.zero + one.one)}), on='ttc', how='left').join(pd.DataFrame({'%': zero.zero / (zero.zero + one.one) * 100}), on='ttc', how='left')\n",
        "\n",
        "interesting_ttc = set(df_ttc[(df_ttc['count'] > 100) & ((df_ttc['%'] > 70) | (df_ttc['%'] < 30))].ttc)\n",
        "\n",
        "interesting_ttc"
      ],
      "metadata": {
        "colab": {
          "base_uri": "https://localhost:8080/"
        },
        "id": "K_1c9qFV5S9N",
        "outputId": "3c6e4f56-8209-4d8d-d9c4-d697db5eddd2"
      },
      "execution_count": 92,
      "outputs": [
        {
          "output_type": "execute_result",
          "data": {
            "text/plain": [
              "set()"
            ]
          },
          "metadata": {},
          "execution_count": 92
        }
      ]
    },
    {
      "cell_type": "code",
      "source": [
        "#@title TID\n",
        "\n",
        "tid_list = list(set(df_test.tid))\n",
        "df_tid = pd.DataFrame({'tid': tid_list})\n",
        "\n",
        "zero = df_test[df_test.gender == 0][['cid', 'tid']].drop_duplicates().groupby('tid').agg('size').fillna(0)\n",
        "zero = df_tid.join(pd.DataFrame({'gender': zero}), on='tid', how='outer').fillna(0).astype({'gender': int})\n",
        "one = df_test[df_test.gender == 1][['cid', 'tid']].drop_duplicates().groupby('tid').agg('size').fillna(0)\n",
        "one = df_tid.join(pd.DataFrame({'gender': one}), on='tid', how='outer').fillna(0).astype({'gender': int})\n",
        "\n",
        "df_tid = df_tid\n",
        "df_tid = df_tid.join(zero[['gender']] + one[['gender']]).rename(columns={'gender': 'count'}).join(100 * zero[['gender']] / (zero[['gender']] + one[['gender']])).rename(columns={'gender': '%'})\n",
        "\n",
        "interesting_tid = set(df_tid[(df_tid['count'] > 100) & ((df_tid['%'] > 70) | (df_tid['%'] < 30))].tid)\n",
        "\n",
        "interesting_tid"
      ],
      "metadata": {
        "cellView": "form",
        "id": "5x3KtaJS5TV-",
        "colab": {
          "base_uri": "https://localhost:8080/"
        },
        "outputId": "d2d332a1-e0bf-4d7d-9a95-b5347db6d056"
      },
      "execution_count": 93,
      "outputs": [
        {
          "output_type": "execute_result",
          "data": {
            "text/plain": [
              "{'10244893', '20001004', '20001033', '20828301', '940047'}"
            ]
          },
          "metadata": {},
          "execution_count": 93
        }
      ]
    },
    {
      "cell_type": "markdown",
      "source": [
        "# **My Code**"
      ],
      "metadata": {
        "id": "eXtjhdu1RqiZ"
      }
    },
    {
      "cell_type": "code",
      "source": [
        "#@title Настройки\n",
        "\n",
        "large_count = 2000\n",
        "large_sum = -1000000000\n",
        "\n",
        "k = 1\n",
        "k1 = 0.8\n",
        "k2 = 0.85\n",
        "# k3 = 1.25\n",
        "k3 = 8"
      ],
      "metadata": {
        "id": "z1dKD398AbLW",
        "cellView": "form"
      },
      "execution_count": 94,
      "outputs": []
    },
    {
      "cell_type": "code",
      "source": [
        "#@title Определение наиболее используемых mcc\n",
        "%%time\n",
        "mcc_by_cid = dfTrx[['cid', 'mcc']].drop_duplicates().astype({'mcc': str}).groupby('cid').agg({'mcc': ' '.join}).sort_values('cid')\n",
        "\n",
        "large_mcc_count = dfTrx[['cid', 'mcc']].drop_duplicates().groupby('mcc').agg({'cid': 'size'}).sort_values(by = 'cid')\n",
        "large_mcc_sum = dfTrx[['amt', 'mcc']].groupby('mcc').agg('sum').sort_values(by = 'amt')\n",
        "\n",
        "most_popular_mcc = set(large_mcc_count[large_mcc_count.cid > large_count * k1].index.to_list()) | set(large_mcc_sum[large_mcc_sum.amt < large_sum * k1].index.to_list()) | set([123, 125, 130])\n",
        "len(most_popular_mcc)"
      ],
      "metadata": {
        "colab": {
          "base_uri": "https://localhost:8080/"
        },
        "id": "L0vNyX1yRvpO",
        "outputId": "bf0c345d-34b0-4c1c-8e7e-cb616e99d504"
      },
      "execution_count": 95,
      "outputs": [
        {
          "output_type": "stream",
          "name": "stdout",
          "text": [
            "CPU times: user 1.1 s, sys: 66.7 ms, total: 1.17 s\n",
            "Wall time: 4.39 s\n"
          ]
        },
        {
          "output_type": "execute_result",
          "data": {
            "text/plain": [
              "36"
            ]
          },
          "metadata": {},
          "execution_count": 95
        }
      ]
    },
    {
      "cell_type": "code",
      "source": [
        "#@title Определение наиболее используемых ttc\n",
        "%%time\n",
        "ttc_by_cid = dfTrx[['cid', 'ttc']].drop_duplicates().astype({'ttc': str}).groupby('cid').agg({'ttc': ' '.join}).sort_values('cid')\n",
        "\n",
        "large_ttc_count = dfTrx[['cid', 'ttc']].drop_duplicates().groupby('ttc').agg({'cid': 'size'}).sort_values(by = 'cid')\n",
        "large_ttc_sum = dfTrx[['amt', 'ttc']].groupby('ttc').agg('sum').sort_values(by = 'amt')\n",
        "\n",
        "most_popular_ttc = set(large_ttc_count[large_ttc_count.cid > large_count * k2].index.to_list()) | set(large_ttc_sum[(large_ttc_sum.amt < large_sum * k2) | (large_ttc_sum.amt > 1000000000)].index.to_list())\n",
        "len(most_popular_ttc)"
      ],
      "metadata": {
        "colab": {
          "base_uri": "https://localhost:8080/"
        },
        "id": "v6rcZVpm72yq",
        "outputId": "39596f87-5d0d-4f7b-b88d-edfb47ea286d"
      },
      "execution_count": 96,
      "outputs": [
        {
          "output_type": "stream",
          "name": "stdout",
          "text": [
            "CPU times: user 997 ms, sys: 43.6 ms, total: 1.04 s\n",
            "Wall time: 4.06 s\n"
          ]
        },
        {
          "output_type": "execute_result",
          "data": {
            "text/plain": [
              "25"
            ]
          },
          "metadata": {},
          "execution_count": 96
        }
      ]
    },
    {
      "cell_type": "code",
      "source": [
        "#@title Определение наиболее используемых tid\n",
        "%%time\n",
        "tid_by_cid = dfTrx[['cid', 'tid']].drop_duplicates().astype({'tid': str}).groupby('cid').agg({'tid': ' '.join}).sort_values('cid')\n",
        "\n",
        "large_tid_count = dfTrx[['cid', 'tid']].drop_duplicates().groupby('tid').agg({'cid': 'size'}).sort_values(by = 'cid')\n",
        "large_tid_sum = dfTrx[['amt', 'tid']].groupby('tid').agg('sum').sort_values(by = 'amt')\n",
        "\n",
        "most_popular_tid = set(large_tid_count[large_tid_count.cid > large_count * k3].index.to_list()) | set(large_tid_sum[(large_tid_sum.amt < large_sum * k3) | (large_tid_sum.amt > 1000000000)].index.to_list())\n",
        "len(most_popular_tid)"
      ],
      "metadata": {
        "colab": {
          "base_uri": "https://localhost:8080/"
        },
        "id": "ok_E-Mzqlo7B",
        "outputId": "7d82d13a-1f5f-43dc-cadb-891bac252fea"
      },
      "execution_count": 97,
      "outputs": [
        {
          "output_type": "stream",
          "name": "stdout",
          "text": [
            "CPU times: user 6.24 s, sys: 150 ms, total: 6.39 s\n",
            "Wall time: 19.1 s\n"
          ]
        },
        {
          "output_type": "execute_result",
          "data": {
            "text/plain": [
              "0"
            ]
          },
          "metadata": {},
          "execution_count": 97
        }
      ]
    },
    {
      "cell_type": "markdown",
      "source": [
        "# **Начало создания df по cid**"
      ],
      "metadata": {
        "id": "4nJdyJPREIdF"
      }
    },
    {
      "cell_type": "code",
      "source": [
        "#@title Сумма\n",
        "\n",
        "def s(to_df):\n",
        "    return to_df / to_df.sum(axis=0)\n",
        "    # return to_df / np.sqrt((to_df**2).sum(axis=0))\n",
        "    # return to_df / (np.sqrt(to_df**2)).sum(axis=0)"
      ],
      "metadata": {
        "id": "pyECsCrF-42V",
        "cellView": "form"
      },
      "execution_count": 98,
      "outputs": []
    },
    {
      "cell_type": "code",
      "source": [
        "#@title Настройки\n",
        "\n",
        "stat = ['count', 'sum', 'median']"
      ],
      "metadata": {
        "cellView": "form",
        "id": "j4aGrQn8mTuZ"
      },
      "execution_count": 99,
      "outputs": []
    },
    {
      "cell_type": "code",
      "source": [
        "%%time\n",
        "df = df_.copy(deep=True)"
      ],
      "metadata": {
        "colab": {
          "base_uri": "https://localhost:8080/"
        },
        "id": "QwMMyMuuaMSi",
        "outputId": "b9335aed-1242-4bc1-835f-46fd798d83b1"
      },
      "execution_count": 100,
      "outputs": [
        {
          "output_type": "stream",
          "name": "stdout",
          "text": [
            "CPU times: user 251 µs, sys: 11 µs, total: 262 µs\n",
            "Wall time: 182 µs\n"
          ]
        }
      ]
    },
    {
      "cell_type": "code",
      "source": [
        "#@title MCC\n",
        "%%time\n",
        "to_df = df_.copy(deep=True)\n",
        "\n",
        "for mcc_index in (most_popular_mcc - interesting_mcc):\n",
        "    stat_amt_by_cid_and_mcc = dfTrx[dfTrx.mcc == mcc_index][['cid', 'amt']].groupby('cid').agg(stat).sort_values(by = 'cid').add_prefix('').droplevel(0, axis='columns')\n",
        "    stat_amt_by_cid_and_mcc.columns += '_' + str(mcc_index) + '_mcc'\n",
        "    to_df = to_df.join(stat_amt_by_cid_and_mcc, how='left')\n",
        "\n",
        "stat_by_other_mcc = dfTrx[~dfTrx.mcc.isin(most_popular_mcc or interesting_mcc)][['cid', 'amt']].groupby('cid').agg(stat).sort_values(by = 'cid').add_prefix('').droplevel(0, axis='columns')\n",
        "stat_by_other_mcc.columns += '_mcc'\n",
        "to_df = to_df.join(stat_by_other_mcc, how='left')\n",
        "\n",
        "to_df = s(to_df) * 75\n",
        "df = df.join(to_df, on = 'cid', how='left')\n",
        "to_df = df_.copy(deep=True)\n",
        "\n",
        "for mcc_index in interesting_mcc:\n",
        "    stat_amt_by_cid_and_mcc = dfTrx[dfTrx.mcc == mcc_index][['cid', 'amt']].groupby('cid').agg(stat).sort_values(by = 'cid').add_prefix('').droplevel(0, axis='columns')\n",
        "    stat_amt_by_cid_and_mcc.columns += '_' + str(mcc_index) + '_mcc'\n",
        "    to_df = to_df.join(stat_amt_by_cid_and_mcc, how='left')\n",
        "\n",
        "to_df = s(to_df) * 200\n",
        "df = df.join(to_df, on = 'cid', how='left')"
      ],
      "metadata": {
        "colab": {
          "base_uri": "https://localhost:8080/"
        },
        "id": "TOqu0UVHD9Nf",
        "outputId": "fe0ee6a2-27f2-48b9-ebba-b821b2569e04",
        "cellView": "form"
      },
      "execution_count": 101,
      "outputs": [
        {
          "output_type": "stream",
          "name": "stdout",
          "text": [
            "CPU times: user 2.24 s, sys: 25.6 ms, total: 2.26 s\n",
            "Wall time: 7.96 s\n"
          ]
        }
      ]
    },
    {
      "cell_type": "code",
      "source": [
        "#@title TTC\n",
        "to_df = df_.copy(deep=True)\n",
        "\n",
        "for ttc_index in (most_popular_ttc - interesting_ttc):\n",
        "    stat_amt_by_cid_and_ttc = dfTrx[dfTrx.ttc == ttc_index][['cid', 'amt']].groupby('cid').agg(stat).sort_values(by = 'cid').add_prefix('').droplevel(0, axis='columns')\n",
        "    stat_amt_by_cid_and_ttc.columns += '_' + str(ttc_index) + '_ttc'\n",
        "    to_df = to_df.join(stat_amt_by_cid_and_ttc, how='left')\n",
        "\n",
        "stat_by_other_ttc = dfTrx[~dfTrx.ttc.isin(most_popular_ttc or interesting_ttc)][['cid', 'amt']].groupby('cid').agg(stat).sort_values(by = 'cid').add_prefix('').droplevel(0, axis='columns')\n",
        "stat_by_other_ttc.columns += '_ttc'\n",
        "to_df = to_df.join(stat_by_other_ttc, how='left')\n",
        "\n",
        "to_df = s(to_df) * 1/2\n",
        "df = df.join(to_df, on = 'cid', how='left')\n",
        "to_df = df_.copy(deep=True)\n",
        "\n",
        "for ttc_index in (interesting_ttc):\n",
        "    stat_amt_by_cid_and_ttc = dfTrx[dfTrx.ttc == ttc_index][['cid', 'amt']].groupby('cid').agg(stat).sort_values(by = 'cid').add_prefix('').droplevel(0, axis='columns')\n",
        "    stat_amt_by_cid_and_ttc.columns += '_' + str(ttc_index) + '_ttc'\n",
        "    to_df = to_df.join(stat_amt_by_cid_and_ttc, how='left')\n",
        "\n",
        "to_df = s(to_df) * 50\n",
        "df = df.join(to_df, on = 'cid', how='left')"
      ],
      "metadata": {
        "id": "WaaRakspD0Ch",
        "cellView": "form"
      },
      "execution_count": 102,
      "outputs": []
    },
    {
      "cell_type": "code",
      "source": [
        "#@title AMT\n",
        "\n",
        "to_df = df_.copy(deep=True)\n",
        "\n",
        "to_df = dfTrx[['cid', 'amt']].groupby('cid').agg(stat).add_prefix('').droplevel(0, axis='columns')\n",
        "to_df = df_.join(to_df, how='left').fillna(0)\n",
        "\n",
        "to_df = s(to_df) * 2/3\n",
        "df = df.join(to_df, on = 'cid', how='left')"
      ],
      "metadata": {
        "cellView": "form",
        "id": "KBCmo_hEjiid"
      },
      "execution_count": 103,
      "outputs": []
    },
    {
      "cell_type": "code",
      "source": [
        "#@title Time\n",
        "%%time\n",
        "to_df = df_.copy(deep=True)\n",
        "\n",
        "for hour in range(0, 1):\n",
        "    stat_amt_by_cid_and_hour = dfTrx[dfTrx.tm == hour][['cid', 'amt']].groupby('cid').agg(stat).sort_values(by = 'cid').add_prefix('').droplevel(0, axis='columns')\n",
        "    stat_amt_by_cid_and_hour.columns += '_' + str(hour) + '_hour'\n",
        "    to_df = to_df.join(stat_amt_by_cid_and_hour, how='left')\n",
        "\n",
        "to_df = s(to_df) * 2\n",
        "df = df.join(to_df, on = 'cid', how='left')\n",
        "to_df = df_.copy(deep=True)\n",
        "\n",
        "for hour in range(1, 9):\n",
        "    stat_amt_by_cid_and_hour = dfTrx[dfTrx.tm == hour][['cid', 'amt']].groupby('cid').agg(stat).sort_values(by = 'cid').add_prefix('').droplevel(0, axis='columns')\n",
        "    stat_amt_by_cid_and_hour.columns += '_' + str(hour) + '_hour'\n",
        "    to_df = to_df.join(stat_amt_by_cid_and_hour, how='left')\n",
        "\n",
        "to_df = s(to_df)\n",
        "df = df.join(to_df, on = 'cid', how='left')\n",
        "\n",
        "# to_df = df_.copy(deep=True)\n",
        "# for hour in range(9, 24):\n",
        "#     stat_amt_by_cid_and_hour = dfTrx[dfTrx.tm == hour][['cid', 'amt']].groupby('cid').agg(stat).sort_values(by = 'cid').add_prefix('').droplevel(0, axis='columns')\n",
        "#     stat_amt_by_cid_and_hour.columns += '_' + str(hour) + '_hour'\n",
        "#     to_df = to_df.join(stat_amt_by_cid_and_hour, how='left')\n",
        "\n",
        "# to_df = s(to_df)\n",
        "# df = df.join(to_df, on = 'cid', how='left')"
      ],
      "metadata": {
        "colab": {
          "base_uri": "https://localhost:8080/"
        },
        "id": "HbFnHk8L6wWY",
        "outputId": "0f9b9fa6-0dfa-4951-b90d-2682e7052f8c",
        "cellView": "form"
      },
      "execution_count": 104,
      "outputs": [
        {
          "output_type": "stream",
          "name": "stdout",
          "text": [
            "CPU times: user 3.3 s, sys: 20.9 ms, total: 3.32 s\n",
            "Wall time: 3.31 s\n"
          ]
        }
      ]
    },
    {
      "cell_type": "code",
      "source": [
        "#@title Date\n",
        "%%time\n",
        "to_df = df_.copy(deep=True)\n",
        "\n",
        "# for weekday in [0, 3, 4, 5, 6]:\n",
        "#     stat_amt_by_cid_and_weekday = dfTrx[dfTrx.dt % 7 == weekday][['cid', 'amt']].groupby('cid').agg(stat).sort_values(by = 'cid').add_prefix('').droplevel(0, axis='columns')\n",
        "#     stat_amt_by_cid_and_weekday.columns += '_' + str(weekday) + '_wd'\n",
        "#     to_df = to_df.join(stat_amt_by_cid_and_weekday, on = 'cid', how='left')\n",
        "\n",
        "to_df = s(to_df)\n",
        "df = df.join(to_df, on = 'cid', how='left')\n",
        "\n",
        "to_df = df_.copy(deep=True)\n",
        "\n",
        "for weekday in [1, 2]:\n",
        "    stat_amt_by_cid_and_weekday = dfTrx[dfTrx.dt % 7 == weekday][['cid', 'amt']].groupby('cid').agg(stat).sort_values(by = 'cid').add_prefix('').droplevel(0, axis='columns')\n",
        "    stat_amt_by_cid_and_weekday.columns += '_' + str(weekday) + '_wd'\n",
        "    to_df = to_df.join(stat_amt_by_cid_and_weekday, on = 'cid', how='left')\n",
        "\n",
        "to_df = s(to_df)\n",
        "df = df.join(to_df, on = 'cid', how='left')"
      ],
      "metadata": {
        "colab": {
          "base_uri": "https://localhost:8080/"
        },
        "id": "pi5ZHB0nn1oo",
        "outputId": "ea241e6e-2d1e-4514-fb25-d1f045db3b79",
        "cellView": "form"
      },
      "execution_count": 105,
      "outputs": [
        {
          "output_type": "stream",
          "name": "stdout",
          "text": [
            "CPU times: user 328 ms, sys: 1.03 ms, total: 329 ms\n",
            "Wall time: 339 ms\n"
          ]
        }
      ]
    },
    {
      "cell_type": "code",
      "source": [
        "#@title TID\n",
        "to_df = df_.copy(deep=True)\n",
        "\n",
        "for tid_index in (most_popular_tid - interesting_tid):\n",
        "    stat_amt_by_cid_and_tid = dfTrx[dfTrx.tid == tid_index][['cid', 'amt']].groupby('cid').agg(stat).sort_values(by = 'cid').add_prefix('').droplevel(0, axis='columns')\n",
        "    stat_amt_by_cid_and_tid.columns += '_' + str(tid_index) + '_tid'\n",
        "    to_df = to_df.join(stat_amt_by_cid_and_tid, how='left')\n",
        "\n",
        "stat_by_other_tid = dfTrx[~dfTrx.tid.isin(most_popular_tid or interesting_tid)][['cid', 'amt']].groupby('cid').agg(stat).sort_values(by = 'cid').add_prefix('').droplevel(0, axis='columns')\n",
        "stat_by_other_tid.columns += '_tid'\n",
        "to_df = to_df.join(stat_by_other_tid, how='left')\n",
        "\n",
        "to_df = s(to_df)\n",
        "df = df.join(to_df, on = 'cid', how='left')\n",
        "\n",
        "to_df = df_.copy(deep=True)\n",
        "\n",
        "for tid_index in (interesting_tid):\n",
        "    stat_amt_by_cid_and_tid = dfTrx[dfTrx.tid == tid_index][['cid', 'amt']].groupby('cid').agg(stat).sort_values(by = 'cid').add_prefix('').droplevel(0, axis='columns')\n",
        "    stat_amt_by_cid_and_tid.columns += '_' + str(tid_index) + '_tid'\n",
        "    to_df = to_df.join(stat_amt_by_cid_and_tid, how='left')\n",
        "\n",
        "to_df = s(to_df) * 50\n",
        "df = df.join(to_df, on = 'cid', how='left')"
      ],
      "metadata": {
        "id": "XnFbbfIwlkJI",
        "cellView": "form"
      },
      "execution_count": 106,
      "outputs": []
    },
    {
      "cell_type": "code",
      "source": [
        "df = df.fillna(0).astype('float')\n",
        "df.columns = [str(c) for c in df.columns]"
      ],
      "metadata": {
        "id": "llG860pRw-0L"
      },
      "execution_count": 107,
      "outputs": []
    },
    {
      "cell_type": "code",
      "source": [
        "%%time\n",
        "df.columns = [str(c) for c in df.columns]\n",
        "\n",
        "trainX, testX = df.join(trainY.drop('gender', axis=1), how='inner'), df.join(testY.drop('gender', axis=1), how='inner') # split observations into train/test\n",
        "trainX0, testX0, trainY0, testY0 = train_test_split(trainX, trainY, test_size=0.4, random_state=0) # split train observation into local train/test sets (to score performance)\n"
      ],
      "metadata": {
        "colab": {
          "base_uri": "https://localhost:8080/"
        },
        "id": "NeQuLhn0rHC7",
        "outputId": "efbef90c-ba58-4d45-805f-f0b6607ea787"
      },
      "execution_count": 108,
      "outputs": [
        {
          "output_type": "stream",
          "name": "stdout",
          "text": [
            "CPU times: user 25.7 ms, sys: 0 ns, total: 25.7 ms\n",
            "Wall time: 26.4 ms\n"
          ]
        }
      ]
    },
    {
      "cell_type": "markdown",
      "source": [
        "# **Обучение реальное**"
      ],
      "metadata": {
        "id": "XoxaEY-anVYO"
      }
    },
    {
      "cell_type": "code",
      "source": [
        "model_final = MLPC(solver='lbfgs', alpha=1e-5, hidden_layer_sizes=(7, 4), random_state=1)\n",
        "\n",
        "model1 = MLPC(solver='lbfgs', alpha=1e-5, hidden_layer_sizes=(7, 4), random_state=1)\n",
        "model2 = GBC(loss='log_loss', learning_rate=0.1, n_estimators=150, subsample=1.0, criterion='friedman_mse', max_depth=2)\n",
        "model3 = CBC(iterations=200)\n",
        "model4 = LGBMC()\n",
        "\n",
        "clf1 = model1.fit(trainX, trainY.gender)\n",
        "clf2 = model2.fit(trainX, trainY.gender)\n",
        "clf3 = model3.fit(trainX, trainY.gender)\n",
        "clf4 = model4.fit(trainX, trainY.gender)\n",
        "\n",
        "pY1_r = clf1.predict_proba(testX)[:, 1]\n",
        "pY2_r = clf2.predict_proba(testX)[:, 1]\n",
        "pY3_r = clf3.predict_proba(testX)[:, 1]\n",
        "pY4_r = clf4.predict_proba(testX)[:, 1]"
      ],
      "metadata": {
        "colab": {
          "base_uri": "https://localhost:8080/"
        },
        "id": "oUxHc97une4I",
        "outputId": "2eea5018-b85c-4d6a-b89b-f97edfdd69fb"
      },
      "execution_count": 111,
      "outputs": [
        {
          "output_type": "stream",
          "name": "stderr",
          "text": [
            "/usr/local/lib/python3.10/dist-packages/sklearn/neural_network/_multilayer_perceptron.py:541: ConvergenceWarning: lbfgs failed to converge (status=1):\n",
            "STOP: TOTAL NO. of ITERATIONS REACHED LIMIT.\n",
            "\n",
            "Increase the number of iterations (max_iter) or scale the data as shown in:\n",
            "    https://scikit-learn.org/stable/modules/preprocessing.html\n",
            "  self.n_iter_ = _check_optimize_result(\"lbfgs\", opt_res, self.max_iter)\n"
          ]
        },
        {
          "output_type": "stream",
          "name": "stdout",
          "text": [
            "Learning rate set to 0.09957\n",
            "0:\tlearn: 0.6656943\ttotal: 144ms\tremaining: 28.7s\n",
            "1:\tlearn: 0.6445882\ttotal: 236ms\tremaining: 23.4s\n",
            "2:\tlearn: 0.6253448\ttotal: 323ms\tremaining: 21.2s\n",
            "3:\tlearn: 0.6076534\ttotal: 440ms\tremaining: 21.5s\n",
            "4:\tlearn: 0.5972474\ttotal: 543ms\tremaining: 21.2s\n",
            "5:\tlearn: 0.5864506\ttotal: 660ms\tremaining: 21.3s\n",
            "6:\tlearn: 0.5747662\ttotal: 766ms\tremaining: 21.1s\n",
            "7:\tlearn: 0.5631818\ttotal: 884ms\tremaining: 21.2s\n",
            "8:\tlearn: 0.5550646\ttotal: 982ms\tremaining: 20.8s\n",
            "9:\tlearn: 0.5464971\ttotal: 1.09s\tremaining: 20.8s\n",
            "10:\tlearn: 0.5388928\ttotal: 1.21s\tremaining: 20.7s\n",
            "11:\tlearn: 0.5334489\ttotal: 1.32s\tremaining: 20.8s\n",
            "12:\tlearn: 0.5276814\ttotal: 1.44s\tremaining: 20.7s\n",
            "13:\tlearn: 0.5227316\ttotal: 1.55s\tremaining: 20.6s\n",
            "14:\tlearn: 0.5176091\ttotal: 1.64s\tremaining: 20.3s\n",
            "15:\tlearn: 0.5125028\ttotal: 1.76s\tremaining: 20.3s\n",
            "16:\tlearn: 0.5082158\ttotal: 1.87s\tremaining: 20.1s\n",
            "17:\tlearn: 0.5024984\ttotal: 1.96s\tremaining: 19.8s\n",
            "18:\tlearn: 0.4989825\ttotal: 2.06s\tremaining: 19.6s\n",
            "19:\tlearn: 0.4951904\ttotal: 2.17s\tremaining: 19.6s\n",
            "20:\tlearn: 0.4920462\ttotal: 2.29s\tremaining: 19.5s\n",
            "21:\tlearn: 0.4884941\ttotal: 2.4s\tremaining: 19.4s\n",
            "22:\tlearn: 0.4859877\ttotal: 2.51s\tremaining: 19.3s\n",
            "23:\tlearn: 0.4834213\ttotal: 2.62s\tremaining: 19.2s\n",
            "24:\tlearn: 0.4801723\ttotal: 2.74s\tremaining: 19.2s\n",
            "25:\tlearn: 0.4781675\ttotal: 2.85s\tremaining: 19.1s\n",
            "26:\tlearn: 0.4763013\ttotal: 2.95s\tremaining: 18.9s\n",
            "27:\tlearn: 0.4731618\ttotal: 3.04s\tremaining: 18.7s\n",
            "28:\tlearn: 0.4712463\ttotal: 3.17s\tremaining: 18.7s\n",
            "29:\tlearn: 0.4689247\ttotal: 3.29s\tremaining: 18.6s\n",
            "30:\tlearn: 0.4665831\ttotal: 3.41s\tremaining: 18.6s\n",
            "31:\tlearn: 0.4639804\ttotal: 3.52s\tremaining: 18.5s\n",
            "32:\tlearn: 0.4618113\ttotal: 3.64s\tremaining: 18.4s\n",
            "33:\tlearn: 0.4598487\ttotal: 3.75s\tremaining: 18.3s\n",
            "34:\tlearn: 0.4578497\ttotal: 3.86s\tremaining: 18.2s\n",
            "35:\tlearn: 0.4554866\ttotal: 3.97s\tremaining: 18.1s\n",
            "36:\tlearn: 0.4536709\ttotal: 4.07s\tremaining: 17.9s\n",
            "37:\tlearn: 0.4521369\ttotal: 4.17s\tremaining: 17.8s\n",
            "38:\tlearn: 0.4500634\ttotal: 4.29s\tremaining: 17.7s\n",
            "39:\tlearn: 0.4475380\ttotal: 4.42s\tremaining: 17.7s\n",
            "40:\tlearn: 0.4459309\ttotal: 4.52s\tremaining: 17.5s\n",
            "41:\tlearn: 0.4448084\ttotal: 4.63s\tremaining: 17.4s\n",
            "42:\tlearn: 0.4430938\ttotal: 4.74s\tremaining: 17.3s\n",
            "43:\tlearn: 0.4414244\ttotal: 4.85s\tremaining: 17.2s\n",
            "44:\tlearn: 0.4396182\ttotal: 4.97s\tremaining: 17.1s\n",
            "45:\tlearn: 0.4381697\ttotal: 5.07s\tremaining: 17s\n",
            "46:\tlearn: 0.4365820\ttotal: 5.18s\tremaining: 16.9s\n",
            "47:\tlearn: 0.4352461\ttotal: 5.29s\tremaining: 16.8s\n",
            "48:\tlearn: 0.4335725\ttotal: 5.4s\tremaining: 16.7s\n",
            "49:\tlearn: 0.4319590\ttotal: 5.51s\tremaining: 16.5s\n",
            "50:\tlearn: 0.4307304\ttotal: 5.63s\tremaining: 16.4s\n",
            "51:\tlearn: 0.4289730\ttotal: 5.73s\tremaining: 16.3s\n",
            "52:\tlearn: 0.4278899\ttotal: 5.84s\tremaining: 16.2s\n",
            "53:\tlearn: 0.4259534\ttotal: 5.95s\tremaining: 16.1s\n",
            "54:\tlearn: 0.4246256\ttotal: 6.06s\tremaining: 16s\n",
            "55:\tlearn: 0.4229112\ttotal: 6.16s\tremaining: 15.9s\n",
            "56:\tlearn: 0.4213358\ttotal: 6.28s\tremaining: 15.7s\n",
            "57:\tlearn: 0.4201217\ttotal: 6.38s\tremaining: 15.6s\n",
            "58:\tlearn: 0.4185897\ttotal: 6.49s\tremaining: 15.5s\n",
            "59:\tlearn: 0.4174506\ttotal: 6.62s\tremaining: 15.4s\n",
            "60:\tlearn: 0.4159830\ttotal: 6.72s\tremaining: 15.3s\n",
            "61:\tlearn: 0.4145934\ttotal: 6.83s\tremaining: 15.2s\n",
            "62:\tlearn: 0.4133443\ttotal: 6.93s\tremaining: 15.1s\n",
            "63:\tlearn: 0.4124078\ttotal: 7.04s\tremaining: 15s\n",
            "64:\tlearn: 0.4114467\ttotal: 7.16s\tremaining: 14.9s\n",
            "65:\tlearn: 0.4101710\ttotal: 7.27s\tremaining: 14.8s\n",
            "66:\tlearn: 0.4085013\ttotal: 7.39s\tremaining: 14.7s\n",
            "67:\tlearn: 0.4069630\ttotal: 7.5s\tremaining: 14.6s\n",
            "68:\tlearn: 0.4060111\ttotal: 7.61s\tremaining: 14.4s\n",
            "69:\tlearn: 0.4048584\ttotal: 7.71s\tremaining: 14.3s\n",
            "70:\tlearn: 0.4034426\ttotal: 7.79s\tremaining: 14.2s\n",
            "71:\tlearn: 0.4022502\ttotal: 7.87s\tremaining: 14s\n",
            "72:\tlearn: 0.4012454\ttotal: 7.92s\tremaining: 13.8s\n",
            "73:\tlearn: 0.4000636\ttotal: 7.98s\tremaining: 13.6s\n",
            "74:\tlearn: 0.3986441\ttotal: 8.03s\tremaining: 13.4s\n",
            "75:\tlearn: 0.3973769\ttotal: 8.11s\tremaining: 13.2s\n",
            "76:\tlearn: 0.3966953\ttotal: 8.16s\tremaining: 13s\n",
            "77:\tlearn: 0.3958185\ttotal: 8.22s\tremaining: 12.9s\n",
            "78:\tlearn: 0.3947402\ttotal: 8.27s\tremaining: 12.7s\n",
            "79:\tlearn: 0.3937997\ttotal: 8.33s\tremaining: 12.5s\n",
            "80:\tlearn: 0.3926284\ttotal: 8.39s\tremaining: 12.3s\n",
            "81:\tlearn: 0.3915044\ttotal: 8.44s\tremaining: 12.1s\n",
            "82:\tlearn: 0.3904457\ttotal: 8.5s\tremaining: 12s\n",
            "83:\tlearn: 0.3895443\ttotal: 8.55s\tremaining: 11.8s\n",
            "84:\tlearn: 0.3884515\ttotal: 8.61s\tremaining: 11.6s\n",
            "85:\tlearn: 0.3875963\ttotal: 8.67s\tremaining: 11.5s\n",
            "86:\tlearn: 0.3866898\ttotal: 8.72s\tremaining: 11.3s\n",
            "87:\tlearn: 0.3859428\ttotal: 8.79s\tremaining: 11.2s\n",
            "88:\tlearn: 0.3848772\ttotal: 8.84s\tremaining: 11s\n",
            "89:\tlearn: 0.3838141\ttotal: 8.89s\tremaining: 10.9s\n",
            "90:\tlearn: 0.3825961\ttotal: 8.95s\tremaining: 10.7s\n",
            "91:\tlearn: 0.3813337\ttotal: 9.02s\tremaining: 10.6s\n",
            "92:\tlearn: 0.3801618\ttotal: 9.07s\tremaining: 10.4s\n",
            "93:\tlearn: 0.3787342\ttotal: 9.14s\tremaining: 10.3s\n",
            "94:\tlearn: 0.3776021\ttotal: 9.19s\tremaining: 10.2s\n",
            "95:\tlearn: 0.3768430\ttotal: 9.26s\tremaining: 10s\n",
            "96:\tlearn: 0.3752078\ttotal: 9.31s\tremaining: 9.89s\n",
            "97:\tlearn: 0.3737434\ttotal: 9.37s\tremaining: 9.76s\n",
            "98:\tlearn: 0.3723944\ttotal: 9.43s\tremaining: 9.62s\n",
            "99:\tlearn: 0.3712421\ttotal: 9.48s\tremaining: 9.48s\n",
            "100:\tlearn: 0.3701254\ttotal: 9.54s\tremaining: 9.35s\n",
            "101:\tlearn: 0.3683645\ttotal: 9.6s\tremaining: 9.22s\n",
            "102:\tlearn: 0.3667788\ttotal: 9.66s\tremaining: 9.09s\n",
            "103:\tlearn: 0.3661737\ttotal: 9.71s\tremaining: 8.96s\n",
            "104:\tlearn: 0.3650212\ttotal: 9.77s\tremaining: 8.84s\n",
            "105:\tlearn: 0.3637106\ttotal: 9.83s\tremaining: 8.72s\n",
            "106:\tlearn: 0.3626763\ttotal: 9.88s\tremaining: 8.59s\n",
            "107:\tlearn: 0.3615662\ttotal: 9.95s\tremaining: 8.48s\n",
            "108:\tlearn: 0.3602650\ttotal: 10s\tremaining: 8.36s\n",
            "109:\tlearn: 0.3594960\ttotal: 10.1s\tremaining: 8.23s\n",
            "110:\tlearn: 0.3577937\ttotal: 10.1s\tremaining: 8.11s\n",
            "111:\tlearn: 0.3562761\ttotal: 10.2s\tremaining: 8.01s\n",
            "112:\tlearn: 0.3552886\ttotal: 10.2s\tremaining: 7.89s\n",
            "113:\tlearn: 0.3540981\ttotal: 10.3s\tremaining: 7.77s\n",
            "114:\tlearn: 0.3525093\ttotal: 10.4s\tremaining: 7.65s\n",
            "115:\tlearn: 0.3515186\ttotal: 10.4s\tremaining: 7.54s\n",
            "116:\tlearn: 0.3501484\ttotal: 10.5s\tremaining: 7.43s\n",
            "117:\tlearn: 0.3492366\ttotal: 10.5s\tremaining: 7.31s\n",
            "118:\tlearn: 0.3482541\ttotal: 10.6s\tremaining: 7.2s\n",
            "119:\tlearn: 0.3469168\ttotal: 10.6s\tremaining: 7.09s\n",
            "120:\tlearn: 0.3459922\ttotal: 10.7s\tremaining: 6.98s\n",
            "121:\tlearn: 0.3445303\ttotal: 10.8s\tremaining: 6.88s\n",
            "122:\tlearn: 0.3432638\ttotal: 10.8s\tremaining: 6.78s\n",
            "123:\tlearn: 0.3424313\ttotal: 10.9s\tremaining: 6.67s\n",
            "124:\tlearn: 0.3417888\ttotal: 10.9s\tremaining: 6.56s\n",
            "125:\tlearn: 0.3404428\ttotal: 11s\tremaining: 6.46s\n",
            "126:\tlearn: 0.3394508\ttotal: 11.1s\tremaining: 6.35s\n",
            "127:\tlearn: 0.3379337\ttotal: 11.1s\tremaining: 6.25s\n",
            "128:\tlearn: 0.3368231\ttotal: 11.2s\tremaining: 6.15s\n",
            "129:\tlearn: 0.3354060\ttotal: 11.2s\tremaining: 6.05s\n",
            "130:\tlearn: 0.3341907\ttotal: 11.3s\tremaining: 5.95s\n",
            "131:\tlearn: 0.3329937\ttotal: 11.3s\tremaining: 5.84s\n",
            "132:\tlearn: 0.3320180\ttotal: 11.4s\tremaining: 5.75s\n",
            "133:\tlearn: 0.3307415\ttotal: 11.5s\tremaining: 5.64s\n",
            "134:\tlearn: 0.3299326\ttotal: 11.5s\tremaining: 5.55s\n",
            "135:\tlearn: 0.3291407\ttotal: 11.6s\tremaining: 5.45s\n",
            "136:\tlearn: 0.3281702\ttotal: 11.6s\tremaining: 5.35s\n",
            "137:\tlearn: 0.3269640\ttotal: 11.7s\tremaining: 5.25s\n",
            "138:\tlearn: 0.3260661\ttotal: 11.7s\tremaining: 5.16s\n",
            "139:\tlearn: 0.3254993\ttotal: 11.8s\tremaining: 5.06s\n",
            "140:\tlearn: 0.3246797\ttotal: 11.9s\tremaining: 4.96s\n",
            "141:\tlearn: 0.3233189\ttotal: 11.9s\tremaining: 4.87s\n",
            "142:\tlearn: 0.3223955\ttotal: 12s\tremaining: 4.77s\n",
            "143:\tlearn: 0.3215501\ttotal: 12s\tremaining: 4.68s\n",
            "144:\tlearn: 0.3205634\ttotal: 12.1s\tremaining: 4.58s\n",
            "145:\tlearn: 0.3201233\ttotal: 12.1s\tremaining: 4.49s\n",
            "146:\tlearn: 0.3187948\ttotal: 12.2s\tremaining: 4.4s\n",
            "147:\tlearn: 0.3176990\ttotal: 12.3s\tremaining: 4.31s\n",
            "148:\tlearn: 0.3166259\ttotal: 12.3s\tremaining: 4.22s\n",
            "149:\tlearn: 0.3157121\ttotal: 12.4s\tremaining: 4.13s\n",
            "150:\tlearn: 0.3156105\ttotal: 12.4s\tremaining: 4.04s\n",
            "151:\tlearn: 0.3146099\ttotal: 12.5s\tremaining: 3.94s\n",
            "152:\tlearn: 0.3137567\ttotal: 12.5s\tremaining: 3.85s\n",
            "153:\tlearn: 0.3128098\ttotal: 12.6s\tremaining: 3.76s\n",
            "154:\tlearn: 0.3122213\ttotal: 12.7s\tremaining: 3.68s\n",
            "155:\tlearn: 0.3113328\ttotal: 12.7s\tremaining: 3.59s\n",
            "156:\tlearn: 0.3105230\ttotal: 12.8s\tremaining: 3.5s\n",
            "157:\tlearn: 0.3096907\ttotal: 12.8s\tremaining: 3.41s\n",
            "158:\tlearn: 0.3089086\ttotal: 12.9s\tremaining: 3.32s\n",
            "159:\tlearn: 0.3078683\ttotal: 12.9s\tremaining: 3.23s\n",
            "160:\tlearn: 0.3069590\ttotal: 13s\tremaining: 3.15s\n",
            "161:\tlearn: 0.3058292\ttotal: 13.1s\tremaining: 3.06s\n",
            "162:\tlearn: 0.3050392\ttotal: 13.1s\tremaining: 2.98s\n",
            "163:\tlearn: 0.3037342\ttotal: 13.2s\tremaining: 2.89s\n",
            "164:\tlearn: 0.3028848\ttotal: 13.2s\tremaining: 2.81s\n",
            "165:\tlearn: 0.3022643\ttotal: 13.3s\tremaining: 2.72s\n",
            "166:\tlearn: 0.3013929\ttotal: 13.4s\tremaining: 2.64s\n",
            "167:\tlearn: 0.3007276\ttotal: 13.4s\tremaining: 2.56s\n",
            "168:\tlearn: 0.2995697\ttotal: 13.5s\tremaining: 2.47s\n",
            "169:\tlearn: 0.2985110\ttotal: 13.5s\tremaining: 2.39s\n",
            "170:\tlearn: 0.2976631\ttotal: 13.6s\tremaining: 2.3s\n",
            "171:\tlearn: 0.2975977\ttotal: 13.6s\tremaining: 2.22s\n",
            "172:\tlearn: 0.2968587\ttotal: 13.7s\tremaining: 2.14s\n",
            "173:\tlearn: 0.2961768\ttotal: 13.8s\tremaining: 2.06s\n",
            "174:\tlearn: 0.2949964\ttotal: 13.8s\tremaining: 1.97s\n",
            "175:\tlearn: 0.2939324\ttotal: 13.9s\tremaining: 1.89s\n",
            "176:\tlearn: 0.2928778\ttotal: 13.9s\tremaining: 1.81s\n",
            "177:\tlearn: 0.2922199\ttotal: 14s\tremaining: 1.73s\n",
            "178:\tlearn: 0.2913103\ttotal: 14s\tremaining: 1.65s\n",
            "179:\tlearn: 0.2906095\ttotal: 14.1s\tremaining: 1.57s\n",
            "180:\tlearn: 0.2896051\ttotal: 14.2s\tremaining: 1.49s\n",
            "181:\tlearn: 0.2886639\ttotal: 14.2s\tremaining: 1.41s\n",
            "182:\tlearn: 0.2883592\ttotal: 14.3s\tremaining: 1.33s\n",
            "183:\tlearn: 0.2874171\ttotal: 14.3s\tremaining: 1.25s\n",
            "184:\tlearn: 0.2865657\ttotal: 14.4s\tremaining: 1.17s\n",
            "185:\tlearn: 0.2857756\ttotal: 14.4s\tremaining: 1.09s\n",
            "186:\tlearn: 0.2849186\ttotal: 14.5s\tremaining: 1.01s\n",
            "187:\tlearn: 0.2840917\ttotal: 14.6s\tremaining: 929ms\n",
            "188:\tlearn: 0.2836142\ttotal: 14.6s\tremaining: 850ms\n",
            "189:\tlearn: 0.2826956\ttotal: 14.7s\tremaining: 772ms\n",
            "190:\tlearn: 0.2819336\ttotal: 14.7s\tremaining: 694ms\n",
            "191:\tlearn: 0.2811350\ttotal: 14.8s\tremaining: 616ms\n",
            "192:\tlearn: 0.2806524\ttotal: 14.8s\tremaining: 538ms\n",
            "193:\tlearn: 0.2799360\ttotal: 14.9s\tremaining: 461ms\n",
            "194:\tlearn: 0.2790039\ttotal: 14.9s\tremaining: 383ms\n",
            "195:\tlearn: 0.2780155\ttotal: 15s\tremaining: 306ms\n",
            "196:\tlearn: 0.2776107\ttotal: 15.1s\tremaining: 229ms\n",
            "197:\tlearn: 0.2768269\ttotal: 15.1s\tremaining: 153ms\n",
            "198:\tlearn: 0.2761024\ttotal: 15.2s\tremaining: 76.3ms\n",
            "199:\tlearn: 0.2752655\ttotal: 15.3s\tremaining: 0us\n"
          ]
        }
      ]
    },
    {
      "cell_type": "code",
      "source": [
        "pY = (pY1_r + 2*pY2_r + 4*pY3_r + 2*pY4_r) / 9\n",
        "\n",
        "# print('Local AUC ROC', roc_auc_score(testY.gender, pY))\n",
        "print(pY.sum() / pY.shape[0])"
      ],
      "metadata": {
        "colab": {
          "base_uri": "https://localhost:8080/"
        },
        "id": "K_O2hZfupZFd",
        "outputId": "ae5c85e0-4e9b-46d0-99c1-17607188254d"
      },
      "execution_count": 112,
      "outputs": [
        {
          "output_type": "stream",
          "name": "stdout",
          "text": [
            "0.4428708344165044\n"
          ]
        }
      ]
    },
    {
      "cell_type": "code",
      "source": [
        "pY = pd.DataFrame(pY, columns=['gender'])\n",
        "pY.index.name = 'cid'\n",
        "print(pY.sum() / pY.shape[0]), pY"
      ],
      "metadata": {
        "id": "054XFKqwupok",
        "outputId": "bc209315-6ed3-4414-9400-ee60731b8c06",
        "colab": {
          "base_uri": "https://localhost:8080/"
        }
      },
      "execution_count": 116,
      "outputs": [
        {
          "output_type": "stream",
          "name": "stdout",
          "text": [
            "gender    0.442871\n",
            "dtype: float64\n"
          ]
        },
        {
          "output_type": "execute_result",
          "data": {
            "text/plain": [
              "(None,\n",
              "         gender\n",
              " cid           \n",
              " 0     0.533530\n",
              " 1     0.278108\n",
              " ...        ...\n",
              " 1998  0.637415\n",
              " 1999  0.948957\n",
              " \n",
              " [2000 rows x 1 columns])"
            ]
          },
          "metadata": {},
          "execution_count": 116
        }
      ]
    },
    {
      "cell_type": "code",
      "source": [
        "pY.reset_index().to_csv('💳Baseline.csv', index_label='cid', index=False, float_format='%10f')"
      ],
      "metadata": {
        "id": "B-Rn7m9uuuF4"
      },
      "execution_count": 114,
      "outputs": []
    },
    {
      "cell_type": "code",
      "source": [
        "tmr.ShowTime()"
      ],
      "metadata": {
        "id": "LXGaysfq0tKx",
        "outputId": "3e7dbd5c-826f-4e7b-e8ca-c061e46b2049",
        "colab": {
          "base_uri": "https://localhost:8080/"
        }
      },
      "execution_count": 117,
      "outputs": [
        {
          "output_type": "stream",
          "name": "stdout",
          "text": [
            "\u001b[91m\u001b[1mRuntime is 925 sec > 120 sec limit!!!\u001b[0m\n"
          ]
        }
      ]
    }
  ]
}