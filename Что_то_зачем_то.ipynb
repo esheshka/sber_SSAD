{
  "nbformat": 4,
  "nbformat_minor": 0,
  "metadata": {
    "colab": {
      "provenance": [],
      "authorship_tag": "ABX9TyPaGuxrKwOKjggd/TG5AwS3",
      "include_colab_link": true
    },
    "kernelspec": {
      "name": "python3",
      "display_name": "Python 3"
    },
    "language_info": {
      "name": "python"
    }
  },
  "cells": [
    {
      "cell_type": "markdown",
      "metadata": {
        "id": "view-in-github",
        "colab_type": "text"
      },
      "source": [
        "<a href=\"https://colab.research.google.com/github/esheshka/team_one_project/blob/Andrey/%D0%A7%D1%82%D0%BE_%D1%82%D0%BE_%D0%B7%D0%B0%D1%87%D0%B5%D0%BC_%D1%82%D0%BE.ipynb\" target=\"_parent\"><img src=\"https://colab.research.google.com/assets/colab-badge.svg\" alt=\"Open In Colab\"/></a>"
      ]
    },
    {
      "cell_type": "markdown",
      "source": [
        "# **Imports**"
      ],
      "metadata": {
        "id": "r14cTJ70c4ok"
      }
    },
    {
      "cell_type": "code",
      "source": [
        "from google.colab import drive; drive.mount('/content/drive')"
      ],
      "metadata": {
        "colab": {
          "base_uri": "https://localhost:8080/"
        },
        "id": "-0VMhfZwPmlX",
        "outputId": "3bd0ad72-f618-42f4-8502-c98bfa1b32c8"
      },
      "execution_count": 839,
      "outputs": [
        {
          "output_type": "stream",
          "name": "stdout",
          "text": [
            "Drive already mounted at /content/drive; to attempt to forcibly remount, call drive.mount(\"/content/drive\", force_remount=True).\n"
          ]
        }
      ]
    },
    {
      "cell_type": "code",
      "source": [
        "!pip -q install --upgrade --force-reinstall --no-deps kaggle > log  # upgrade kaggle package (to avoid a warning)\n",
        "!mkdir -p ~/.kaggle                                           # .kaggle folder must contain kaggle.json for kaggle executable to properly authenticate you to Kaggle.com\n",
        "!cp /content/drive/MyDrive/kaggle.json ~/.kaggle/kaggle.json >log  # First, download kaggle.json from kaggle.com (in Account page) and place it in the root of mounted Google Drive\n",
        "!cp kaggle.json ~/.kaggle/kaggle.json > log                   # Alternative location of kaggle.json (without a connection to Google Drive)\n",
        "!chmod 600 ~/.kaggle/kaggle.json                              # give only the owner full read/write access to kaggle.json\n",
        "!kaggle config set -n competition -v 26jun23                  # set the competition context for the next few kaggle API calls. !kaggle config view - shows current settings\n",
        "!kaggle competitions download >> log                          # download competition dataset as a zip file\n",
        "!unzip -o *.zip >> log                                        # Kaggle dataset is copied as a single file and needs to be unzipped.\n",
        "!kaggle competitions leaderboard --show                       # print public leaderboard"
      ],
      "metadata": {
        "colab": {
          "base_uri": "https://localhost:8080/"
        },
        "id": "Qr42QbN-QpJ2",
        "outputId": "c9347b9e-44bb-426e-dd42-299fcbe71d44"
      },
      "execution_count": 840,
      "outputs": [
        {
          "output_type": "stream",
          "name": "stdout",
          "text": [
            "cp: cannot stat 'kaggle.json': No such file or directory\n",
            "- competition is now set to: 26jun23\n",
            "Using competition: 26jun23\n",
            "  teamId  teamName                   submissionDate       score    \n",
            "--------  -------------------------  -------------------  -------  \n",
            "10612701  Никита Угрюмов             2023-06-28 23:59:12  0.87976  \n",
            "10612695  Ne1tr0N [Maxim Mashtaler]  2023-06-28 22:04:00  0.87931  \n",
            "10612706  Michael Kondrashov         2023-06-28 14:52:04  0.87746  \n",
            "10616508  Ulyana Klushova            2023-06-28 20:38:57  0.87485  \n",
            "10612698  Alexandr Boldirev          2023-06-28 21:14:30  0.87344  \n",
            "10614521  Konstantin Zeigman         2023-06-29 11:43:59  0.87169  \n",
            "10612715  Stepan Vysotsky            2023-06-28 17:57:40  0.87076  \n",
            "10614699  Dmitriy Geyzha             2023-06-28 12:50:43  0.86653  \n",
            "10613713  Mikhail Vovk               2023-06-28 15:19:07  0.86403  \n",
            "10617148  Vladimir Babushkin         2023-06-29 08:20:50  0.85571  \n",
            "10612680  esheshka                   2023-06-29 09:39:16  0.85417  \n",
            "10617156  Gleb Goloshchapov          2023-06-29 11:26:58  0.85002  \n",
            "10618717  TimoteoByalkovskiy         2023-06-28 19:48:38  0.84860  \n",
            "10618350  Seleznev Nikita            2023-06-28 17:40:59  0.84844  \n",
            "10617093  Андрей Тынков              2023-06-28 19:44:34  0.77979  \n",
            "10612678  Чистяков Лев               2023-06-28 11:40:57  0.76747  \n",
            "10612681  Maria Alyushina            2023-06-28 15:11:15  0.76086  \n",
            "10617121  Alex mamleev               2023-06-28 14:32:13  0.73860  \n",
            "10612716  Abyssinian Cat             2023-06-29 11:39:45  0.73695  \n",
            "10617114  Ксения Шкулева             2023-06-29 09:40:48  0.72950  \n",
            "10612789  Liz Volkova                2023-06-28 18:00:39  0.72206  \n",
            "10620827  Alexandr Zheglov           2023-06-29 08:29:44  0.70384  \n",
            "10617544  Arina Zavialova            2023-06-28 14:28:23  0.66151  \n",
            "10612703  Slavik Hom                 2023-06-28 14:25:48  0.63780  \n",
            "10617279  Alex Rasskazchikov         2023-06-28 15:26:20  0.55700  \n",
            "10605413  💳baseline,LR:$Stat+MCCEnc  2023-06-25 18:15:10  0.53220  \n",
            "10617643  Pavel Efimov               2023-06-28 14:41:52  0.49488  \n"
          ]
        }
      ]
    },
    {
      "cell_type": "code",
      "source": [
        "%%time\n",
        "%%capture\n",
        "%reset -f\n",
        "!pip install -U sentence-transformers tfds-nightly tensorflow tensorflow_addons plotly > log\n",
        "from IPython.core.interactiveshell import InteractiveShell as IS; IS.ast_node_interactivity = \"all\"  # allows multiple prints from a cell\n",
        "import numpy as np, pandas as pd, time, matplotlib.pyplot as plt, os, plotly.express as px, xgboost as xgb, lightgbm, re, tensorflow as tf, tensorflow.keras as keras\n",
        "from sklearn.preprocessing import MinMaxScaler, PolynomialFeatures\n",
        "from sklearn.model_selection import train_test_split, GroupKFold\n",
        "from sklearn.linear_model import LogisticRegression as LR\n",
        "from sklearn.metrics import roc_auc_score\n",
        "from sklearn.decomposition import PCA\n",
        "from sklearn.neural_network import MLPClassifier   # SKLearn's MLP is optimised for CPU (and doesn't use GPU)\n",
        "from sentence_transformers import SentenceTransformer as SBERT\n",
        "from keras.layers import Flatten, Dense\n",
        "\n",
        "os.environ['TF_DETERMINISTIC_OPS'] = '1'; os.environ['TF_CUDNN_DETERMINISTIC'] = '1'   # helps to seed TF's RNG on GPUs\n",
        "np.set_printoptions(linewidth=10000, precision=2, edgeitems=20, suppress=True)\n",
        "pd.set_option('display.max_colwidth', 100, 'display.max_columns', 10, 'display.width', 1000, 'display.max_rows', 8)\n",
        "\n",
        "class Timer():\n",
        "  def __init__(self, lim:'RunTimeLimit'=60*2): self.t0, self.lim, _ = time.time(), lim, print(f'⏳ started. You have {lim} sec. Good luck!')\n",
        "  def ShowTime(self):\n",
        "    msg = f'Runtime is {time.time()-self.t0:.0f} sec'\n",
        "    print(f'\\033[91m\\033[1m' + msg + f' > {self.lim} sec limit!!!\\033[0m' if (time.time()-self.t0-1) > self.lim else msg)"
      ],
      "metadata": {
        "colab": {
          "base_uri": "https://localhost:8080/"
        },
        "id": "Vyp3Jf3DQz5_",
        "outputId": "466969fb-d60d-4323-8878-7af61a817b5e"
      },
      "execution_count": 841,
      "outputs": [
        {
          "output_type": "stream",
          "name": "stdout",
          "text": [
            "CPU times: user 1.43 s, sys: 48.2 ms, total: 1.48 s\n",
            "Wall time: 22.7 s\n"
          ]
        }
      ]
    },
    {
      "cell_type": "code",
      "source": [
        "from sklearn.linear_model import LogisticRegression as LR\n",
        "from sklearn.ensemble import RandomForestClassifier as RFC\n",
        "from sklearn.ensemble import GradientBoostingClassifier as GBC\n",
        "from sklearn.tree import DecisionTreeClassifier as DTC\n",
        "from sklearn.svm import SVC\n",
        "from sklearn.ensemble import StackingClassifier as SC\n",
        "from sklearn.neighbors import KNeighborsClassifier as KNC\n",
        "\n",
        "from sklearn.model_selection import GridSearchCV as GSCV\n",
        "from sklearn.model_selection import RandomizedSearchCV as RSCV\n"
      ],
      "metadata": {
        "id": "mf7ks7qtHTZH"
      },
      "execution_count": 842,
      "outputs": []
    },
    {
      "cell_type": "code",
      "source": [
        "#@title MCC\n",
        "%time mcc = pd.read_csv('_mcc.csv', index_col='mcc')"
      ],
      "metadata": {
        "id": "W_Z-89adkPhU",
        "colab": {
          "base_uri": "https://localhost:8080/"
        },
        "cellView": "form",
        "outputId": "a2c45c47-7420-4833-9a6f-fe47c7855dce"
      },
      "execution_count": 843,
      "outputs": [
        {
          "output_type": "stream",
          "name": "stdout",
          "text": [
            "CPU times: user 5.43 ms, sys: 1 ms, total: 6.43 ms\n",
            "Wall time: 14.4 ms\n"
          ]
        }
      ]
    },
    {
      "cell_type": "code",
      "source": [
        "#@title TTC\n",
        "%time ttc = pd.read_csv('_ttc.csv', index_col='ttc');"
      ],
      "metadata": {
        "colab": {
          "base_uri": "https://localhost:8080/"
        },
        "cellView": "form",
        "id": "UC4EHEmdRUcl",
        "outputId": "1ecfb176-1003-4abd-e2c3-3f47dac1e5bc"
      },
      "execution_count": 844,
      "outputs": [
        {
          "output_type": "stream",
          "name": "stdout",
          "text": [
            "CPU times: user 5.36 ms, sys: 0 ns, total: 5.36 ms\n",
            "Wall time: 23 ms\n"
          ]
        }
      ]
    },
    {
      "cell_type": "code",
      "source": [
        "#@title Gender\n",
        "%time gender = pd.read_csv('gender.csv', index_col='cid'); gender.T\n",
        "trainY, testY = gender.query('gender==gender'), gender.query('gender!=gender')"
      ],
      "metadata": {
        "colab": {
          "base_uri": "https://localhost:8080/",
          "height": 147
        },
        "cellView": "form",
        "id": "hWLIgd0QRUkm",
        "outputId": "b9831eed-e2b4-44d0-87c6-456e0b159b3c"
      },
      "execution_count": 845,
      "outputs": [
        {
          "output_type": "stream",
          "name": "stdout",
          "text": [
            "CPU times: user 8.23 ms, sys: 0 ns, total: 8.23 ms\n",
            "Wall time: 25.1 ms\n"
          ]
        },
        {
          "output_type": "execute_result",
          "data": {
            "text/plain": [
              "cid     0     1     2     3     4     ...  8395  8396  8397  8398  8399\n",
              "gender   NaN   NaN   NaN   NaN   NaN  ...   0.0   0.0   1.0   0.0   0.0\n",
              "\n",
              "[1 rows x 8400 columns]"
            ],
            "text/html": [
              "\n",
              "  <div id=\"df-751f5738-7085-438a-9203-b5aae5f36ded\">\n",
              "    <div class=\"colab-df-container\">\n",
              "      <div>\n",
              "<style scoped>\n",
              "    .dataframe tbody tr th:only-of-type {\n",
              "        vertical-align: middle;\n",
              "    }\n",
              "\n",
              "    .dataframe tbody tr th {\n",
              "        vertical-align: top;\n",
              "    }\n",
              "\n",
              "    .dataframe thead th {\n",
              "        text-align: right;\n",
              "    }\n",
              "</style>\n",
              "<table border=\"1\" class=\"dataframe\">\n",
              "  <thead>\n",
              "    <tr style=\"text-align: right;\">\n",
              "      <th>cid</th>\n",
              "      <th>0</th>\n",
              "      <th>1</th>\n",
              "      <th>2</th>\n",
              "      <th>3</th>\n",
              "      <th>4</th>\n",
              "      <th>...</th>\n",
              "      <th>8395</th>\n",
              "      <th>8396</th>\n",
              "      <th>8397</th>\n",
              "      <th>8398</th>\n",
              "      <th>8399</th>\n",
              "    </tr>\n",
              "  </thead>\n",
              "  <tbody>\n",
              "    <tr>\n",
              "      <th>gender</th>\n",
              "      <td>NaN</td>\n",
              "      <td>NaN</td>\n",
              "      <td>NaN</td>\n",
              "      <td>NaN</td>\n",
              "      <td>NaN</td>\n",
              "      <td>...</td>\n",
              "      <td>0.0</td>\n",
              "      <td>0.0</td>\n",
              "      <td>1.0</td>\n",
              "      <td>0.0</td>\n",
              "      <td>0.0</td>\n",
              "    </tr>\n",
              "  </tbody>\n",
              "</table>\n",
              "<p>1 rows × 8400 columns</p>\n",
              "</div>\n",
              "      <button class=\"colab-df-convert\" onclick=\"convertToInteractive('df-751f5738-7085-438a-9203-b5aae5f36ded')\"\n",
              "              title=\"Convert this dataframe to an interactive table.\"\n",
              "              style=\"display:none;\">\n",
              "        \n",
              "  <svg xmlns=\"http://www.w3.org/2000/svg\" height=\"24px\"viewBox=\"0 0 24 24\"\n",
              "       width=\"24px\">\n",
              "    <path d=\"M0 0h24v24H0V0z\" fill=\"none\"/>\n",
              "    <path d=\"M18.56 5.44l.94 2.06.94-2.06 2.06-.94-2.06-.94-.94-2.06-.94 2.06-2.06.94zm-11 1L8.5 8.5l.94-2.06 2.06-.94-2.06-.94L8.5 2.5l-.94 2.06-2.06.94zm10 10l.94 2.06.94-2.06 2.06-.94-2.06-.94-.94-2.06-.94 2.06-2.06.94z\"/><path d=\"M17.41 7.96l-1.37-1.37c-.4-.4-.92-.59-1.43-.59-.52 0-1.04.2-1.43.59L10.3 9.45l-7.72 7.72c-.78.78-.78 2.05 0 2.83L4 21.41c.39.39.9.59 1.41.59.51 0 1.02-.2 1.41-.59l7.78-7.78 2.81-2.81c.8-.78.8-2.07 0-2.86zM5.41 20L4 18.59l7.72-7.72 1.47 1.35L5.41 20z\"/>\n",
              "  </svg>\n",
              "      </button>\n",
              "      \n",
              "  <style>\n",
              "    .colab-df-container {\n",
              "      display:flex;\n",
              "      flex-wrap:wrap;\n",
              "      gap: 12px;\n",
              "    }\n",
              "\n",
              "    .colab-df-convert {\n",
              "      background-color: #E8F0FE;\n",
              "      border: none;\n",
              "      border-radius: 50%;\n",
              "      cursor: pointer;\n",
              "      display: none;\n",
              "      fill: #1967D2;\n",
              "      height: 32px;\n",
              "      padding: 0 0 0 0;\n",
              "      width: 32px;\n",
              "    }\n",
              "\n",
              "    .colab-df-convert:hover {\n",
              "      background-color: #E2EBFA;\n",
              "      box-shadow: 0px 1px 2px rgba(60, 64, 67, 0.3), 0px 1px 3px 1px rgba(60, 64, 67, 0.15);\n",
              "      fill: #174EA6;\n",
              "    }\n",
              "\n",
              "    [theme=dark] .colab-df-convert {\n",
              "      background-color: #3B4455;\n",
              "      fill: #D2E3FC;\n",
              "    }\n",
              "\n",
              "    [theme=dark] .colab-df-convert:hover {\n",
              "      background-color: #434B5C;\n",
              "      box-shadow: 0px 1px 3px 1px rgba(0, 0, 0, 0.15);\n",
              "      filter: drop-shadow(0px 1px 2px rgba(0, 0, 0, 0.3));\n",
              "      fill: #FFFFFF;\n",
              "    }\n",
              "  </style>\n",
              "\n",
              "      <script>\n",
              "        const buttonEl =\n",
              "          document.querySelector('#df-751f5738-7085-438a-9203-b5aae5f36ded button.colab-df-convert');\n",
              "        buttonEl.style.display =\n",
              "          google.colab.kernel.accessAllowed ? 'block' : 'none';\n",
              "\n",
              "        async function convertToInteractive(key) {\n",
              "          const element = document.querySelector('#df-751f5738-7085-438a-9203-b5aae5f36ded');\n",
              "          const dataTable =\n",
              "            await google.colab.kernel.invokeFunction('convertToInteractive',\n",
              "                                                     [key], {});\n",
              "          if (!dataTable) return;\n",
              "\n",
              "          const docLinkHtml = 'Like what you see? Visit the ' +\n",
              "            '<a target=\"_blank\" href=https://colab.research.google.com/notebooks/data_table.ipynb>data table notebook</a>'\n",
              "            + ' to learn more about interactive tables.';\n",
              "          element.innerHTML = '';\n",
              "          dataTable['output_type'] = 'display_data';\n",
              "          await google.colab.output.renderOutput(dataTable, element);\n",
              "          const docLink = document.createElement('div');\n",
              "          docLink.innerHTML = docLinkHtml;\n",
              "          element.appendChild(docLink);\n",
              "        }\n",
              "      </script>\n",
              "    </div>\n",
              "  </div>\n",
              "  "
            ]
          },
          "metadata": {},
          "execution_count": 845
        }
      ]
    },
    {
      "cell_type": "code",
      "source": [
        "#@title TRX\n",
        "%time dfTrx = pd.read_csv('trx.csv').sort_values(['cid','dt','tm'])"
      ],
      "metadata": {
        "colab": {
          "base_uri": "https://localhost:8080/"
        },
        "cellView": "form",
        "id": "y3dT50Q4RUsI",
        "outputId": "e705ff62-87a9-4f1a-b9ba-b8463ebe9cd7"
      },
      "execution_count": 846,
      "outputs": [
        {
          "output_type": "stream",
          "name": "stdout",
          "text": [
            "CPU times: user 9.42 s, sys: 454 ms, total: 9.87 s\n",
            "Wall time: 13.5 s\n"
          ]
        }
      ]
    },
    {
      "cell_type": "markdown",
      "source": [
        "# **Тесты**"
      ],
      "metadata": {
        "id": "4j3DZA3NrpEQ"
      }
    },
    {
      "cell_type": "code",
      "source": [
        "df_test = dfTrx.join(gender, on='cid', how='inner')\n",
        "df_test = df_test[~df_test.gender.isna()]"
      ],
      "metadata": {
        "id": "8OUnddXRvFpH"
      },
      "execution_count": 985,
      "outputs": []
    },
    {
      "cell_type": "code",
      "source": [
        "mcc_list = list(set(dfTrx.mcc))\n",
        "df_mcc = pd.DataFrame({'mcc': mcc_list})"
      ],
      "metadata": {
        "id": "x4oQ4AhXt29o"
      },
      "execution_count": 1012,
      "outputs": []
    },
    {
      "cell_type": "code",
      "source": [
        "zero = df_test[df_test.gender == 0][['cid', 'mcc']].drop_duplicates().groupby('mcc').agg('size').fillna(0)\n",
        "zero = df_mcc.join(pd.DataFrame({'zero': zero}), on='mcc', how='outer').fillna(0)\n",
        "one = df_test[df_test.gender == 1][['cid', 'mcc']].drop_duplicates().groupby('mcc').agg('size').fillna(0)\n",
        "one = df_mcc.join(pd.DataFrame({'one': one}), on='mcc', how='outer').fillna(0)"
      ],
      "metadata": {
        "id": "HqTH-pYRuPsS"
      },
      "execution_count": 1034,
      "outputs": []
    },
    {
      "cell_type": "code",
      "source": [
        "df_mcc = df_mcc.join(pd.DataFrame({'count': (zero.zero + one.one)}), on='mcc', how='left').join(pd.DataFrame({'%': zero.zero / (zero.zero + one.one) * 100}), on='mcc', how='left')\n"
      ],
      "metadata": {
        "id": "JY6YBuGVwMw9"
      },
      "execution_count": 1038,
      "outputs": []
    },
    {
      "cell_type": "markdown",
      "source": [
        "# **My Code**"
      ],
      "metadata": {
        "id": "eXtjhdu1RqiZ"
      }
    },
    {
      "cell_type": "code",
      "source": [
        "#@title Настройки\n",
        "\n",
        "large_count = 2000\n",
        "large_sum = -1000000000\n",
        "\n",
        "k1 = 0.85\n",
        "k2 = 0.85\n",
        "# k3 = 1.25\n",
        "k3 = 8"
      ],
      "metadata": {
        "id": "z1dKD398AbLW"
      },
      "execution_count": 952,
      "outputs": []
    },
    {
      "cell_type": "code",
      "source": [
        "#@title Определение наиболее используемых mcc\n",
        "%%time\n",
        "mcc_by_cid = dfTrx[['cid', 'mcc']].drop_duplicates().astype({'mcc': str}).groupby('cid').agg({'mcc': ' '.join}).sort_values('cid')\n",
        "\n",
        "large_mcc_count = dfTrx[['cid', 'mcc']].drop_duplicates().groupby('mcc').agg({'cid': 'size'}).sort_values(by = 'cid')\n",
        "large_mcc_sum = dfTrx[['amt', 'mcc']].groupby('mcc').agg('sum').sort_values(by = 'amt')\n",
        "\n",
        "most_popular_mcc = set(large_mcc_count[large_mcc_count.cid > large_count * k1].index.to_list()) | set(large_mcc_sum[large_mcc_sum.amt < large_sum * k1].index.to_list()) | set([123, 125, 130])\n",
        "len(most_popular_mcc)"
      ],
      "metadata": {
        "colab": {
          "base_uri": "https://localhost:8080/"
        },
        "id": "L0vNyX1yRvpO",
        "outputId": "22798475-d53e-42e6-ca14-7c94279c52c5"
      },
      "execution_count": 953,
      "outputs": [
        {
          "output_type": "stream",
          "name": "stdout",
          "text": [
            "CPU times: user 700 ms, sys: 1.97 ms, total: 702 ms\n",
            "Wall time: 723 ms\n"
          ]
        },
        {
          "output_type": "execute_result",
          "data": {
            "text/plain": [
              "35"
            ]
          },
          "metadata": {},
          "execution_count": 953
        }
      ]
    },
    {
      "cell_type": "code",
      "source": [
        "#@title Определение наиболее используемых ttc\n",
        "%%time\n",
        "ttc_by_cid = dfTrx[['cid', 'ttc']].drop_duplicates().astype({'ttc': str}).groupby('cid').agg({'ttc': ' '.join}).sort_values('cid')\n",
        "\n",
        "large_ttc_count = dfTrx[['cid', 'ttc']].drop_duplicates().groupby('ttc').agg({'cid': 'size'}).sort_values(by = 'cid')\n",
        "large_ttc_sum = dfTrx[['amt', 'ttc']].groupby('ttc').agg('sum').sort_values(by = 'amt')\n",
        "\n",
        "most_popular_ttc = set(large_ttc_count[large_ttc_count.cid > large_count * k2].index.to_list()) | set(large_ttc_sum[(large_ttc_sum.amt < large_sum * k2) | (large_ttc_sum.amt > 1000000000)].index.to_list())\n",
        "len(most_popular_ttc)"
      ],
      "metadata": {
        "colab": {
          "base_uri": "https://localhost:8080/"
        },
        "id": "v6rcZVpm72yq",
        "outputId": "cb25bcb9-9efb-4c51-a5a4-9855eb048e9c"
      },
      "execution_count": 954,
      "outputs": [
        {
          "output_type": "stream",
          "name": "stdout",
          "text": [
            "CPU times: user 630 ms, sys: 3 ms, total: 633 ms\n",
            "Wall time: 643 ms\n"
          ]
        },
        {
          "output_type": "execute_result",
          "data": {
            "text/plain": [
              "25"
            ]
          },
          "metadata": {},
          "execution_count": 954
        }
      ]
    },
    {
      "cell_type": "code",
      "source": [
        "#@title Определение наиболее используемых tid\n",
        "%%time\n",
        "tid_by_cid = dfTrx[['cid', 'tid']].drop_duplicates().astype({'tid': str}).groupby('cid').agg({'tid': ' '.join}).sort_values('cid')\n",
        "\n",
        "large_tid_count = dfTrx[['cid', 'tid']].drop_duplicates().groupby('tid').agg({'cid': 'size'}).sort_values(by = 'cid')\n",
        "large_tid_sum = dfTrx[['amt', 'tid']].groupby('tid').agg('sum').sort_values(by = 'amt')\n",
        "\n",
        "most_popular_tid = set(large_tid_count[large_tid_count.cid > large_count * k3].index.to_list()) | set(large_tid_sum[(large_tid_sum.amt < large_sum * k3) | (large_tid_sum.amt > 1000000000)].index.to_list())\n",
        "len(most_popular_tid)"
      ],
      "metadata": {
        "id": "ok_E-Mzqlo7B",
        "outputId": "c0fbcb13-bd01-4ffe-9505-6b736ee747a4",
        "colab": {
          "base_uri": "https://localhost:8080/"
        }
      },
      "execution_count": 955,
      "outputs": [
        {
          "output_type": "stream",
          "name": "stdout",
          "text": [
            "CPU times: user 4.06 s, sys: 23.1 ms, total: 4.08 s\n",
            "Wall time: 4.1 s\n"
          ]
        },
        {
          "output_type": "execute_result",
          "data": {
            "text/plain": [
              "0"
            ]
          },
          "metadata": {},
          "execution_count": 955
        }
      ]
    },
    {
      "cell_type": "markdown",
      "source": [
        "# **Начало создания df по cid**"
      ],
      "metadata": {
        "id": "4nJdyJPREIdF"
      }
    },
    {
      "cell_type": "code",
      "source": [
        "#@title Сумма\n",
        "\n",
        "def s(to_df):\n",
        "    return to_df / to_df.sum(axis=0)\n",
        "    # return to_df / np.sqrt((to_df**2).sum(axis=0))\n",
        "    # return to_df / (np.sqrt(to_df**2)).sum(axis=0)"
      ],
      "metadata": {
        "id": "pyECsCrF-42V"
      },
      "execution_count": 956,
      "outputs": []
    },
    {
      "cell_type": "code",
      "source": [
        "#@title Настройки\n",
        "\n",
        "stat = ['count', 'sum', 'median']\n",
        "is_PCA = 0"
      ],
      "metadata": {
        "cellView": "form",
        "id": "j4aGrQn8mTuZ"
      },
      "execution_count": 957,
      "outputs": []
    },
    {
      "cell_type": "code",
      "source": [
        "%%time\n",
        "df = df_.copy(deep=True)"
      ],
      "metadata": {
        "colab": {
          "base_uri": "https://localhost:8080/"
        },
        "id": "QwMMyMuuaMSi",
        "outputId": "7d335c5c-43bb-4ab3-a482-db8b228b3274"
      },
      "execution_count": 958,
      "outputs": [
        {
          "output_type": "stream",
          "name": "stdout",
          "text": [
            "CPU times: user 239 µs, sys: 0 ns, total: 239 µs\n",
            "Wall time: 247 µs\n"
          ]
        }
      ]
    },
    {
      "cell_type": "code",
      "source": [
        "#@title MCC\n",
        "%%time\n",
        "to_df = df_.copy(deep=True)\n",
        "\n",
        "for mcc_index in most_popular_mcc:\n",
        "    stat_amt_by_cid_and_mcc = dfTrx[dfTrx.mcc == mcc_index][['cid', 'amt']].groupby('cid').agg(stat).sort_values(by = 'cid').add_prefix('').droplevel(0, axis='columns')\n",
        "    stat_amt_by_cid_and_mcc.columns += '_' + str(mcc_index) + '_mcc'\n",
        "    to_df = to_df.join(stat_amt_by_cid_and_mcc, how='left')\n",
        "\n",
        "stat_by_other_mcc = dfTrx[~dfTrx.mcc.isin(most_popular_mcc)][['cid', 'amt']].groupby('cid').agg(stat).sort_values(by = 'cid').add_prefix('').droplevel(0, axis='columns')\n",
        "stat_by_other_mcc.columns += '_mcc'\n",
        "to_df = to_df.join(stat_by_other_mcc, how='left')\n",
        "\n",
        "to_df = s(to_df) * 75\n",
        "df = df.join(to_df, on = 'cid', how='left')"
      ],
      "metadata": {
        "colab": {
          "base_uri": "https://localhost:8080/"
        },
        "cellView": "form",
        "id": "TOqu0UVHD9Nf",
        "outputId": "16ce8d53-7ec9-4fec-d973-f75db6a2a7b1"
      },
      "execution_count": 959,
      "outputs": [
        {
          "output_type": "stream",
          "name": "stdout",
          "text": [
            "CPU times: user 1.59 s, sys: 10 ms, total: 1.6 s\n",
            "Wall time: 1.61 s\n"
          ]
        }
      ]
    },
    {
      "cell_type": "code",
      "source": [
        "#@title TTC\n",
        "to_df = df_.copy(deep=True)\n",
        "\n",
        "for ttc_index in most_popular_ttc:\n",
        "    stat_amt_by_cid_and_ttc = dfTrx[dfTrx.ttc == ttc_index][['cid', 'amt']].groupby('cid').agg(stat).sort_values(by = 'cid').add_prefix('').droplevel(0, axis='columns')\n",
        "    stat_amt_by_cid_and_ttc.columns += '_' + str(ttc_index) + '_ttc'\n",
        "    to_df = to_df.join(stat_amt_by_cid_and_ttc, how='left')\n",
        "\n",
        "stat_by_other_ttc = dfTrx[~dfTrx.ttc.isin(most_popular_ttc)][['cid', 'amt']].groupby('cid').agg(stat).sort_values(by = 'cid').add_prefix('').droplevel(0, axis='columns')\n",
        "stat_by_other_ttc.columns += '_ttc'\n",
        "to_df = to_df.join(stat_by_other_ttc, how='left')\n",
        "\n",
        "to_df = s(to_df) * 1/2\n",
        "df = df.join(to_df, on = 'cid', how='left')"
      ],
      "metadata": {
        "id": "WaaRakspD0Ch"
      },
      "execution_count": 960,
      "outputs": []
    },
    {
      "cell_type": "code",
      "source": [
        "#@title AMT\n",
        "\n",
        "to_df = df_.copy(deep=True)\n",
        "\n",
        "to_df = dfTrx[['cid', 'amt']].groupby('cid').agg(stat).add_prefix('').droplevel(0, axis='columns')\n",
        "to_df = df_.join(to_df, how='left').fillna(0)\n",
        "\n",
        "to_df = s(to_df) * 2/3\n",
        "df = df.join(to_df, on = 'cid', how='left')"
      ],
      "metadata": {
        "cellView": "form",
        "id": "KBCmo_hEjiid"
      },
      "execution_count": 961,
      "outputs": []
    },
    {
      "cell_type": "code",
      "source": [
        "#@title Time\n",
        "%%time\n",
        "to_df = df_.copy(deep=True)\n",
        "\n",
        "for hour in range(0, 1):\n",
        "    stat_amt_by_cid_and_hour = dfTrx[dfTrx.tm == hour][['cid', 'amt']].groupby('cid').agg(stat).sort_values(by = 'cid').add_prefix('').droplevel(0, axis='columns')\n",
        "    stat_amt_by_cid_and_hour.columns += '_' + str(hour) + '_hour'\n",
        "    to_df = to_df.join(stat_amt_by_cid_and_hour, how='left')\n",
        "\n",
        "to_df = s(to_df) * 2\n",
        "df = df.join(to_df, on = 'cid', how='left')\n",
        "to_df = df_.copy(deep=True)\n",
        "\n",
        "for hour in range(1, 9):\n",
        "    stat_amt_by_cid_and_hour = dfTrx[dfTrx.tm == hour][['cid', 'amt']].groupby('cid').agg(stat).sort_values(by = 'cid').add_prefix('').droplevel(0, axis='columns')\n",
        "    stat_amt_by_cid_and_hour.columns += '_' + str(hour) + '_hour'\n",
        "    to_df = to_df.join(stat_amt_by_cid_and_hour, how='left')\n",
        "\n",
        "to_df = s(to_df)\n",
        "df = df.join(to_df, on = 'cid', how='left')\n",
        "to_df = df_.copy(deep=True)\n",
        "\n",
        "for hour in range(9, 24):\n",
        "    stat_amt_by_cid_and_hour = dfTrx[dfTrx.tm == hour][['cid', 'amt']].groupby('cid').agg(stat).sort_values(by = 'cid').add_prefix('').droplevel(0, axis='columns')\n",
        "    stat_amt_by_cid_and_hour.columns += '_' + str(hour) + '_hour'\n",
        "    to_df = to_df.join(stat_amt_by_cid_and_hour, how='left')\n",
        "\n",
        "# to_df = pd.DataFrame(PCA(n_components=(to_df.shape[1] // 2), random_state=0).fit_transform(to_df.fillna(0).astype('int')))\n",
        "# to_df.columns += df.shape[1]\n",
        "\n",
        "to_df = s(to_df)\n",
        "df = df.join(to_df, on = 'cid', how='left')"
      ],
      "metadata": {
        "colab": {
          "base_uri": "https://localhost:8080/"
        },
        "id": "HbFnHk8L6wWY",
        "outputId": "a71ed5fd-40e9-43bc-e885-e383a5e51850"
      },
      "execution_count": 962,
      "outputs": [
        {
          "output_type": "stream",
          "name": "stdout",
          "text": [
            "CPU times: user 13.8 s, sys: 82.7 ms, total: 13.9 s\n",
            "Wall time: 14.1 s\n"
          ]
        }
      ]
    },
    {
      "cell_type": "code",
      "source": [
        "#@title Date\n",
        "%%time\n",
        "to_df = df_.copy(deep=True)\n",
        "\n",
        "# for weekday in range(7):\n",
        "#     sum_amt_by_cid_and_weekday = dfTrx[dfTrx.dt % 7 == weekday][['cid', 'amt']].groupby('cid').agg({'amt': 'sum'}).sort_values(by = 'cid')\n",
        "#     to_df = to_df.join(sum_amt_by_cid_and_weekday.amt, on = 'cid', how='left').rename(columns = {'amt': str(weekday) + '_wd'})\n",
        "\n",
        "for weekday in [0, 3, 4, 5, 6]:\n",
        "    stat_amt_by_cid_and_weekday = dfTrx[dfTrx.dt % 7 == weekday][['cid', 'amt']].groupby('cid').agg(stat).sort_values(by = 'cid').add_prefix('').droplevel(0, axis='columns')\n",
        "    stat_amt_by_cid_and_weekday.columns += '_' + str(weekday) + '_wd'\n",
        "    to_df = to_df.join(stat_amt_by_cid_and_weekday, on = 'cid', how='left')\n",
        "# to_df = pd.DataFrame(PCA(n_components=(to_df.shape[1] // 2), random_state=0).fit_transform(to_df.fillna(0).astype('int')))\n",
        "# to_df.columns += df.shape[1]\n",
        "# to_df = pd.DataFrame(to_df.sum(axis=1))\n",
        "to_df = s(to_df)\n",
        "df = df.join(to_df, on = 'cid', how='left')\n",
        "to_df = df_.copy(deep=True)\n",
        "\n",
        "for weekday in [1, 2]:\n",
        "    stat_amt_by_cid_and_weekday = dfTrx[dfTrx.dt % 7 == weekday][['cid', 'amt']].groupby('cid').agg(stat).sort_values(by = 'cid').add_prefix('').droplevel(0, axis='columns')\n",
        "    stat_amt_by_cid_and_weekday.columns += '_' + str(weekday) + '_wd'\n",
        "    to_df = to_df.join(stat_amt_by_cid_and_weekday, on = 'cid', how='left')\n",
        "\n",
        "\n",
        "# to_df = pd.DataFrame(PCA(n_components=(to_df.shape[1] // 3), random_state=0).fit_transform(to_df.fillna(0).astype('int')))\n",
        "# to_df.columns += df.shape[1]\n",
        "to_df = s(to_df)\n",
        "df = df.join(to_df, on = 'cid', how='left')"
      ],
      "metadata": {
        "colab": {
          "base_uri": "https://localhost:8080/"
        },
        "id": "pi5ZHB0nn1oo",
        "outputId": "f29022c8-37c2-43f0-f1b0-4cab90515cdc"
      },
      "execution_count": 963,
      "outputs": [
        {
          "output_type": "stream",
          "name": "stdout",
          "text": [
            "CPU times: user 1.25 s, sys: 1.02 ms, total: 1.25 s\n",
            "Wall time: 1.24 s\n"
          ]
        }
      ]
    },
    {
      "cell_type": "code",
      "source": [
        "#@title TID\n",
        "to_df = df_.copy(deep=True)\n",
        "\n",
        "for tid_index in most_popular_tid:\n",
        "    stat_amt_by_cid_and_tid = dfTrx[dfTrx.tid == tid_index][['cid', 'amt']].groupby('cid').agg(stat).sort_values(by = 'cid').add_prefix('').droplevel(0, axis='columns')\n",
        "    stat_amt_by_cid_and_tid.columns += '_' + str(tid_index) + '_tid'\n",
        "    to_df = to_df.join(stat_amt_by_cid_and_tid, how='left')\n",
        "\n",
        "stat_by_other_tid = dfTrx[~dfTrx.tid.isin(most_popular_tid)][['cid', 'amt']].groupby('cid').agg(stat).sort_values(by = 'cid').add_prefix('').droplevel(0, axis='columns')\n",
        "stat_by_other_tid.columns += '_tid'\n",
        "to_df = to_df.join(stat_by_other_tid, how='left')\n",
        "\n",
        "to_df = s(to_df)\n",
        "df = df.join(to_df, on = 'cid', how='left')"
      ],
      "metadata": {
        "id": "XnFbbfIwlkJI"
      },
      "execution_count": 964,
      "outputs": []
    },
    {
      "cell_type": "code",
      "source": [
        "df = df.fillna(0).astype('float')\n",
        "df.columns = [str(c) for c in df.columns]"
      ],
      "metadata": {
        "id": "llG860pRw-0L"
      },
      "execution_count": 965,
      "outputs": []
    },
    {
      "cell_type": "markdown",
      "source": [
        "# **Тест**"
      ],
      "metadata": {
        "id": "bXWpsQqpdqG6"
      }
    },
    {
      "cell_type": "markdown",
      "source": [
        "# **Обучение**"
      ],
      "metadata": {
        "id": "HvR1hsU3rTO4"
      }
    },
    {
      "cell_type": "code",
      "source": [
        "%%time\n",
        "df.columns = [str(c) for c in df.columns]\n",
        "\n",
        "trainX, testX = df.join(trainY.drop('gender', axis=1), how='inner'), df.join(testY.drop('gender', axis=1), how='inner') # split observations into train/test\n",
        "trainX0, testX0, trainY0, testY0 = train_test_split(trainX, trainY, test_size=0.3, random_state=0) # split train observation into local train/test sets (to score performance)\n",
        "\n",
        "# estimators = [\n",
        "#     ('rfc', RFC(n_estimators=10, random_state=42)),\n",
        "#     # ('knc', KNC()),\n",
        "#     # ('svr', make_pipeline(StandardScaler(),\n",
        "#     ('lr', LR(random_state=0, n_jobs=-1, max_iter=1000)),\n",
        "#     # ('svc', SVC(probability=True)),\n",
        "#     # ('gbc0', GBC()),\n",
        "#     ('gbc1', GBC(loss='log_loss', learning_rate=0.1, n_estimators=150, subsample=1.0, criterion='friedman_mse', max_depth=2))\n",
        "# ]\n",
        "# model = SC(estimators=estimators, final_estimator=GBC(loss='log_loss', learning_rate=0.1, n_estimators=150, subsample=1.0, criterion='friedman_mse', max_depth=2))\n",
        "\n",
        "# model = LR(random_state=0, n_jobs=-1, max_iter=1000)                             # always seed your experiments for reproducibility\n",
        "# model = RFC()\n",
        "# model = KNC()\n",
        "# params = {\n",
        "#     'n_neighbors': np.arange(1, 11),\n",
        "#     'metric': ['manhattan', 'euclidean'],\n",
        "#     'weights': ['uniform', 'distance']\n",
        "# }\n",
        "# model = DTC()\n",
        "# model = SVC(probability=True)\n",
        "# model = GBC()\n",
        "model = GBC(loss='log_loss', learning_rate=0.1, n_estimators=150, subsample=1.0, criterion='friedman_mse', max_depth=2)\n",
        "# params = {\n",
        "#     'max_depth': [None, 2, 3, 4, 5],\n",
        "# }\n",
        "\n",
        "# model = GSCV(model, params, return_train_score=True, cv=5, scoring='accuracy', n_jobs=-1)\n",
        "pY = model.fit(trainX0, trainY0.gender).predict_proba(testX0)[:, 1]\n",
        "# print(model.best_params_)\n",
        "\n",
        "print('Local AUC ROC', roc_auc_score(testY0.gender, pY))       # fit the model and show test error\n",
        "print(pY.sum() / pY.shape[0])"
      ],
      "metadata": {
        "colab": {
          "base_uri": "https://localhost:8080/"
        },
        "id": "MOVjxsLza1Vq",
        "outputId": "b51ea1a5-bd0a-4d15-91c1-4d76c7664d93"
      },
      "execution_count": 966,
      "outputs": [
        {
          "output_type": "stream",
          "name": "stdout",
          "text": [
            "Local AUC ROC 0.8552364417989416\n",
            "0.43340474555133474\n",
            "CPU times: user 20 s, sys: 41.5 ms, total: 20 s\n",
            "Wall time: 21 s\n"
          ]
        }
      ]
    },
    {
      "cell_type": "code",
      "source": [
        "tmr.ShowTime()"
      ],
      "metadata": {
        "colab": {
          "base_uri": "https://localhost:8080/"
        },
        "id": "LXGaysfq0tKx",
        "outputId": "709cbe11-a122-41d9-e1b5-f4f4e00f652c"
      },
      "execution_count": 276,
      "outputs": [
        {
          "output_type": "stream",
          "name": "stdout",
          "text": [
            "\u001b[91m\u001b[1mRuntime is 1717 sec > 120 sec limit!!!\u001b[0m\n"
          ]
        }
      ]
    },
    {
      "cell_type": "code",
      "source": [
        "# model = LR(random_state=0, n_jobs=-1, max_iter=1000).fit(trainX, trainY.gender)  # now train again, on the full training set\n",
        "# model = GBC(loss='log_loss', learning_rate=0.1, n_estimators=150, subsample=1.0, criterion='friedman_mse', max_depth=2)\n",
        "model = SC(estimators=estimators)\n",
        "model.fit(trainX, trainY.gender)"
      ],
      "metadata": {
        "colab": {
          "base_uri": "https://localhost:8080/",
          "height": 163
        },
        "id": "tNCi85beqaek",
        "outputId": "16e1eb6b-0f1d-40e3-d420-4daacf26ff9b"
      },
      "execution_count": 735,
      "outputs": [
        {
          "output_type": "execute_result",
          "data": {
            "text/plain": [
              "StackingClassifier(estimators=[('knc', KNeighborsClassifier()),\n",
              "                               ('gbc1',\n",
              "                                GradientBoostingClassifier(max_depth=2,\n",
              "                                                           n_estimators=150))])"
            ],
            "text/html": [
              "<style>#sk-container-id-2 {color: black;background-color: white;}#sk-container-id-2 pre{padding: 0;}#sk-container-id-2 div.sk-toggleable {background-color: white;}#sk-container-id-2 label.sk-toggleable__label {cursor: pointer;display: block;width: 100%;margin-bottom: 0;padding: 0.3em;box-sizing: border-box;text-align: center;}#sk-container-id-2 label.sk-toggleable__label-arrow:before {content: \"▸\";float: left;margin-right: 0.25em;color: #696969;}#sk-container-id-2 label.sk-toggleable__label-arrow:hover:before {color: black;}#sk-container-id-2 div.sk-estimator:hover label.sk-toggleable__label-arrow:before {color: black;}#sk-container-id-2 div.sk-toggleable__content {max-height: 0;max-width: 0;overflow: hidden;text-align: left;background-color: #f0f8ff;}#sk-container-id-2 div.sk-toggleable__content pre {margin: 0.2em;color: black;border-radius: 0.25em;background-color: #f0f8ff;}#sk-container-id-2 input.sk-toggleable__control:checked~div.sk-toggleable__content {max-height: 200px;max-width: 100%;overflow: auto;}#sk-container-id-2 input.sk-toggleable__control:checked~label.sk-toggleable__label-arrow:before {content: \"▾\";}#sk-container-id-2 div.sk-estimator input.sk-toggleable__control:checked~label.sk-toggleable__label {background-color: #d4ebff;}#sk-container-id-2 div.sk-label input.sk-toggleable__control:checked~label.sk-toggleable__label {background-color: #d4ebff;}#sk-container-id-2 input.sk-hidden--visually {border: 0;clip: rect(1px 1px 1px 1px);clip: rect(1px, 1px, 1px, 1px);height: 1px;margin: -1px;overflow: hidden;padding: 0;position: absolute;width: 1px;}#sk-container-id-2 div.sk-estimator {font-family: monospace;background-color: #f0f8ff;border: 1px dotted black;border-radius: 0.25em;box-sizing: border-box;margin-bottom: 0.5em;}#sk-container-id-2 div.sk-estimator:hover {background-color: #d4ebff;}#sk-container-id-2 div.sk-parallel-item::after {content: \"\";width: 100%;border-bottom: 1px solid gray;flex-grow: 1;}#sk-container-id-2 div.sk-label:hover label.sk-toggleable__label {background-color: #d4ebff;}#sk-container-id-2 div.sk-serial::before {content: \"\";position: absolute;border-left: 1px solid gray;box-sizing: border-box;top: 0;bottom: 0;left: 50%;z-index: 0;}#sk-container-id-2 div.sk-serial {display: flex;flex-direction: column;align-items: center;background-color: white;padding-right: 0.2em;padding-left: 0.2em;position: relative;}#sk-container-id-2 div.sk-item {position: relative;z-index: 1;}#sk-container-id-2 div.sk-parallel {display: flex;align-items: stretch;justify-content: center;background-color: white;position: relative;}#sk-container-id-2 div.sk-item::before, #sk-container-id-2 div.sk-parallel-item::before {content: \"\";position: absolute;border-left: 1px solid gray;box-sizing: border-box;top: 0;bottom: 0;left: 50%;z-index: -1;}#sk-container-id-2 div.sk-parallel-item {display: flex;flex-direction: column;z-index: 1;position: relative;background-color: white;}#sk-container-id-2 div.sk-parallel-item:first-child::after {align-self: flex-end;width: 50%;}#sk-container-id-2 div.sk-parallel-item:last-child::after {align-self: flex-start;width: 50%;}#sk-container-id-2 div.sk-parallel-item:only-child::after {width: 0;}#sk-container-id-2 div.sk-dashed-wrapped {border: 1px dashed gray;margin: 0 0.4em 0.5em 0.4em;box-sizing: border-box;padding-bottom: 0.4em;background-color: white;}#sk-container-id-2 div.sk-label label {font-family: monospace;font-weight: bold;display: inline-block;line-height: 1.2em;}#sk-container-id-2 div.sk-label-container {text-align: center;}#sk-container-id-2 div.sk-container {/* jupyter's `normalize.less` sets `[hidden] { display: none; }` but bootstrap.min.css set `[hidden] { display: none !important; }` so we also need the `!important` here to be able to override the default hidden behavior on the sphinx rendered scikit-learn.org. See: https://github.com/scikit-learn/scikit-learn/issues/21755 */display: inline-block !important;position: relative;}#sk-container-id-2 div.sk-text-repr-fallback {display: none;}</style><div id=\"sk-container-id-2\" class=\"sk-top-container\"><div class=\"sk-text-repr-fallback\"><pre>StackingClassifier(estimators=[(&#x27;knc&#x27;, KNeighborsClassifier()),\n",
              "                               (&#x27;gbc1&#x27;,\n",
              "                                GradientBoostingClassifier(max_depth=2,\n",
              "                                                           n_estimators=150))])</pre><b>In a Jupyter environment, please rerun this cell to show the HTML representation or trust the notebook. <br />On GitHub, the HTML representation is unable to render, please try loading this page with nbviewer.org.</b></div><div class=\"sk-container\" hidden><div class=\"sk-item sk-dashed-wrapped\"><div class=\"sk-label-container\"><div class=\"sk-label sk-toggleable\"><input class=\"sk-toggleable__control sk-hidden--visually\" id=\"sk-estimator-id-2\" type=\"checkbox\" ><label for=\"sk-estimator-id-2\" class=\"sk-toggleable__label sk-toggleable__label-arrow\">StackingClassifier</label><div class=\"sk-toggleable__content\"><pre>StackingClassifier(estimators=[(&#x27;knc&#x27;, KNeighborsClassifier()),\n",
              "                               (&#x27;gbc1&#x27;,\n",
              "                                GradientBoostingClassifier(max_depth=2,\n",
              "                                                           n_estimators=150))])</pre></div></div></div><div class=\"sk-serial\"><div class=\"sk-item\"><div class=\"sk-parallel\"><div class=\"sk-parallel-item\"><div class=\"sk-item\"><div class=\"sk-label-container\"><div class=\"sk-label sk-toggleable\"><label>knc</label></div></div><div class=\"sk-serial\"><div class=\"sk-item\"><div class=\"sk-estimator sk-toggleable\"><input class=\"sk-toggleable__control sk-hidden--visually\" id=\"sk-estimator-id-3\" type=\"checkbox\" ><label for=\"sk-estimator-id-3\" class=\"sk-toggleable__label sk-toggleable__label-arrow\">KNeighborsClassifier</label><div class=\"sk-toggleable__content\"><pre>KNeighborsClassifier()</pre></div></div></div></div></div></div><div class=\"sk-parallel-item\"><div class=\"sk-item\"><div class=\"sk-label-container\"><div class=\"sk-label sk-toggleable\"><label>gbc1</label></div></div><div class=\"sk-serial\"><div class=\"sk-item\"><div class=\"sk-estimator sk-toggleable\"><input class=\"sk-toggleable__control sk-hidden--visually\" id=\"sk-estimator-id-4\" type=\"checkbox\" ><label for=\"sk-estimator-id-4\" class=\"sk-toggleable__label sk-toggleable__label-arrow\">GradientBoostingClassifier</label><div class=\"sk-toggleable__content\"><pre>GradientBoostingClassifier(max_depth=2, n_estimators=150)</pre></div></div></div></div></div></div></div></div><div class=\"sk-item\"><div class=\"sk-parallel\"><div class=\"sk-parallel-item\"><div class=\"sk-item\"><div class=\"sk-label-container\"><div class=\"sk-label sk-toggleable\"><label>final_estimator</label></div></div><div class=\"sk-serial\"><div class=\"sk-item\"><div class=\"sk-estimator sk-toggleable\"><input class=\"sk-toggleable__control sk-hidden--visually\" id=\"sk-estimator-id-5\" type=\"checkbox\" ><label for=\"sk-estimator-id-5\" class=\"sk-toggleable__label sk-toggleable__label-arrow\">LogisticRegression</label><div class=\"sk-toggleable__content\"><pre>LogisticRegression()</pre></div></div></div></div></div></div></div></div></div></div></div></div>"
            ]
          },
          "metadata": {},
          "execution_count": 735
        }
      ]
    },
    {
      "cell_type": "code",
      "source": [
        "pY = pd.DataFrame(model.predict_proba(testX)[:,1], columns=['gender'])\n",
        "pY.index.name = 'cid'\n",
        "\n",
        "print(pY.sum() / pY.shape[0])"
      ],
      "metadata": {
        "colab": {
          "base_uri": "https://localhost:8080/"
        },
        "id": "k9jG7aW9vvci",
        "outputId": "8fa0e9f3-80be-4123-e672-ed5fcd38d680"
      },
      "execution_count": 736,
      "outputs": [
        {
          "output_type": "stream",
          "name": "stdout",
          "text": [
            "gender    0.443865\n",
            "dtype: float64\n"
          ]
        }
      ]
    },
    {
      "cell_type": "code",
      "source": [
        "pY.reset_index().to_csv('💳Baseline.csv', index=False, float_format='%10f')"
      ],
      "metadata": {
        "id": "eDT5DEO7v2ET"
      },
      "execution_count": 737,
      "outputs": []
    }
  ]
}