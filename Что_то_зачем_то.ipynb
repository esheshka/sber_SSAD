{
  "nbformat": 4,
  "nbformat_minor": 0,
  "metadata": {
    "colab": {
      "provenance": [],
      "collapsed_sections": [
        "eXtjhdu1RqiZ",
        "4nJdyJPREIdF"
      ],
      "include_colab_link": true
    },
    "kernelspec": {
      "name": "python3",
      "display_name": "Python 3"
    },
    "language_info": {
      "name": "python"
    }
  },
  "cells": [
    {
      "cell_type": "markdown",
      "metadata": {
        "id": "view-in-github",
        "colab_type": "text"
      },
      "source": [
        "<a href=\"https://colab.research.google.com/github/esheshka/team_one_project/blob/Andrey/%D0%A7%D1%82%D0%BE_%D1%82%D0%BE_%D0%B7%D0%B0%D1%87%D0%B5%D0%BC_%D1%82%D0%BE.ipynb\" target=\"_parent\"><img src=\"https://colab.research.google.com/assets/colab-badge.svg\" alt=\"Open In Colab\"/></a>"
      ]
    },
    {
      "cell_type": "markdown",
      "source": [
        "# **Imports**"
      ],
      "metadata": {
        "id": "r14cTJ70c4ok"
      }
    },
    {
      "cell_type": "code",
      "source": [
        "from google.colab import drive; drive.mount('/content/drive')"
      ],
      "metadata": {
        "colab": {
          "base_uri": "https://localhost:8080/"
        },
        "id": "-0VMhfZwPmlX",
        "outputId": "85174246-487d-44c4-a677-29dd77459c67"
      },
      "execution_count": 162,
      "outputs": [
        {
          "output_type": "stream",
          "name": "stdout",
          "text": [
            "Drive already mounted at /content/drive; to attempt to forcibly remount, call drive.mount(\"/content/drive\", force_remount=True).\n"
          ]
        }
      ]
    },
    {
      "cell_type": "code",
      "source": [
        "!pip -q install --upgrade --force-reinstall --no-deps kaggle > log  # upgrade kaggle package (to avoid a warning)\n",
        "!mkdir -p ~/.kaggle                                           # .kaggle folder must contain kaggle.json for kaggle executable to properly authenticate you to Kaggle.com\n",
        "!cp /content/drive/MyDrive/kaggle.json ~/.kaggle/kaggle.json >log  # First, download kaggle.json from kaggle.com (in Account page) and place it in the root of mounted Google Drive\n",
        "!cp kaggle.json ~/.kaggle/kaggle.json > log                   # Alternative location of kaggle.json (without a connection to Google Drive)\n",
        "!chmod 600 ~/.kaggle/kaggle.json                              # give only the owner full read/write access to kaggle.json\n",
        "!kaggle config set -n competition -v 26jun23                  # set the competition context for the next few kaggle API calls. !kaggle config view - shows current settings\n",
        "!kaggle competitions download >> log                          # download competition dataset as a zip file\n",
        "!unzip -o *.zip >> log                                        # Kaggle dataset is copied as a single file and needs to be unzipped.\n",
        "!kaggle competitions leaderboard --show                       # print public leaderboard"
      ],
      "metadata": {
        "colab": {
          "base_uri": "https://localhost:8080/"
        },
        "id": "Qr42QbN-QpJ2",
        "outputId": "29e62969-d803-4f24-9346-ec2f6d8253bc"
      },
      "execution_count": 163,
      "outputs": [
        {
          "output_type": "stream",
          "name": "stdout",
          "text": [
            "cp: cannot stat 'kaggle.json': No such file or directory\n",
            "- competition is now set to: 26jun23\n",
            "Using competition: 26jun23\n",
            "  teamId  teamName                       submissionDate       score    \n",
            "--------  -----------------------------  -------------------  -------  \n",
            "10612701  Никита Угрюмов                 2023-06-30 11:19:47  0.88394  \n",
            "10612695  Ne1tr0N [Maxim Mashtaler]      2023-06-29 22:06:01  0.88242  \n",
            "10612706  Michael Kondrashov             2023-06-29 22:56:06  0.88231  \n",
            "10616508  Ulyana Klushova                2023-06-29 22:43:08  0.87691  \n",
            "10614521  Konstantin Zeigman             2023-06-30 11:19:20  0.87691  \n",
            "10612715  Stepan Vysotsky                2023-06-29 19:30:11  0.87687  \n",
            "10612698  Alexandr Boldirev              2023-06-30 10:43:59  0.87539  \n",
            "10617156  Gleb Goloshchapov              2023-06-30 11:08:02  0.87355  \n",
            "10612681  Maria Alyushina                2023-06-29 18:43:03  0.87097  \n",
            "10612680  esheshka                       2023-06-29 14:43:48  0.86811  \n",
            "10614699  Dmitriy Geyzha                 2023-06-29 22:44:13  0.86653  \n",
            "10613713  Mikhail Vovk                   2023-06-29 13:04:54  0.86403  \n",
            "10618350  Seleznev Nikita                2023-06-29 12:18:15  0.85792  \n",
            "10617148  Vladimir Babushkin             2023-06-29 21:13:06  0.85571  \n",
            "10618717  TimoteoByalkovskiy             2023-06-28 19:48:38  0.84860  \n",
            "10623729  Артём Гуйван                   2023-06-30 00:28:00  0.84797  \n",
            "10612703  Slavik Hom                     2023-06-30 11:14:47  0.83986  \n",
            "10618473  gleb petrov                    2023-06-30 11:05:45  0.83720  \n",
            "10612716  Luka Duvanov & Fedorova Maria  2023-06-30 11:13:44  0.81829  \n",
            "10617093  Андрей Тынков                  2023-06-30 10:36:30  0.77979  \n",
            "10617114  Ксения Шкулева                 2023-06-29 12:29:25  0.77946  \n",
            "10612789  Liz_Margo_Mila                 2023-06-29 12:45:11  0.77463  \n",
            "10612678  Чистяков Лев                   2023-06-28 11:40:57  0.76747  \n",
            "10620827  Name                           2023-06-29 14:09:30  0.74947  \n",
            "10617279  Alex Rasskazchikov             2023-06-29 21:09:22  0.74653  \n",
            "10614331  AntonTkachev                   2023-06-29 13:55:02  0.73574  \n",
            "10614297  ГУСИ                           2023-06-30 11:09:38  0.69533  \n",
            "10617643  Pavel Efimov                   2023-06-29 21:35:28  0.55018  \n",
            "10605413  💳baseline,LR:$Stat+MCCEnc      2023-06-25 18:15:10  0.53220  \n",
            "10622182  vlligo                         2023-06-29 12:49:45  0.52588  \n"
          ]
        }
      ]
    },
    {
      "cell_type": "code",
      "source": [
        "%%time\n",
        "%%capture\n",
        "%reset -f\n",
        "!pip install -U sentence-transformers tfds-nightly tensorflow tensorflow_addons plotly > log\n",
        "from IPython.core.interactiveshell import InteractiveShell as IS; IS.ast_node_interactivity = \"all\"  # allows multiple prints from a cell\n",
        "import numpy as np, pandas as pd, time, matplotlib.pyplot as plt, os, plotly.express as px, xgboost as xgb, lightgbm, re, tensorflow as tf, tensorflow.keras as keras\n",
        "from sklearn.preprocessing import MinMaxScaler, PolynomialFeatures\n",
        "from sklearn.model_selection import train_test_split, GroupKFold\n",
        "from sklearn.linear_model import LogisticRegression as LR\n",
        "from sklearn.metrics import roc_auc_score\n",
        "from sklearn.decomposition import PCA\n",
        "from sklearn.neural_network import MLPClassifier   # SKLearn's MLP is optimised for CPU (and doesn't use GPU)\n",
        "from sentence_transformers import SentenceTransformer as SBERT\n",
        "from keras.layers import Flatten, Dense\n",
        "\n",
        "os.environ['TF_DETERMINISTIC_OPS'] = '1'; os.environ['TF_CUDNN_DETERMINISTIC'] = '1'   # helps to seed TF's RNG on GPUs\n",
        "np.set_printoptions(linewidth=10000, precision=2, edgeitems=20, suppress=True)\n",
        "pd.set_option('display.max_colwidth', 100, 'display.max_columns', 10, 'display.width', 1000, 'display.max_rows', 8)\n",
        "\n",
        "class Timer():\n",
        "  def __init__(self, lim:'RunTimeLimit'=60*2): self.t0, self.lim, _ = time.time(), lim, print(f'⏳ started. You have {lim} sec. Good luck!')\n",
        "  def ShowTime(self):\n",
        "    msg = f'Runtime is {time.time()-self.t0:.0f} sec'\n",
        "    print(f'\\033[91m\\033[1m' + msg + f' > {self.lim} sec limit!!!\\033[0m' if (time.time()-self.t0-1) > self.lim else msg)"
      ],
      "metadata": {
        "colab": {
          "base_uri": "https://localhost:8080/"
        },
        "id": "Vyp3Jf3DQz5_",
        "outputId": "11496ee4-7e66-48aa-e414-6e0ed3369315"
      },
      "execution_count": 164,
      "outputs": [
        {
          "output_type": "stream",
          "name": "stdout",
          "text": [
            "CPU times: user 1.48 s, sys: 81.8 ms, total: 1.56 s\n",
            "Wall time: 34 s\n"
          ]
        }
      ]
    },
    {
      "cell_type": "code",
      "source": [
        "from sklearn.ensemble import RandomForestClassifier as RFC\n",
        "from sklearn.ensemble import GradientBoostingClassifier as GBC\n",
        "\n",
        "from sklearn.neural_network import MLPClassifier as MLPC\n",
        "\n",
        "from sklearn.model_selection import GridSearchCV as GSCV"
      ],
      "metadata": {
        "id": "mf7ks7qtHTZH"
      },
      "execution_count": 165,
      "outputs": []
    },
    {
      "cell_type": "code",
      "source": [
        "#@title MCC\n",
        "%time mcc = pd.read_csv('_mcc.csv', index_col='mcc')"
      ],
      "metadata": {
        "id": "W_Z-89adkPhU",
        "colab": {
          "base_uri": "https://localhost:8080/"
        },
        "cellView": "form",
        "outputId": "1674e260-da74-4c20-8e3b-232e3f75e859"
      },
      "execution_count": 166,
      "outputs": [
        {
          "output_type": "stream",
          "name": "stdout",
          "text": [
            "CPU times: user 7.04 ms, sys: 0 ns, total: 7.04 ms\n",
            "Wall time: 17.8 ms\n"
          ]
        }
      ]
    },
    {
      "cell_type": "code",
      "source": [
        "#@title TTC\n",
        "%time ttc = pd.read_csv('_ttc.csv', index_col='ttc');"
      ],
      "metadata": {
        "colab": {
          "base_uri": "https://localhost:8080/"
        },
        "cellView": "form",
        "id": "UC4EHEmdRUcl",
        "outputId": "e7e3a32c-250b-4380-f970-4607e8385abd"
      },
      "execution_count": 167,
      "outputs": [
        {
          "output_type": "stream",
          "name": "stdout",
          "text": [
            "CPU times: user 5.62 ms, sys: 0 ns, total: 5.62 ms\n",
            "Wall time: 15.7 ms\n"
          ]
        }
      ]
    },
    {
      "cell_type": "code",
      "source": [
        "#@title Gender\n",
        "%time gender = pd.read_csv('gender.csv', index_col='cid')\n",
        "trainY, testY = gender.query('gender==gender'), gender.query('gender!=gender')"
      ],
      "metadata": {
        "colab": {
          "base_uri": "https://localhost:8080/"
        },
        "id": "hWLIgd0QRUkm",
        "outputId": "d31d1eab-a21d-437d-f8df-f97dbfa091f3"
      },
      "execution_count": 168,
      "outputs": [
        {
          "output_type": "stream",
          "name": "stdout",
          "text": [
            "CPU times: user 6.95 ms, sys: 43 µs, total: 6.99 ms\n",
            "Wall time: 15.7 ms\n"
          ]
        }
      ]
    },
    {
      "cell_type": "code",
      "source": [
        "#@title TRX\n",
        "%time dfTrx = pd.read_csv('trx.csv').sort_values(['cid','dt','tm'])"
      ],
      "metadata": {
        "colab": {
          "base_uri": "https://localhost:8080/"
        },
        "cellView": "form",
        "id": "y3dT50Q4RUsI",
        "outputId": "edf08c64-94c3-4a95-f7ae-038eb2f32583"
      },
      "execution_count": 169,
      "outputs": [
        {
          "output_type": "stream",
          "name": "stdout",
          "text": [
            "CPU times: user 9.67 s, sys: 780 ms, total: 10.4 s\n",
            "Wall time: 22.8 s\n"
          ]
        }
      ]
    },
    {
      "cell_type": "code",
      "source": [
        "df_ = gender.drop('gender', axis=1); df_.T  # a list of ordered client IDs (as index)\n",
        "\n",
        "pd.set_option('display.max_colwidth', 100, 'display.max_columns', 20, 'display.width', 1000, 'display.max_rows', 4)\n",
        "tmr = Timer() # runtime limit (in seconds). Add all of your code after the timer"
      ],
      "metadata": {
        "colab": {
          "base_uri": "https://localhost:8080/",
          "height": 97
        },
        "id": "H4xnvYxmriVx",
        "outputId": "e8894f67-ee92-420d-da9a-702da32cf019"
      },
      "execution_count": 170,
      "outputs": [
        {
          "output_type": "execute_result",
          "data": {
            "text/plain": [
              "Empty DataFrame\n",
              "Columns: [0, 1, 2, 3, 4, 5, 6, 7, 8, 9, 10, 11, 12, 13, 14, 15, 16, 17, 18, 19, 20, 21, 22, 23, 24, 25, 26, 27, 28, 29, 30, 31, 32, 33, 34, 35, 36, 37, 38, 39, 40, 41, 42, 43, 44, 45, 46, 47, 48, 49, 50, 51, 52, 53, 54, 55, 56, 57, 58, 59, 60, 61, 62, 63, 64, 65, 66, 67, 68, 69, 70, 71, 72, 73, 74, 75, 76, 77, 78, 79, 80, 81, 82, 83, 84, 85, 86, 87, 88, 89, 90, 91, 92, 93, 94, 95, 96, 97, 98, 99, ...]\n",
              "Index: []\n",
              "\n",
              "[0 rows x 8400 columns]"
            ],
            "text/html": [
              "\n",
              "  <div id=\"df-50e29c32-faf5-4144-a85c-5eda466d760c\">\n",
              "    <div class=\"colab-df-container\">\n",
              "      <div>\n",
              "<style scoped>\n",
              "    .dataframe tbody tr th:only-of-type {\n",
              "        vertical-align: middle;\n",
              "    }\n",
              "\n",
              "    .dataframe tbody tr th {\n",
              "        vertical-align: top;\n",
              "    }\n",
              "\n",
              "    .dataframe thead th {\n",
              "        text-align: right;\n",
              "    }\n",
              "</style>\n",
              "<table border=\"1\" class=\"dataframe\">\n",
              "  <thead>\n",
              "    <tr style=\"text-align: right;\">\n",
              "      <th>cid</th>\n",
              "      <th>0</th>\n",
              "      <th>1</th>\n",
              "      <th>2</th>\n",
              "      <th>3</th>\n",
              "      <th>4</th>\n",
              "      <th>...</th>\n",
              "      <th>8395</th>\n",
              "      <th>8396</th>\n",
              "      <th>8397</th>\n",
              "      <th>8398</th>\n",
              "      <th>8399</th>\n",
              "    </tr>\n",
              "  </thead>\n",
              "  <tbody>\n",
              "  </tbody>\n",
              "</table>\n",
              "<p>0 rows × 8400 columns</p>\n",
              "</div>\n",
              "      <button class=\"colab-df-convert\" onclick=\"convertToInteractive('df-50e29c32-faf5-4144-a85c-5eda466d760c')\"\n",
              "              title=\"Convert this dataframe to an interactive table.\"\n",
              "              style=\"display:none;\">\n",
              "        \n",
              "  <svg xmlns=\"http://www.w3.org/2000/svg\" height=\"24px\"viewBox=\"0 0 24 24\"\n",
              "       width=\"24px\">\n",
              "    <path d=\"M0 0h24v24H0V0z\" fill=\"none\"/>\n",
              "    <path d=\"M18.56 5.44l.94 2.06.94-2.06 2.06-.94-2.06-.94-.94-2.06-.94 2.06-2.06.94zm-11 1L8.5 8.5l.94-2.06 2.06-.94-2.06-.94L8.5 2.5l-.94 2.06-2.06.94zm10 10l.94 2.06.94-2.06 2.06-.94-2.06-.94-.94-2.06-.94 2.06-2.06.94z\"/><path d=\"M17.41 7.96l-1.37-1.37c-.4-.4-.92-.59-1.43-.59-.52 0-1.04.2-1.43.59L10.3 9.45l-7.72 7.72c-.78.78-.78 2.05 0 2.83L4 21.41c.39.39.9.59 1.41.59.51 0 1.02-.2 1.41-.59l7.78-7.78 2.81-2.81c.8-.78.8-2.07 0-2.86zM5.41 20L4 18.59l7.72-7.72 1.47 1.35L5.41 20z\"/>\n",
              "  </svg>\n",
              "      </button>\n",
              "      \n",
              "  <style>\n",
              "    .colab-df-container {\n",
              "      display:flex;\n",
              "      flex-wrap:wrap;\n",
              "      gap: 12px;\n",
              "    }\n",
              "\n",
              "    .colab-df-convert {\n",
              "      background-color: #E8F0FE;\n",
              "      border: none;\n",
              "      border-radius: 50%;\n",
              "      cursor: pointer;\n",
              "      display: none;\n",
              "      fill: #1967D2;\n",
              "      height: 32px;\n",
              "      padding: 0 0 0 0;\n",
              "      width: 32px;\n",
              "    }\n",
              "\n",
              "    .colab-df-convert:hover {\n",
              "      background-color: #E2EBFA;\n",
              "      box-shadow: 0px 1px 2px rgba(60, 64, 67, 0.3), 0px 1px 3px 1px rgba(60, 64, 67, 0.15);\n",
              "      fill: #174EA6;\n",
              "    }\n",
              "\n",
              "    [theme=dark] .colab-df-convert {\n",
              "      background-color: #3B4455;\n",
              "      fill: #D2E3FC;\n",
              "    }\n",
              "\n",
              "    [theme=dark] .colab-df-convert:hover {\n",
              "      background-color: #434B5C;\n",
              "      box-shadow: 0px 1px 3px 1px rgba(0, 0, 0, 0.15);\n",
              "      filter: drop-shadow(0px 1px 2px rgba(0, 0, 0, 0.3));\n",
              "      fill: #FFFFFF;\n",
              "    }\n",
              "  </style>\n",
              "\n",
              "      <script>\n",
              "        const buttonEl =\n",
              "          document.querySelector('#df-50e29c32-faf5-4144-a85c-5eda466d760c button.colab-df-convert');\n",
              "        buttonEl.style.display =\n",
              "          google.colab.kernel.accessAllowed ? 'block' : 'none';\n",
              "\n",
              "        async function convertToInteractive(key) {\n",
              "          const element = document.querySelector('#df-50e29c32-faf5-4144-a85c-5eda466d760c');\n",
              "          const dataTable =\n",
              "            await google.colab.kernel.invokeFunction('convertToInteractive',\n",
              "                                                     [key], {});\n",
              "          if (!dataTable) return;\n",
              "\n",
              "          const docLinkHtml = 'Like what you see? Visit the ' +\n",
              "            '<a target=\"_blank\" href=https://colab.research.google.com/notebooks/data_table.ipynb>data table notebook</a>'\n",
              "            + ' to learn more about interactive tables.';\n",
              "          element.innerHTML = '';\n",
              "          dataTable['output_type'] = 'display_data';\n",
              "          await google.colab.output.renderOutput(dataTable, element);\n",
              "          const docLink = document.createElement('div');\n",
              "          docLink.innerHTML = docLinkHtml;\n",
              "          element.appendChild(docLink);\n",
              "        }\n",
              "      </script>\n",
              "    </div>\n",
              "  </div>\n",
              "  "
            ]
          },
          "metadata": {},
          "execution_count": 170
        },
        {
          "output_type": "stream",
          "name": "stdout",
          "text": [
            "⏳ started. You have 120 sec. Good luck!\n"
          ]
        }
      ]
    },
    {
      "cell_type": "markdown",
      "source": [
        "# **Imports**"
      ],
      "metadata": {
        "id": "NLN_WWv1Svn2"
      }
    },
    {
      "cell_type": "code",
      "source": [
        "!pip install lightgbm\n",
        "!pip install catboost\n",
        "\n",
        "from lightgbm import LGBMClassifier as LGBMC\n",
        "from catboost import CatBoostClassifier as CBC"
      ],
      "metadata": {
        "colab": {
          "base_uri": "https://localhost:8080/"
        },
        "id": "aX1TxifrSy5S",
        "outputId": "ed77c948-6d43-4bff-9ec0-994930cd26ec"
      },
      "execution_count": 171,
      "outputs": [
        {
          "output_type": "stream",
          "name": "stdout",
          "text": [
            "Requirement already satisfied: lightgbm in /usr/local/lib/python3.10/dist-packages (3.3.5)\n",
            "Requirement already satisfied: wheel in /usr/local/lib/python3.10/dist-packages (from lightgbm) (0.40.0)\n",
            "Requirement already satisfied: numpy in /usr/local/lib/python3.10/dist-packages (from lightgbm) (1.22.4)\n",
            "Requirement already satisfied: scipy in /usr/local/lib/python3.10/dist-packages (from lightgbm) (1.10.1)\n",
            "Requirement already satisfied: scikit-learn!=0.22.0 in /usr/local/lib/python3.10/dist-packages (from lightgbm) (1.2.2)\n",
            "Requirement already satisfied: joblib>=1.1.1 in /usr/local/lib/python3.10/dist-packages (from scikit-learn!=0.22.0->lightgbm) (1.2.0)\n",
            "Requirement already satisfied: threadpoolctl>=2.0.0 in /usr/local/lib/python3.10/dist-packages (from scikit-learn!=0.22.0->lightgbm) (3.1.0)\n",
            "Requirement already satisfied: catboost in /usr/local/lib/python3.10/dist-packages (1.2)\n",
            "Requirement already satisfied: graphviz in /usr/local/lib/python3.10/dist-packages (from catboost) (0.20.1)\n",
            "Requirement already satisfied: matplotlib in /usr/local/lib/python3.10/dist-packages (from catboost) (3.7.1)\n",
            "Requirement already satisfied: numpy>=1.16.0 in /usr/local/lib/python3.10/dist-packages (from catboost) (1.22.4)\n",
            "Requirement already satisfied: pandas>=0.24 in /usr/local/lib/python3.10/dist-packages (from catboost) (1.5.3)\n",
            "Requirement already satisfied: scipy in /usr/local/lib/python3.10/dist-packages (from catboost) (1.10.1)\n",
            "Requirement already satisfied: plotly in /usr/local/lib/python3.10/dist-packages (from catboost) (5.15.0)\n",
            "Requirement already satisfied: six in /usr/local/lib/python3.10/dist-packages (from catboost) (1.16.0)\n",
            "Requirement already satisfied: python-dateutil>=2.8.1 in /usr/local/lib/python3.10/dist-packages (from pandas>=0.24->catboost) (2.8.2)\n",
            "Requirement already satisfied: pytz>=2020.1 in /usr/local/lib/python3.10/dist-packages (from pandas>=0.24->catboost) (2022.7.1)\n",
            "Requirement already satisfied: contourpy>=1.0.1 in /usr/local/lib/python3.10/dist-packages (from matplotlib->catboost) (1.1.0)\n",
            "Requirement already satisfied: cycler>=0.10 in /usr/local/lib/python3.10/dist-packages (from matplotlib->catboost) (0.11.0)\n",
            "Requirement already satisfied: fonttools>=4.22.0 in /usr/local/lib/python3.10/dist-packages (from matplotlib->catboost) (4.40.0)\n",
            "Requirement already satisfied: kiwisolver>=1.0.1 in /usr/local/lib/python3.10/dist-packages (from matplotlib->catboost) (1.4.4)\n",
            "Requirement already satisfied: packaging>=20.0 in /usr/local/lib/python3.10/dist-packages (from matplotlib->catboost) (23.1)\n",
            "Requirement already satisfied: pillow>=6.2.0 in /usr/local/lib/python3.10/dist-packages (from matplotlib->catboost) (8.4.0)\n",
            "Requirement already satisfied: pyparsing>=2.3.1 in /usr/local/lib/python3.10/dist-packages (from matplotlib->catboost) (3.1.0)\n",
            "Requirement already satisfied: tenacity>=6.2.0 in /usr/local/lib/python3.10/dist-packages (from plotly->catboost) (8.2.2)\n"
          ]
        }
      ]
    },
    {
      "cell_type": "markdown",
      "source": [
        "# **Interesting**"
      ],
      "metadata": {
        "id": "4j3DZA3NrpEQ"
      }
    },
    {
      "cell_type": "code",
      "source": [
        "df_test = dfTrx.join(gender, on='cid', how='inner')\n",
        "df_test = df_test[~df_test.gender.isna()]"
      ],
      "metadata": {
        "id": "8OUnddXRvFpH"
      },
      "execution_count": 172,
      "outputs": []
    },
    {
      "cell_type": "code",
      "source": [
        "#@title MCC\n",
        "\n",
        "mcc_list = list(set(df_test.mcc))\n",
        "df_mcc = pd.DataFrame({'mcc': mcc_list})\n",
        "\n",
        "zero = df_test[df_test.gender == 0][['cid', 'mcc']].drop_duplicates().groupby('mcc').agg('size').fillna(0)\n",
        "zero = df_mcc.join(pd.DataFrame({'zero': zero}), on='mcc', how='outer').fillna(0)\n",
        "one = df_test[df_test.gender == 1][['cid', 'mcc']].drop_duplicates().groupby('mcc').agg('size').fillna(0)\n",
        "one = df_mcc.join(pd.DataFrame({'one': one}), on='mcc', how='outer').fillna(0)\n",
        "\n",
        "df_mcc = df_mcc.join(pd.DataFrame({'count': (zero.zero + one.one)}), on='mcc', how='left').join(pd.DataFrame({'%': zero.zero / (zero.zero + one.one) * 100}), on='mcc', how='left')\n",
        "\n",
        "interesting_mcc = set(df_mcc[(df_mcc['count'] > 100) & ((df_mcc['%'] > 70) | (df_mcc['%'] < 30))].mcc)\n",
        "\n",
        "interesting_mcc"
      ],
      "metadata": {
        "colab": {
          "base_uri": "https://localhost:8080/"
        },
        "id": "x4oQ4AhXt29o",
        "outputId": "7ed3e006-2171-4b23-f267-638b117d1503"
      },
      "execution_count": 173,
      "outputs": [
        {
          "output_type": "execute_result",
          "data": {
            "text/plain": [
              "{62, 63, 70, 71, 82, 106, 149, 150, 161}"
            ]
          },
          "metadata": {},
          "execution_count": 173
        }
      ]
    },
    {
      "cell_type": "code",
      "source": [
        "#@title TTC\n",
        "\n",
        "ttc_list = list(set(df_test.ttc))\n",
        "df_ttc = pd.DataFrame({'ttc': ttc_list})\n",
        "\n",
        "zero = df_test[df_test.gender == 0][['cid', 'ttc']].drop_duplicates().groupby('ttc').agg('size').fillna(0)\n",
        "zero = df_ttc.join(pd.DataFrame({'zero': zero}), on='ttc', how='outer').fillna(0)\n",
        "one = df_test[df_test.gender == 1][['cid', 'ttc']].drop_duplicates().groupby('ttc').agg('size').fillna(0)\n",
        "one = df_ttc.join(pd.DataFrame({'one': one}), on='ttc', how='outer').fillna(0)\n",
        "\n",
        "df_ttc = df_ttc.join(pd.DataFrame({'count': (zero.zero + one.one)}), on='ttc', how='left').join(pd.DataFrame({'%': zero.zero / (zero.zero + one.one) * 100}), on='ttc', how='left')\n",
        "\n",
        "interesting_ttc = set(df_ttc[(df_ttc['count'] > 100) & ((df_ttc['%'] > 70) | (df_ttc['%'] < 30))].ttc)\n",
        "\n",
        "interesting_ttc"
      ],
      "metadata": {
        "colab": {
          "base_uri": "https://localhost:8080/"
        },
        "id": "K_1c9qFV5S9N",
        "outputId": "0fe0f692-32bd-4ab1-c74b-bae60ac97aaa"
      },
      "execution_count": 174,
      "outputs": [
        {
          "output_type": "execute_result",
          "data": {
            "text/plain": [
              "set()"
            ]
          },
          "metadata": {},
          "execution_count": 174
        }
      ]
    },
    {
      "cell_type": "code",
      "source": [
        "#@title TID\n",
        "\n",
        "tid_list = list(set(df_test.tid))\n",
        "df_tid = pd.DataFrame({'tid': tid_list})\n",
        "\n",
        "zero = df_test[df_test.gender == 0][['cid', 'tid']].drop_duplicates().groupby('tid').agg('size').fillna(0)\n",
        "zero = df_tid.join(pd.DataFrame({'gender': zero}), on='tid', how='outer').fillna(0).astype({'gender': int})\n",
        "one = df_test[df_test.gender == 1][['cid', 'tid']].drop_duplicates().groupby('tid').agg('size').fillna(0)\n",
        "one = df_tid.join(pd.DataFrame({'gender': one}), on='tid', how='outer').fillna(0).astype({'gender': int})\n",
        "\n",
        "df_tid = df_tid\n",
        "df_tid = df_tid.join(zero[['gender']] + one[['gender']]).rename(columns={'gender': 'count'}).join(100 * zero[['gender']] / (zero[['gender']] + one[['gender']])).rename(columns={'gender': '%'})\n",
        "\n",
        "interesting_tid = set(df_tid[(df_tid['count'] > 100) & ((df_tid['%'] > 70) | (df_tid['%'] < 30))].tid)\n",
        "\n",
        "interesting_tid"
      ],
      "metadata": {
        "cellView": "form",
        "id": "5x3KtaJS5TV-",
        "colab": {
          "base_uri": "https://localhost:8080/"
        },
        "outputId": "e81e3115-e8cc-46a7-c9b0-637544fbd799"
      },
      "execution_count": 175,
      "outputs": [
        {
          "output_type": "execute_result",
          "data": {
            "text/plain": [
              "{'10244893', '20001004', '20001033', '20828301', '940047'}"
            ]
          },
          "metadata": {},
          "execution_count": 175
        }
      ]
    },
    {
      "cell_type": "markdown",
      "source": [
        "# **My Code**"
      ],
      "metadata": {
        "id": "eXtjhdu1RqiZ"
      }
    },
    {
      "cell_type": "code",
      "source": [
        "#@title Настройки\n",
        "\n",
        "large_count = 2000\n",
        "large_sum = -1000000000\n",
        "\n",
        "k = 1\n",
        "k1 = 0.8\n",
        "k2 = 0.85\n",
        "# k3 = 1.25\n",
        "k3 = 8"
      ],
      "metadata": {
        "id": "z1dKD398AbLW",
        "cellView": "form"
      },
      "execution_count": 176,
      "outputs": []
    },
    {
      "cell_type": "code",
      "source": [
        "#@title Определение наиболее используемых mcc\n",
        "%%time\n",
        "mcc_by_cid = dfTrx[['cid', 'mcc']].drop_duplicates().astype({'mcc': str}).groupby('cid').agg({'mcc': ' '.join}).sort_values('cid')\n",
        "\n",
        "large_mcc_count = dfTrx[['cid', 'mcc']].drop_duplicates().groupby('mcc').agg({'cid': 'size'}).sort_values(by = 'cid')\n",
        "large_mcc_sum = dfTrx[['amt', 'mcc']].groupby('mcc').agg('sum').sort_values(by = 'amt')\n",
        "\n",
        "most_popular_mcc = set(large_mcc_count[large_mcc_count.cid > large_count * k1].index.to_list()) | set(large_mcc_sum[large_mcc_sum.amt < large_sum * k1].index.to_list()) | set([123, 125, 130])\n",
        "len(most_popular_mcc)"
      ],
      "metadata": {
        "colab": {
          "base_uri": "https://localhost:8080/"
        },
        "id": "L0vNyX1yRvpO",
        "outputId": "1967374b-4342-4edc-ad3c-30939164bd3f"
      },
      "execution_count": 177,
      "outputs": [
        {
          "output_type": "stream",
          "name": "stdout",
          "text": [
            "CPU times: user 1.13 s, sys: 74 ms, total: 1.2 s\n",
            "Wall time: 2.71 s\n"
          ]
        },
        {
          "output_type": "execute_result",
          "data": {
            "text/plain": [
              "36"
            ]
          },
          "metadata": {},
          "execution_count": 177
        }
      ]
    },
    {
      "cell_type": "code",
      "source": [
        "#@title Определение наиболее используемых ttc\n",
        "%%time\n",
        "ttc_by_cid = dfTrx[['cid', 'ttc']].drop_duplicates().astype({'ttc': str}).groupby('cid').agg({'ttc': ' '.join}).sort_values('cid')\n",
        "\n",
        "large_ttc_count = dfTrx[['cid', 'ttc']].drop_duplicates().groupby('ttc').agg({'cid': 'size'}).sort_values(by = 'cid')\n",
        "large_ttc_sum = dfTrx[['amt', 'ttc']].groupby('ttc').agg('sum').sort_values(by = 'amt')\n",
        "\n",
        "most_popular_ttc = set(large_ttc_count[large_ttc_count.cid > large_count * k2].index.to_list()) | set(large_ttc_sum[(large_ttc_sum.amt < large_sum * k2) | (large_ttc_sum.amt > 1000000000)].index.to_list())\n",
        "len(most_popular_ttc)"
      ],
      "metadata": {
        "colab": {
          "base_uri": "https://localhost:8080/"
        },
        "id": "v6rcZVpm72yq",
        "outputId": "1b9c7d12-3819-46ad-dccb-fabbcc563c84"
      },
      "execution_count": 178,
      "outputs": [
        {
          "output_type": "stream",
          "name": "stdout",
          "text": [
            "CPU times: user 1.02 s, sys: 81 ms, total: 1.1 s\n",
            "Wall time: 2.54 s\n"
          ]
        },
        {
          "output_type": "execute_result",
          "data": {
            "text/plain": [
              "25"
            ]
          },
          "metadata": {},
          "execution_count": 178
        }
      ]
    },
    {
      "cell_type": "code",
      "source": [
        "#@title Определение наиболее используемых tid\n",
        "%%time\n",
        "tid_by_cid = dfTrx[['cid', 'tid']].drop_duplicates().astype({'tid': str}).groupby('cid').agg({'tid': ' '.join}).sort_values('cid')\n",
        "\n",
        "large_tid_count = dfTrx[['cid', 'tid']].drop_duplicates().groupby('tid').agg({'cid': 'size'}).sort_values(by = 'cid')\n",
        "large_tid_sum = dfTrx[['amt', 'tid']].groupby('tid').agg('sum').sort_values(by = 'amt')\n",
        "\n",
        "most_popular_tid = set(large_tid_count[large_tid_count.cid > large_count * k3].index.to_list()) | set(large_tid_sum[(large_tid_sum.amt < large_sum * k3) | (large_tid_sum.amt > 1000000000)].index.to_list())\n",
        "len(most_popular_tid)"
      ],
      "metadata": {
        "colab": {
          "base_uri": "https://localhost:8080/"
        },
        "id": "ok_E-Mzqlo7B",
        "outputId": "4fa18b13-fd3b-4183-81f1-a132e3ffed52"
      },
      "execution_count": 179,
      "outputs": [
        {
          "output_type": "stream",
          "name": "stdout",
          "text": [
            "CPU times: user 6.3 s, sys: 138 ms, total: 6.44 s\n",
            "Wall time: 9.65 s\n"
          ]
        },
        {
          "output_type": "execute_result",
          "data": {
            "text/plain": [
              "0"
            ]
          },
          "metadata": {},
          "execution_count": 179
        }
      ]
    },
    {
      "cell_type": "markdown",
      "source": [
        "# **Начало создания df по cid**"
      ],
      "metadata": {
        "id": "4nJdyJPREIdF"
      }
    },
    {
      "cell_type": "code",
      "source": [
        "#@title Сумма\n",
        "\n",
        "def s(to_df):\n",
        "    return to_df / to_df.sum(axis=0)\n",
        "    # return to_df / np.sqrt((to_df**2).sum(axis=0))\n",
        "    # return to_df / (np.sqrt(to_df**2)).sum(axis=0)"
      ],
      "metadata": {
        "id": "pyECsCrF-42V",
        "cellView": "form"
      },
      "execution_count": 180,
      "outputs": []
    },
    {
      "cell_type": "code",
      "source": [
        "#@title Настройки\n",
        "\n",
        "stat = ['count', 'sum', 'median']"
      ],
      "metadata": {
        "cellView": "form",
        "id": "j4aGrQn8mTuZ"
      },
      "execution_count": 181,
      "outputs": []
    },
    {
      "cell_type": "code",
      "source": [
        "%%time\n",
        "df = df_.copy(deep=True)"
      ],
      "metadata": {
        "colab": {
          "base_uri": "https://localhost:8080/"
        },
        "id": "QwMMyMuuaMSi",
        "outputId": "e8665cb1-255a-4dca-eba1-5e8522024208"
      },
      "execution_count": 182,
      "outputs": [
        {
          "output_type": "stream",
          "name": "stdout",
          "text": [
            "CPU times: user 1.96 ms, sys: 7 µs, total: 1.97 ms\n",
            "Wall time: 12.1 ms\n"
          ]
        }
      ]
    },
    {
      "cell_type": "code",
      "source": [
        "#@title MCC\n",
        "%%time\n",
        "to_df = df_.copy(deep=True)\n",
        "\n",
        "for mcc_index in (most_popular_mcc - interesting_mcc):\n",
        "    stat_amt_by_cid_and_mcc = dfTrx[dfTrx.mcc == mcc_index][['cid', 'amt']].groupby('cid').agg(stat).sort_values(by = 'cid').add_prefix('').droplevel(0, axis='columns')\n",
        "    stat_amt_by_cid_and_mcc.columns += '_' + str(mcc_index) + '_mcc'\n",
        "    to_df = to_df.join(stat_amt_by_cid_and_mcc, how='left')\n",
        "\n",
        "stat_by_other_mcc = dfTrx[~dfTrx.mcc.isin(most_popular_mcc or interesting_mcc)][['cid', 'amt']].groupby('cid').agg(stat).sort_values(by = 'cid').add_prefix('').droplevel(0, axis='columns')\n",
        "stat_by_other_mcc.columns += '_mcc'\n",
        "to_df = to_df.join(stat_by_other_mcc, how='left')\n",
        "\n",
        "to_df = s(to_df) * 75\n",
        "df = df.join(to_df, on = 'cid', how='left')\n",
        "to_df = df_.copy(deep=True)\n",
        "\n",
        "for mcc_index in interesting_mcc:\n",
        "    stat_amt_by_cid_and_mcc = dfTrx[dfTrx.mcc == mcc_index][['cid', 'amt']].groupby('cid').agg(stat).sort_values(by = 'cid').add_prefix('').droplevel(0, axis='columns')\n",
        "    stat_amt_by_cid_and_mcc.columns += '_' + str(mcc_index) + '_mcc'\n",
        "    to_df = to_df.join(stat_amt_by_cid_and_mcc, how='left')\n",
        "\n",
        "to_df = s(to_df) * 200\n",
        "df = df.join(to_df, on = 'cid', how='left')"
      ],
      "metadata": {
        "colab": {
          "base_uri": "https://localhost:8080/"
        },
        "id": "TOqu0UVHD9Nf",
        "outputId": "fb208a75-ef39-429b-b5c9-9f7b470f33b4",
        "cellView": "form"
      },
      "execution_count": 183,
      "outputs": [
        {
          "output_type": "stream",
          "name": "stdout",
          "text": [
            "CPU times: user 2.17 s, sys: 5.57 ms, total: 2.18 s\n",
            "Wall time: 2.99 s\n"
          ]
        }
      ]
    },
    {
      "cell_type": "code",
      "source": [
        "#@title TTC\n",
        "to_df = df_.copy(deep=True)\n",
        "\n",
        "for ttc_index in (most_popular_ttc - interesting_ttc):\n",
        "    stat_amt_by_cid_and_ttc = dfTrx[dfTrx.ttc == ttc_index][['cid', 'amt']].groupby('cid').agg(stat).sort_values(by = 'cid').add_prefix('').droplevel(0, axis='columns')\n",
        "    stat_amt_by_cid_and_ttc.columns += '_' + str(ttc_index) + '_ttc'\n",
        "    to_df = to_df.join(stat_amt_by_cid_and_ttc, how='left')\n",
        "\n",
        "stat_by_other_ttc = dfTrx[~dfTrx.ttc.isin(most_popular_ttc or interesting_ttc)][['cid', 'amt']].groupby('cid').agg(stat).sort_values(by = 'cid').add_prefix('').droplevel(0, axis='columns')\n",
        "stat_by_other_ttc.columns += '_ttc'\n",
        "to_df = to_df.join(stat_by_other_ttc, how='left')\n",
        "\n",
        "to_df = s(to_df) * 1/2\n",
        "df = df.join(to_df, on = 'cid', how='left')\n",
        "to_df = df_.copy(deep=True)\n",
        "\n",
        "for ttc_index in (interesting_ttc):\n",
        "    stat_amt_by_cid_and_ttc = dfTrx[dfTrx.ttc == ttc_index][['cid', 'amt']].groupby('cid').agg(stat).sort_values(by = 'cid').add_prefix('').droplevel(0, axis='columns')\n",
        "    stat_amt_by_cid_and_ttc.columns += '_' + str(ttc_index) + '_ttc'\n",
        "    to_df = to_df.join(stat_amt_by_cid_and_ttc, how='left')\n",
        "\n",
        "to_df = s(to_df) * 50\n",
        "df = df.join(to_df, on = 'cid', how='left')"
      ],
      "metadata": {
        "id": "WaaRakspD0Ch",
        "cellView": "form"
      },
      "execution_count": 184,
      "outputs": []
    },
    {
      "cell_type": "code",
      "source": [
        "#@title AMT\n",
        "\n",
        "to_df = df_.copy(deep=True)\n",
        "\n",
        "to_df = dfTrx[['cid', 'amt']].groupby('cid').agg(stat).add_prefix('').droplevel(0, axis='columns')\n",
        "to_df = df_.join(to_df, how='left').fillna(0)\n",
        "\n",
        "to_df = s(to_df) * 2/3\n",
        "df = df.join(to_df, on = 'cid', how='left')"
      ],
      "metadata": {
        "cellView": "form",
        "id": "KBCmo_hEjiid"
      },
      "execution_count": 185,
      "outputs": []
    },
    {
      "cell_type": "code",
      "source": [
        "#@title Time\n",
        "%%time\n",
        "to_df = df_.copy(deep=True)\n",
        "\n",
        "for hour in range(0, 1):\n",
        "    stat_amt_by_cid_and_hour = dfTrx[dfTrx.tm == hour][['cid', 'amt']].groupby('cid').agg(stat).sort_values(by = 'cid').add_prefix('').droplevel(0, axis='columns')\n",
        "    stat_amt_by_cid_and_hour.columns += '_' + str(hour) + '_hour'\n",
        "    to_df = to_df.join(stat_amt_by_cid_and_hour, how='left')\n",
        "\n",
        "to_df = s(to_df) * 2\n",
        "df = df.join(to_df, on = 'cid', how='left')\n",
        "to_df = df_.copy(deep=True)\n",
        "\n",
        "for hour in range(1, 9):\n",
        "    stat_amt_by_cid_and_hour = dfTrx[dfTrx.tm == hour][['cid', 'amt']].groupby('cid').agg(stat).sort_values(by = 'cid').add_prefix('').droplevel(0, axis='columns')\n",
        "    stat_amt_by_cid_and_hour.columns += '_' + str(hour) + '_hour'\n",
        "    to_df = to_df.join(stat_amt_by_cid_and_hour, how='left')\n",
        "\n",
        "to_df = s(to_df)\n",
        "df = df.join(to_df, on = 'cid', how='left')\n",
        "\n",
        "# to_df = df_.copy(deep=True)\n",
        "# for hour in range(9, 24):\n",
        "#     stat_amt_by_cid_and_hour = dfTrx[dfTrx.tm == hour][['cid', 'amt']].groupby('cid').agg(stat).sort_values(by = 'cid').add_prefix('').droplevel(0, axis='columns')\n",
        "#     stat_amt_by_cid_and_hour.columns += '_' + str(hour) + '_hour'\n",
        "#     to_df = to_df.join(stat_amt_by_cid_and_hour, how='left')\n",
        "\n",
        "# to_df = s(to_df)\n",
        "# df = df.join(to_df, on = 'cid', how='left')"
      ],
      "metadata": {
        "colab": {
          "base_uri": "https://localhost:8080/"
        },
        "id": "HbFnHk8L6wWY",
        "outputId": "c672d823-ffbe-41ea-e9c7-eed2f30e71fe",
        "cellView": "form"
      },
      "execution_count": 186,
      "outputs": [
        {
          "output_type": "stream",
          "name": "stdout",
          "text": [
            "CPU times: user 5.59 s, sys: 75 ms, total: 5.67 s\n",
            "Wall time: 10.1 s\n"
          ]
        }
      ]
    },
    {
      "cell_type": "code",
      "source": [
        "#@title Date\n",
        "%%time\n",
        "to_df = df_.copy(deep=True)\n",
        "\n",
        "# for weekday in [0, 3, 4, 5, 6]:\n",
        "#     stat_amt_by_cid_and_weekday = dfTrx[dfTrx.dt % 7 == weekday][['cid', 'amt']].groupby('cid').agg(stat).sort_values(by = 'cid').add_prefix('').droplevel(0, axis='columns')\n",
        "#     stat_amt_by_cid_and_weekday.columns += '_' + str(weekday) + '_wd'\n",
        "#     to_df = to_df.join(stat_amt_by_cid_and_weekday, on = 'cid', how='left')\n",
        "\n",
        "to_df = s(to_df)\n",
        "df = df.join(to_df, on = 'cid', how='left')\n",
        "\n",
        "to_df = df_.copy(deep=True)\n",
        "\n",
        "for weekday in [1, 2]:\n",
        "    stat_amt_by_cid_and_weekday = dfTrx[dfTrx.dt % 7 == weekday][['cid', 'amt']].groupby('cid').agg(stat).sort_values(by = 'cid').add_prefix('').droplevel(0, axis='columns')\n",
        "    stat_amt_by_cid_and_weekday.columns += '_' + str(weekday) + '_wd'\n",
        "    to_df = to_df.join(stat_amt_by_cid_and_weekday, on = 'cid', how='left')\n",
        "\n",
        "to_df = s(to_df)\n",
        "df = df.join(to_df, on = 'cid', how='left')"
      ],
      "metadata": {
        "colab": {
          "base_uri": "https://localhost:8080/"
        },
        "id": "pi5ZHB0nn1oo",
        "outputId": "030cd74d-7f55-4f73-f34a-f62b824d761a",
        "cellView": "form"
      },
      "execution_count": 187,
      "outputs": [
        {
          "output_type": "stream",
          "name": "stdout",
          "text": [
            "CPU times: user 345 ms, sys: 909 µs, total: 346 ms\n",
            "Wall time: 349 ms\n"
          ]
        }
      ]
    },
    {
      "cell_type": "code",
      "source": [
        "#@title TID\n",
        "to_df = df_.copy(deep=True)\n",
        "\n",
        "for tid_index in (most_popular_tid - interesting_tid):\n",
        "    stat_amt_by_cid_and_tid = dfTrx[dfTrx.tid == tid_index][['cid', 'amt']].groupby('cid').agg(stat).sort_values(by = 'cid').add_prefix('').droplevel(0, axis='columns')\n",
        "    stat_amt_by_cid_and_tid.columns += '_' + str(tid_index) + '_tid'\n",
        "    to_df = to_df.join(stat_amt_by_cid_and_tid, how='left')\n",
        "\n",
        "stat_by_other_tid = dfTrx[~dfTrx.tid.isin(most_popular_tid or interesting_tid)][['cid', 'amt']].groupby('cid').agg(stat).sort_values(by = 'cid').add_prefix('').droplevel(0, axis='columns')\n",
        "stat_by_other_tid.columns += '_tid'\n",
        "to_df = to_df.join(stat_by_other_tid, how='left')\n",
        "\n",
        "to_df = s(to_df)\n",
        "df = df.join(to_df, on = 'cid', how='left')\n",
        "\n",
        "to_df = df_.copy(deep=True)\n",
        "\n",
        "for tid_index in (interesting_tid):\n",
        "    stat_amt_by_cid_and_tid = dfTrx[dfTrx.tid == tid_index][['cid', 'amt']].groupby('cid').agg(stat).sort_values(by = 'cid').add_prefix('').droplevel(0, axis='columns')\n",
        "    stat_amt_by_cid_and_tid.columns += '_' + str(tid_index) + '_tid'\n",
        "    to_df = to_df.join(stat_amt_by_cid_and_tid, how='left')\n",
        "\n",
        "to_df = s(to_df) * 50\n",
        "df = df.join(to_df, on = 'cid', how='left')"
      ],
      "metadata": {
        "id": "XnFbbfIwlkJI",
        "cellView": "form"
      },
      "execution_count": 188,
      "outputs": []
    },
    {
      "cell_type": "code",
      "source": [
        "df = df.fillna(0).astype('float')\n",
        "df.columns = [str(c) for c in df.columns]"
      ],
      "metadata": {
        "id": "llG860pRw-0L"
      },
      "execution_count": 189,
      "outputs": []
    },
    {
      "cell_type": "code",
      "source": [
        "%%time\n",
        "df.columns = [str(c) for c in df.columns]\n",
        "\n",
        "trainX, testX = df.join(trainY.drop('gender', axis=1), how='inner'), df.join(testY.drop('gender', axis=1), how='inner') # split observations into train/test\n",
        "trainX0, testX0, trainY0, testY0 = train_test_split(trainX, trainY, test_size=0.28, random_state=0) # split train observation into local train/test sets (to score performance)\n"
      ],
      "metadata": {
        "colab": {
          "base_uri": "https://localhost:8080/"
        },
        "id": "NeQuLhn0rHC7",
        "outputId": "a7b68291-cc6c-422c-8607-5671ef5265ce"
      },
      "execution_count": 210,
      "outputs": [
        {
          "output_type": "stream",
          "name": "stdout",
          "text": [
            "CPU times: user 33.9 ms, sys: 978 µs, total: 34.9 ms\n",
            "Wall time: 138 ms\n"
          ]
        }
      ]
    },
    {
      "cell_type": "code",
      "source": [
        "model = CBC(iterations=200)\n",
        "params = {\n",
        "    'depth': [6, 8, 10],\n",
        "    'learning_rate': [0.01, 0.02, 0.03],\n",
        "    'loss_function' : ['Logloss'],\n",
        "    'eval_metric' : ['AUC'],\n",
        "    'boosting_type' : ['Plain'],\n",
        "    'bootstrap_type' : ['MVS'],\n",
        "}\n",
        "\n",
        "model = GSCV(model, params, cv=5, scoring='accuracy', n_jobs=-1)\n",
        "\n",
        "clf = model.fit(trainX0, trainY0.gender)\n",
        "print(model.best_params_)\n",
        "pY = clf.predict_proba(testX0)[:, 1]\n",
        "\n",
        "print('Local AUC ROC', roc_auc_score(testY0.gender, pY))\n",
        "print(pY.sum() / pY.shape[0])"
      ],
      "metadata": {
        "id": "nLMpfBJqxgI1"
      },
      "execution_count": null,
      "outputs": []
    },
    {
      "cell_type": "markdown",
      "source": [
        "# **Обучение реальное**"
      ],
      "metadata": {
        "id": "XoxaEY-anVYO"
      }
    },
    {
      "cell_type": "code",
      "source": [
        "model_final = MLPC(solver='lbfgs', alpha=1e-5, hidden_layer_sizes=(7, 4), random_state=1)\n",
        "\n",
        "model1 = MLPC(solver='lbfgs', alpha=1e-5, hidden_layer_sizes=(7, 4), random_state=1)\n",
        "model2 = GBC(loss='log_loss', learning_rate=0.1, n_estimators=150, subsample=1.0, criterion='friedman_mse', max_depth=2)\n",
        "model3 = CBC(iterations=200)\n",
        "model4 = LGBMC()\n",
        "\n",
        "clf1 = model1.fit(trainX0, trainY0.gender)\n",
        "clf2 = model2.fit(trainX0, trainY0.gender)\n",
        "clf3 = model3.fit(trainX0, trainY0.gender)\n",
        "clf4 = model4.fit(trainX0, trainY0.gender)\n",
        "\n",
        "pY1_r = clf1.predict_proba(testX0)[:, 1]\n",
        "pY2_r = clf2.predict_proba(testX0)[:, 1]\n",
        "pY3_r = clf3.predict_proba(testX0)[:, 1]\n",
        "pY4_r = clf4.predict_proba(testX0)[:, 1]"
      ],
      "metadata": {
        "colab": {
          "base_uri": "https://localhost:8080/"
        },
        "id": "oUxHc97une4I",
        "outputId": "f5972831-0cd3-4f51-d459-f203f94770be"
      },
      "execution_count": 214,
      "outputs": [
        {
          "output_type": "stream",
          "name": "stderr",
          "text": [
            "/usr/local/lib/python3.10/dist-packages/sklearn/neural_network/_multilayer_perceptron.py:541: ConvergenceWarning: lbfgs failed to converge (status=1):\n",
            "STOP: TOTAL NO. of ITERATIONS REACHED LIMIT.\n",
            "\n",
            "Increase the number of iterations (max_iter) or scale the data as shown in:\n",
            "    https://scikit-learn.org/stable/modules/preprocessing.html\n",
            "  self.n_iter_ = _check_optimize_result(\"lbfgs\", opt_res, self.max_iter)\n"
          ]
        },
        {
          "output_type": "stream",
          "name": "stdout",
          "text": [
            "Learning rate set to 0.08653\n",
            "0:\tlearn: 0.6705910\ttotal: 83.4ms\tremaining: 16.6s\n",
            "1:\tlearn: 0.6500710\ttotal: 139ms\tremaining: 13.7s\n",
            "2:\tlearn: 0.6326781\ttotal: 211ms\tremaining: 13.8s\n",
            "3:\tlearn: 0.6156782\ttotal: 267ms\tremaining: 13.1s\n",
            "4:\tlearn: 0.6036694\ttotal: 319ms\tremaining: 12.4s\n",
            "5:\tlearn: 0.5937613\ttotal: 370ms\tremaining: 12s\n",
            "6:\tlearn: 0.5837500\ttotal: 423ms\tremaining: 11.7s\n",
            "7:\tlearn: 0.5716356\ttotal: 486ms\tremaining: 11.7s\n",
            "8:\tlearn: 0.5640891\ttotal: 537ms\tremaining: 11.4s\n",
            "9:\tlearn: 0.5550314\ttotal: 589ms\tremaining: 11.2s\n",
            "10:\tlearn: 0.5475275\ttotal: 643ms\tremaining: 11s\n",
            "11:\tlearn: 0.5407268\ttotal: 693ms\tremaining: 10.9s\n",
            "12:\tlearn: 0.5346633\ttotal: 750ms\tremaining: 10.8s\n",
            "13:\tlearn: 0.5289591\ttotal: 804ms\tremaining: 10.7s\n",
            "14:\tlearn: 0.5236457\ttotal: 859ms\tremaining: 10.6s\n",
            "15:\tlearn: 0.5187181\ttotal: 911ms\tremaining: 10.5s\n",
            "16:\tlearn: 0.5136110\ttotal: 962ms\tremaining: 10.4s\n",
            "17:\tlearn: 0.5093338\ttotal: 1.01s\tremaining: 10.3s\n",
            "18:\tlearn: 0.5056604\ttotal: 1.08s\tremaining: 10.3s\n",
            "19:\tlearn: 0.5007597\ttotal: 1.13s\tremaining: 10.2s\n",
            "20:\tlearn: 0.4971555\ttotal: 1.19s\tremaining: 10.1s\n",
            "21:\tlearn: 0.4935311\ttotal: 1.25s\tremaining: 10.1s\n",
            "22:\tlearn: 0.4903695\ttotal: 1.31s\tremaining: 10.1s\n",
            "23:\tlearn: 0.4872081\ttotal: 1.36s\tremaining: 10s\n",
            "24:\tlearn: 0.4838420\ttotal: 1.41s\tremaining: 9.89s\n",
            "25:\tlearn: 0.4809287\ttotal: 1.46s\tremaining: 9.78s\n",
            "26:\tlearn: 0.4780581\ttotal: 1.51s\tremaining: 9.69s\n",
            "27:\tlearn: 0.4753305\ttotal: 1.57s\tremaining: 9.63s\n",
            "28:\tlearn: 0.4733714\ttotal: 1.63s\tremaining: 9.61s\n",
            "29:\tlearn: 0.4708578\ttotal: 1.69s\tremaining: 9.55s\n",
            "30:\tlearn: 0.4679564\ttotal: 1.74s\tremaining: 9.48s\n",
            "31:\tlearn: 0.4649131\ttotal: 1.79s\tremaining: 9.4s\n",
            "32:\tlearn: 0.4626674\ttotal: 1.84s\tremaining: 9.31s\n",
            "33:\tlearn: 0.4604614\ttotal: 1.9s\tremaining: 9.27s\n",
            "34:\tlearn: 0.4580843\ttotal: 1.95s\tremaining: 9.21s\n",
            "35:\tlearn: 0.4557882\ttotal: 2s\tremaining: 9.13s\n",
            "36:\tlearn: 0.4539462\ttotal: 2.06s\tremaining: 9.07s\n",
            "37:\tlearn: 0.4522982\ttotal: 2.11s\tremaining: 8.99s\n",
            "38:\tlearn: 0.4502722\ttotal: 2.17s\tremaining: 8.94s\n",
            "39:\tlearn: 0.4476502\ttotal: 2.22s\tremaining: 8.89s\n",
            "40:\tlearn: 0.4461448\ttotal: 2.28s\tremaining: 8.84s\n",
            "41:\tlearn: 0.4447653\ttotal: 2.33s\tremaining: 8.76s\n",
            "42:\tlearn: 0.4427356\ttotal: 2.38s\tremaining: 8.7s\n",
            "43:\tlearn: 0.4413729\ttotal: 2.44s\tremaining: 8.66s\n",
            "44:\tlearn: 0.4397139\ttotal: 2.49s\tremaining: 8.58s\n",
            "45:\tlearn: 0.4379641\ttotal: 2.54s\tremaining: 8.52s\n",
            "46:\tlearn: 0.4363466\ttotal: 2.6s\tremaining: 8.48s\n",
            "47:\tlearn: 0.4347928\ttotal: 2.67s\tremaining: 8.44s\n",
            "48:\tlearn: 0.4330234\ttotal: 2.72s\tremaining: 8.38s\n",
            "49:\tlearn: 0.4312183\ttotal: 2.77s\tremaining: 8.32s\n",
            "50:\tlearn: 0.4298639\ttotal: 2.83s\tremaining: 8.26s\n",
            "51:\tlearn: 0.4285867\ttotal: 2.87s\tremaining: 8.18s\n",
            "52:\tlearn: 0.4274504\ttotal: 2.93s\tremaining: 8.13s\n",
            "53:\tlearn: 0.4260201\ttotal: 2.98s\tremaining: 8.07s\n",
            "54:\tlearn: 0.4247205\ttotal: 3.04s\tremaining: 8.03s\n",
            "55:\tlearn: 0.4234430\ttotal: 3.1s\tremaining: 7.96s\n",
            "56:\tlearn: 0.4224206\ttotal: 3.15s\tremaining: 7.89s\n",
            "57:\tlearn: 0.4215351\ttotal: 3.21s\tremaining: 7.86s\n",
            "58:\tlearn: 0.4203425\ttotal: 3.28s\tremaining: 7.83s\n",
            "59:\tlearn: 0.4186820\ttotal: 3.33s\tremaining: 7.76s\n",
            "60:\tlearn: 0.4171680\ttotal: 3.38s\tremaining: 7.69s\n",
            "61:\tlearn: 0.4159375\ttotal: 3.42s\tremaining: 7.62s\n",
            "62:\tlearn: 0.4148246\ttotal: 3.48s\tremaining: 7.57s\n",
            "63:\tlearn: 0.4133827\ttotal: 3.53s\tremaining: 7.5s\n",
            "64:\tlearn: 0.4121311\ttotal: 3.58s\tremaining: 7.44s\n",
            "65:\tlearn: 0.4107010\ttotal: 3.63s\tremaining: 7.37s\n",
            "66:\tlearn: 0.4093711\ttotal: 3.68s\tremaining: 7.3s\n",
            "67:\tlearn: 0.4081222\ttotal: 3.74s\tremaining: 7.26s\n",
            "68:\tlearn: 0.4069433\ttotal: 3.79s\tremaining: 7.2s\n",
            "69:\tlearn: 0.4054990\ttotal: 3.84s\tremaining: 7.13s\n",
            "70:\tlearn: 0.4042799\ttotal: 3.89s\tremaining: 7.07s\n",
            "71:\tlearn: 0.4031266\ttotal: 3.94s\tremaining: 7.01s\n",
            "72:\tlearn: 0.4019923\ttotal: 4s\tremaining: 6.97s\n",
            "73:\tlearn: 0.4009842\ttotal: 4.06s\tremaining: 6.91s\n",
            "74:\tlearn: 0.3990038\ttotal: 4.11s\tremaining: 6.85s\n",
            "75:\tlearn: 0.3983608\ttotal: 4.16s\tremaining: 6.79s\n",
            "76:\tlearn: 0.3972503\ttotal: 4.21s\tremaining: 6.73s\n",
            "77:\tlearn: 0.3963824\ttotal: 4.27s\tremaining: 6.68s\n",
            "78:\tlearn: 0.3946311\ttotal: 4.33s\tremaining: 6.63s\n",
            "79:\tlearn: 0.3936739\ttotal: 4.38s\tremaining: 6.58s\n",
            "80:\tlearn: 0.3926209\ttotal: 4.43s\tremaining: 6.51s\n",
            "81:\tlearn: 0.3917700\ttotal: 4.48s\tremaining: 6.45s\n",
            "82:\tlearn: 0.3902047\ttotal: 4.53s\tremaining: 6.39s\n",
            "83:\tlearn: 0.3890998\ttotal: 4.58s\tremaining: 6.33s\n",
            "84:\tlearn: 0.3881897\ttotal: 4.65s\tremaining: 6.29s\n",
            "85:\tlearn: 0.3875772\ttotal: 4.7s\tremaining: 6.23s\n",
            "86:\tlearn: 0.3869687\ttotal: 4.75s\tremaining: 6.17s\n",
            "87:\tlearn: 0.3858113\ttotal: 4.8s\tremaining: 6.11s\n",
            "88:\tlearn: 0.3845141\ttotal: 4.85s\tremaining: 6.05s\n",
            "89:\tlearn: 0.3833054\ttotal: 4.9s\tremaining: 5.99s\n",
            "90:\tlearn: 0.3821724\ttotal: 4.96s\tremaining: 5.94s\n",
            "91:\tlearn: 0.3806424\ttotal: 5.01s\tremaining: 5.88s\n",
            "92:\tlearn: 0.3796673\ttotal: 5.07s\tremaining: 5.83s\n",
            "93:\tlearn: 0.3786270\ttotal: 5.12s\tremaining: 5.77s\n",
            "94:\tlearn: 0.3779132\ttotal: 5.17s\tremaining: 5.71s\n",
            "95:\tlearn: 0.3771231\ttotal: 5.22s\tremaining: 5.66s\n",
            "96:\tlearn: 0.3762117\ttotal: 5.28s\tremaining: 5.6s\n",
            "97:\tlearn: 0.3752952\ttotal: 5.34s\tremaining: 5.56s\n",
            "98:\tlearn: 0.3742288\ttotal: 5.39s\tremaining: 5.5s\n",
            "99:\tlearn: 0.3730346\ttotal: 5.45s\tremaining: 5.45s\n",
            "100:\tlearn: 0.3719025\ttotal: 5.51s\tremaining: 5.4s\n",
            "101:\tlearn: 0.3710323\ttotal: 5.56s\tremaining: 5.34s\n",
            "102:\tlearn: 0.3702686\ttotal: 5.61s\tremaining: 5.29s\n",
            "103:\tlearn: 0.3690988\ttotal: 5.66s\tremaining: 5.23s\n",
            "104:\tlearn: 0.3676473\ttotal: 5.72s\tremaining: 5.17s\n",
            "105:\tlearn: 0.3661936\ttotal: 5.78s\tremaining: 5.12s\n",
            "106:\tlearn: 0.3653061\ttotal: 5.83s\tremaining: 5.06s\n",
            "107:\tlearn: 0.3643366\ttotal: 5.88s\tremaining: 5.01s\n",
            "108:\tlearn: 0.3630801\ttotal: 5.93s\tremaining: 4.95s\n",
            "109:\tlearn: 0.3618387\ttotal: 5.98s\tremaining: 4.9s\n",
            "110:\tlearn: 0.3607341\ttotal: 6.04s\tremaining: 4.84s\n",
            "111:\tlearn: 0.3591018\ttotal: 6.1s\tremaining: 4.79s\n",
            "112:\tlearn: 0.3576990\ttotal: 6.15s\tremaining: 4.74s\n",
            "113:\tlearn: 0.3563738\ttotal: 6.2s\tremaining: 4.68s\n",
            "114:\tlearn: 0.3546345\ttotal: 6.25s\tremaining: 4.62s\n",
            "115:\tlearn: 0.3529777\ttotal: 6.3s\tremaining: 4.57s\n",
            "116:\tlearn: 0.3515784\ttotal: 6.37s\tremaining: 4.51s\n",
            "117:\tlearn: 0.3508684\ttotal: 6.41s\tremaining: 4.46s\n",
            "118:\tlearn: 0.3497956\ttotal: 6.47s\tremaining: 4.4s\n",
            "119:\tlearn: 0.3486285\ttotal: 6.52s\tremaining: 4.34s\n",
            "120:\tlearn: 0.3471561\ttotal: 6.57s\tremaining: 4.29s\n",
            "121:\tlearn: 0.3467292\ttotal: 6.62s\tremaining: 4.23s\n",
            "122:\tlearn: 0.3463375\ttotal: 6.67s\tremaining: 4.17s\n",
            "123:\tlearn: 0.3449729\ttotal: 6.72s\tremaining: 4.12s\n",
            "124:\tlearn: 0.3437109\ttotal: 6.78s\tremaining: 4.07s\n",
            "125:\tlearn: 0.3424512\ttotal: 6.83s\tremaining: 4.01s\n",
            "126:\tlearn: 0.3410701\ttotal: 6.89s\tremaining: 3.96s\n",
            "127:\tlearn: 0.3402182\ttotal: 6.94s\tremaining: 3.9s\n",
            "128:\tlearn: 0.3390792\ttotal: 7s\tremaining: 3.85s\n",
            "129:\tlearn: 0.3382365\ttotal: 7.05s\tremaining: 3.8s\n",
            "130:\tlearn: 0.3371149\ttotal: 7.1s\tremaining: 3.74s\n",
            "131:\tlearn: 0.3355398\ttotal: 7.16s\tremaining: 3.69s\n",
            "132:\tlearn: 0.3344139\ttotal: 7.21s\tremaining: 3.63s\n",
            "133:\tlearn: 0.3330872\ttotal: 7.26s\tremaining: 3.58s\n",
            "134:\tlearn: 0.3317701\ttotal: 7.32s\tremaining: 3.52s\n",
            "135:\tlearn: 0.3305675\ttotal: 7.38s\tremaining: 3.47s\n",
            "136:\tlearn: 0.3292869\ttotal: 7.43s\tremaining: 3.42s\n",
            "137:\tlearn: 0.3279822\ttotal: 7.49s\tremaining: 3.37s\n",
            "138:\tlearn: 0.3268905\ttotal: 7.54s\tremaining: 3.31s\n",
            "139:\tlearn: 0.3261872\ttotal: 7.59s\tremaining: 3.25s\n",
            "140:\tlearn: 0.3248834\ttotal: 7.66s\tremaining: 3.21s\n",
            "141:\tlearn: 0.3242813\ttotal: 7.71s\tremaining: 3.15s\n",
            "142:\tlearn: 0.3231647\ttotal: 7.77s\tremaining: 3.1s\n",
            "143:\tlearn: 0.3224794\ttotal: 7.82s\tremaining: 3.04s\n",
            "144:\tlearn: 0.3206710\ttotal: 7.87s\tremaining: 2.99s\n",
            "145:\tlearn: 0.3201070\ttotal: 7.92s\tremaining: 2.93s\n",
            "146:\tlearn: 0.3196178\ttotal: 7.97s\tremaining: 2.88s\n",
            "147:\tlearn: 0.3182855\ttotal: 8.04s\tremaining: 2.82s\n",
            "148:\tlearn: 0.3173932\ttotal: 8.09s\tremaining: 2.77s\n",
            "149:\tlearn: 0.3164571\ttotal: 8.14s\tremaining: 2.71s\n",
            "150:\tlearn: 0.3149952\ttotal: 8.19s\tremaining: 2.66s\n",
            "151:\tlearn: 0.3134454\ttotal: 8.24s\tremaining: 2.6s\n",
            "152:\tlearn: 0.3124222\ttotal: 8.3s\tremaining: 2.55s\n",
            "153:\tlearn: 0.3111414\ttotal: 8.36s\tremaining: 2.5s\n",
            "154:\tlearn: 0.3099523\ttotal: 8.42s\tremaining: 2.44s\n",
            "155:\tlearn: 0.3088969\ttotal: 8.47s\tremaining: 2.39s\n",
            "156:\tlearn: 0.3079148\ttotal: 8.52s\tremaining: 2.33s\n",
            "157:\tlearn: 0.3068831\ttotal: 8.57s\tremaining: 2.28s\n",
            "158:\tlearn: 0.3058340\ttotal: 8.63s\tremaining: 2.22s\n",
            "159:\tlearn: 0.3046428\ttotal: 8.69s\tremaining: 2.17s\n",
            "160:\tlearn: 0.3031197\ttotal: 8.75s\tremaining: 2.12s\n",
            "161:\tlearn: 0.3023430\ttotal: 8.8s\tremaining: 2.06s\n",
            "162:\tlearn: 0.3008375\ttotal: 8.85s\tremaining: 2.01s\n",
            "163:\tlearn: 0.2999539\ttotal: 8.9s\tremaining: 1.95s\n",
            "164:\tlearn: 0.2988251\ttotal: 8.97s\tremaining: 1.9s\n",
            "165:\tlearn: 0.2979361\ttotal: 9.02s\tremaining: 1.85s\n",
            "166:\tlearn: 0.2968371\ttotal: 9.07s\tremaining: 1.79s\n",
            "167:\tlearn: 0.2958854\ttotal: 9.14s\tremaining: 1.74s\n",
            "168:\tlearn: 0.2943167\ttotal: 9.22s\tremaining: 1.69s\n",
            "169:\tlearn: 0.2931070\ttotal: 9.33s\tremaining: 1.65s\n",
            "170:\tlearn: 0.2922886\ttotal: 9.44s\tremaining: 1.6s\n",
            "171:\tlearn: 0.2916114\ttotal: 9.54s\tremaining: 1.55s\n",
            "172:\tlearn: 0.2903501\ttotal: 9.63s\tremaining: 1.5s\n",
            "173:\tlearn: 0.2892727\ttotal: 9.74s\tremaining: 1.46s\n",
            "174:\tlearn: 0.2891807\ttotal: 9.84s\tremaining: 1.41s\n",
            "175:\tlearn: 0.2878823\ttotal: 9.94s\tremaining: 1.35s\n",
            "176:\tlearn: 0.2868202\ttotal: 10s\tremaining: 1.3s\n",
            "177:\tlearn: 0.2859412\ttotal: 10.1s\tremaining: 1.25s\n",
            "178:\tlearn: 0.2848017\ttotal: 10.2s\tremaining: 1.2s\n",
            "179:\tlearn: 0.2837413\ttotal: 10.3s\tremaining: 1.15s\n",
            "180:\tlearn: 0.2831177\ttotal: 10.5s\tremaining: 1.1s\n",
            "181:\tlearn: 0.2820247\ttotal: 10.6s\tremaining: 1.04s\n",
            "182:\tlearn: 0.2811875\ttotal: 10.7s\tremaining: 991ms\n",
            "183:\tlearn: 0.2804247\ttotal: 10.8s\tremaining: 936ms\n",
            "184:\tlearn: 0.2799606\ttotal: 10.9s\tremaining: 880ms\n",
            "185:\tlearn: 0.2783760\ttotal: 10.9s\tremaining: 824ms\n",
            "186:\tlearn: 0.2772347\ttotal: 11s\tremaining: 768ms\n",
            "187:\tlearn: 0.2762639\ttotal: 11.2s\tremaining: 712ms\n",
            "188:\tlearn: 0.2751705\ttotal: 11.3s\tremaining: 655ms\n",
            "189:\tlearn: 0.2746735\ttotal: 11.3s\tremaining: 597ms\n",
            "190:\tlearn: 0.2741082\ttotal: 11.5s\tremaining: 540ms\n",
            "191:\tlearn: 0.2735355\ttotal: 11.6s\tremaining: 482ms\n",
            "192:\tlearn: 0.2724850\ttotal: 11.7s\tremaining: 424ms\n",
            "193:\tlearn: 0.2715919\ttotal: 11.8s\tremaining: 364ms\n",
            "194:\tlearn: 0.2705307\ttotal: 11.9s\tremaining: 305ms\n",
            "195:\tlearn: 0.2699296\ttotal: 12s\tremaining: 245ms\n",
            "196:\tlearn: 0.2692872\ttotal: 12.1s\tremaining: 184ms\n",
            "197:\tlearn: 0.2683245\ttotal: 12.2s\tremaining: 123ms\n",
            "198:\tlearn: 0.2676632\ttotal: 12.3s\tremaining: 61.7ms\n",
            "199:\tlearn: 0.2666193\ttotal: 12.4s\tremaining: 0us\n"
          ]
        }
      ]
    },
    {
      "cell_type": "code",
      "source": [
        "pY = (pY1_r + 2*pY2_r + 4*pY3_r + 2*pY4_r) / 9\n",
        "\n",
        "print('Local AUC ROC', roc_auc_score(testY0.gender, pY))\n",
        "print(pY.sum() / pY.shape[0])"
      ],
      "metadata": {
        "colab": {
          "base_uri": "https://localhost:8080/"
        },
        "id": "K_O2hZfupZFd",
        "outputId": "acc40f26-9aa0-4103-e716-a48437449877"
      },
      "execution_count": 215,
      "outputs": [
        {
          "output_type": "stream",
          "name": "stdout",
          "text": [
            "Local AUC ROC 0.8682387554612723\n",
            "0.432935483217705\n"
          ]
        }
      ]
    },
    {
      "cell_type": "code",
      "source": [
        "# pY = pd.DataFrame(pY, columns=['gender'])\n",
        "# pY.index.name = 'cid'\n",
        "# print(pY.sum() / pY.shape[0])"
      ],
      "metadata": {
        "id": "054XFKqwupok"
      },
      "execution_count": null,
      "outputs": []
    },
    {
      "cell_type": "code",
      "source": [
        "# pY.reset_index().to_csv('💳Baseline.csv', index_label='cid', index=False, float_format='%10f')"
      ],
      "metadata": {
        "id": "B-Rn7m9uuuF4"
      },
      "execution_count": null,
      "outputs": []
    },
    {
      "cell_type": "code",
      "source": [
        "X_t_r = np.array([pY1_r, pY2_r, pY3_r, pY4_r]).T\n",
        "\n",
        "p_t_r = model_final.fit(X_t_r, testY0.gender)"
      ],
      "metadata": {
        "colab": {
          "base_uri": "https://localhost:8080/"
        },
        "id": "HX4Nmhghn37k",
        "outputId": "ecfa81a3-0833-421a-c222-75be402a4ea7"
      },
      "execution_count": 216,
      "outputs": [
        {
          "output_type": "stream",
          "name": "stderr",
          "text": [
            "/usr/local/lib/python3.10/dist-packages/sklearn/neural_network/_multilayer_perceptron.py:541: ConvergenceWarning: lbfgs failed to converge (status=1):\n",
            "STOP: TOTAL NO. of ITERATIONS REACHED LIMIT.\n",
            "\n",
            "Increase the number of iterations (max_iter) or scale the data as shown in:\n",
            "    https://scikit-learn.org/stable/modules/preprocessing.html\n",
            "  self.n_iter_ = _check_optimize_result(\"lbfgs\", opt_res, self.max_iter)\n"
          ]
        }
      ]
    },
    {
      "cell_type": "code",
      "source": [
        "pY1_f = clf1.predict_proba(testX)[:, 1]\n",
        "pY2_f = clf2.predict_proba(testX)[:, 1]\n",
        "pY3_f = clf3.predict_proba(testX)[:, 1]\n",
        "pY4_f = clf4.predict_proba(testX)[:, 1]\n",
        "\n",
        "X_t_f = np.array([pY1_f, pY2_f, pY3_f, pY4_f]).T\n",
        "\n",
        "pY = model_final.predict_proba(X_t_f)[:, 1]"
      ],
      "metadata": {
        "id": "uT43xDsJsfPX"
      },
      "execution_count": 217,
      "outputs": []
    },
    {
      "cell_type": "code",
      "source": [
        "pY = pd.DataFrame(pY, columns=['gender'])\n",
        "pY.index.name = 'cid'\n",
        "print(pY.sum() / pY.shape[0])"
      ],
      "metadata": {
        "colab": {
          "base_uri": "https://localhost:8080/"
        },
        "id": "k9jG7aW9vvci",
        "outputId": "6c2a868e-15c0-45a3-9bab-d34ed05edb40"
      },
      "execution_count": 218,
      "outputs": [
        {
          "output_type": "stream",
          "name": "stdout",
          "text": [
            "gender    0.443959\n",
            "dtype: float64\n"
          ]
        }
      ]
    },
    {
      "cell_type": "code",
      "source": [
        "pY"
      ],
      "metadata": {
        "id": "-1RybzxBPJh6"
      },
      "execution_count": null,
      "outputs": []
    },
    {
      "cell_type": "code",
      "source": [
        "pY.reset_index().to_csv('💳Baseline.csv', index_label='cid', index=False, float_format='%10f')"
      ],
      "metadata": {
        "id": "eDT5DEO7v2ET"
      },
      "execution_count": null,
      "outputs": []
    },
    {
      "cell_type": "code",
      "source": [
        "tmr.ShowTime()"
      ],
      "metadata": {
        "id": "LXGaysfq0tKx"
      },
      "execution_count": null,
      "outputs": []
    },
    {
      "cell_type": "markdown",
      "source": [
        "# **Обучение пробное**"
      ],
      "metadata": {
        "id": "HvR1hsU3rTO4"
      }
    },
    {
      "cell_type": "code",
      "source": [
        "model_final = MLPC(solver='lbfgs', alpha=1e-5, hidden_layer_sizes=(7, 4), random_state=1)\n",
        "\n",
        "model1 = MLPC(solver='lbfgs', alpha=1e-5, hidden_layer_sizes=(7, 4), random_state=1)\n",
        "model2 = GBC(loss='log_loss', learning_rate=0.1, n_estimators=150, subsample=1.0, criterion='friedman_mse', max_depth=2)\n",
        "model3 = CBC(iterations=200)\n",
        "model4 = LGBMC()\n",
        "\n",
        "pY1 = model1.fit(trainX0, trainY0.gender).predict_proba(testX0)[:, 1]\n",
        "pY2 = model2.fit(trainX0, trainY0.gender).predict_proba(testX0)[:, 1]\n",
        "pY3 = model3.fit(trainX0, trainY0.gender).predict_proba(testX0)[:, 1]\n",
        "pY4 = model4.fit(trainX0, trainY0.gender).predict_proba(testX0)[:, 1]"
      ],
      "metadata": {
        "id": "MOVjxsLza1Vq",
        "colab": {
          "base_uri": "https://localhost:8080/"
        },
        "outputId": "744c4468-50c1-4b04-ea1a-7e8c59a9cf45"
      },
      "execution_count": 207,
      "outputs": [
        {
          "output_type": "stream",
          "name": "stderr",
          "text": [
            "/usr/local/lib/python3.10/dist-packages/sklearn/neural_network/_multilayer_perceptron.py:541: ConvergenceWarning: lbfgs failed to converge (status=1):\n",
            "STOP: TOTAL NO. of ITERATIONS REACHED LIMIT.\n",
            "\n",
            "Increase the number of iterations (max_iter) or scale the data as shown in:\n",
            "    https://scikit-learn.org/stable/modules/preprocessing.html\n",
            "  self.n_iter_ = _check_optimize_result(\"lbfgs\", opt_res, self.max_iter)\n"
          ]
        },
        {
          "output_type": "stream",
          "name": "stdout",
          "text": [
            "Learning rate set to 0.080057\n",
            "0:\tlearn: 0.6736480\ttotal: 122ms\tremaining: 24.2s\n",
            "1:\tlearn: 0.6570934\ttotal: 225ms\tremaining: 22.3s\n",
            "2:\tlearn: 0.6398242\ttotal: 324ms\tremaining: 21.3s\n",
            "3:\tlearn: 0.6247399\ttotal: 424ms\tremaining: 20.8s\n",
            "4:\tlearn: 0.6146346\ttotal: 522ms\tremaining: 20.3s\n",
            "5:\tlearn: 0.6030220\ttotal: 617ms\tremaining: 20s\n",
            "6:\tlearn: 0.5907800\ttotal: 722ms\tremaining: 19.9s\n",
            "7:\tlearn: 0.5815643\ttotal: 823ms\tremaining: 19.8s\n",
            "8:\tlearn: 0.5725044\ttotal: 921ms\tremaining: 19.5s\n",
            "9:\tlearn: 0.5666470\ttotal: 1.02s\tremaining: 19.5s\n",
            "10:\tlearn: 0.5603600\ttotal: 1.13s\tremaining: 19.4s\n",
            "11:\tlearn: 0.5513320\ttotal: 1.23s\tremaining: 19.3s\n",
            "12:\tlearn: 0.5454433\ttotal: 1.33s\tremaining: 19.2s\n",
            "13:\tlearn: 0.5392176\ttotal: 1.43s\tremaining: 19s\n",
            "14:\tlearn: 0.5337498\ttotal: 1.52s\tremaining: 18.8s\n",
            "15:\tlearn: 0.5283194\ttotal: 1.63s\tremaining: 18.7s\n",
            "16:\tlearn: 0.5232887\ttotal: 1.73s\tremaining: 18.6s\n",
            "17:\tlearn: 0.5181053\ttotal: 1.83s\tremaining: 18.6s\n",
            "18:\tlearn: 0.5136784\ttotal: 1.94s\tremaining: 18.4s\n",
            "19:\tlearn: 0.5103459\ttotal: 2.04s\tremaining: 18.4s\n",
            "20:\tlearn: 0.5064734\ttotal: 2.14s\tremaining: 18.3s\n",
            "21:\tlearn: 0.5027193\ttotal: 2.26s\tremaining: 18.3s\n",
            "22:\tlearn: 0.4992416\ttotal: 2.36s\tremaining: 18.2s\n",
            "23:\tlearn: 0.4963473\ttotal: 2.46s\tremaining: 18.1s\n",
            "24:\tlearn: 0.4919223\ttotal: 2.57s\tremaining: 18s\n",
            "25:\tlearn: 0.4895976\ttotal: 2.68s\tremaining: 17.9s\n",
            "26:\tlearn: 0.4865373\ttotal: 2.79s\tremaining: 17.9s\n",
            "27:\tlearn: 0.4834531\ttotal: 2.9s\tremaining: 17.8s\n",
            "28:\tlearn: 0.4812016\ttotal: 3s\tremaining: 17.7s\n",
            "29:\tlearn: 0.4781571\ttotal: 3.11s\tremaining: 17.6s\n",
            "30:\tlearn: 0.4749553\ttotal: 3.21s\tremaining: 17.5s\n",
            "31:\tlearn: 0.4727198\ttotal: 3.32s\tremaining: 17.4s\n",
            "32:\tlearn: 0.4703719\ttotal: 3.42s\tremaining: 17.3s\n",
            "33:\tlearn: 0.4674964\ttotal: 3.53s\tremaining: 17.2s\n",
            "34:\tlearn: 0.4653915\ttotal: 3.63s\tremaining: 17.1s\n",
            "35:\tlearn: 0.4633364\ttotal: 3.74s\tremaining: 17s\n",
            "36:\tlearn: 0.4609433\ttotal: 3.84s\tremaining: 16.9s\n",
            "37:\tlearn: 0.4589270\ttotal: 3.95s\tremaining: 16.8s\n",
            "38:\tlearn: 0.4564607\ttotal: 4.06s\tremaining: 16.8s\n",
            "39:\tlearn: 0.4546289\ttotal: 4.18s\tremaining: 16.7s\n",
            "40:\tlearn: 0.4526708\ttotal: 4.29s\tremaining: 16.6s\n",
            "41:\tlearn: 0.4506425\ttotal: 4.41s\tremaining: 16.6s\n",
            "42:\tlearn: 0.4483388\ttotal: 4.51s\tremaining: 16.5s\n",
            "43:\tlearn: 0.4471710\ttotal: 4.61s\tremaining: 16.4s\n",
            "44:\tlearn: 0.4454726\ttotal: 4.71s\tremaining: 16.2s\n",
            "45:\tlearn: 0.4441162\ttotal: 4.81s\tremaining: 16.1s\n",
            "46:\tlearn: 0.4424920\ttotal: 4.92s\tremaining: 16s\n",
            "47:\tlearn: 0.4407718\ttotal: 5.03s\tremaining: 15.9s\n",
            "48:\tlearn: 0.4396919\ttotal: 5.13s\tremaining: 15.8s\n",
            "49:\tlearn: 0.4377316\ttotal: 5.24s\tremaining: 15.7s\n",
            "50:\tlearn: 0.4361869\ttotal: 5.34s\tremaining: 15.6s\n",
            "51:\tlearn: 0.4347576\ttotal: 5.45s\tremaining: 15.5s\n",
            "52:\tlearn: 0.4332329\ttotal: 5.55s\tremaining: 15.4s\n",
            "53:\tlearn: 0.4316059\ttotal: 5.66s\tremaining: 15.3s\n",
            "54:\tlearn: 0.4303616\ttotal: 5.77s\tremaining: 15.2s\n",
            "55:\tlearn: 0.4294380\ttotal: 5.88s\tremaining: 15.1s\n",
            "56:\tlearn: 0.4285562\ttotal: 5.98s\tremaining: 15s\n",
            "57:\tlearn: 0.4271698\ttotal: 6.09s\tremaining: 14.9s\n",
            "58:\tlearn: 0.4261737\ttotal: 6.19s\tremaining: 14.8s\n",
            "59:\tlearn: 0.4250246\ttotal: 6.3s\tremaining: 14.7s\n",
            "60:\tlearn: 0.4236951\ttotal: 6.4s\tremaining: 14.6s\n",
            "61:\tlearn: 0.4220261\ttotal: 6.5s\tremaining: 14.5s\n",
            "62:\tlearn: 0.4204156\ttotal: 6.61s\tremaining: 14.4s\n",
            "63:\tlearn: 0.4189550\ttotal: 6.71s\tremaining: 14.3s\n",
            "64:\tlearn: 0.4177360\ttotal: 6.81s\tremaining: 14.1s\n",
            "65:\tlearn: 0.4166861\ttotal: 6.92s\tremaining: 14s\n",
            "66:\tlearn: 0.4158276\ttotal: 7.02s\tremaining: 13.9s\n",
            "67:\tlearn: 0.4141757\ttotal: 7.11s\tremaining: 13.8s\n",
            "68:\tlearn: 0.4127579\ttotal: 7.21s\tremaining: 13.7s\n",
            "69:\tlearn: 0.4113775\ttotal: 7.32s\tremaining: 13.6s\n",
            "70:\tlearn: 0.4103593\ttotal: 7.43s\tremaining: 13.5s\n",
            "71:\tlearn: 0.4089890\ttotal: 7.53s\tremaining: 13.4s\n",
            "72:\tlearn: 0.4075422\ttotal: 7.64s\tremaining: 13.3s\n",
            "73:\tlearn: 0.4064201\ttotal: 7.74s\tremaining: 13.2s\n",
            "74:\tlearn: 0.4048792\ttotal: 7.85s\tremaining: 13.1s\n",
            "75:\tlearn: 0.4029475\ttotal: 7.96s\tremaining: 13s\n",
            "76:\tlearn: 0.4014551\ttotal: 8.05s\tremaining: 12.9s\n",
            "77:\tlearn: 0.4002483\ttotal: 8.17s\tremaining: 12.8s\n",
            "78:\tlearn: 0.3987052\ttotal: 8.27s\tremaining: 12.7s\n",
            "79:\tlearn: 0.3978746\ttotal: 8.35s\tremaining: 12.5s\n",
            "80:\tlearn: 0.3968974\ttotal: 8.45s\tremaining: 12.4s\n",
            "81:\tlearn: 0.3956827\ttotal: 8.55s\tremaining: 12.3s\n",
            "82:\tlearn: 0.3947632\ttotal: 8.65s\tremaining: 12.2s\n",
            "83:\tlearn: 0.3938496\ttotal: 8.74s\tremaining: 12.1s\n",
            "84:\tlearn: 0.3923209\ttotal: 8.84s\tremaining: 12s\n",
            "85:\tlearn: 0.3906164\ttotal: 8.92s\tremaining: 11.8s\n",
            "86:\tlearn: 0.3890975\ttotal: 9.02s\tremaining: 11.7s\n",
            "87:\tlearn: 0.3880497\ttotal: 9.13s\tremaining: 11.6s\n",
            "88:\tlearn: 0.3869881\ttotal: 9.22s\tremaining: 11.5s\n",
            "89:\tlearn: 0.3858913\ttotal: 9.32s\tremaining: 11.4s\n",
            "90:\tlearn: 0.3848492\ttotal: 9.42s\tremaining: 11.3s\n",
            "91:\tlearn: 0.3837970\ttotal: 9.52s\tremaining: 11.2s\n",
            "92:\tlearn: 0.3827564\ttotal: 9.62s\tremaining: 11.1s\n",
            "93:\tlearn: 0.3813681\ttotal: 9.72s\tremaining: 11s\n",
            "94:\tlearn: 0.3802597\ttotal: 9.83s\tremaining: 10.9s\n",
            "95:\tlearn: 0.3786742\ttotal: 9.94s\tremaining: 10.8s\n",
            "96:\tlearn: 0.3772407\ttotal: 10s\tremaining: 10.7s\n",
            "97:\tlearn: 0.3757201\ttotal: 10.2s\tremaining: 10.6s\n",
            "98:\tlearn: 0.3747306\ttotal: 10.3s\tremaining: 10.5s\n",
            "99:\tlearn: 0.3738407\ttotal: 10.4s\tremaining: 10.4s\n",
            "100:\tlearn: 0.3725716\ttotal: 10.5s\tremaining: 10.3s\n",
            "101:\tlearn: 0.3713364\ttotal: 10.6s\tremaining: 10.2s\n",
            "102:\tlearn: 0.3703905\ttotal: 10.7s\tremaining: 10.1s\n",
            "103:\tlearn: 0.3687576\ttotal: 10.8s\tremaining: 9.95s\n",
            "104:\tlearn: 0.3671921\ttotal: 10.9s\tremaining: 9.86s\n",
            "105:\tlearn: 0.3662658\ttotal: 11s\tremaining: 9.73s\n",
            "106:\tlearn: 0.3650344\ttotal: 11.1s\tremaining: 9.63s\n",
            "107:\tlearn: 0.3642307\ttotal: 11.2s\tremaining: 9.52s\n",
            "108:\tlearn: 0.3630408\ttotal: 11.3s\tremaining: 9.41s\n",
            "109:\tlearn: 0.3614833\ttotal: 11.4s\tremaining: 9.31s\n",
            "110:\tlearn: 0.3600146\ttotal: 11.5s\tremaining: 9.2s\n",
            "111:\tlearn: 0.3586293\ttotal: 11.6s\tremaining: 9.1s\n",
            "112:\tlearn: 0.3570562\ttotal: 11.7s\tremaining: 8.98s\n",
            "113:\tlearn: 0.3553494\ttotal: 11.7s\tremaining: 8.84s\n",
            "114:\tlearn: 0.3548152\ttotal: 11.8s\tremaining: 8.7s\n",
            "115:\tlearn: 0.3530854\ttotal: 11.8s\tremaining: 8.56s\n",
            "116:\tlearn: 0.3518313\ttotal: 11.9s\tremaining: 8.43s\n",
            "117:\tlearn: 0.3506775\ttotal: 11.9s\tremaining: 8.29s\n",
            "118:\tlearn: 0.3495403\ttotal: 12s\tremaining: 8.15s\n",
            "119:\tlearn: 0.3485436\ttotal: 12s\tremaining: 8.02s\n",
            "120:\tlearn: 0.3476319\ttotal: 12.1s\tremaining: 7.89s\n",
            "121:\tlearn: 0.3460157\ttotal: 12.1s\tremaining: 7.76s\n",
            "122:\tlearn: 0.3449508\ttotal: 12.2s\tremaining: 7.63s\n",
            "123:\tlearn: 0.3436982\ttotal: 12.2s\tremaining: 7.5s\n",
            "124:\tlearn: 0.3421757\ttotal: 12.3s\tremaining: 7.38s\n",
            "125:\tlearn: 0.3405837\ttotal: 12.4s\tremaining: 7.26s\n",
            "126:\tlearn: 0.3393543\ttotal: 12.4s\tremaining: 7.13s\n",
            "127:\tlearn: 0.3383921\ttotal: 12.5s\tremaining: 7.01s\n",
            "128:\tlearn: 0.3371599\ttotal: 12.5s\tremaining: 6.89s\n",
            "129:\tlearn: 0.3361225\ttotal: 12.6s\tremaining: 6.76s\n",
            "130:\tlearn: 0.3348395\ttotal: 12.6s\tremaining: 6.64s\n",
            "131:\tlearn: 0.3340305\ttotal: 12.7s\tremaining: 6.52s\n",
            "132:\tlearn: 0.3327344\ttotal: 12.7s\tremaining: 6.4s\n",
            "133:\tlearn: 0.3316613\ttotal: 12.8s\tremaining: 6.29s\n",
            "134:\tlearn: 0.3298864\ttotal: 12.8s\tremaining: 6.17s\n",
            "135:\tlearn: 0.3287545\ttotal: 12.9s\tremaining: 6.05s\n",
            "136:\tlearn: 0.3284895\ttotal: 12.9s\tremaining: 5.94s\n",
            "137:\tlearn: 0.3271985\ttotal: 13s\tremaining: 5.83s\n",
            "138:\tlearn: 0.3255966\ttotal: 13s\tremaining: 5.72s\n",
            "139:\tlearn: 0.3241294\ttotal: 13.1s\tremaining: 5.6s\n",
            "140:\tlearn: 0.3228364\ttotal: 13.1s\tremaining: 5.49s\n",
            "141:\tlearn: 0.3214945\ttotal: 13.2s\tremaining: 5.39s\n",
            "142:\tlearn: 0.3200798\ttotal: 13.2s\tremaining: 5.28s\n",
            "143:\tlearn: 0.3198906\ttotal: 13.3s\tremaining: 5.17s\n",
            "144:\tlearn: 0.3186441\ttotal: 13.3s\tremaining: 5.06s\n",
            "145:\tlearn: 0.3176207\ttotal: 13.4s\tremaining: 4.96s\n",
            "146:\tlearn: 0.3174583\ttotal: 13.4s\tremaining: 4.85s\n",
            "147:\tlearn: 0.3157064\ttotal: 13.5s\tremaining: 4.74s\n",
            "148:\tlearn: 0.3143560\ttotal: 13.5s\tremaining: 4.64s\n",
            "149:\tlearn: 0.3132637\ttotal: 13.6s\tremaining: 4.53s\n",
            "150:\tlearn: 0.3119939\ttotal: 13.7s\tremaining: 4.43s\n",
            "151:\tlearn: 0.3108093\ttotal: 13.7s\tremaining: 4.33s\n",
            "152:\tlearn: 0.3100350\ttotal: 13.8s\tremaining: 4.22s\n",
            "153:\tlearn: 0.3090943\ttotal: 13.8s\tremaining: 4.12s\n",
            "154:\tlearn: 0.3073715\ttotal: 13.9s\tremaining: 4.02s\n",
            "155:\tlearn: 0.3062361\ttotal: 13.9s\tremaining: 3.92s\n",
            "156:\tlearn: 0.3048027\ttotal: 14s\tremaining: 3.82s\n",
            "157:\tlearn: 0.3038514\ttotal: 14s\tremaining: 3.72s\n",
            "158:\tlearn: 0.3025345\ttotal: 14.1s\tremaining: 3.62s\n",
            "159:\tlearn: 0.3016902\ttotal: 14.1s\tremaining: 3.53s\n",
            "160:\tlearn: 0.3006974\ttotal: 14.2s\tremaining: 3.43s\n",
            "161:\tlearn: 0.2992865\ttotal: 14.2s\tremaining: 3.34s\n",
            "162:\tlearn: 0.2983261\ttotal: 14.3s\tremaining: 3.24s\n",
            "163:\tlearn: 0.2972327\ttotal: 14.3s\tremaining: 3.15s\n",
            "164:\tlearn: 0.2959858\ttotal: 14.4s\tremaining: 3.05s\n",
            "165:\tlearn: 0.2950437\ttotal: 14.4s\tremaining: 2.96s\n",
            "166:\tlearn: 0.2938861\ttotal: 14.5s\tremaining: 2.86s\n",
            "167:\tlearn: 0.2928476\ttotal: 14.5s\tremaining: 2.77s\n",
            "168:\tlearn: 0.2916335\ttotal: 14.6s\tremaining: 2.68s\n",
            "169:\tlearn: 0.2906794\ttotal: 14.6s\tremaining: 2.58s\n",
            "170:\tlearn: 0.2897409\ttotal: 14.7s\tremaining: 2.49s\n",
            "171:\tlearn: 0.2884545\ttotal: 14.8s\tremaining: 2.4s\n",
            "172:\tlearn: 0.2878558\ttotal: 14.8s\tremaining: 2.31s\n",
            "173:\tlearn: 0.2869459\ttotal: 14.9s\tremaining: 2.22s\n",
            "174:\tlearn: 0.2862331\ttotal: 14.9s\tremaining: 2.13s\n",
            "175:\tlearn: 0.2852140\ttotal: 15s\tremaining: 2.04s\n",
            "176:\tlearn: 0.2842025\ttotal: 15s\tremaining: 1.95s\n",
            "177:\tlearn: 0.2833515\ttotal: 15.1s\tremaining: 1.86s\n",
            "178:\tlearn: 0.2821870\ttotal: 15.1s\tremaining: 1.77s\n",
            "179:\tlearn: 0.2809454\ttotal: 15.2s\tremaining: 1.69s\n",
            "180:\tlearn: 0.2800217\ttotal: 15.2s\tremaining: 1.6s\n",
            "181:\tlearn: 0.2787476\ttotal: 15.3s\tremaining: 1.51s\n",
            "182:\tlearn: 0.2777112\ttotal: 15.3s\tremaining: 1.43s\n",
            "183:\tlearn: 0.2770429\ttotal: 15.4s\tremaining: 1.34s\n",
            "184:\tlearn: 0.2768676\ttotal: 15.4s\tremaining: 1.25s\n",
            "185:\tlearn: 0.2755472\ttotal: 15.5s\tremaining: 1.17s\n",
            "186:\tlearn: 0.2747211\ttotal: 15.5s\tremaining: 1.08s\n",
            "187:\tlearn: 0.2738231\ttotal: 15.6s\tremaining: 996ms\n",
            "188:\tlearn: 0.2737592\ttotal: 15.7s\tremaining: 911ms\n",
            "189:\tlearn: 0.2728940\ttotal: 15.7s\tremaining: 826ms\n",
            "190:\tlearn: 0.2723071\ttotal: 15.8s\tremaining: 742ms\n",
            "191:\tlearn: 0.2716260\ttotal: 15.8s\tremaining: 659ms\n",
            "192:\tlearn: 0.2713751\ttotal: 15.9s\tremaining: 575ms\n",
            "193:\tlearn: 0.2705295\ttotal: 15.9s\tremaining: 492ms\n",
            "194:\tlearn: 0.2698207\ttotal: 16s\tremaining: 409ms\n",
            "195:\tlearn: 0.2691181\ttotal: 16s\tremaining: 327ms\n",
            "196:\tlearn: 0.2689729\ttotal: 16.1s\tremaining: 245ms\n",
            "197:\tlearn: 0.2681699\ttotal: 16.1s\tremaining: 163ms\n",
            "198:\tlearn: 0.2674911\ttotal: 16.2s\tremaining: 81.2ms\n",
            "199:\tlearn: 0.2665917\ttotal: 16.2s\tremaining: 0us\n"
          ]
        }
      ]
    },
    {
      "cell_type": "code",
      "source": [
        "pY = (pY1 + 2*pY2 + 4*pY3 + 2*pY4) / 9\n",
        "\n",
        "# pY = model.fit(trainX0, trainY0.gender).predict_proba(testX0)[:, 1]\n",
        "\n",
        "print('Local AUC ROC', roc_auc_score(testY0.gender, pY))\n",
        "print(pY.sum() / pY.shape[0])"
      ],
      "metadata": {
        "colab": {
          "base_uri": "https://localhost:8080/"
        },
        "id": "kx1z-zNemHnF",
        "outputId": "ced15179-22e6-4fa1-f65e-79ea081c22fa"
      },
      "execution_count": 208,
      "outputs": [
        {
          "output_type": "stream",
          "name": "stdout",
          "text": [
            "Local AUC ROC 0.8722553415985227\n",
            "0.4364145333367825\n"
          ]
        }
      ]
    },
    {
      "cell_type": "code",
      "source": [
        "X_t = np.array([pY1, pY2, pY3, pY4]).T\n",
        "\n",
        "train_X_t, test_X_t, train_Y_t, test_Y_t = train_test_split(X_t, testY0, test_size=0.3, random_state=0) # split train observation into local train/test sets (to score performance)\n",
        "\n",
        "\n",
        "p_t = model1.fit(train_X_t, train_Y_t.gender).predict_proba(test_X_t)[:, 1]\n",
        "\n",
        "print('Local AUC ROC', roc_auc_score(test_Y_t.gender, p_t))"
      ],
      "metadata": {
        "colab": {
          "base_uri": "https://localhost:8080/"
        },
        "id": "4K7DxlTYhfLO",
        "outputId": "7023b136-4e35-4e9e-e444-81029d114620"
      },
      "execution_count": 209,
      "outputs": [
        {
          "output_type": "stream",
          "name": "stdout",
          "text": [
            "Local AUC ROC 0.8778387924611606\n"
          ]
        }
      ]
    }
  ]
}