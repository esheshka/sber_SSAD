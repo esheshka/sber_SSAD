{
  "nbformat": 4,
  "nbformat_minor": 0,
  "metadata": {
    "colab": {
      "provenance": [],
      "authorship_tag": "ABX9TyNBC5kdDVmfhF5TZYRknTWd",
      "include_colab_link": true
    },
    "kernelspec": {
      "name": "python3",
      "display_name": "Python 3"
    },
    "language_info": {
      "name": "python"
    }
  },
  "cells": [
    {
      "cell_type": "markdown",
      "metadata": {
        "id": "view-in-github",
        "colab_type": "text"
      },
      "source": [
        "<a href=\"https://colab.research.google.com/github/esheshka/team_one_project/blob/Andrey/%D0%A7%D1%82%D0%BE_%D1%82%D0%BE_%D0%B7%D0%B0%D1%87%D0%B5%D0%BC_%D1%82%D0%BE.ipynb\" target=\"_parent\"><img src=\"https://colab.research.google.com/assets/colab-badge.svg\" alt=\"Open In Colab\"/></a>"
      ]
    },
    {
      "cell_type": "markdown",
      "source": [
        "# **Imports**"
      ],
      "metadata": {
        "id": "r14cTJ70c4ok"
      }
    },
    {
      "cell_type": "code",
      "source": [
        "from google.colab import drive; drive.mount('/content/drive')"
      ],
      "metadata": {
        "colab": {
          "base_uri": "https://localhost:8080/"
        },
        "id": "-0VMhfZwPmlX",
        "outputId": "11c61543-90d7-4f19-aec7-db83ec2ddb15"
      },
      "execution_count": 6,
      "outputs": [
        {
          "output_type": "stream",
          "name": "stdout",
          "text": [
            "Mounted at /content/drive\n"
          ]
        }
      ]
    },
    {
      "cell_type": "code",
      "source": [
        "!pip -q install --upgrade --force-reinstall --no-deps kaggle > log  # upgrade kaggle package (to avoid a warning)\n",
        "!mkdir -p ~/.kaggle                                           # .kaggle folder must contain kaggle.json for kaggle executable to properly authenticate you to Kaggle.com\n",
        "!cp /content/drive/MyDrive/kaggle.json ~/.kaggle/kaggle.json >log  # First, download kaggle.json from kaggle.com (in Account page) and place it in the root of mounted Google Drive\n",
        "!cp kaggle.json ~/.kaggle/kaggle.json > log                   # Alternative location of kaggle.json (without a connection to Google Drive)\n",
        "!chmod 600 ~/.kaggle/kaggle.json                              # give only the owner full read/write access to kaggle.json\n",
        "!kaggle config set -n competition -v 26jun23                  # set the competition context for the next few kaggle API calls. !kaggle config view - shows current settings\n",
        "!kaggle competitions download >> log                          # download competition dataset as a zip file\n",
        "!unzip -o *.zip >> log                                        # Kaggle dataset is copied as a single file and needs to be unzipped.\n",
        "!kaggle competitions leaderboard --show                       # print public leaderboard"
      ],
      "metadata": {
        "colab": {
          "base_uri": "https://localhost:8080/"
        },
        "id": "Qr42QbN-QpJ2",
        "outputId": "4b7efbdf-e89d-47a4-df86-e70c03714a5d"
      },
      "execution_count": 7,
      "outputs": [
        {
          "output_type": "stream",
          "name": "stdout",
          "text": [
            "cp: cannot stat 'kaggle.json': No such file or directory\n",
            "- competition is now set to: 26jun23\n",
            "100% 35.7M/35.7M [00:00<00:00, 136MB/s]\n",
            "Using competition: 26jun23\n",
            "  teamId  teamName                   submissionDate       score    \n",
            "--------  -------------------------  -------------------  -------  \n",
            "10612701  Никита Угрюмов             2023-06-28 23:59:12  0.87976  \n",
            "10612695  Ne1tr0N [Maxim Mashtaler]  2023-06-28 22:04:00  0.87931  \n",
            "10612706  Michael Kondrashov         2023-06-28 14:52:04  0.87746  \n",
            "10616508  Ulyana Klushova            2023-06-28 20:38:57  0.87485  \n",
            "10612698  Alexandr Boldirev          2023-06-28 21:14:30  0.87344  \n",
            "10612715  Stepan Vysotsky            2023-06-28 17:57:40  0.87076  \n",
            "10614521  Konstantin Zeigman         2023-06-28 13:40:11  0.86889  \n",
            "10614699  Dmitriy Geyzha             2023-06-28 12:50:43  0.86653  \n",
            "10613713  Mikhail Vovk               2023-06-28 15:19:07  0.86403  \n",
            "10612680  esheshka                   2023-06-29 05:05:39  0.85417  \n",
            "10618717  TimoteoByalkovskiy         2023-06-28 19:48:38  0.84860  \n",
            "10618350  Seleznev Nikita            2023-06-28 17:40:59  0.84844  \n",
            "10617148  Vladimir Babushkin         2023-06-28 18:29:28  0.83711  \n",
            "10617093  Андрей Тынков              2023-06-28 19:44:34  0.77979  \n",
            "10612678  Чистяков Лев               2023-06-28 11:40:57  0.76747  \n",
            "10612681  Maria Alyushina            2023-06-28 15:11:15  0.76086  \n",
            "10617156  Gleb Goloshchapov          2023-06-28 12:33:03  0.76034  \n",
            "10617121  Alex mamleev               2023-06-28 14:32:13  0.73860  \n",
            "10612789  Liz Volkova                2023-06-28 18:00:39  0.72206  \n",
            "10617544  Arina Zavialova            2023-06-28 14:28:23  0.66151  \n",
            "10612716  Abyssinian Cat             2023-06-28 13:41:36  0.64637  \n",
            "10612703  Slavik Hom                 2023-06-28 14:25:48  0.63780  \n",
            "10617279  Alex Rasskazchikov         2023-06-28 15:26:20  0.55700  \n",
            "10605413  💳baseline,LR:$Stat+MCCEnc  2023-06-25 18:15:10  0.53220  \n",
            "10617643  Pavel Efimov               2023-06-28 14:41:52  0.49488  \n"
          ]
        }
      ]
    },
    {
      "cell_type": "code",
      "source": [
        "%%time\n",
        "%%capture\n",
        "%reset -f\n",
        "!pip install -U sentence-transformers tfds-nightly tensorflow tensorflow_addons plotly > log\n",
        "from IPython.core.interactiveshell import InteractiveShell as IS; IS.ast_node_interactivity = \"all\"  # allows multiple prints from a cell\n",
        "import numpy as np, pandas as pd, time, matplotlib.pyplot as plt, os, plotly.express as px, xgboost as xgb, lightgbm, re, tensorflow as tf, tensorflow.keras as keras\n",
        "from sklearn.preprocessing import MinMaxScaler, PolynomialFeatures\n",
        "from sklearn.model_selection import train_test_split, GroupKFold\n",
        "from sklearn.linear_model import LogisticRegression as LR\n",
        "from sklearn.metrics import roc_auc_score\n",
        "from sklearn.decomposition import PCA\n",
        "from sklearn.neural_network import MLPClassifier   # SKLearn's MLP is optimised for CPU (and doesn't use GPU)\n",
        "from sentence_transformers import SentenceTransformer as SBERT\n",
        "from keras.layers import Flatten, Dense\n",
        "\n",
        "os.environ['TF_DETERMINISTIC_OPS'] = '1'; os.environ['TF_CUDNN_DETERMINISTIC'] = '1'   # helps to seed TF's RNG on GPUs\n",
        "np.set_printoptions(linewidth=10000, precision=2, edgeitems=20, suppress=True)\n",
        "pd.set_option('display.max_colwidth', 100, 'display.max_columns', 10, 'display.width', 1000, 'display.max_rows', 8)\n",
        "\n",
        "class Timer():\n",
        "  def __init__(self, lim:'RunTimeLimit'=60*2): self.t0, self.lim, _ = time.time(), lim, print(f'⏳ started. You have {lim} sec. Good luck!')\n",
        "  def ShowTime(self):\n",
        "    msg = f'Runtime is {time.time()-self.t0:.0f} sec'\n",
        "    print(f'\\033[91m\\033[1m' + msg + f' > {self.lim} sec limit!!!\\033[0m' if (time.time()-self.t0-1) > self.lim else msg)"
      ],
      "metadata": {
        "colab": {
          "base_uri": "https://localhost:8080/"
        },
        "id": "Vyp3Jf3DQz5_",
        "outputId": "b74105e3-e796-47fe-dea4-40e0ab5453e4"
      },
      "execution_count": 8,
      "outputs": [
        {
          "output_type": "stream",
          "name": "stdout",
          "text": [
            "CPU times: user 10.9 s, sys: 1.3 s, total: 12.2 s\n",
            "Wall time: 1min 33s\n"
          ]
        }
      ]
    },
    {
      "cell_type": "code",
      "source": [
        "from sklearn.linear_model import LogisticRegression as LR\n",
        "from sklearn.ensemble import RandomForestClassifier as RFC\n",
        "from sklearn.ensemble import GradientBoostingClassifier as GBC\n",
        "from sklearn.tree import DecisionTreeClassifier as DTC\n",
        "from sklearn.svm import SVC\n",
        "from sklearn.ensemble import StackingClassifier as SC\n",
        "from sklearn.neighbors import KNeighborsClassifier as KNC\n",
        "\n",
        "from sklearn.model_selection import GridSearchCV as GSCV\n",
        "from sklearn.model_selection import RandomizedSearchCV as RSCV\n"
      ],
      "metadata": {
        "id": "mf7ks7qtHTZH"
      },
      "execution_count": 702,
      "outputs": []
    },
    {
      "cell_type": "code",
      "source": [
        "#@title MCC\n",
        "%time mcc = pd.read_csv('_mcc.csv', index_col='mcc')"
      ],
      "metadata": {
        "id": "W_Z-89adkPhU",
        "colab": {
          "base_uri": "https://localhost:8080/"
        },
        "outputId": "ac15f6fa-0df0-4457-d8a1-875d780e1a92"
      },
      "execution_count": 10,
      "outputs": [
        {
          "output_type": "stream",
          "name": "stdout",
          "text": [
            "CPU times: user 7.03 ms, sys: 1.14 ms, total: 8.17 ms\n",
            "Wall time: 24.9 ms\n"
          ]
        }
      ]
    },
    {
      "cell_type": "code",
      "source": [
        "#@title TTC\n",
        "%time ttc = pd.read_csv('_ttc.csv', index_col='ttc');"
      ],
      "metadata": {
        "colab": {
          "base_uri": "https://localhost:8080/"
        },
        "id": "UC4EHEmdRUcl",
        "outputId": "ceb89b64-f37e-4059-8952-353befcd8cc7"
      },
      "execution_count": 11,
      "outputs": [
        {
          "output_type": "stream",
          "name": "stdout",
          "text": [
            "CPU times: user 4.94 ms, sys: 0 ns, total: 4.94 ms\n",
            "Wall time: 5.03 ms\n"
          ]
        }
      ]
    },
    {
      "cell_type": "code",
      "source": [
        "#@title Gender\n",
        "%time gender = pd.read_csv('gender.csv', index_col='cid'); gender.T  # load gender labels. you need to predict the missing labels\n",
        "trainY, testY = gender.query('gender==gender'), gender.query('gender!=gender')  # split into Train and test (=Validation) targets"
      ],
      "metadata": {
        "colab": {
          "base_uri": "https://localhost:8080/",
          "height": 147
        },
        "id": "hWLIgd0QRUkm",
        "outputId": "0ea47e47-c640-41fa-c59d-4f522632614d"
      },
      "execution_count": 12,
      "outputs": [
        {
          "output_type": "stream",
          "name": "stdout",
          "text": [
            "CPU times: user 6.97 ms, sys: 1.83 ms, total: 8.8 ms\n",
            "Wall time: 9.79 ms\n"
          ]
        },
        {
          "output_type": "execute_result",
          "data": {
            "text/plain": [
              "cid     0     1     2     3     4     ...  8395  8396  8397  8398  8399\n",
              "gender   NaN   NaN   NaN   NaN   NaN  ...   0.0   0.0   1.0   0.0   0.0\n",
              "\n",
              "[1 rows x 8400 columns]"
            ],
            "text/html": [
              "\n",
              "  <div id=\"df-494e61b2-cfa5-499e-802f-026e296b261f\">\n",
              "    <div class=\"colab-df-container\">\n",
              "      <div>\n",
              "<style scoped>\n",
              "    .dataframe tbody tr th:only-of-type {\n",
              "        vertical-align: middle;\n",
              "    }\n",
              "\n",
              "    .dataframe tbody tr th {\n",
              "        vertical-align: top;\n",
              "    }\n",
              "\n",
              "    .dataframe thead th {\n",
              "        text-align: right;\n",
              "    }\n",
              "</style>\n",
              "<table border=\"1\" class=\"dataframe\">\n",
              "  <thead>\n",
              "    <tr style=\"text-align: right;\">\n",
              "      <th>cid</th>\n",
              "      <th>0</th>\n",
              "      <th>1</th>\n",
              "      <th>2</th>\n",
              "      <th>3</th>\n",
              "      <th>4</th>\n",
              "      <th>...</th>\n",
              "      <th>8395</th>\n",
              "      <th>8396</th>\n",
              "      <th>8397</th>\n",
              "      <th>8398</th>\n",
              "      <th>8399</th>\n",
              "    </tr>\n",
              "  </thead>\n",
              "  <tbody>\n",
              "    <tr>\n",
              "      <th>gender</th>\n",
              "      <td>NaN</td>\n",
              "      <td>NaN</td>\n",
              "      <td>NaN</td>\n",
              "      <td>NaN</td>\n",
              "      <td>NaN</td>\n",
              "      <td>...</td>\n",
              "      <td>0.0</td>\n",
              "      <td>0.0</td>\n",
              "      <td>1.0</td>\n",
              "      <td>0.0</td>\n",
              "      <td>0.0</td>\n",
              "    </tr>\n",
              "  </tbody>\n",
              "</table>\n",
              "<p>1 rows × 8400 columns</p>\n",
              "</div>\n",
              "      <button class=\"colab-df-convert\" onclick=\"convertToInteractive('df-494e61b2-cfa5-499e-802f-026e296b261f')\"\n",
              "              title=\"Convert this dataframe to an interactive table.\"\n",
              "              style=\"display:none;\">\n",
              "        \n",
              "  <svg xmlns=\"http://www.w3.org/2000/svg\" height=\"24px\"viewBox=\"0 0 24 24\"\n",
              "       width=\"24px\">\n",
              "    <path d=\"M0 0h24v24H0V0z\" fill=\"none\"/>\n",
              "    <path d=\"M18.56 5.44l.94 2.06.94-2.06 2.06-.94-2.06-.94-.94-2.06-.94 2.06-2.06.94zm-11 1L8.5 8.5l.94-2.06 2.06-.94-2.06-.94L8.5 2.5l-.94 2.06-2.06.94zm10 10l.94 2.06.94-2.06 2.06-.94-2.06-.94-.94-2.06-.94 2.06-2.06.94z\"/><path d=\"M17.41 7.96l-1.37-1.37c-.4-.4-.92-.59-1.43-.59-.52 0-1.04.2-1.43.59L10.3 9.45l-7.72 7.72c-.78.78-.78 2.05 0 2.83L4 21.41c.39.39.9.59 1.41.59.51 0 1.02-.2 1.41-.59l7.78-7.78 2.81-2.81c.8-.78.8-2.07 0-2.86zM5.41 20L4 18.59l7.72-7.72 1.47 1.35L5.41 20z\"/>\n",
              "  </svg>\n",
              "      </button>\n",
              "      \n",
              "  <style>\n",
              "    .colab-df-container {\n",
              "      display:flex;\n",
              "      flex-wrap:wrap;\n",
              "      gap: 12px;\n",
              "    }\n",
              "\n",
              "    .colab-df-convert {\n",
              "      background-color: #E8F0FE;\n",
              "      border: none;\n",
              "      border-radius: 50%;\n",
              "      cursor: pointer;\n",
              "      display: none;\n",
              "      fill: #1967D2;\n",
              "      height: 32px;\n",
              "      padding: 0 0 0 0;\n",
              "      width: 32px;\n",
              "    }\n",
              "\n",
              "    .colab-df-convert:hover {\n",
              "      background-color: #E2EBFA;\n",
              "      box-shadow: 0px 1px 2px rgba(60, 64, 67, 0.3), 0px 1px 3px 1px rgba(60, 64, 67, 0.15);\n",
              "      fill: #174EA6;\n",
              "    }\n",
              "\n",
              "    [theme=dark] .colab-df-convert {\n",
              "      background-color: #3B4455;\n",
              "      fill: #D2E3FC;\n",
              "    }\n",
              "\n",
              "    [theme=dark] .colab-df-convert:hover {\n",
              "      background-color: #434B5C;\n",
              "      box-shadow: 0px 1px 3px 1px rgba(0, 0, 0, 0.15);\n",
              "      filter: drop-shadow(0px 1px 2px rgba(0, 0, 0, 0.3));\n",
              "      fill: #FFFFFF;\n",
              "    }\n",
              "  </style>\n",
              "\n",
              "      <script>\n",
              "        const buttonEl =\n",
              "          document.querySelector('#df-494e61b2-cfa5-499e-802f-026e296b261f button.colab-df-convert');\n",
              "        buttonEl.style.display =\n",
              "          google.colab.kernel.accessAllowed ? 'block' : 'none';\n",
              "\n",
              "        async function convertToInteractive(key) {\n",
              "          const element = document.querySelector('#df-494e61b2-cfa5-499e-802f-026e296b261f');\n",
              "          const dataTable =\n",
              "            await google.colab.kernel.invokeFunction('convertToInteractive',\n",
              "                                                     [key], {});\n",
              "          if (!dataTable) return;\n",
              "\n",
              "          const docLinkHtml = 'Like what you see? Visit the ' +\n",
              "            '<a target=\"_blank\" href=https://colab.research.google.com/notebooks/data_table.ipynb>data table notebook</a>'\n",
              "            + ' to learn more about interactive tables.';\n",
              "          element.innerHTML = '';\n",
              "          dataTable['output_type'] = 'display_data';\n",
              "          await google.colab.output.renderOutput(dataTable, element);\n",
              "          const docLink = document.createElement('div');\n",
              "          docLink.innerHTML = docLinkHtml;\n",
              "          element.appendChild(docLink);\n",
              "        }\n",
              "      </script>\n",
              "    </div>\n",
              "  </div>\n",
              "  "
            ]
          },
          "metadata": {},
          "execution_count": 12
        }
      ]
    },
    {
      "cell_type": "code",
      "source": [
        "#@title TRX\n",
        "%time dfTrx = pd.read_csv('trx.csv').sort_values(['cid','dt','tm']); dfTrx  # load bank card's transactions. Ensure ordered CID"
      ],
      "metadata": {
        "colab": {
          "base_uri": "https://localhost:8080/",
          "height": 398
        },
        "id": "y3dT50Q4RUsI",
        "outputId": "5be2a153-23d0-4024-cb87-e1e30cd3df20"
      },
      "execution_count": 13,
      "outputs": [
        {
          "output_type": "stream",
          "name": "stdout",
          "text": [
            "CPU times: user 8.74 s, sys: 1.52 s, total: 10.3 s\n",
            "Wall time: 18.2 s\n"
          ]
        },
        {
          "output_type": "execute_result",
          "data": {
            "text/plain": [
              "          cid   dt        tm     amt  mcc  ttc       tid\n",
              "0           0    1  00:00:00   -1305   56    4       NaN\n",
              "1           0    1  00:00:00   -4821   56    4       NaN\n",
              "2           0    2  22:48:17  -56156   22   37       NaN\n",
              "3           0    3  00:00:00   -3708   56    4       NaN\n",
              "...       ...  ...       ...     ...  ...  ...       ...\n",
              "3749574  8399  450  00:00:00  -43831   56    4  PS026577\n",
              "3749575  8399  456  17:21:07   89833  123  128    888917\n",
              "3749576  8399  456  18:59:26  247062  124  108    738051\n",
              "3749577  8399  456  19:01:21 -336874   22   25    738051\n",
              "\n",
              "[3749578 rows x 7 columns]"
            ],
            "text/html": [
              "\n",
              "  <div id=\"df-d378b28c-1a50-4c40-86cd-a81691c1d4e1\">\n",
              "    <div class=\"colab-df-container\">\n",
              "      <div>\n",
              "<style scoped>\n",
              "    .dataframe tbody tr th:only-of-type {\n",
              "        vertical-align: middle;\n",
              "    }\n",
              "\n",
              "    .dataframe tbody tr th {\n",
              "        vertical-align: top;\n",
              "    }\n",
              "\n",
              "    .dataframe thead th {\n",
              "        text-align: right;\n",
              "    }\n",
              "</style>\n",
              "<table border=\"1\" class=\"dataframe\">\n",
              "  <thead>\n",
              "    <tr style=\"text-align: right;\">\n",
              "      <th></th>\n",
              "      <th>cid</th>\n",
              "      <th>dt</th>\n",
              "      <th>tm</th>\n",
              "      <th>amt</th>\n",
              "      <th>mcc</th>\n",
              "      <th>ttc</th>\n",
              "      <th>tid</th>\n",
              "    </tr>\n",
              "  </thead>\n",
              "  <tbody>\n",
              "    <tr>\n",
              "      <th>0</th>\n",
              "      <td>0</td>\n",
              "      <td>1</td>\n",
              "      <td>00:00:00</td>\n",
              "      <td>-1305</td>\n",
              "      <td>56</td>\n",
              "      <td>4</td>\n",
              "      <td>NaN</td>\n",
              "    </tr>\n",
              "    <tr>\n",
              "      <th>1</th>\n",
              "      <td>0</td>\n",
              "      <td>1</td>\n",
              "      <td>00:00:00</td>\n",
              "      <td>-4821</td>\n",
              "      <td>56</td>\n",
              "      <td>4</td>\n",
              "      <td>NaN</td>\n",
              "    </tr>\n",
              "    <tr>\n",
              "      <th>2</th>\n",
              "      <td>0</td>\n",
              "      <td>2</td>\n",
              "      <td>22:48:17</td>\n",
              "      <td>-56156</td>\n",
              "      <td>22</td>\n",
              "      <td>37</td>\n",
              "      <td>NaN</td>\n",
              "    </tr>\n",
              "    <tr>\n",
              "      <th>3</th>\n",
              "      <td>0</td>\n",
              "      <td>3</td>\n",
              "      <td>00:00:00</td>\n",
              "      <td>-3708</td>\n",
              "      <td>56</td>\n",
              "      <td>4</td>\n",
              "      <td>NaN</td>\n",
              "    </tr>\n",
              "    <tr>\n",
              "      <th>...</th>\n",
              "      <td>...</td>\n",
              "      <td>...</td>\n",
              "      <td>...</td>\n",
              "      <td>...</td>\n",
              "      <td>...</td>\n",
              "      <td>...</td>\n",
              "      <td>...</td>\n",
              "    </tr>\n",
              "    <tr>\n",
              "      <th>3749574</th>\n",
              "      <td>8399</td>\n",
              "      <td>450</td>\n",
              "      <td>00:00:00</td>\n",
              "      <td>-43831</td>\n",
              "      <td>56</td>\n",
              "      <td>4</td>\n",
              "      <td>PS026577</td>\n",
              "    </tr>\n",
              "    <tr>\n",
              "      <th>3749575</th>\n",
              "      <td>8399</td>\n",
              "      <td>456</td>\n",
              "      <td>17:21:07</td>\n",
              "      <td>89833</td>\n",
              "      <td>123</td>\n",
              "      <td>128</td>\n",
              "      <td>888917</td>\n",
              "    </tr>\n",
              "    <tr>\n",
              "      <th>3749576</th>\n",
              "      <td>8399</td>\n",
              "      <td>456</td>\n",
              "      <td>18:59:26</td>\n",
              "      <td>247062</td>\n",
              "      <td>124</td>\n",
              "      <td>108</td>\n",
              "      <td>738051</td>\n",
              "    </tr>\n",
              "    <tr>\n",
              "      <th>3749577</th>\n",
              "      <td>8399</td>\n",
              "      <td>456</td>\n",
              "      <td>19:01:21</td>\n",
              "      <td>-336874</td>\n",
              "      <td>22</td>\n",
              "      <td>25</td>\n",
              "      <td>738051</td>\n",
              "    </tr>\n",
              "  </tbody>\n",
              "</table>\n",
              "<p>3749578 rows × 7 columns</p>\n",
              "</div>\n",
              "      <button class=\"colab-df-convert\" onclick=\"convertToInteractive('df-d378b28c-1a50-4c40-86cd-a81691c1d4e1')\"\n",
              "              title=\"Convert this dataframe to an interactive table.\"\n",
              "              style=\"display:none;\">\n",
              "        \n",
              "  <svg xmlns=\"http://www.w3.org/2000/svg\" height=\"24px\"viewBox=\"0 0 24 24\"\n",
              "       width=\"24px\">\n",
              "    <path d=\"M0 0h24v24H0V0z\" fill=\"none\"/>\n",
              "    <path d=\"M18.56 5.44l.94 2.06.94-2.06 2.06-.94-2.06-.94-.94-2.06-.94 2.06-2.06.94zm-11 1L8.5 8.5l.94-2.06 2.06-.94-2.06-.94L8.5 2.5l-.94 2.06-2.06.94zm10 10l.94 2.06.94-2.06 2.06-.94-2.06-.94-.94-2.06-.94 2.06-2.06.94z\"/><path d=\"M17.41 7.96l-1.37-1.37c-.4-.4-.92-.59-1.43-.59-.52 0-1.04.2-1.43.59L10.3 9.45l-7.72 7.72c-.78.78-.78 2.05 0 2.83L4 21.41c.39.39.9.59 1.41.59.51 0 1.02-.2 1.41-.59l7.78-7.78 2.81-2.81c.8-.78.8-2.07 0-2.86zM5.41 20L4 18.59l7.72-7.72 1.47 1.35L5.41 20z\"/>\n",
              "  </svg>\n",
              "      </button>\n",
              "      \n",
              "  <style>\n",
              "    .colab-df-container {\n",
              "      display:flex;\n",
              "      flex-wrap:wrap;\n",
              "      gap: 12px;\n",
              "    }\n",
              "\n",
              "    .colab-df-convert {\n",
              "      background-color: #E8F0FE;\n",
              "      border: none;\n",
              "      border-radius: 50%;\n",
              "      cursor: pointer;\n",
              "      display: none;\n",
              "      fill: #1967D2;\n",
              "      height: 32px;\n",
              "      padding: 0 0 0 0;\n",
              "      width: 32px;\n",
              "    }\n",
              "\n",
              "    .colab-df-convert:hover {\n",
              "      background-color: #E2EBFA;\n",
              "      box-shadow: 0px 1px 2px rgba(60, 64, 67, 0.3), 0px 1px 3px 1px rgba(60, 64, 67, 0.15);\n",
              "      fill: #174EA6;\n",
              "    }\n",
              "\n",
              "    [theme=dark] .colab-df-convert {\n",
              "      background-color: #3B4455;\n",
              "      fill: #D2E3FC;\n",
              "    }\n",
              "\n",
              "    [theme=dark] .colab-df-convert:hover {\n",
              "      background-color: #434B5C;\n",
              "      box-shadow: 0px 1px 3px 1px rgba(0, 0, 0, 0.15);\n",
              "      filter: drop-shadow(0px 1px 2px rgba(0, 0, 0, 0.3));\n",
              "      fill: #FFFFFF;\n",
              "    }\n",
              "  </style>\n",
              "\n",
              "      <script>\n",
              "        const buttonEl =\n",
              "          document.querySelector('#df-d378b28c-1a50-4c40-86cd-a81691c1d4e1 button.colab-df-convert');\n",
              "        buttonEl.style.display =\n",
              "          google.colab.kernel.accessAllowed ? 'block' : 'none';\n",
              "\n",
              "        async function convertToInteractive(key) {\n",
              "          const element = document.querySelector('#df-d378b28c-1a50-4c40-86cd-a81691c1d4e1');\n",
              "          const dataTable =\n",
              "            await google.colab.kernel.invokeFunction('convertToInteractive',\n",
              "                                                     [key], {});\n",
              "          if (!dataTable) return;\n",
              "\n",
              "          const docLinkHtml = 'Like what you see? Visit the ' +\n",
              "            '<a target=\"_blank\" href=https://colab.research.google.com/notebooks/data_table.ipynb>data table notebook</a>'\n",
              "            + ' to learn more about interactive tables.';\n",
              "          element.innerHTML = '';\n",
              "          dataTable['output_type'] = 'display_data';\n",
              "          await google.colab.output.renderOutput(dataTable, element);\n",
              "          const docLink = document.createElement('div');\n",
              "          docLink.innerHTML = docLinkHtml;\n",
              "          element.appendChild(docLink);\n",
              "        }\n",
              "      </script>\n",
              "    </div>\n",
              "  </div>\n",
              "  "
            ]
          },
          "metadata": {},
          "execution_count": 13
        }
      ]
    },
    {
      "cell_type": "code",
      "source": [
        "df_ = gender.drop('gender', axis=1); df_.T  # a list of ordered client IDs (as index)"
      ],
      "metadata": {
        "colab": {
          "base_uri": "https://localhost:8080/",
          "height": 79
        },
        "id": "Qi2aT6fgRhKB",
        "outputId": "ce153211-c845-4253-a8ed-65054c5ea8e2"
      },
      "execution_count": 14,
      "outputs": [
        {
          "output_type": "execute_result",
          "data": {
            "text/plain": [
              "Empty DataFrame\n",
              "Columns: [0, 1, 2, 3, 4, 5, 6, 7, 8, 9, 10, 11, 12, 13, 14, 15, 16, 17, 18, 19, 20, 21, 22, 23, 24, 25, 26, 27, 28, 29, 30, 31, 32, 33, 34, 35, 36, 37, 38, 39, 40, 41, 42, 43, 44, 45, 46, 47, 48, 49, 50, 51, 52, 53, 54, 55, 56, 57, 58, 59, 60, 61, 62, 63, 64, 65, 66, 67, 68, 69, 70, 71, 72, 73, 74, 75, 76, 77, 78, 79, 80, 81, 82, 83, 84, 85, 86, 87, 88, 89, 90, 91, 92, 93, 94, 95, 96, 97, 98, 99, ...]\n",
              "Index: []\n",
              "\n",
              "[0 rows x 8400 columns]"
            ],
            "text/html": [
              "\n",
              "  <div id=\"df-b0c4ad59-2c4d-42b9-832f-68c30a61136d\">\n",
              "    <div class=\"colab-df-container\">\n",
              "      <div>\n",
              "<style scoped>\n",
              "    .dataframe tbody tr th:only-of-type {\n",
              "        vertical-align: middle;\n",
              "    }\n",
              "\n",
              "    .dataframe tbody tr th {\n",
              "        vertical-align: top;\n",
              "    }\n",
              "\n",
              "    .dataframe thead th {\n",
              "        text-align: right;\n",
              "    }\n",
              "</style>\n",
              "<table border=\"1\" class=\"dataframe\">\n",
              "  <thead>\n",
              "    <tr style=\"text-align: right;\">\n",
              "      <th>cid</th>\n",
              "      <th>0</th>\n",
              "      <th>1</th>\n",
              "      <th>2</th>\n",
              "      <th>3</th>\n",
              "      <th>4</th>\n",
              "      <th>...</th>\n",
              "      <th>8395</th>\n",
              "      <th>8396</th>\n",
              "      <th>8397</th>\n",
              "      <th>8398</th>\n",
              "      <th>8399</th>\n",
              "    </tr>\n",
              "  </thead>\n",
              "  <tbody>\n",
              "  </tbody>\n",
              "</table>\n",
              "<p>0 rows × 8400 columns</p>\n",
              "</div>\n",
              "      <button class=\"colab-df-convert\" onclick=\"convertToInteractive('df-b0c4ad59-2c4d-42b9-832f-68c30a61136d')\"\n",
              "              title=\"Convert this dataframe to an interactive table.\"\n",
              "              style=\"display:none;\">\n",
              "        \n",
              "  <svg xmlns=\"http://www.w3.org/2000/svg\" height=\"24px\"viewBox=\"0 0 24 24\"\n",
              "       width=\"24px\">\n",
              "    <path d=\"M0 0h24v24H0V0z\" fill=\"none\"/>\n",
              "    <path d=\"M18.56 5.44l.94 2.06.94-2.06 2.06-.94-2.06-.94-.94-2.06-.94 2.06-2.06.94zm-11 1L8.5 8.5l.94-2.06 2.06-.94-2.06-.94L8.5 2.5l-.94 2.06-2.06.94zm10 10l.94 2.06.94-2.06 2.06-.94-2.06-.94-.94-2.06-.94 2.06-2.06.94z\"/><path d=\"M17.41 7.96l-1.37-1.37c-.4-.4-.92-.59-1.43-.59-.52 0-1.04.2-1.43.59L10.3 9.45l-7.72 7.72c-.78.78-.78 2.05 0 2.83L4 21.41c.39.39.9.59 1.41.59.51 0 1.02-.2 1.41-.59l7.78-7.78 2.81-2.81c.8-.78.8-2.07 0-2.86zM5.41 20L4 18.59l7.72-7.72 1.47 1.35L5.41 20z\"/>\n",
              "  </svg>\n",
              "      </button>\n",
              "      \n",
              "  <style>\n",
              "    .colab-df-container {\n",
              "      display:flex;\n",
              "      flex-wrap:wrap;\n",
              "      gap: 12px;\n",
              "    }\n",
              "\n",
              "    .colab-df-convert {\n",
              "      background-color: #E8F0FE;\n",
              "      border: none;\n",
              "      border-radius: 50%;\n",
              "      cursor: pointer;\n",
              "      display: none;\n",
              "      fill: #1967D2;\n",
              "      height: 32px;\n",
              "      padding: 0 0 0 0;\n",
              "      width: 32px;\n",
              "    }\n",
              "\n",
              "    .colab-df-convert:hover {\n",
              "      background-color: #E2EBFA;\n",
              "      box-shadow: 0px 1px 2px rgba(60, 64, 67, 0.3), 0px 1px 3px 1px rgba(60, 64, 67, 0.15);\n",
              "      fill: #174EA6;\n",
              "    }\n",
              "\n",
              "    [theme=dark] .colab-df-convert {\n",
              "      background-color: #3B4455;\n",
              "      fill: #D2E3FC;\n",
              "    }\n",
              "\n",
              "    [theme=dark] .colab-df-convert:hover {\n",
              "      background-color: #434B5C;\n",
              "      box-shadow: 0px 1px 3px 1px rgba(0, 0, 0, 0.15);\n",
              "      filter: drop-shadow(0px 1px 2px rgba(0, 0, 0, 0.3));\n",
              "      fill: #FFFFFF;\n",
              "    }\n",
              "  </style>\n",
              "\n",
              "      <script>\n",
              "        const buttonEl =\n",
              "          document.querySelector('#df-b0c4ad59-2c4d-42b9-832f-68c30a61136d button.colab-df-convert');\n",
              "        buttonEl.style.display =\n",
              "          google.colab.kernel.accessAllowed ? 'block' : 'none';\n",
              "\n",
              "        async function convertToInteractive(key) {\n",
              "          const element = document.querySelector('#df-b0c4ad59-2c4d-42b9-832f-68c30a61136d');\n",
              "          const dataTable =\n",
              "            await google.colab.kernel.invokeFunction('convertToInteractive',\n",
              "                                                     [key], {});\n",
              "          if (!dataTable) return;\n",
              "\n",
              "          const docLinkHtml = 'Like what you see? Visit the ' +\n",
              "            '<a target=\"_blank\" href=https://colab.research.google.com/notebooks/data_table.ipynb>data table notebook</a>'\n",
              "            + ' to learn more about interactive tables.';\n",
              "          element.innerHTML = '';\n",
              "          dataTable['output_type'] = 'display_data';\n",
              "          await google.colab.output.renderOutput(dataTable, element);\n",
              "          const docLink = document.createElement('div');\n",
              "          docLink.innerHTML = docLinkHtml;\n",
              "          element.appendChild(docLink);\n",
              "        }\n",
              "      </script>\n",
              "    </div>\n",
              "  </div>\n",
              "  "
            ]
          },
          "metadata": {},
          "execution_count": 14
        }
      ]
    },
    {
      "cell_type": "code",
      "source": [
        "pd.set_option('display.max_colwidth', 100, 'display.max_columns', 20, 'display.width', 1000, 'display.max_rows', 10)\n",
        "tmr = Timer() # runtime limit (in seconds). Add all of your code after the timer"
      ],
      "metadata": {
        "colab": {
          "base_uri": "https://localhost:8080/"
        },
        "id": "cJd8TuGZRkhO",
        "outputId": "cb34b70a-f455-41f0-8e37-4b8e9b26ec8f"
      },
      "execution_count": 15,
      "outputs": [
        {
          "output_type": "stream",
          "name": "stdout",
          "text": [
            "⏳ started. You have 120 sec. Good luck!\n"
          ]
        }
      ]
    },
    {
      "cell_type": "markdown",
      "source": [
        "# **Тесты**"
      ],
      "metadata": {
        "id": "4j3DZA3NrpEQ"
      }
    },
    {
      "cell_type": "code",
      "source": [
        "df_tid, df_no_tid = dfTrx[~dfTrx.tid.isna()], dfTrx[dfTrx.tid.isna()]"
      ],
      "metadata": {
        "id": "ii-UCl7LaBQc"
      },
      "execution_count": 800,
      "outputs": []
    },
    {
      "cell_type": "code",
      "source": [
        "df_tid[df_tid.tid == 'PS026577']"
      ],
      "metadata": {
        "id": "UEXKU8O6br0f",
        "outputId": "95433a1a-cad3-4b13-e309-82ae658eb219",
        "colab": {
          "base_uri": "https://localhost:8080/",
          "height": 112
        }
      },
      "execution_count": 806,
      "outputs": [
        {
          "output_type": "execute_result",
          "data": {
            "text/plain": [
              "          cid   dt  tm     amt  mcc  ttc       tid\n",
              "664304   1525  303  20 -398132   50    4  PS026577\n",
              "3749574  8399  450   0  -43831   56    4  PS026577"
            ],
            "text/html": [
              "\n",
              "  <div id=\"df-11fe390c-0065-4968-8bd0-abcf799a59c1\">\n",
              "    <div class=\"colab-df-container\">\n",
              "      <div>\n",
              "<style scoped>\n",
              "    .dataframe tbody tr th:only-of-type {\n",
              "        vertical-align: middle;\n",
              "    }\n",
              "\n",
              "    .dataframe tbody tr th {\n",
              "        vertical-align: top;\n",
              "    }\n",
              "\n",
              "    .dataframe thead th {\n",
              "        text-align: right;\n",
              "    }\n",
              "</style>\n",
              "<table border=\"1\" class=\"dataframe\">\n",
              "  <thead>\n",
              "    <tr style=\"text-align: right;\">\n",
              "      <th></th>\n",
              "      <th>cid</th>\n",
              "      <th>dt</th>\n",
              "      <th>tm</th>\n",
              "      <th>amt</th>\n",
              "      <th>mcc</th>\n",
              "      <th>ttc</th>\n",
              "      <th>tid</th>\n",
              "    </tr>\n",
              "  </thead>\n",
              "  <tbody>\n",
              "    <tr>\n",
              "      <th>664304</th>\n",
              "      <td>1525</td>\n",
              "      <td>303</td>\n",
              "      <td>20</td>\n",
              "      <td>-398132</td>\n",
              "      <td>50</td>\n",
              "      <td>4</td>\n",
              "      <td>PS026577</td>\n",
              "    </tr>\n",
              "    <tr>\n",
              "      <th>3749574</th>\n",
              "      <td>8399</td>\n",
              "      <td>450</td>\n",
              "      <td>0</td>\n",
              "      <td>-43831</td>\n",
              "      <td>56</td>\n",
              "      <td>4</td>\n",
              "      <td>PS026577</td>\n",
              "    </tr>\n",
              "  </tbody>\n",
              "</table>\n",
              "</div>\n",
              "      <button class=\"colab-df-convert\" onclick=\"convertToInteractive('df-11fe390c-0065-4968-8bd0-abcf799a59c1')\"\n",
              "              title=\"Convert this dataframe to an interactive table.\"\n",
              "              style=\"display:none;\">\n",
              "        \n",
              "  <svg xmlns=\"http://www.w3.org/2000/svg\" height=\"24px\"viewBox=\"0 0 24 24\"\n",
              "       width=\"24px\">\n",
              "    <path d=\"M0 0h24v24H0V0z\" fill=\"none\"/>\n",
              "    <path d=\"M18.56 5.44l.94 2.06.94-2.06 2.06-.94-2.06-.94-.94-2.06-.94 2.06-2.06.94zm-11 1L8.5 8.5l.94-2.06 2.06-.94-2.06-.94L8.5 2.5l-.94 2.06-2.06.94zm10 10l.94 2.06.94-2.06 2.06-.94-2.06-.94-.94-2.06-.94 2.06-2.06.94z\"/><path d=\"M17.41 7.96l-1.37-1.37c-.4-.4-.92-.59-1.43-.59-.52 0-1.04.2-1.43.59L10.3 9.45l-7.72 7.72c-.78.78-.78 2.05 0 2.83L4 21.41c.39.39.9.59 1.41.59.51 0 1.02-.2 1.41-.59l7.78-7.78 2.81-2.81c.8-.78.8-2.07 0-2.86zM5.41 20L4 18.59l7.72-7.72 1.47 1.35L5.41 20z\"/>\n",
              "  </svg>\n",
              "      </button>\n",
              "      \n",
              "  <style>\n",
              "    .colab-df-container {\n",
              "      display:flex;\n",
              "      flex-wrap:wrap;\n",
              "      gap: 12px;\n",
              "    }\n",
              "\n",
              "    .colab-df-convert {\n",
              "      background-color: #E8F0FE;\n",
              "      border: none;\n",
              "      border-radius: 50%;\n",
              "      cursor: pointer;\n",
              "      display: none;\n",
              "      fill: #1967D2;\n",
              "      height: 32px;\n",
              "      padding: 0 0 0 0;\n",
              "      width: 32px;\n",
              "    }\n",
              "\n",
              "    .colab-df-convert:hover {\n",
              "      background-color: #E2EBFA;\n",
              "      box-shadow: 0px 1px 2px rgba(60, 64, 67, 0.3), 0px 1px 3px 1px rgba(60, 64, 67, 0.15);\n",
              "      fill: #174EA6;\n",
              "    }\n",
              "\n",
              "    [theme=dark] .colab-df-convert {\n",
              "      background-color: #3B4455;\n",
              "      fill: #D2E3FC;\n",
              "    }\n",
              "\n",
              "    [theme=dark] .colab-df-convert:hover {\n",
              "      background-color: #434B5C;\n",
              "      box-shadow: 0px 1px 3px 1px rgba(0, 0, 0, 0.15);\n",
              "      filter: drop-shadow(0px 1px 2px rgba(0, 0, 0, 0.3));\n",
              "      fill: #FFFFFF;\n",
              "    }\n",
              "  </style>\n",
              "\n",
              "      <script>\n",
              "        const buttonEl =\n",
              "          document.querySelector('#df-11fe390c-0065-4968-8bd0-abcf799a59c1 button.colab-df-convert');\n",
              "        buttonEl.style.display =\n",
              "          google.colab.kernel.accessAllowed ? 'block' : 'none';\n",
              "\n",
              "        async function convertToInteractive(key) {\n",
              "          const element = document.querySelector('#df-11fe390c-0065-4968-8bd0-abcf799a59c1');\n",
              "          const dataTable =\n",
              "            await google.colab.kernel.invokeFunction('convertToInteractive',\n",
              "                                                     [key], {});\n",
              "          if (!dataTable) return;\n",
              "\n",
              "          const docLinkHtml = 'Like what you see? Visit the ' +\n",
              "            '<a target=\"_blank\" href=https://colab.research.google.com/notebooks/data_table.ipynb>data table notebook</a>'\n",
              "            + ' to learn more about interactive tables.';\n",
              "          element.innerHTML = '';\n",
              "          dataTable['output_type'] = 'display_data';\n",
              "          await google.colab.output.renderOutput(dataTable, element);\n",
              "          const docLink = document.createElement('div');\n",
              "          docLink.innerHTML = docLinkHtml;\n",
              "          element.appendChild(docLink);\n",
              "        }\n",
              "      </script>\n",
              "    </div>\n",
              "  </div>\n",
              "  "
            ]
          },
          "metadata": {},
          "execution_count": 806
        }
      ]
    },
    {
      "cell_type": "markdown",
      "source": [
        "# **My Code**"
      ],
      "metadata": {
        "id": "eXtjhdu1RqiZ"
      }
    },
    {
      "cell_type": "code",
      "source": [
        "#@title Настройки\n",
        "\n",
        "large_count = 2000 * 0.85\n",
        "large_sum = -1000000000 * 0.85"
      ],
      "metadata": {
        "id": "z1dKD398AbLW"
      },
      "execution_count": 749,
      "outputs": []
    },
    {
      "cell_type": "code",
      "source": [
        "#@title Определение наиболее используемых mcc\n",
        "%%time\n",
        "mcc_by_cid = dfTrx[['cid', 'mcc']].drop_duplicates().astype({'mcc': str}).groupby('cid').agg({'mcc': ' '.join}).sort_values('cid')\n",
        "\n",
        "large_mcc_count = dfTrx[['cid', 'mcc']].drop_duplicates().groupby('mcc').agg({'cid': 'size'}).sort_values(by = 'cid')\n",
        "large_mcc_sum = dfTrx[['amt', 'mcc']].groupby('mcc').agg('sum').sort_values(by = 'amt')\n",
        "\n",
        "most_popular_mcc = set(large_mcc_count[large_mcc_count.cid > large_count].index.to_list()) | set(large_mcc_sum[large_mcc_sum.amt < large_sum].index.to_list()) | set([123, 125, 130])\n",
        "len(most_popular_mcc)"
      ],
      "metadata": {
        "colab": {
          "base_uri": "https://localhost:8080/"
        },
        "id": "L0vNyX1yRvpO",
        "outputId": "dae0bf75-21de-40c2-afc9-4720454b3706"
      },
      "execution_count": 750,
      "outputs": [
        {
          "output_type": "stream",
          "name": "stdout",
          "text": [
            "CPU times: user 1.08 s, sys: 204 ms, total: 1.28 s\n",
            "Wall time: 1.33 s\n"
          ]
        },
        {
          "output_type": "execute_result",
          "data": {
            "text/plain": [
              "35"
            ]
          },
          "metadata": {},
          "execution_count": 750
        }
      ]
    },
    {
      "cell_type": "code",
      "source": [
        "#@title Определение наиболее используемых ttc\n",
        "%%time\n",
        "ttc_by_cid = dfTrx[['cid', 'ttc']].drop_duplicates().astype({'ttc': str}).groupby('cid').agg({'ttc': ' '.join}).sort_values('cid')\n",
        "\n",
        "large_ttc_count = dfTrx[['cid', 'ttc']].drop_duplicates().groupby('ttc').agg({'cid': 'size'}).sort_values(by = 'cid')\n",
        "large_ttc_sum = dfTrx[['amt', 'ttc']].groupby('ttc').agg('sum').sort_values(by = 'amt')\n",
        "\n",
        "most_popular_ttc = set(large_ttc_count[large_ttc_count.cid > large_count].index.to_list()) | set(large_ttc_sum[(large_ttc_sum.amt < large_sum) | (large_ttc_sum.amt > 1000000000)].index.to_list())\n",
        "len(most_popular_ttc)"
      ],
      "metadata": {
        "colab": {
          "base_uri": "https://localhost:8080/"
        },
        "id": "v6rcZVpm72yq",
        "outputId": "6c473319-db90-46b7-ed7f-725a9ae07d2c"
      },
      "execution_count": 751,
      "outputs": [
        {
          "output_type": "stream",
          "name": "stdout",
          "text": [
            "CPU times: user 976 ms, sys: 201 ms, total: 1.18 s\n",
            "Wall time: 1.21 s\n"
          ]
        },
        {
          "output_type": "execute_result",
          "data": {
            "text/plain": [
              "25"
            ]
          },
          "metadata": {},
          "execution_count": 751
        }
      ]
    },
    {
      "cell_type": "markdown",
      "source": [
        "# **Начало создания df по cid**"
      ],
      "metadata": {
        "id": "4nJdyJPREIdF"
      }
    },
    {
      "cell_type": "code",
      "source": [
        "#@title Сумма\n",
        "\n",
        "def s(to_df):\n",
        "    return to_df / to_df.sum(axis=0)\n",
        "    # return to_df / np.sqrt((to_df**2).sum(axis=0))\n",
        "    # return to_df / (np.sqrt(to_df**2)).sum(axis=0)"
      ],
      "metadata": {
        "id": "pyECsCrF-42V"
      },
      "execution_count": 788,
      "outputs": []
    },
    {
      "cell_type": "code",
      "source": [
        "#@title Настройки\n",
        "\n",
        "stat = ['count', 'sum', 'median']\n",
        "is_PCA = 0"
      ],
      "metadata": {
        "cellView": "form",
        "id": "j4aGrQn8mTuZ"
      },
      "execution_count": 789,
      "outputs": []
    },
    {
      "cell_type": "code",
      "source": [
        "%%time\n",
        "df = df_.copy(deep=True)"
      ],
      "metadata": {
        "colab": {
          "base_uri": "https://localhost:8080/"
        },
        "id": "QwMMyMuuaMSi",
        "outputId": "5ebcd9f0-4f98-480e-f1f2-eae1f10b4401"
      },
      "execution_count": 790,
      "outputs": [
        {
          "output_type": "stream",
          "name": "stdout",
          "text": [
            "CPU times: user 224 µs, sys: 3 µs, total: 227 µs\n",
            "Wall time: 232 µs\n"
          ]
        }
      ]
    },
    {
      "cell_type": "code",
      "source": [
        "#@title MCC\n",
        "%%time\n",
        "to_df = df_.copy(deep=True)\n",
        "\n",
        "for mcc_index in most_popular_mcc:\n",
        "    stat_amt_by_cid_and_mcc = dfTrx[dfTrx.mcc == mcc_index][['cid', 'amt']].groupby('cid').agg(stat).sort_values(by = 'cid').add_prefix('').droplevel(0, axis='columns')\n",
        "    stat_amt_by_cid_and_mcc.columns += '_' + str(mcc_index) + '_mcc'\n",
        "    to_df = to_df.join(stat_amt_by_cid_and_mcc, how='left')\n",
        "\n",
        "stat_by_other_mcc = dfTrx[~dfTrx.mcc.isin(most_popular_mcc)][['cid', 'amt']].groupby('cid').agg(stat).sort_values(by = 'cid').add_prefix('').droplevel(0, axis='columns')\n",
        "stat_by_other_mcc.columns += '_mcc'\n",
        "to_df = to_df.join(stat_by_other_mcc, how='left')\n",
        "\n",
        "to_df = s(to_df) * 75\n",
        "df = df.join(to_df, on = 'cid', how='left')"
      ],
      "metadata": {
        "colab": {
          "base_uri": "https://localhost:8080/"
        },
        "cellView": "form",
        "id": "TOqu0UVHD9Nf",
        "outputId": "80da82a0-8c3f-49a5-9ab3-b36d206bdf15"
      },
      "execution_count": 791,
      "outputs": [
        {
          "output_type": "stream",
          "name": "stdout",
          "text": [
            "CPU times: user 1.81 s, sys: 3.98 ms, total: 1.82 s\n",
            "Wall time: 1.91 s\n"
          ]
        }
      ]
    },
    {
      "cell_type": "code",
      "source": [
        "#@title TTC\n",
        "# %%time\n",
        "# to_df = df_.copy(deep=True)\n",
        "\n",
        "# for ttc_index in most_popular_ttc:\n",
        "#     sum_amt_by_cid_and_ttc = dfTrx[dfTrx.ttc == ttc_index][['cid', 'amt']].groupby('cid').agg({'amt': 'sum'}).sort_values(by = 'cid')\n",
        "#     to_df = to_df.join(sum_amt_by_cid_and_ttc.amt, on = 'cid', how='left').rename(columns = {'amt': str(ttc_index) + '_ttc'})\n",
        "\n",
        "# sum_amt_by_other_ttc = dfTrx[~dfTrx.ttc.isin(most_popular_ttc)].groupby('cid').agg({'amt': 'sum'}).sort_values(by = 'cid')\n",
        "# to_df = to_df.join(sum_amt_by_other_ttc.amt, on = 'cid', how='left').rename(columns = {'amt': 'other_ttc'})\n",
        "\n",
        "# if is_PCA == 2:\n",
        "#     to_df = pd.DataFrame(PCA(n_components=(to_df.shape[1]), random_state=0).fit_transform(to_df.fillna(0).astype('int')))\n",
        "#     to_df.columns += df.shape[1]\n",
        "# df = df.join(to_df, on = 'cid', how='left')\n",
        "\n",
        "to_df = df_.copy(deep=True)\n",
        "\n",
        "for ttc_index in most_popular_ttc:\n",
        "    stat_amt_by_cid_and_ttc = dfTrx[dfTrx.ttc == ttc_index][['cid', 'amt']].groupby('cid').agg(stat).sort_values(by = 'cid').add_prefix('').droplevel(0, axis='columns')\n",
        "    stat_amt_by_cid_and_ttc.columns += '_' + str(ttc_index) + '_ttc'\n",
        "    to_df = to_df.join(stat_amt_by_cid_and_ttc, how='left')\n",
        "\n",
        "stat_by_other_ttc = dfTrx[~dfTrx.ttc.isin(most_popular_ttc)][['cid', 'amt']].groupby('cid').agg(stat).sort_values(by = 'cid').add_prefix('').droplevel(0, axis='columns')\n",
        "stat_by_other_ttc.columns += '_ttc'\n",
        "to_df = to_df.join(stat_by_other_ttc, how='left')\n",
        "\n",
        "to_df = s(to_df) * 1/2\n",
        "df = df.join(to_df, on = 'cid', how='left')\n",
        "# to_df"
      ],
      "metadata": {
        "id": "WaaRakspD0Ch"
      },
      "execution_count": 792,
      "outputs": []
    },
    {
      "cell_type": "code",
      "source": [
        "#@title AMT\n",
        "\n",
        "to_df = df_.copy(deep=True)\n",
        "\n",
        "to_df = dfTrx[['cid', 'amt']].groupby('cid').agg(stat).add_prefix('').droplevel(0, axis='columns')\n",
        "to_df = df_.join(to_df, how='left').fillna(0)\n",
        "\n",
        "to_df = s(to_df) * 2/3\n",
        "df = df.join(to_df, on = 'cid', how='left')"
      ],
      "metadata": {
        "cellView": "form",
        "id": "KBCmo_hEjiid"
      },
      "execution_count": 793,
      "outputs": []
    },
    {
      "cell_type": "code",
      "source": [
        "#@title Time\n",
        "%%time\n",
        "to_df = df_.copy(deep=True)\n",
        "\n",
        "for hour in range(9):\n",
        "#     sum_amt_by_cid_and_hour = dfTrx[dfTrx.tm == hour][['cid', 'amt']].groupby('cid').agg({'amt': 'sum'}).sort_values(by = 'cid')\n",
        "#     df = df.join(sum_amt_by_cid_and_hour.amt, on = 'cid', how='left').rename(columns = {'amt': str(hour) + '_tm'})\n",
        "\n",
        "    stat_amt_by_cid_and_hour = dfTrx[dfTrx.tm == hour][['cid', 'amt']].groupby('cid').agg(stat).sort_values(by = 'cid').add_prefix('').droplevel(0, axis='columns')\n",
        "    stat_amt_by_cid_and_hour.columns += '_' + str(hour) + '_hour'\n",
        "    to_df = to_df.join(stat_amt_by_cid_and_hour, how='left')\n",
        "\n",
        "to_df = s(to_df)\n",
        "df = df.join(to_df, on = 'cid', how='left')\n",
        "to_df = df_.copy(deep=True)\n",
        "\n",
        "for hour in range(9, 24):\n",
        "    stat_amt_by_cid_and_hour = dfTrx[dfTrx.tm == hour][['cid', 'amt']].groupby('cid').agg(stat).sort_values(by = 'cid').add_prefix('').droplevel(0, axis='columns')\n",
        "    stat_amt_by_cid_and_hour.columns += '_' + str(hour) + '_hour'\n",
        "    to_df = to_df.join(stat_amt_by_cid_and_hour, how='left')\n",
        "\n",
        "# to_df = pd.DataFrame(PCA(n_components=(to_df.shape[1] // 2), random_state=0).fit_transform(to_df.fillna(0).astype('int')))\n",
        "# to_df.columns += df.shape[1]\n",
        "\n",
        "to_df = s(to_df)\n",
        "df = df.join(to_df, on = 'cid', how='left')"
      ],
      "metadata": {
        "colab": {
          "base_uri": "https://localhost:8080/"
        },
        "cellView": "form",
        "id": "HbFnHk8L6wWY",
        "outputId": "b4d71d10-450b-4719-e88f-8a69203ff1ec"
      },
      "execution_count": 794,
      "outputs": [
        {
          "output_type": "stream",
          "name": "stdout",
          "text": [
            "CPU times: user 1.47 s, sys: 14.9 ms, total: 1.48 s\n",
            "Wall time: 1.5 s\n"
          ]
        }
      ]
    },
    {
      "cell_type": "code",
      "source": [
        "#@title Date\n",
        "%%time\n",
        "to_df = df_.copy(deep=True)\n",
        "\n",
        "# for weekday in range(7):\n",
        "#     sum_amt_by_cid_and_weekday = dfTrx[dfTrx.dt % 7 == weekday][['cid', 'amt']].groupby('cid').agg({'amt': 'sum'}).sort_values(by = 'cid')\n",
        "#     to_df = to_df.join(sum_amt_by_cid_and_weekday.amt, on = 'cid', how='left').rename(columns = {'amt': str(weekday) + '_wd'})\n",
        "\n",
        "for weekday in [0, 3, 4, 5, 6]:\n",
        "    stat_amt_by_cid_and_weekday = dfTrx[dfTrx.dt % 7 == weekday][['cid', 'amt']].groupby('cid').agg(stat).sort_values(by = 'cid').add_prefix('').droplevel(0, axis='columns')\n",
        "    stat_amt_by_cid_and_weekday.columns += '_' + str(weekday) + '_wd'\n",
        "    to_df = to_df.join(stat_amt_by_cid_and_weekday, on = 'cid', how='left')\n",
        "# to_df = pd.DataFrame(PCA(n_components=(to_df.shape[1] // 2), random_state=0).fit_transform(to_df.fillna(0).astype('int')))\n",
        "# to_df.columns += df.shape[1]\n",
        "# to_df = pd.DataFrame(to_df.sum(axis=1))\n",
        "to_df = s(to_df)\n",
        "df = df.join(to_df, on = 'cid', how='left')\n",
        "to_df = df_.copy(deep=True)\n",
        "\n",
        "for weekday in [1, 2]:\n",
        "    stat_amt_by_cid_and_weekday = dfTrx[dfTrx.dt % 7 == weekday][['cid', 'amt']].groupby('cid').agg(stat).sort_values(by = 'cid').add_prefix('').droplevel(0, axis='columns')\n",
        "    stat_amt_by_cid_and_weekday.columns += '_' + str(weekday) + '_wd'\n",
        "    to_df = to_df.join(stat_amt_by_cid_and_weekday, on = 'cid', how='left')\n",
        "\n",
        "\n",
        "# to_df = pd.DataFrame(PCA(n_components=(to_df.shape[1] // 3), random_state=0).fit_transform(to_df.fillna(0).astype('int')))\n",
        "# to_df.columns += df.shape[1]\n",
        "to_df = s(to_df)\n",
        "df = df.join(to_df, on = 'cid', how='left')"
      ],
      "metadata": {
        "colab": {
          "base_uri": "https://localhost:8080/"
        },
        "id": "pi5ZHB0nn1oo",
        "outputId": "a86bfa38-080a-4117-ff2a-e7900dfd1f81"
      },
      "execution_count": 795,
      "outputs": [
        {
          "output_type": "stream",
          "name": "stdout",
          "text": [
            "CPU times: user 1.1 s, sys: 7.97 ms, total: 1.11 s\n",
            "Wall time: 1.12 s\n"
          ]
        }
      ]
    },
    {
      "cell_type": "code",
      "source": [
        "df = df.fillna(0).astype('float')\n",
        "df.columns = [str(c) for c in df.columns]"
      ],
      "metadata": {
        "id": "llG860pRw-0L"
      },
      "execution_count": 796,
      "outputs": []
    },
    {
      "cell_type": "markdown",
      "source": [
        "# **Тест**"
      ],
      "metadata": {
        "id": "bXWpsQqpdqG6"
      }
    },
    {
      "cell_type": "markdown",
      "source": [
        "# **Обучение**"
      ],
      "metadata": {
        "id": "HvR1hsU3rTO4"
      }
    },
    {
      "cell_type": "code",
      "source": [
        "%%time\n",
        "df.columns = [str(c) for c in df.columns]\n",
        "\n",
        "trainX, testX = df.join(trainY.drop('gender', axis=1), how='inner'), df.join(testY.drop('gender', axis=1), how='inner') # split observations into train/test\n",
        "trainX0, testX0, trainY0, testY0 = train_test_split(trainX, trainY, test_size=0.3, random_state=0) # split train observation into local train/test sets (to score performance)\n",
        "\n",
        "# estimators = [\n",
        "#     ('rfc', RFC(n_estimators=10, random_state=42)),\n",
        "#     # ('knc', KNC()),\n",
        "#     # ('svr', make_pipeline(StandardScaler(),\n",
        "#     ('lr', LR(random_state=0, n_jobs=-1, max_iter=1000)),\n",
        "#     # ('svc', SVC(probability=True)),\n",
        "#     # ('gbc0', GBC()),\n",
        "#     ('gbc1', GBC(loss='log_loss', learning_rate=0.1, n_estimators=150, subsample=1.0, criterion='friedman_mse', max_depth=2))\n",
        "# ]\n",
        "# model = SC(estimators=estimators, final_estimator=GBC(loss='log_loss', learning_rate=0.1, n_estimators=150, subsample=1.0, criterion='friedman_mse', max_depth=2))\n",
        "\n",
        "# model = LR(random_state=0, n_jobs=-1, max_iter=1000)                             # always seed your experiments for reproducibility\n",
        "# model = RFC()\n",
        "# model = KNC()\n",
        "# params = {\n",
        "#     'n_neighbors': np.arange(1, 11),\n",
        "#     'metric': ['manhattan', 'euclidean'],\n",
        "#     'weights': ['uniform', 'distance']\n",
        "# }\n",
        "# model = DTC()\n",
        "# model = SVC(probability=True)\n",
        "# model = GBC()\n",
        "model = GBC(loss='log_loss', learning_rate=0.1, n_estimators=150, subsample=1.0, criterion='friedman_mse', max_depth=2)\n",
        "# params = {\n",
        "#     'max_depth': [None, 2, 3, 4, 5],\n",
        "# }\n",
        "\n",
        "# model = GSCV(model, params, return_train_score=True, cv=5, scoring='accuracy', n_jobs=-1)\n",
        "pY = model.fit(trainX0, trainY0.gender).predict_proba(testX0)[:, 1]\n",
        "# print(model.best_params_)\n",
        "\n",
        "print('Local AUC ROC', roc_auc_score(testY0.gender, pY))       # fit the model and show test error\n",
        "print(pY.sum() / pY.shape[0])"
      ],
      "metadata": {
        "colab": {
          "base_uri": "https://localhost:8080/"
        },
        "id": "MOVjxsLza1Vq",
        "outputId": "5fc9ede6-e203-4475-9b4d-e2e90b3a05e0"
      },
      "execution_count": 797,
      "outputs": [
        {
          "output_type": "stream",
          "name": "stdout",
          "text": [
            "Local AUC ROC 0.85706569664903\n",
            "0.43491221906428\n",
            "CPU times: user 25.9 s, sys: 38.2 ms, total: 26 s\n",
            "Wall time: 27.2 s\n"
          ]
        }
      ]
    },
    {
      "cell_type": "code",
      "source": [
        "tmr.ShowTime()"
      ],
      "metadata": {
        "colab": {
          "base_uri": "https://localhost:8080/"
        },
        "id": "LXGaysfq0tKx",
        "outputId": "709cbe11-a122-41d9-e1b5-f4f4e00f652c"
      },
      "execution_count": 276,
      "outputs": [
        {
          "output_type": "stream",
          "name": "stdout",
          "text": [
            "\u001b[91m\u001b[1mRuntime is 1717 sec > 120 sec limit!!!\u001b[0m\n"
          ]
        }
      ]
    },
    {
      "cell_type": "code",
      "source": [
        "# model = LR(random_state=0, n_jobs=-1, max_iter=1000).fit(trainX, trainY.gender)  # now train again, on the full training set\n",
        "# model = GBC(loss='log_loss', learning_rate=0.1, n_estimators=150, subsample=1.0, criterion='friedman_mse', max_depth=2)\n",
        "model = SC(estimators=estimators)\n",
        "model.fit(trainX, trainY.gender)"
      ],
      "metadata": {
        "colab": {
          "base_uri": "https://localhost:8080/",
          "height": 163
        },
        "id": "tNCi85beqaek",
        "outputId": "16e1eb6b-0f1d-40e3-d420-4daacf26ff9b"
      },
      "execution_count": 735,
      "outputs": [
        {
          "output_type": "execute_result",
          "data": {
            "text/plain": [
              "StackingClassifier(estimators=[('knc', KNeighborsClassifier()),\n",
              "                               ('gbc1',\n",
              "                                GradientBoostingClassifier(max_depth=2,\n",
              "                                                           n_estimators=150))])"
            ],
            "text/html": [
              "<style>#sk-container-id-2 {color: black;background-color: white;}#sk-container-id-2 pre{padding: 0;}#sk-container-id-2 div.sk-toggleable {background-color: white;}#sk-container-id-2 label.sk-toggleable__label {cursor: pointer;display: block;width: 100%;margin-bottom: 0;padding: 0.3em;box-sizing: border-box;text-align: center;}#sk-container-id-2 label.sk-toggleable__label-arrow:before {content: \"▸\";float: left;margin-right: 0.25em;color: #696969;}#sk-container-id-2 label.sk-toggleable__label-arrow:hover:before {color: black;}#sk-container-id-2 div.sk-estimator:hover label.sk-toggleable__label-arrow:before {color: black;}#sk-container-id-2 div.sk-toggleable__content {max-height: 0;max-width: 0;overflow: hidden;text-align: left;background-color: #f0f8ff;}#sk-container-id-2 div.sk-toggleable__content pre {margin: 0.2em;color: black;border-radius: 0.25em;background-color: #f0f8ff;}#sk-container-id-2 input.sk-toggleable__control:checked~div.sk-toggleable__content {max-height: 200px;max-width: 100%;overflow: auto;}#sk-container-id-2 input.sk-toggleable__control:checked~label.sk-toggleable__label-arrow:before {content: \"▾\";}#sk-container-id-2 div.sk-estimator input.sk-toggleable__control:checked~label.sk-toggleable__label {background-color: #d4ebff;}#sk-container-id-2 div.sk-label input.sk-toggleable__control:checked~label.sk-toggleable__label {background-color: #d4ebff;}#sk-container-id-2 input.sk-hidden--visually {border: 0;clip: rect(1px 1px 1px 1px);clip: rect(1px, 1px, 1px, 1px);height: 1px;margin: -1px;overflow: hidden;padding: 0;position: absolute;width: 1px;}#sk-container-id-2 div.sk-estimator {font-family: monospace;background-color: #f0f8ff;border: 1px dotted black;border-radius: 0.25em;box-sizing: border-box;margin-bottom: 0.5em;}#sk-container-id-2 div.sk-estimator:hover {background-color: #d4ebff;}#sk-container-id-2 div.sk-parallel-item::after {content: \"\";width: 100%;border-bottom: 1px solid gray;flex-grow: 1;}#sk-container-id-2 div.sk-label:hover label.sk-toggleable__label {background-color: #d4ebff;}#sk-container-id-2 div.sk-serial::before {content: \"\";position: absolute;border-left: 1px solid gray;box-sizing: border-box;top: 0;bottom: 0;left: 50%;z-index: 0;}#sk-container-id-2 div.sk-serial {display: flex;flex-direction: column;align-items: center;background-color: white;padding-right: 0.2em;padding-left: 0.2em;position: relative;}#sk-container-id-2 div.sk-item {position: relative;z-index: 1;}#sk-container-id-2 div.sk-parallel {display: flex;align-items: stretch;justify-content: center;background-color: white;position: relative;}#sk-container-id-2 div.sk-item::before, #sk-container-id-2 div.sk-parallel-item::before {content: \"\";position: absolute;border-left: 1px solid gray;box-sizing: border-box;top: 0;bottom: 0;left: 50%;z-index: -1;}#sk-container-id-2 div.sk-parallel-item {display: flex;flex-direction: column;z-index: 1;position: relative;background-color: white;}#sk-container-id-2 div.sk-parallel-item:first-child::after {align-self: flex-end;width: 50%;}#sk-container-id-2 div.sk-parallel-item:last-child::after {align-self: flex-start;width: 50%;}#sk-container-id-2 div.sk-parallel-item:only-child::after {width: 0;}#sk-container-id-2 div.sk-dashed-wrapped {border: 1px dashed gray;margin: 0 0.4em 0.5em 0.4em;box-sizing: border-box;padding-bottom: 0.4em;background-color: white;}#sk-container-id-2 div.sk-label label {font-family: monospace;font-weight: bold;display: inline-block;line-height: 1.2em;}#sk-container-id-2 div.sk-label-container {text-align: center;}#sk-container-id-2 div.sk-container {/* jupyter's `normalize.less` sets `[hidden] { display: none; }` but bootstrap.min.css set `[hidden] { display: none !important; }` so we also need the `!important` here to be able to override the default hidden behavior on the sphinx rendered scikit-learn.org. See: https://github.com/scikit-learn/scikit-learn/issues/21755 */display: inline-block !important;position: relative;}#sk-container-id-2 div.sk-text-repr-fallback {display: none;}</style><div id=\"sk-container-id-2\" class=\"sk-top-container\"><div class=\"sk-text-repr-fallback\"><pre>StackingClassifier(estimators=[(&#x27;knc&#x27;, KNeighborsClassifier()),\n",
              "                               (&#x27;gbc1&#x27;,\n",
              "                                GradientBoostingClassifier(max_depth=2,\n",
              "                                                           n_estimators=150))])</pre><b>In a Jupyter environment, please rerun this cell to show the HTML representation or trust the notebook. <br />On GitHub, the HTML representation is unable to render, please try loading this page with nbviewer.org.</b></div><div class=\"sk-container\" hidden><div class=\"sk-item sk-dashed-wrapped\"><div class=\"sk-label-container\"><div class=\"sk-label sk-toggleable\"><input class=\"sk-toggleable__control sk-hidden--visually\" id=\"sk-estimator-id-2\" type=\"checkbox\" ><label for=\"sk-estimator-id-2\" class=\"sk-toggleable__label sk-toggleable__label-arrow\">StackingClassifier</label><div class=\"sk-toggleable__content\"><pre>StackingClassifier(estimators=[(&#x27;knc&#x27;, KNeighborsClassifier()),\n",
              "                               (&#x27;gbc1&#x27;,\n",
              "                                GradientBoostingClassifier(max_depth=2,\n",
              "                                                           n_estimators=150))])</pre></div></div></div><div class=\"sk-serial\"><div class=\"sk-item\"><div class=\"sk-parallel\"><div class=\"sk-parallel-item\"><div class=\"sk-item\"><div class=\"sk-label-container\"><div class=\"sk-label sk-toggleable\"><label>knc</label></div></div><div class=\"sk-serial\"><div class=\"sk-item\"><div class=\"sk-estimator sk-toggleable\"><input class=\"sk-toggleable__control sk-hidden--visually\" id=\"sk-estimator-id-3\" type=\"checkbox\" ><label for=\"sk-estimator-id-3\" class=\"sk-toggleable__label sk-toggleable__label-arrow\">KNeighborsClassifier</label><div class=\"sk-toggleable__content\"><pre>KNeighborsClassifier()</pre></div></div></div></div></div></div><div class=\"sk-parallel-item\"><div class=\"sk-item\"><div class=\"sk-label-container\"><div class=\"sk-label sk-toggleable\"><label>gbc1</label></div></div><div class=\"sk-serial\"><div class=\"sk-item\"><div class=\"sk-estimator sk-toggleable\"><input class=\"sk-toggleable__control sk-hidden--visually\" id=\"sk-estimator-id-4\" type=\"checkbox\" ><label for=\"sk-estimator-id-4\" class=\"sk-toggleable__label sk-toggleable__label-arrow\">GradientBoostingClassifier</label><div class=\"sk-toggleable__content\"><pre>GradientBoostingClassifier(max_depth=2, n_estimators=150)</pre></div></div></div></div></div></div></div></div><div class=\"sk-item\"><div class=\"sk-parallel\"><div class=\"sk-parallel-item\"><div class=\"sk-item\"><div class=\"sk-label-container\"><div class=\"sk-label sk-toggleable\"><label>final_estimator</label></div></div><div class=\"sk-serial\"><div class=\"sk-item\"><div class=\"sk-estimator sk-toggleable\"><input class=\"sk-toggleable__control sk-hidden--visually\" id=\"sk-estimator-id-5\" type=\"checkbox\" ><label for=\"sk-estimator-id-5\" class=\"sk-toggleable__label sk-toggleable__label-arrow\">LogisticRegression</label><div class=\"sk-toggleable__content\"><pre>LogisticRegression()</pre></div></div></div></div></div></div></div></div></div></div></div></div>"
            ]
          },
          "metadata": {},
          "execution_count": 735
        }
      ]
    },
    {
      "cell_type": "code",
      "source": [
        "pY = pd.DataFrame(model.predict_proba(testX)[:,1], columns=['gender'])\n",
        "pY.index.name = 'cid'\n",
        "\n",
        "print(pY.sum() / pY.shape[0])"
      ],
      "metadata": {
        "colab": {
          "base_uri": "https://localhost:8080/"
        },
        "id": "k9jG7aW9vvci",
        "outputId": "8fa0e9f3-80be-4123-e672-ed5fcd38d680"
      },
      "execution_count": 736,
      "outputs": [
        {
          "output_type": "stream",
          "name": "stdout",
          "text": [
            "gender    0.443865\n",
            "dtype: float64\n"
          ]
        }
      ]
    },
    {
      "cell_type": "code",
      "source": [
        "pY.reset_index().to_csv('💳Baseline.csv', index=False, float_format='%10f')"
      ],
      "metadata": {
        "id": "eDT5DEO7v2ET"
      },
      "execution_count": 737,
      "outputs": []
    }
  ]
}